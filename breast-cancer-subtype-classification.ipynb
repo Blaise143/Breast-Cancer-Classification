{
 "cells": [
  {
   "cell_type": "markdown",
   "id": "e12f52ea",
   "metadata": {
    "papermill": {
     "duration": 0.059978,
     "end_time": "2022-02-22T02:14:11.460703",
     "exception": false,
     "start_time": "2022-02-22T02:14:11.400725",
     "status": "completed"
    },
    "tags": []
   },
   "source": [
    "# _**<span style=\"color:#1F618D;\"> 🎓Breast Cancer Research🎓</span>**_\n",
    "\n",
    "<span style=\"color:#148F77;\">Author: Blaise Appolinary</span> [@Blaise](https://blaise-appolinary.netlify.app/)  \n",
    "\n",
    "*Last Updated: 30/01/22*\n",
    "******\n",
    "\n",
    "<a id=\"table-of-contents\"></a>\n",
    "# **<span style=\"color:#1F618D;\">📓 Table of Contents 📓</span>** \n",
    "- [1.😼 About author](#1)\n",
    "- [2. Background](#2)\n",
    "- [3. Objective](#3)\n",
    "- [4. Data Cleaning and Preview](#4)\n",
    "- [5. Machine Learning](#5)\n",
    "- [6. Random Forest](#6)\n",
    "- [7. K_Nearest_Neighbors](#7)\n",
    "- [8. Support Vector Machines](#8)\n",
    "- [9. Logistic Regression](#9)\n",
    "- [10.Ensembling](#10)\n",
    "- [11. Model Comparison](#11)\n",
    "\n",
    "\n",
    "******\n",
    "\n",
    "<a id=\"1\"></a>\n",
    "# <span style=\"color:#1F618D;\">😼 About author</span>\n",
    "My name is Blaise Appolinary, a Mathematics and Statistics student at the University of British Columbia. I love playing with datasets to gain insights from them.\n",
    "\n",
    "<a id=\"2\"></a>\n",
    "# <span style=\"color:#1F618D;\">Background</span>\n",
    "Breast cancer is the second leading cause of death from cancer among Canadian women. The probability of a woman getting breast cancer in their lifetime in Canada is ⅛ and the probability that a woman dies from this disease is 1/34 according to the Canadian Cancer Society. This fatal disease occurs when normal breast cells grow and divide uncontrollably. This disease has five main subtypes: Luminar A, Luminar B, Triple-negative, HER2-enriched and Normal-like. \n",
    "\n",
    "\n",
    "<a id=\"3\"></a>\n",
    "# <span style=\"color:#1F618D;\">Objective</span>\n",
    "Our objective is to use machine learning approaches to classify breast cancer subtypes and identify the genes that play significant roles in classification. A predictive model can help speed up the process of identifying the cancer subtypes using gene expression data and improving the treatment options.\n",
    "\n",
    "\n",
    "\n",
    "***Note: some results in this notebook may not match with the ones in the markdown cells. This notebook was initially ran in kaggle and, when using Anaconda, the numbers were a bit different. However, the differing results are not significant.***\n"
   ]
  },
  {
   "cell_type": "code",
   "execution_count": 20,
   "id": "514c286a",
   "metadata": {
    "ExecuteTime": {
     "end_time": "2022-03-30T03:56:47.820280Z",
     "start_time": "2022-03-30T03:56:47.813302Z"
    },
    "execution": {
     "iopub.execute_input": "2022-02-22T02:14:11.543882Z",
     "iopub.status.busy": "2022-02-22T02:14:11.542959Z",
     "iopub.status.idle": "2022-02-22T02:14:11.814922Z",
     "shell.execute_reply": "2022-02-22T02:14:11.815402Z",
     "shell.execute_reply.started": "2022-02-22T02:10:42.647099Z"
    },
    "papermill": {
     "duration": 0.315823,
     "end_time": "2022-02-22T02:14:11.815726",
     "exception": false,
     "start_time": "2022-02-22T02:14:11.499903",
     "status": "completed"
    },
    "tags": []
   },
   "outputs": [],
   "source": [
    "import pandas as pd\n",
    "import altair as alt"
   ]
  },
  {
   "cell_type": "markdown",
   "id": "ce2ecae9",
   "metadata": {
    "papermill": {
     "duration": 0.037872,
     "end_time": "2022-02-22T02:14:11.891751",
     "exception": false,
     "start_time": "2022-02-22T02:14:11.853879",
     "status": "completed"
    },
    "tags": []
   },
   "source": [
    "\n",
    "<a id=\"4\"></a>\n",
    "# <span style=\"color:#1F618D;\">*Data Cleaning and preview*</span>\n"
   ]
  },
  {
   "cell_type": "code",
   "execution_count": 41,
   "id": "b0909973",
   "metadata": {
    "ExecuteTime": {
     "end_time": "2022-03-30T03:58:52.660498Z",
     "start_time": "2022-03-30T03:58:39.705065Z"
    },
    "execution": {
     "iopub.execute_input": "2022-02-22T02:14:11.977102Z",
     "iopub.status.busy": "2022-02-22T02:14:11.976100Z",
     "iopub.status.idle": "2022-02-22T02:14:32.708190Z",
     "shell.execute_reply": "2022-02-22T02:14:32.707649Z",
     "shell.execute_reply.started": "2022-02-22T02:11:12.089714Z"
    },
    "papermill": {
     "duration": 20.777101,
     "end_time": "2022-02-22T02:14:32.708343",
     "exception": false,
     "start_time": "2022-02-22T02:14:11.931242",
     "status": "completed"
    },
    "tags": []
   },
   "outputs": [],
   "source": [
    "# READING IN GENETIC DATA\n",
    "data = pd.read_csv(\"data\\TCGA-BRCA.htseq_fpkm.tsv\", sep=\"\\t\")\n",
    "\n",
    "# READING CLINICAL DATA\n",
    "clinical = pd.read_csv(\"data\\clinical.tsv\", sep=\"\\t\")"
   ]
  },
  {
   "cell_type": "markdown",
   "id": "44d6dd74",
   "metadata": {
    "papermill": {
     "duration": 0.037471,
     "end_time": "2022-02-22T02:14:32.784104",
     "exception": false,
     "start_time": "2022-02-22T02:14:32.746633",
     "status": "completed"
    },
    "tags": []
   },
   "source": [
    "## <span style=\"color:#7E9FB8;\">Preview of genetic sequencing data<span>"
   ]
  },
  {
   "cell_type": "code",
   "execution_count": 22,
   "id": "ffea34cf",
   "metadata": {
    "ExecuteTime": {
     "end_time": "2022-03-30T03:57:01.746377Z",
     "start_time": "2022-03-30T03:57:01.722440Z"
    },
    "execution": {
     "iopub.execute_input": "2022-02-22T02:14:32.869211Z",
     "iopub.status.busy": "2022-02-22T02:14:32.868409Z",
     "iopub.status.idle": "2022-02-22T02:14:32.895411Z",
     "shell.execute_reply": "2022-02-22T02:14:32.896037Z",
     "shell.execute_reply.started": "2022-02-22T02:11:26.272189Z"
    },
    "papermill": {
     "duration": 0.074213,
     "end_time": "2022-02-22T02:14:32.896233",
     "exception": false,
     "start_time": "2022-02-22T02:14:32.822020",
     "status": "completed"
    },
    "tags": []
   },
   "outputs": [
    {
     "data": {
      "text/html": [
       "<div>\n",
       "<style scoped>\n",
       "    .dataframe tbody tr th:only-of-type {\n",
       "        vertical-align: middle;\n",
       "    }\n",
       "\n",
       "    .dataframe tbody tr th {\n",
       "        vertical-align: top;\n",
       "    }\n",
       "\n",
       "    .dataframe thead th {\n",
       "        text-align: right;\n",
       "    }\n",
       "</style>\n",
       "<table border=\"1\" class=\"dataframe\">\n",
       "  <thead>\n",
       "    <tr style=\"text-align: right;\">\n",
       "      <th></th>\n",
       "      <th>Ensembl_ID</th>\n",
       "      <th>TCGA-E9-A1NI-01A</th>\n",
       "      <th>TCGA-A1-A0SP-01A</th>\n",
       "      <th>TCGA-BH-A1EU-11A</th>\n",
       "      <th>TCGA-A8-A06X-01A</th>\n",
       "      <th>TCGA-E2-A14T-01A</th>\n",
       "      <th>TCGA-AC-A8OS-01A</th>\n",
       "      <th>TCGA-A8-A09K-01A</th>\n",
       "      <th>TCGA-OL-A5RY-01A</th>\n",
       "      <th>TCGA-BH-A0DG-01A</th>\n",
       "      <th>...</th>\n",
       "      <th>TCGA-BH-A0DT-11A</th>\n",
       "      <th>TCGA-E9-A1R0-01A</th>\n",
       "      <th>TCGA-BH-A0B6-01A</th>\n",
       "      <th>TCGA-B6-A0RN-01A</th>\n",
       "      <th>TCGA-A8-A09W-01A</th>\n",
       "      <th>TCGA-EW-A1P3-01A</th>\n",
       "      <th>TCGA-A7-A13F-11A</th>\n",
       "      <th>TCGA-A2-A0T6-01A</th>\n",
       "      <th>TCGA-A7-A5ZW-01A</th>\n",
       "      <th>TCGA-BH-A203-01A</th>\n",
       "    </tr>\n",
       "  </thead>\n",
       "  <tbody>\n",
       "    <tr>\n",
       "      <th>0</th>\n",
       "      <td>ENSG00000242268.2</td>\n",
       "      <td>0.091708</td>\n",
       "      <td>0.000000</td>\n",
       "      <td>0.057899</td>\n",
       "      <td>0.000000</td>\n",
       "      <td>0.000000</td>\n",
       "      <td>0.354334</td>\n",
       "      <td>0.000000</td>\n",
       "      <td>0.000000</td>\n",
       "      <td>0.000000</td>\n",
       "      <td>...</td>\n",
       "      <td>0.234169</td>\n",
       "      <td>0.107850</td>\n",
       "      <td>0.000000</td>\n",
       "      <td>0.000000</td>\n",
       "      <td>0.000000</td>\n",
       "      <td>0.000000</td>\n",
       "      <td>0.471630</td>\n",
       "      <td>0.083825</td>\n",
       "      <td>0.000000</td>\n",
       "      <td>0.061585</td>\n",
       "    </tr>\n",
       "    <tr>\n",
       "      <th>1</th>\n",
       "      <td>ENSG00000270112.3</td>\n",
       "      <td>0.019573</td>\n",
       "      <td>0.004701</td>\n",
       "      <td>0.016302</td>\n",
       "      <td>0.000000</td>\n",
       "      <td>0.000000</td>\n",
       "      <td>0.000000</td>\n",
       "      <td>0.005787</td>\n",
       "      <td>0.000000</td>\n",
       "      <td>0.000000</td>\n",
       "      <td>...</td>\n",
       "      <td>0.000000</td>\n",
       "      <td>0.003879</td>\n",
       "      <td>0.010047</td>\n",
       "      <td>0.000000</td>\n",
       "      <td>0.010919</td>\n",
       "      <td>0.000000</td>\n",
       "      <td>0.000000</td>\n",
       "      <td>0.000000</td>\n",
       "      <td>0.005858</td>\n",
       "      <td>0.008704</td>\n",
       "    </tr>\n",
       "    <tr>\n",
       "      <th>2</th>\n",
       "      <td>ENSG00000167578.15</td>\n",
       "      <td>2.235898</td>\n",
       "      <td>1.863334</td>\n",
       "      <td>1.704753</td>\n",
       "      <td>1.947481</td>\n",
       "      <td>2.734690</td>\n",
       "      <td>2.397119</td>\n",
       "      <td>2.337327</td>\n",
       "      <td>2.256976</td>\n",
       "      <td>1.968791</td>\n",
       "      <td>...</td>\n",
       "      <td>1.928209</td>\n",
       "      <td>2.004722</td>\n",
       "      <td>2.971522</td>\n",
       "      <td>1.841232</td>\n",
       "      <td>1.185122</td>\n",
       "      <td>2.861514</td>\n",
       "      <td>1.626213</td>\n",
       "      <td>1.692995</td>\n",
       "      <td>2.051916</td>\n",
       "      <td>2.197365</td>\n",
       "    </tr>\n",
       "    <tr>\n",
       "      <th>3</th>\n",
       "      <td>ENSG00000273842.1</td>\n",
       "      <td>0.000000</td>\n",
       "      <td>0.000000</td>\n",
       "      <td>0.000000</td>\n",
       "      <td>0.000000</td>\n",
       "      <td>0.000000</td>\n",
       "      <td>0.000000</td>\n",
       "      <td>0.000000</td>\n",
       "      <td>0.000000</td>\n",
       "      <td>0.000000</td>\n",
       "      <td>...</td>\n",
       "      <td>0.000000</td>\n",
       "      <td>0.000000</td>\n",
       "      <td>0.000000</td>\n",
       "      <td>0.000000</td>\n",
       "      <td>0.000000</td>\n",
       "      <td>0.000000</td>\n",
       "      <td>0.000000</td>\n",
       "      <td>0.000000</td>\n",
       "      <td>0.000000</td>\n",
       "      <td>0.000000</td>\n",
       "    </tr>\n",
       "    <tr>\n",
       "      <th>4</th>\n",
       "      <td>ENSG00000078237.5</td>\n",
       "      <td>2.321945</td>\n",
       "      <td>4.226699</td>\n",
       "      <td>1.975755</td>\n",
       "      <td>2.808757</td>\n",
       "      <td>1.964479</td>\n",
       "      <td>1.792870</td>\n",
       "      <td>1.939951</td>\n",
       "      <td>2.681632</td>\n",
       "      <td>2.091932</td>\n",
       "      <td>...</td>\n",
       "      <td>2.024599</td>\n",
       "      <td>2.216023</td>\n",
       "      <td>2.124097</td>\n",
       "      <td>1.665709</td>\n",
       "      <td>2.217943</td>\n",
       "      <td>2.120565</td>\n",
       "      <td>1.605675</td>\n",
       "      <td>2.055448</td>\n",
       "      <td>2.195782</td>\n",
       "      <td>3.291072</td>\n",
       "    </tr>\n",
       "  </tbody>\n",
       "</table>\n",
       "<p>5 rows × 1218 columns</p>\n",
       "</div>"
      ],
      "text/plain": [
       "           Ensembl_ID  TCGA-E9-A1NI-01A  TCGA-A1-A0SP-01A  TCGA-BH-A1EU-11A  \\\n",
       "0   ENSG00000242268.2          0.091708          0.000000          0.057899   \n",
       "1   ENSG00000270112.3          0.019573          0.004701          0.016302   \n",
       "2  ENSG00000167578.15          2.235898          1.863334          1.704753   \n",
       "3   ENSG00000273842.1          0.000000          0.000000          0.000000   \n",
       "4   ENSG00000078237.5          2.321945          4.226699          1.975755   \n",
       "\n",
       "   TCGA-A8-A06X-01A  TCGA-E2-A14T-01A  TCGA-AC-A8OS-01A  TCGA-A8-A09K-01A  \\\n",
       "0          0.000000          0.000000          0.354334          0.000000   \n",
       "1          0.000000          0.000000          0.000000          0.005787   \n",
       "2          1.947481          2.734690          2.397119          2.337327   \n",
       "3          0.000000          0.000000          0.000000          0.000000   \n",
       "4          2.808757          1.964479          1.792870          1.939951   \n",
       "\n",
       "   TCGA-OL-A5RY-01A  TCGA-BH-A0DG-01A  ...  TCGA-BH-A0DT-11A  \\\n",
       "0          0.000000          0.000000  ...          0.234169   \n",
       "1          0.000000          0.000000  ...          0.000000   \n",
       "2          2.256976          1.968791  ...          1.928209   \n",
       "3          0.000000          0.000000  ...          0.000000   \n",
       "4          2.681632          2.091932  ...          2.024599   \n",
       "\n",
       "   TCGA-E9-A1R0-01A  TCGA-BH-A0B6-01A  TCGA-B6-A0RN-01A  TCGA-A8-A09W-01A  \\\n",
       "0          0.107850          0.000000          0.000000          0.000000   \n",
       "1          0.003879          0.010047          0.000000          0.010919   \n",
       "2          2.004722          2.971522          1.841232          1.185122   \n",
       "3          0.000000          0.000000          0.000000          0.000000   \n",
       "4          2.216023          2.124097          1.665709          2.217943   \n",
       "\n",
       "   TCGA-EW-A1P3-01A  TCGA-A7-A13F-11A  TCGA-A2-A0T6-01A  TCGA-A7-A5ZW-01A  \\\n",
       "0          0.000000          0.471630          0.083825          0.000000   \n",
       "1          0.000000          0.000000          0.000000          0.005858   \n",
       "2          2.861514          1.626213          1.692995          2.051916   \n",
       "3          0.000000          0.000000          0.000000          0.000000   \n",
       "4          2.120565          1.605675          2.055448          2.195782   \n",
       "\n",
       "   TCGA-BH-A203-01A  \n",
       "0          0.061585  \n",
       "1          0.008704  \n",
       "2          2.197365  \n",
       "3          0.000000  \n",
       "4          3.291072  \n",
       "\n",
       "[5 rows x 1218 columns]"
      ]
     },
     "execution_count": 22,
     "metadata": {},
     "output_type": "execute_result"
    }
   ],
   "source": [
    "data.head()"
   ]
  },
  {
   "cell_type": "markdown",
   "id": "732a17ee",
   "metadata": {
    "papermill": {
     "duration": 0.03911,
     "end_time": "2022-02-22T02:14:32.982510",
     "exception": false,
     "start_time": "2022-02-22T02:14:32.943400",
     "status": "completed"
    },
    "tags": []
   },
   "source": [
    "## <span style=\"color:#7E9FB8;\">Preview of Clinical Data<span>"
   ]
  },
  {
   "cell_type": "code",
   "execution_count": 23,
   "id": "0b2e2552",
   "metadata": {
    "ExecuteTime": {
     "end_time": "2022-03-30T03:57:05.310188Z",
     "start_time": "2022-03-30T03:57:05.290241Z"
    },
    "execution": {
     "iopub.execute_input": "2022-02-22T02:14:33.073108Z",
     "iopub.status.busy": "2022-02-22T02:14:33.072086Z",
     "iopub.status.idle": "2022-02-22T02:14:33.076363Z",
     "shell.execute_reply": "2022-02-22T02:14:33.075702Z",
     "shell.execute_reply.started": "2022-02-22T02:11:26.308883Z"
    },
    "papermill": {
     "duration": 0.054992,
     "end_time": "2022-02-22T02:14:33.076515",
     "exception": false,
     "start_time": "2022-02-22T02:14:33.021523",
     "status": "completed"
    },
    "tags": []
   },
   "outputs": [
    {
     "data": {
      "text/html": [
       "<div>\n",
       "<style scoped>\n",
       "    .dataframe tbody tr th:only-of-type {\n",
       "        vertical-align: middle;\n",
       "    }\n",
       "\n",
       "    .dataframe tbody tr th {\n",
       "        vertical-align: top;\n",
       "    }\n",
       "\n",
       "    .dataframe thead th {\n",
       "        text-align: right;\n",
       "    }\n",
       "</style>\n",
       "<table border=\"1\" class=\"dataframe\">\n",
       "  <thead>\n",
       "    <tr style=\"text-align: right;\">\n",
       "      <th></th>\n",
       "      <th>Patient ID</th>\n",
       "      <th>Sample ID</th>\n",
       "      <th>Diagnosis Age</th>\n",
       "      <th>Cancer Type</th>\n",
       "      <th>Sex</th>\n",
       "      <th>Subtype</th>\n",
       "      <th>Tumor Type</th>\n",
       "    </tr>\n",
       "  </thead>\n",
       "  <tbody>\n",
       "    <tr>\n",
       "      <th>0</th>\n",
       "      <td>TCGA-3C-AAAU</td>\n",
       "      <td>TCGA-3C-AAAU-01</td>\n",
       "      <td>55</td>\n",
       "      <td>Invasive Breast Carcinoma</td>\n",
       "      <td>Female</td>\n",
       "      <td>BRCA_LumA</td>\n",
       "      <td>Infiltrating Lobular Carcinoma</td>\n",
       "    </tr>\n",
       "    <tr>\n",
       "      <th>1</th>\n",
       "      <td>TCGA-3C-AALI</td>\n",
       "      <td>TCGA-3C-AALI-01</td>\n",
       "      <td>50</td>\n",
       "      <td>Invasive Breast Carcinoma</td>\n",
       "      <td>Female</td>\n",
       "      <td>BRCA_Her2</td>\n",
       "      <td>Infiltrating Ductal Carcinoma</td>\n",
       "    </tr>\n",
       "    <tr>\n",
       "      <th>2</th>\n",
       "      <td>TCGA-3C-AALJ</td>\n",
       "      <td>TCGA-3C-AALJ-01</td>\n",
       "      <td>62</td>\n",
       "      <td>Invasive Breast Carcinoma</td>\n",
       "      <td>Female</td>\n",
       "      <td>BRCA_LumB</td>\n",
       "      <td>Infiltrating Ductal Carcinoma</td>\n",
       "    </tr>\n",
       "    <tr>\n",
       "      <th>3</th>\n",
       "      <td>TCGA-3C-AALK</td>\n",
       "      <td>TCGA-3C-AALK-01</td>\n",
       "      <td>52</td>\n",
       "      <td>Invasive Breast Carcinoma</td>\n",
       "      <td>Female</td>\n",
       "      <td>BRCA_LumA</td>\n",
       "      <td>Infiltrating Ductal Carcinoma</td>\n",
       "    </tr>\n",
       "    <tr>\n",
       "      <th>4</th>\n",
       "      <td>TCGA-4H-AAAK</td>\n",
       "      <td>TCGA-4H-AAAK-01</td>\n",
       "      <td>50</td>\n",
       "      <td>Invasive Breast Carcinoma</td>\n",
       "      <td>Female</td>\n",
       "      <td>BRCA_LumA</td>\n",
       "      <td>Infiltrating Lobular Carcinoma</td>\n",
       "    </tr>\n",
       "  </tbody>\n",
       "</table>\n",
       "</div>"
      ],
      "text/plain": [
       "     Patient ID        Sample ID  Diagnosis Age                Cancer Type  \\\n",
       "0  TCGA-3C-AAAU  TCGA-3C-AAAU-01             55  Invasive Breast Carcinoma   \n",
       "1  TCGA-3C-AALI  TCGA-3C-AALI-01             50  Invasive Breast Carcinoma   \n",
       "2  TCGA-3C-AALJ  TCGA-3C-AALJ-01             62  Invasive Breast Carcinoma   \n",
       "3  TCGA-3C-AALK  TCGA-3C-AALK-01             52  Invasive Breast Carcinoma   \n",
       "4  TCGA-4H-AAAK  TCGA-4H-AAAK-01             50  Invasive Breast Carcinoma   \n",
       "\n",
       "      Sex    Subtype                      Tumor Type  \n",
       "0  Female  BRCA_LumA  Infiltrating Lobular Carcinoma  \n",
       "1  Female  BRCA_Her2   Infiltrating Ductal Carcinoma  \n",
       "2  Female  BRCA_LumB   Infiltrating Ductal Carcinoma  \n",
       "3  Female  BRCA_LumA   Infiltrating Ductal Carcinoma  \n",
       "4  Female  BRCA_LumA  Infiltrating Lobular Carcinoma  "
      ]
     },
     "execution_count": 23,
     "metadata": {},
     "output_type": "execute_result"
    }
   ],
   "source": [
    "clinical.head()"
   ]
  },
  {
   "cell_type": "markdown",
   "id": "b614d63b",
   "metadata": {
    "papermill": {
     "duration": 0.06228,
     "end_time": "2022-02-22T02:14:33.200492",
     "exception": false,
     "start_time": "2022-02-22T02:14:33.138212",
     "status": "completed"
    },
    "tags": []
   },
   "source": [
    "## <span style=\"color:#7E9FB8;\">Counts of Samples per Subtype<span>"
   ]
  },
  {
   "cell_type": "code",
   "execution_count": 24,
   "id": "542e8181",
   "metadata": {
    "ExecuteTime": {
     "end_time": "2022-03-30T03:57:06.754092Z",
     "start_time": "2022-03-30T03:57:06.738135Z"
    },
    "execution": {
     "iopub.execute_input": "2022-02-22T02:14:33.332394Z",
     "iopub.status.busy": "2022-02-22T02:14:33.331563Z",
     "iopub.status.idle": "2022-02-22T02:14:33.343934Z",
     "shell.execute_reply": "2022-02-22T02:14:33.344483Z",
     "shell.execute_reply.started": "2022-02-22T02:11:26.326228Z"
    },
    "papermill": {
     "duration": 0.082422,
     "end_time": "2022-02-22T02:14:33.344689",
     "exception": false,
     "start_time": "2022-02-22T02:14:33.262267",
     "status": "completed"
    },
    "tags": []
   },
   "outputs": [
    {
     "data": {
      "text/html": [
       "<div>\n",
       "<style scoped>\n",
       "    .dataframe tbody tr th:only-of-type {\n",
       "        vertical-align: middle;\n",
       "    }\n",
       "\n",
       "    .dataframe tbody tr th {\n",
       "        vertical-align: top;\n",
       "    }\n",
       "\n",
       "    .dataframe thead th {\n",
       "        text-align: right;\n",
       "    }\n",
       "</style>\n",
       "<table border=\"1\" class=\"dataframe\">\n",
       "  <thead>\n",
       "    <tr style=\"text-align: right;\">\n",
       "      <th></th>\n",
       "      <th>Subtype</th>\n",
       "      <th>Count</th>\n",
       "    </tr>\n",
       "  </thead>\n",
       "  <tbody>\n",
       "    <tr>\n",
       "      <th>0</th>\n",
       "      <td>BRCA_Basal</td>\n",
       "      <td>171</td>\n",
       "    </tr>\n",
       "    <tr>\n",
       "      <th>1</th>\n",
       "      <td>BRCA_Her2</td>\n",
       "      <td>78</td>\n",
       "    </tr>\n",
       "    <tr>\n",
       "      <th>2</th>\n",
       "      <td>BRCA_LumA</td>\n",
       "      <td>499</td>\n",
       "    </tr>\n",
       "    <tr>\n",
       "      <th>3</th>\n",
       "      <td>BRCA_LumB</td>\n",
       "      <td>197</td>\n",
       "    </tr>\n",
       "    <tr>\n",
       "      <th>4</th>\n",
       "      <td>BRCA_Normal</td>\n",
       "      <td>36</td>\n",
       "    </tr>\n",
       "  </tbody>\n",
       "</table>\n",
       "</div>"
      ],
      "text/plain": [
       "       Subtype  Count\n",
       "0   BRCA_Basal    171\n",
       "1    BRCA_Her2     78\n",
       "2    BRCA_LumA    499\n",
       "3    BRCA_LumB    197\n",
       "4  BRCA_Normal     36"
      ]
     },
     "execution_count": 24,
     "metadata": {},
     "output_type": "execute_result"
    }
   ],
   "source": [
    "clinical_summary= clinical.groupby(\"Subtype\").size().rename(\"Count\").reset_index()\n",
    "clinical_summary"
   ]
  },
  {
   "cell_type": "code",
   "execution_count": 34,
   "id": "37d71b02",
   "metadata": {
    "ExecuteTime": {
     "end_time": "2022-03-30T03:58:02.697667Z",
     "start_time": "2022-03-30T03:57:59.266272Z"
    },
    "execution": {
     "iopub.execute_input": "2022-02-22T02:14:33.471424Z",
     "iopub.status.busy": "2022-02-22T02:14:33.470726Z",
     "iopub.status.idle": "2022-02-22T02:14:33.505360Z",
     "shell.execute_reply": "2022-02-22T02:14:33.505999Z",
     "shell.execute_reply.started": "2022-02-22T02:11:26.348411Z"
    },
    "papermill": {
     "duration": 0.100303,
     "end_time": "2022-02-22T02:14:33.506229",
     "exception": false,
     "start_time": "2022-02-22T02:14:33.405926",
     "status": "completed"
    },
    "tags": []
   },
   "outputs": [
    {
     "data": {
      "image/png": "[encoded data removed]",
      "text/plain": [
       "alt.Chart(...)"
      ]
     },
     "execution_count": 34,
     "metadata": {},
     "output_type": "execute_result"
    }
   ],
   "source": [
    "alt.renderers.enable(\"png\")\n",
    "alt.Chart(clinical_summary).mark_bar().encode(\n",
    "    alt.X(\"Subtype\"),\n",
    "    alt.Y(\"Count\"),\n",
    "    color= \"Subtype\",\n",
    "    tooltip= [\"Subtype\", \"Count\"]\n",
    ").properties(\n",
    "    title=\"Number Of Samples per Subtype\",\n",
    "    width=150,\n",
    "    height=300\n",
    ")"
   ]
  },
  {
   "cell_type": "markdown",
   "id": "3c8c3c5b",
   "metadata": {
    "papermill": {
     "duration": 0.061107,
     "end_time": "2022-02-22T02:14:33.629610",
     "exception": false,
     "start_time": "2022-02-22T02:14:33.568503",
     "status": "completed"
    },
    "tags": []
   },
   "source": [
    "<a id=\"4\"></a>\n",
    "## <span style=\"color:#7E9FB8;\">*Transposing Genetic Sequencing Data*</span>\n",
    "\n",
    "In order to perform some modelling on the data, we need the genes as columns. The cell below transposes the data and previews the head of the dataset.\n",
    " "
   ]
  },
  {
   "cell_type": "code",
   "execution_count": 42,
   "id": "1708448a",
   "metadata": {
    "ExecuteTime": {
     "end_time": "2022-03-30T03:59:06.216309Z",
     "start_time": "2022-03-30T03:59:04.513861Z"
    },
    "execution": {
     "iopub.execute_input": "2022-02-22T02:14:33.756597Z",
     "iopub.status.busy": "2022-02-22T02:14:33.755869Z",
     "iopub.status.idle": "2022-02-22T02:14:34.730779Z",
     "shell.execute_reply": "2022-02-22T02:14:34.731400Z",
     "shell.execute_reply.started": "2022-02-22T02:11:26.389791Z"
    },
    "papermill": {
     "duration": 1.040678,
     "end_time": "2022-02-22T02:14:34.731644",
     "exception": false,
     "start_time": "2022-02-22T02:14:33.690966",
     "status": "completed"
    },
    "tags": []
   },
   "outputs": [
    {
     "data": {
      "text/html": [
       "<div>\n",
       "<style scoped>\n",
       "    .dataframe tbody tr th:only-of-type {\n",
       "        vertical-align: middle;\n",
       "    }\n",
       "\n",
       "    .dataframe tbody tr th {\n",
       "        vertical-align: top;\n",
       "    }\n",
       "\n",
       "    .dataframe thead th {\n",
       "        text-align: right;\n",
       "    }\n",
       "</style>\n",
       "<table border=\"1\" class=\"dataframe\">\n",
       "  <thead>\n",
       "    <tr style=\"text-align: right;\">\n",
       "      <th></th>\n",
       "      <th>Ensembl_ID</th>\n",
       "      <th>ENSG00000242268.2</th>\n",
       "      <th>ENSG00000270112.3</th>\n",
       "      <th>ENSG00000167578.15</th>\n",
       "      <th>ENSG00000273842.1</th>\n",
       "      <th>ENSG00000078237.5</th>\n",
       "      <th>ENSG00000146083.10</th>\n",
       "      <th>ENSG00000225275.4</th>\n",
       "      <th>ENSG00000158486.12</th>\n",
       "      <th>ENSG00000198242.12</th>\n",
       "      <th>...</th>\n",
       "      <th>ENSG00000238244.3</th>\n",
       "      <th>ENSG00000186115.11</th>\n",
       "      <th>ENSG00000216352.1</th>\n",
       "      <th>ENSG00000267117.1</th>\n",
       "      <th>ENSG00000273233.1</th>\n",
       "      <th>ENSG00000105063.17</th>\n",
       "      <th>ENSG00000231119.2</th>\n",
       "      <th>ENSG00000280861.1</th>\n",
       "      <th>ENSG00000123685.7</th>\n",
       "      <th>ENSG00000181518.3</th>\n",
       "    </tr>\n",
       "  </thead>\n",
       "  <tbody>\n",
       "    <tr>\n",
       "      <th>0</th>\n",
       "      <td>TCGA-E9-A1NI-01A</td>\n",
       "      <td>0.091708</td>\n",
       "      <td>0.019573</td>\n",
       "      <td>2.235898</td>\n",
       "      <td>0.0</td>\n",
       "      <td>2.321945</td>\n",
       "      <td>3.620056</td>\n",
       "      <td>0.0</td>\n",
       "      <td>0.337087</td>\n",
       "      <td>7.705589</td>\n",
       "      <td>...</td>\n",
       "      <td>0.0</td>\n",
       "      <td>0.073008</td>\n",
       "      <td>0.0</td>\n",
       "      <td>0.000000</td>\n",
       "      <td>0.000000</td>\n",
       "      <td>3.680055</td>\n",
       "      <td>0.285640</td>\n",
       "      <td>0.0</td>\n",
       "      <td>0.599579</td>\n",
       "      <td>0.0</td>\n",
       "    </tr>\n",
       "    <tr>\n",
       "      <th>1</th>\n",
       "      <td>TCGA-A1-A0SP-01A</td>\n",
       "      <td>0.000000</td>\n",
       "      <td>0.004701</td>\n",
       "      <td>1.863334</td>\n",
       "      <td>0.0</td>\n",
       "      <td>4.226699</td>\n",
       "      <td>3.546117</td>\n",
       "      <td>0.0</td>\n",
       "      <td>0.016016</td>\n",
       "      <td>6.835508</td>\n",
       "      <td>...</td>\n",
       "      <td>0.0</td>\n",
       "      <td>0.000000</td>\n",
       "      <td>0.0</td>\n",
       "      <td>0.105328</td>\n",
       "      <td>0.055477</td>\n",
       "      <td>3.969785</td>\n",
       "      <td>0.115149</td>\n",
       "      <td>0.0</td>\n",
       "      <td>1.382192</td>\n",
       "      <td>0.0</td>\n",
       "    </tr>\n",
       "    <tr>\n",
       "      <th>2</th>\n",
       "      <td>TCGA-BH-A1EU-11A</td>\n",
       "      <td>0.057899</td>\n",
       "      <td>0.016302</td>\n",
       "      <td>1.704753</td>\n",
       "      <td>0.0</td>\n",
       "      <td>1.975755</td>\n",
       "      <td>3.396943</td>\n",
       "      <td>0.0</td>\n",
       "      <td>0.041455</td>\n",
       "      <td>7.125310</td>\n",
       "      <td>...</td>\n",
       "      <td>0.0</td>\n",
       "      <td>0.039503</td>\n",
       "      <td>0.0</td>\n",
       "      <td>0.092108</td>\n",
       "      <td>0.000000</td>\n",
       "      <td>3.011921</td>\n",
       "      <td>0.384451</td>\n",
       "      <td>0.0</td>\n",
       "      <td>0.629043</td>\n",
       "      <td>0.0</td>\n",
       "    </tr>\n",
       "    <tr>\n",
       "      <th>3</th>\n",
       "      <td>TCGA-A8-A06X-01A</td>\n",
       "      <td>0.000000</td>\n",
       "      <td>0.000000</td>\n",
       "      <td>1.947481</td>\n",
       "      <td>0.0</td>\n",
       "      <td>2.808757</td>\n",
       "      <td>4.723270</td>\n",
       "      <td>0.0</td>\n",
       "      <td>0.002361</td>\n",
       "      <td>7.259318</td>\n",
       "      <td>...</td>\n",
       "      <td>0.0</td>\n",
       "      <td>0.118749</td>\n",
       "      <td>0.0</td>\n",
       "      <td>0.000000</td>\n",
       "      <td>0.000000</td>\n",
       "      <td>4.059347</td>\n",
       "      <td>0.345883</td>\n",
       "      <td>0.0</td>\n",
       "      <td>0.396315</td>\n",
       "      <td>0.0</td>\n",
       "    </tr>\n",
       "    <tr>\n",
       "      <th>4</th>\n",
       "      <td>TCGA-E2-A14T-01A</td>\n",
       "      <td>0.000000</td>\n",
       "      <td>0.000000</td>\n",
       "      <td>2.734690</td>\n",
       "      <td>0.0</td>\n",
       "      <td>1.964479</td>\n",
       "      <td>3.770091</td>\n",
       "      <td>0.0</td>\n",
       "      <td>0.111647</td>\n",
       "      <td>7.643035</td>\n",
       "      <td>...</td>\n",
       "      <td>0.0</td>\n",
       "      <td>0.000000</td>\n",
       "      <td>0.0</td>\n",
       "      <td>0.113546</td>\n",
       "      <td>0.000000</td>\n",
       "      <td>4.249147</td>\n",
       "      <td>0.065679</td>\n",
       "      <td>0.0</td>\n",
       "      <td>0.157504</td>\n",
       "      <td>0.0</td>\n",
       "    </tr>\n",
       "  </tbody>\n",
       "</table>\n",
       "<p>5 rows × 60484 columns</p>\n",
       "</div>"
      ],
      "text/plain": [
       "         Ensembl_ID  ENSG00000242268.2  ENSG00000270112.3  ENSG00000167578.15  \\\n",
       "0  TCGA-E9-A1NI-01A           0.091708           0.019573            2.235898   \n",
       "1  TCGA-A1-A0SP-01A           0.000000           0.004701            1.863334   \n",
       "2  TCGA-BH-A1EU-11A           0.057899           0.016302            1.704753   \n",
       "3  TCGA-A8-A06X-01A           0.000000           0.000000            1.947481   \n",
       "4  TCGA-E2-A14T-01A           0.000000           0.000000            2.734690   \n",
       "\n",
       "   ENSG00000273842.1  ENSG00000078237.5  ENSG00000146083.10  \\\n",
       "0                0.0           2.321945            3.620056   \n",
       "1                0.0           4.226699            3.546117   \n",
       "2                0.0           1.975755            3.396943   \n",
       "3                0.0           2.808757            4.723270   \n",
       "4                0.0           1.964479            3.770091   \n",
       "\n",
       "   ENSG00000225275.4  ENSG00000158486.12  ENSG00000198242.12  ...  \\\n",
       "0                0.0            0.337087            7.705589  ...   \n",
       "1                0.0            0.016016            6.835508  ...   \n",
       "2                0.0            0.041455            7.125310  ...   \n",
       "3                0.0            0.002361            7.259318  ...   \n",
       "4                0.0            0.111647            7.643035  ...   \n",
       "\n",
       "   ENSG00000238244.3  ENSG00000186115.11  ENSG00000216352.1  \\\n",
       "0                0.0            0.073008                0.0   \n",
       "1                0.0            0.000000                0.0   \n",
       "2                0.0            0.039503                0.0   \n",
       "3                0.0            0.118749                0.0   \n",
       "4                0.0            0.000000                0.0   \n",
       "\n",
       "   ENSG00000267117.1  ENSG00000273233.1  ENSG00000105063.17  \\\n",
       "0           0.000000           0.000000            3.680055   \n",
       "1           0.105328           0.055477            3.969785   \n",
       "2           0.092108           0.000000            3.011921   \n",
       "3           0.000000           0.000000            4.059347   \n",
       "4           0.113546           0.000000            4.249147   \n",
       "\n",
       "   ENSG00000231119.2  ENSG00000280861.1  ENSG00000123685.7  ENSG00000181518.3  \n",
       "0           0.285640                0.0           0.599579                0.0  \n",
       "1           0.115149                0.0           1.382192                0.0  \n",
       "2           0.384451                0.0           0.629043                0.0  \n",
       "3           0.345883                0.0           0.396315                0.0  \n",
       "4           0.065679                0.0           0.157504                0.0  \n",
       "\n",
       "[5 rows x 60484 columns]"
      ]
     },
     "execution_count": 42,
     "metadata": {},
     "output_type": "execute_result"
    }
   ],
   "source": [
    "transposed = data.set_index(\n",
    "    'Ensembl_ID').T.reset_index().rename_axis(None,axis=1).rename(columns= {\"index\":\"Ensembl_ID\"})\n",
    "transposed.head()\n"
   ]
  },
  {
   "cell_type": "markdown",
   "id": "5cad588d",
   "metadata": {
    "papermill": {
     "duration": 0.062496,
     "end_time": "2022-02-22T02:14:34.857556",
     "exception": false,
     "start_time": "2022-02-22T02:14:34.795060",
     "status": "completed"
    },
    "tags": []
   },
   "source": [
    "## <span style=\"color:#7E9FB8;\">Cleaning Up Clinical Data</span>\n",
    "The following were performed on the clinical data in the following cell to prepare it for Merging with the genetic sequencing data\n",
    "- renamed `Sample ID` to `Ensemble_Id`\n",
    "- Added \"A\" at the end of the string in the `Ensembl_ID` column"
   ]
  },
  {
   "cell_type": "code",
   "execution_count": 43,
   "id": "eeaf3c83",
   "metadata": {
    "ExecuteTime": {
     "end_time": "2022-03-30T03:59:08.404002Z",
     "start_time": "2022-03-30T03:59:08.385053Z"
    },
    "execution": {
     "iopub.execute_input": "2022-02-22T02:14:34.987534Z",
     "iopub.status.busy": "2022-02-22T02:14:34.986807Z",
     "iopub.status.idle": "2022-02-22T02:14:34.998434Z",
     "shell.execute_reply": "2022-02-22T02:14:34.999040Z",
     "shell.execute_reply.started": "2022-02-22T02:11:27.511526Z"
    },
    "papermill": {
     "duration": 0.078961,
     "end_time": "2022-02-22T02:14:34.999237",
     "exception": false,
     "start_time": "2022-02-22T02:14:34.920276",
     "status": "completed"
    },
    "tags": []
   },
   "outputs": [
    {
     "data": {
      "text/html": [
       "<div>\n",
       "<style scoped>\n",
       "    .dataframe tbody tr th:only-of-type {\n",
       "        vertical-align: middle;\n",
       "    }\n",
       "\n",
       "    .dataframe tbody tr th {\n",
       "        vertical-align: top;\n",
       "    }\n",
       "\n",
       "    .dataframe thead th {\n",
       "        text-align: right;\n",
       "    }\n",
       "</style>\n",
       "<table border=\"1\" class=\"dataframe\">\n",
       "  <thead>\n",
       "    <tr style=\"text-align: right;\">\n",
       "      <th></th>\n",
       "      <th>Patient ID</th>\n",
       "      <th>Ensembl_ID</th>\n",
       "      <th>Diagnosis Age</th>\n",
       "      <th>Cancer Type</th>\n",
       "      <th>Sex</th>\n",
       "      <th>Subtype</th>\n",
       "      <th>Tumor Type</th>\n",
       "    </tr>\n",
       "  </thead>\n",
       "  <tbody>\n",
       "    <tr>\n",
       "      <th>0</th>\n",
       "      <td>TCGA-3C-AAAU</td>\n",
       "      <td>TCGA-3C-AAAU-01A</td>\n",
       "      <td>55</td>\n",
       "      <td>Invasive Breast Carcinoma</td>\n",
       "      <td>Female</td>\n",
       "      <td>BRCA_LumA</td>\n",
       "      <td>Infiltrating Lobular Carcinoma</td>\n",
       "    </tr>\n",
       "    <tr>\n",
       "      <th>1</th>\n",
       "      <td>TCGA-3C-AALI</td>\n",
       "      <td>TCGA-3C-AALI-01A</td>\n",
       "      <td>50</td>\n",
       "      <td>Invasive Breast Carcinoma</td>\n",
       "      <td>Female</td>\n",
       "      <td>BRCA_Her2</td>\n",
       "      <td>Infiltrating Ductal Carcinoma</td>\n",
       "    </tr>\n",
       "    <tr>\n",
       "      <th>2</th>\n",
       "      <td>TCGA-3C-AALJ</td>\n",
       "      <td>TCGA-3C-AALJ-01A</td>\n",
       "      <td>62</td>\n",
       "      <td>Invasive Breast Carcinoma</td>\n",
       "      <td>Female</td>\n",
       "      <td>BRCA_LumB</td>\n",
       "      <td>Infiltrating Ductal Carcinoma</td>\n",
       "    </tr>\n",
       "    <tr>\n",
       "      <th>3</th>\n",
       "      <td>TCGA-3C-AALK</td>\n",
       "      <td>TCGA-3C-AALK-01A</td>\n",
       "      <td>52</td>\n",
       "      <td>Invasive Breast Carcinoma</td>\n",
       "      <td>Female</td>\n",
       "      <td>BRCA_LumA</td>\n",
       "      <td>Infiltrating Ductal Carcinoma</td>\n",
       "    </tr>\n",
       "    <tr>\n",
       "      <th>4</th>\n",
       "      <td>TCGA-4H-AAAK</td>\n",
       "      <td>TCGA-4H-AAAK-01A</td>\n",
       "      <td>50</td>\n",
       "      <td>Invasive Breast Carcinoma</td>\n",
       "      <td>Female</td>\n",
       "      <td>BRCA_LumA</td>\n",
       "      <td>Infiltrating Lobular Carcinoma</td>\n",
       "    </tr>\n",
       "  </tbody>\n",
       "</table>\n",
       "</div>"
      ],
      "text/plain": [
       "     Patient ID        Ensembl_ID  Diagnosis Age                Cancer Type  \\\n",
       "0  TCGA-3C-AAAU  TCGA-3C-AAAU-01A             55  Invasive Breast Carcinoma   \n",
       "1  TCGA-3C-AALI  TCGA-3C-AALI-01A             50  Invasive Breast Carcinoma   \n",
       "2  TCGA-3C-AALJ  TCGA-3C-AALJ-01A             62  Invasive Breast Carcinoma   \n",
       "3  TCGA-3C-AALK  TCGA-3C-AALK-01A             52  Invasive Breast Carcinoma   \n",
       "4  TCGA-4H-AAAK  TCGA-4H-AAAK-01A             50  Invasive Breast Carcinoma   \n",
       "\n",
       "      Sex    Subtype                      Tumor Type  \n",
       "0  Female  BRCA_LumA  Infiltrating Lobular Carcinoma  \n",
       "1  Female  BRCA_Her2   Infiltrating Ductal Carcinoma  \n",
       "2  Female  BRCA_LumB   Infiltrating Ductal Carcinoma  \n",
       "3  Female  BRCA_LumA   Infiltrating Ductal Carcinoma  \n",
       "4  Female  BRCA_LumA  Infiltrating Lobular Carcinoma  "
      ]
     },
     "execution_count": 43,
     "metadata": {},
     "output_type": "execute_result"
    }
   ],
   "source": [
    "clinical= clinical.rename(columns={\"Sample ID\": \"Ensembl_ID\"})\n",
    "clinical.Ensembl_ID+=\"A\"\n",
    "clinical.head()"
   ]
  },
  {
   "cell_type": "markdown",
   "id": "3d9371c6",
   "metadata": {
    "papermill": {
     "duration": 0.041184,
     "end_time": "2022-02-22T02:14:35.103095",
     "exception": false,
     "start_time": "2022-02-22T02:14:35.061911",
     "status": "completed"
    },
    "tags": []
   },
   "source": [
    "## <span style=\"color:#7E9FB8;\">Merging Clinical Data With Gene Expression Data</span>"
   ]
  },
  {
   "cell_type": "code",
   "execution_count": 44,
   "id": "d5b4b7d9",
   "metadata": {
    "ExecuteTime": {
     "end_time": "2022-03-30T03:59:09.586426Z",
     "start_time": "2022-03-30T03:59:09.281248Z"
    },
    "execution": {
     "iopub.execute_input": "2022-02-22T02:14:35.188107Z",
     "iopub.status.busy": "2022-02-22T02:14:35.187448Z",
     "iopub.status.idle": "2022-02-22T02:14:35.481538Z",
     "shell.execute_reply": "2022-02-22T02:14:35.480909Z",
     "shell.execute_reply.started": "2022-02-22T02:11:27.528640Z"
    },
    "papermill": {
     "duration": 0.337626,
     "end_time": "2022-02-22T02:14:35.481720",
     "exception": false,
     "start_time": "2022-02-22T02:14:35.144094",
     "status": "completed"
    },
    "tags": []
   },
   "outputs": [
    {
     "data": {
      "text/html": [
       "<div>\n",
       "<style scoped>\n",
       "    .dataframe tbody tr th:only-of-type {\n",
       "        vertical-align: middle;\n",
       "    }\n",
       "\n",
       "    .dataframe tbody tr th {\n",
       "        vertical-align: top;\n",
       "    }\n",
       "\n",
       "    .dataframe thead th {\n",
       "        text-align: right;\n",
       "    }\n",
       "</style>\n",
       "<table border=\"1\" class=\"dataframe\">\n",
       "  <thead>\n",
       "    <tr style=\"text-align: right;\">\n",
       "      <th></th>\n",
       "      <th>Ensembl_ID</th>\n",
       "      <th>ENSG00000242268.2</th>\n",
       "      <th>ENSG00000270112.3</th>\n",
       "      <th>ENSG00000167578.15</th>\n",
       "      <th>ENSG00000273842.1</th>\n",
       "      <th>ENSG00000078237.5</th>\n",
       "      <th>ENSG00000146083.10</th>\n",
       "      <th>ENSG00000225275.4</th>\n",
       "      <th>ENSG00000158486.12</th>\n",
       "      <th>ENSG00000198242.12</th>\n",
       "      <th>...</th>\n",
       "      <th>ENSG00000231119.2</th>\n",
       "      <th>ENSG00000280861.1</th>\n",
       "      <th>ENSG00000123685.7</th>\n",
       "      <th>ENSG00000181518.3</th>\n",
       "      <th>Patient ID</th>\n",
       "      <th>Diagnosis Age</th>\n",
       "      <th>Cancer Type</th>\n",
       "      <th>Sex</th>\n",
       "      <th>Subtype</th>\n",
       "      <th>Tumor Type</th>\n",
       "    </tr>\n",
       "  </thead>\n",
       "  <tbody>\n",
       "    <tr>\n",
       "      <th>0</th>\n",
       "      <td>TCGA-E9-A1NI-01A</td>\n",
       "      <td>0.091708</td>\n",
       "      <td>0.019573</td>\n",
       "      <td>2.235898</td>\n",
       "      <td>0.0</td>\n",
       "      <td>2.321945</td>\n",
       "      <td>3.620056</td>\n",
       "      <td>0.0</td>\n",
       "      <td>0.337087</td>\n",
       "      <td>7.705589</td>\n",
       "      <td>...</td>\n",
       "      <td>0.285640</td>\n",
       "      <td>0.0</td>\n",
       "      <td>0.599579</td>\n",
       "      <td>0.0</td>\n",
       "      <td>TCGA-E9-A1NI</td>\n",
       "      <td>51</td>\n",
       "      <td>Invasive Breast Carcinoma</td>\n",
       "      <td>Female</td>\n",
       "      <td>BRCA_LumB</td>\n",
       "      <td>Mixed Histology (NOS)</td>\n",
       "    </tr>\n",
       "    <tr>\n",
       "      <th>1</th>\n",
       "      <td>TCGA-A1-A0SP-01A</td>\n",
       "      <td>0.000000</td>\n",
       "      <td>0.004701</td>\n",
       "      <td>1.863334</td>\n",
       "      <td>0.0</td>\n",
       "      <td>4.226699</td>\n",
       "      <td>3.546117</td>\n",
       "      <td>0.0</td>\n",
       "      <td>0.016016</td>\n",
       "      <td>6.835508</td>\n",
       "      <td>...</td>\n",
       "      <td>0.115149</td>\n",
       "      <td>0.0</td>\n",
       "      <td>1.382192</td>\n",
       "      <td>0.0</td>\n",
       "      <td>TCGA-A1-A0SP</td>\n",
       "      <td>40</td>\n",
       "      <td>Invasive Breast Carcinoma</td>\n",
       "      <td>Female</td>\n",
       "      <td>BRCA_Basal</td>\n",
       "      <td>Infiltrating Ductal Carcinoma</td>\n",
       "    </tr>\n",
       "    <tr>\n",
       "      <th>2</th>\n",
       "      <td>TCGA-A8-A06X-01A</td>\n",
       "      <td>0.000000</td>\n",
       "      <td>0.000000</td>\n",
       "      <td>1.947481</td>\n",
       "      <td>0.0</td>\n",
       "      <td>2.808757</td>\n",
       "      <td>4.723270</td>\n",
       "      <td>0.0</td>\n",
       "      <td>0.002361</td>\n",
       "      <td>7.259318</td>\n",
       "      <td>...</td>\n",
       "      <td>0.345883</td>\n",
       "      <td>0.0</td>\n",
       "      <td>0.396315</td>\n",
       "      <td>0.0</td>\n",
       "      <td>TCGA-A8-A06X</td>\n",
       "      <td>77</td>\n",
       "      <td>Invasive Breast Carcinoma</td>\n",
       "      <td>Female</td>\n",
       "      <td>BRCA_LumB</td>\n",
       "      <td>Infiltrating Ductal Carcinoma</td>\n",
       "    </tr>\n",
       "    <tr>\n",
       "      <th>3</th>\n",
       "      <td>TCGA-E2-A14T-01A</td>\n",
       "      <td>0.000000</td>\n",
       "      <td>0.000000</td>\n",
       "      <td>2.734690</td>\n",
       "      <td>0.0</td>\n",
       "      <td>1.964479</td>\n",
       "      <td>3.770091</td>\n",
       "      <td>0.0</td>\n",
       "      <td>0.111647</td>\n",
       "      <td>7.643035</td>\n",
       "      <td>...</td>\n",
       "      <td>0.065679</td>\n",
       "      <td>0.0</td>\n",
       "      <td>0.157504</td>\n",
       "      <td>0.0</td>\n",
       "      <td>TCGA-E2-A14T</td>\n",
       "      <td>52</td>\n",
       "      <td>Invasive Breast Carcinoma</td>\n",
       "      <td>Female</td>\n",
       "      <td>BRCA_LumA</td>\n",
       "      <td>Infiltrating Ductal Carcinoma</td>\n",
       "    </tr>\n",
       "    <tr>\n",
       "      <th>4</th>\n",
       "      <td>TCGA-AC-A8OS-01A</td>\n",
       "      <td>0.354334</td>\n",
       "      <td>0.000000</td>\n",
       "      <td>2.397119</td>\n",
       "      <td>0.0</td>\n",
       "      <td>1.792870</td>\n",
       "      <td>3.556193</td>\n",
       "      <td>0.0</td>\n",
       "      <td>0.037629</td>\n",
       "      <td>6.474977</td>\n",
       "      <td>...</td>\n",
       "      <td>0.837305</td>\n",
       "      <td>0.0</td>\n",
       "      <td>0.662529</td>\n",
       "      <td>0.0</td>\n",
       "      <td>TCGA-AC-A8OS</td>\n",
       "      <td>71</td>\n",
       "      <td>Invasive Breast Carcinoma</td>\n",
       "      <td>Female</td>\n",
       "      <td>BRCA_LumA</td>\n",
       "      <td>Infiltrating Lobular Carcinoma</td>\n",
       "    </tr>\n",
       "  </tbody>\n",
       "</table>\n",
       "<p>5 rows × 60490 columns</p>\n",
       "</div>"
      ],
      "text/plain": [
       "         Ensembl_ID  ENSG00000242268.2  ENSG00000270112.3  ENSG00000167578.15  \\\n",
       "0  TCGA-E9-A1NI-01A           0.091708           0.019573            2.235898   \n",
       "1  TCGA-A1-A0SP-01A           0.000000           0.004701            1.863334   \n",
       "2  TCGA-A8-A06X-01A           0.000000           0.000000            1.947481   \n",
       "3  TCGA-E2-A14T-01A           0.000000           0.000000            2.734690   \n",
       "4  TCGA-AC-A8OS-01A           0.354334           0.000000            2.397119   \n",
       "\n",
       "   ENSG00000273842.1  ENSG00000078237.5  ENSG00000146083.10  \\\n",
       "0                0.0           2.321945            3.620056   \n",
       "1                0.0           4.226699            3.546117   \n",
       "2                0.0           2.808757            4.723270   \n",
       "3                0.0           1.964479            3.770091   \n",
       "4                0.0           1.792870            3.556193   \n",
       "\n",
       "   ENSG00000225275.4  ENSG00000158486.12  ENSG00000198242.12  ...  \\\n",
       "0                0.0            0.337087            7.705589  ...   \n",
       "1                0.0            0.016016            6.835508  ...   \n",
       "2                0.0            0.002361            7.259318  ...   \n",
       "3                0.0            0.111647            7.643035  ...   \n",
       "4                0.0            0.037629            6.474977  ...   \n",
       "\n",
       "   ENSG00000231119.2  ENSG00000280861.1  ENSG00000123685.7  ENSG00000181518.3  \\\n",
       "0           0.285640                0.0           0.599579                0.0   \n",
       "1           0.115149                0.0           1.382192                0.0   \n",
       "2           0.345883                0.0           0.396315                0.0   \n",
       "3           0.065679                0.0           0.157504                0.0   \n",
       "4           0.837305                0.0           0.662529                0.0   \n",
       "\n",
       "     Patient ID  Diagnosis Age                Cancer Type     Sex     Subtype  \\\n",
       "0  TCGA-E9-A1NI             51  Invasive Breast Carcinoma  Female   BRCA_LumB   \n",
       "1  TCGA-A1-A0SP             40  Invasive Breast Carcinoma  Female  BRCA_Basal   \n",
       "2  TCGA-A8-A06X             77  Invasive Breast Carcinoma  Female   BRCA_LumB   \n",
       "3  TCGA-E2-A14T             52  Invasive Breast Carcinoma  Female   BRCA_LumA   \n",
       "4  TCGA-AC-A8OS             71  Invasive Breast Carcinoma  Female   BRCA_LumA   \n",
       "\n",
       "                       Tumor Type  \n",
       "0           Mixed Histology (NOS)  \n",
       "1   Infiltrating Ductal Carcinoma  \n",
       "2   Infiltrating Ductal Carcinoma  \n",
       "3   Infiltrating Ductal Carcinoma  \n",
       "4  Infiltrating Lobular Carcinoma  \n",
       "\n",
       "[5 rows x 60490 columns]"
      ]
     },
     "execution_count": 44,
     "metadata": {},
     "output_type": "execute_result"
    }
   ],
   "source": [
    "# MERGING CLINICAL DATA AND GENE EXPRESSION DATA\n",
    "final_data = pd.merge(transposed,\n",
    "    clinical,\n",
    "    how=\"inner\",\n",
    "    on=\"Ensembl_ID\")\n",
    "final_data.head()"
   ]
  },
  {
   "cell_type": "markdown",
   "id": "ebfd8c87",
   "metadata": {
    "papermill": {
     "duration": 0.065072,
     "end_time": "2022-02-22T02:14:35.612370",
     "exception": false,
     "start_time": "2022-02-22T02:14:35.547298",
     "status": "completed"
    },
    "tags": []
   },
   "source": [
    "## <span style=\"color:#7E9FB8;\">Keeping Only The Subtype And The Gene Expression Data</span>"
   ]
  },
  {
   "cell_type": "code",
   "execution_count": 45,
   "id": "9b779375",
   "metadata": {
    "ExecuteTime": {
     "end_time": "2022-03-30T03:59:14.300444Z",
     "start_time": "2022-03-30T03:59:12.826030Z"
    },
    "execution": {
     "iopub.execute_input": "2022-02-22T02:14:35.746184Z",
     "iopub.status.busy": "2022-02-22T02:14:35.745373Z",
     "iopub.status.idle": "2022-02-22T02:14:37.075647Z",
     "shell.execute_reply": "2022-02-22T02:14:37.076259Z",
     "shell.execute_reply.started": "2022-02-22T02:11:27.765727Z"
    },
    "papermill": {
     "duration": 1.399233,
     "end_time": "2022-02-22T02:14:37.076447",
     "exception": false,
     "start_time": "2022-02-22T02:14:35.677214",
     "status": "completed"
    },
    "scrolled": true,
    "tags": []
   },
   "outputs": [
    {
     "data": {
      "text/html": [
       "<div>\n",
       "<style scoped>\n",
       "    .dataframe tbody tr th:only-of-type {\n",
       "        vertical-align: middle;\n",
       "    }\n",
       "\n",
       "    .dataframe tbody tr th {\n",
       "        vertical-align: top;\n",
       "    }\n",
       "\n",
       "    .dataframe thead th {\n",
       "        text-align: right;\n",
       "    }\n",
       "</style>\n",
       "<table border=\"1\" class=\"dataframe\">\n",
       "  <thead>\n",
       "    <tr style=\"text-align: right;\">\n",
       "      <th></th>\n",
       "      <th>Subtype</th>\n",
       "      <th>ENSG00000242268.2</th>\n",
       "      <th>ENSG00000270112.3</th>\n",
       "      <th>ENSG00000167578.15</th>\n",
       "      <th>ENSG00000273842.1</th>\n",
       "      <th>ENSG00000078237.5</th>\n",
       "      <th>ENSG00000146083.10</th>\n",
       "      <th>ENSG00000225275.4</th>\n",
       "      <th>ENSG00000158486.12</th>\n",
       "      <th>ENSG00000198242.12</th>\n",
       "      <th>...</th>\n",
       "      <th>ENSG00000238244.3</th>\n",
       "      <th>ENSG00000186115.11</th>\n",
       "      <th>ENSG00000216352.1</th>\n",
       "      <th>ENSG00000267117.1</th>\n",
       "      <th>ENSG00000273233.1</th>\n",
       "      <th>ENSG00000105063.17</th>\n",
       "      <th>ENSG00000231119.2</th>\n",
       "      <th>ENSG00000280861.1</th>\n",
       "      <th>ENSG00000123685.7</th>\n",
       "      <th>ENSG00000181518.3</th>\n",
       "    </tr>\n",
       "  </thead>\n",
       "  <tbody>\n",
       "    <tr>\n",
       "      <th>0</th>\n",
       "      <td>BRCA_LumB</td>\n",
       "      <td>0.091708</td>\n",
       "      <td>0.019573</td>\n",
       "      <td>2.235898</td>\n",
       "      <td>0.0</td>\n",
       "      <td>2.321945</td>\n",
       "      <td>3.620056</td>\n",
       "      <td>0.0</td>\n",
       "      <td>0.337087</td>\n",
       "      <td>7.705589</td>\n",
       "      <td>...</td>\n",
       "      <td>0.0</td>\n",
       "      <td>0.073008</td>\n",
       "      <td>0.0</td>\n",
       "      <td>0.000000</td>\n",
       "      <td>0.000000</td>\n",
       "      <td>3.680055</td>\n",
       "      <td>0.285640</td>\n",
       "      <td>0.0</td>\n",
       "      <td>0.599579</td>\n",
       "      <td>0.0</td>\n",
       "    </tr>\n",
       "    <tr>\n",
       "      <th>1</th>\n",
       "      <td>BRCA_Basal</td>\n",
       "      <td>0.000000</td>\n",
       "      <td>0.004701</td>\n",
       "      <td>1.863334</td>\n",
       "      <td>0.0</td>\n",
       "      <td>4.226699</td>\n",
       "      <td>3.546117</td>\n",
       "      <td>0.0</td>\n",
       "      <td>0.016016</td>\n",
       "      <td>6.835508</td>\n",
       "      <td>...</td>\n",
       "      <td>0.0</td>\n",
       "      <td>0.000000</td>\n",
       "      <td>0.0</td>\n",
       "      <td>0.105328</td>\n",
       "      <td>0.055477</td>\n",
       "      <td>3.969785</td>\n",
       "      <td>0.115149</td>\n",
       "      <td>0.0</td>\n",
       "      <td>1.382192</td>\n",
       "      <td>0.0</td>\n",
       "    </tr>\n",
       "    <tr>\n",
       "      <th>2</th>\n",
       "      <td>BRCA_LumB</td>\n",
       "      <td>0.000000</td>\n",
       "      <td>0.000000</td>\n",
       "      <td>1.947481</td>\n",
       "      <td>0.0</td>\n",
       "      <td>2.808757</td>\n",
       "      <td>4.723270</td>\n",
       "      <td>0.0</td>\n",
       "      <td>0.002361</td>\n",
       "      <td>7.259318</td>\n",
       "      <td>...</td>\n",
       "      <td>0.0</td>\n",
       "      <td>0.118749</td>\n",
       "      <td>0.0</td>\n",
       "      <td>0.000000</td>\n",
       "      <td>0.000000</td>\n",
       "      <td>4.059347</td>\n",
       "      <td>0.345883</td>\n",
       "      <td>0.0</td>\n",
       "      <td>0.396315</td>\n",
       "      <td>0.0</td>\n",
       "    </tr>\n",
       "    <tr>\n",
       "      <th>3</th>\n",
       "      <td>BRCA_LumA</td>\n",
       "      <td>0.000000</td>\n",
       "      <td>0.000000</td>\n",
       "      <td>2.734690</td>\n",
       "      <td>0.0</td>\n",
       "      <td>1.964479</td>\n",
       "      <td>3.770091</td>\n",
       "      <td>0.0</td>\n",
       "      <td>0.111647</td>\n",
       "      <td>7.643035</td>\n",
       "      <td>...</td>\n",
       "      <td>0.0</td>\n",
       "      <td>0.000000</td>\n",
       "      <td>0.0</td>\n",
       "      <td>0.113546</td>\n",
       "      <td>0.000000</td>\n",
       "      <td>4.249147</td>\n",
       "      <td>0.065679</td>\n",
       "      <td>0.0</td>\n",
       "      <td>0.157504</td>\n",
       "      <td>0.0</td>\n",
       "    </tr>\n",
       "    <tr>\n",
       "      <th>4</th>\n",
       "      <td>BRCA_LumA</td>\n",
       "      <td>0.354334</td>\n",
       "      <td>0.000000</td>\n",
       "      <td>2.397119</td>\n",
       "      <td>0.0</td>\n",
       "      <td>1.792870</td>\n",
       "      <td>3.556193</td>\n",
       "      <td>0.0</td>\n",
       "      <td>0.037629</td>\n",
       "      <td>6.474977</td>\n",
       "      <td>...</td>\n",
       "      <td>0.0</td>\n",
       "      <td>0.062172</td>\n",
       "      <td>0.0</td>\n",
       "      <td>0.578244</td>\n",
       "      <td>0.065433</td>\n",
       "      <td>3.935869</td>\n",
       "      <td>0.837305</td>\n",
       "      <td>0.0</td>\n",
       "      <td>0.662529</td>\n",
       "      <td>0.0</td>\n",
       "    </tr>\n",
       "  </tbody>\n",
       "</table>\n",
       "<p>5 rows × 60484 columns</p>\n",
       "</div>"
      ],
      "text/plain": [
       "      Subtype  ENSG00000242268.2  ENSG00000270112.3  ENSG00000167578.15  \\\n",
       "0   BRCA_LumB           0.091708           0.019573            2.235898   \n",
       "1  BRCA_Basal           0.000000           0.004701            1.863334   \n",
       "2   BRCA_LumB           0.000000           0.000000            1.947481   \n",
       "3   BRCA_LumA           0.000000           0.000000            2.734690   \n",
       "4   BRCA_LumA           0.354334           0.000000            2.397119   \n",
       "\n",
       "   ENSG00000273842.1  ENSG00000078237.5  ENSG00000146083.10  \\\n",
       "0                0.0           2.321945            3.620056   \n",
       "1                0.0           4.226699            3.546117   \n",
       "2                0.0           2.808757            4.723270   \n",
       "3                0.0           1.964479            3.770091   \n",
       "4                0.0           1.792870            3.556193   \n",
       "\n",
       "   ENSG00000225275.4  ENSG00000158486.12  ENSG00000198242.12  ...  \\\n",
       "0                0.0            0.337087            7.705589  ...   \n",
       "1                0.0            0.016016            6.835508  ...   \n",
       "2                0.0            0.002361            7.259318  ...   \n",
       "3                0.0            0.111647            7.643035  ...   \n",
       "4                0.0            0.037629            6.474977  ...   \n",
       "\n",
       "   ENSG00000238244.3  ENSG00000186115.11  ENSG00000216352.1  \\\n",
       "0                0.0            0.073008                0.0   \n",
       "1                0.0            0.000000                0.0   \n",
       "2                0.0            0.118749                0.0   \n",
       "3                0.0            0.000000                0.0   \n",
       "4                0.0            0.062172                0.0   \n",
       "\n",
       "   ENSG00000267117.1  ENSG00000273233.1  ENSG00000105063.17  \\\n",
       "0           0.000000           0.000000            3.680055   \n",
       "1           0.105328           0.055477            3.969785   \n",
       "2           0.000000           0.000000            4.059347   \n",
       "3           0.113546           0.000000            4.249147   \n",
       "4           0.578244           0.065433            3.935869   \n",
       "\n",
       "   ENSG00000231119.2  ENSG00000280861.1  ENSG00000123685.7  ENSG00000181518.3  \n",
       "0           0.285640                0.0           0.599579                0.0  \n",
       "1           0.115149                0.0           1.382192                0.0  \n",
       "2           0.345883                0.0           0.396315                0.0  \n",
       "3           0.065679                0.0           0.157504                0.0  \n",
       "4           0.837305                0.0           0.662529                0.0  \n",
       "\n",
       "[5 rows x 60484 columns]"
      ]
     },
     "execution_count": 45,
     "metadata": {},
     "output_type": "execute_result"
    }
   ],
   "source": [
    "df = final_data.drop(columns=[\"Ensembl_ID\", \"Patient ID\", \n",
    "                              \"Diagnosis Age\",\"Cancer Type\",\n",
    "                              \"Sex\", \"Tumor Type\"]).set_index(\"Subtype\").reset_index().dropna()\n",
    "df.head()"
   ]
  },
  {
   "cell_type": "markdown",
   "id": "40703aaf",
   "metadata": {
    "papermill": {
     "duration": 0.065336,
     "end_time": "2022-02-22T02:14:37.207512",
     "exception": false,
     "start_time": "2022-02-22T02:14:37.142176",
     "status": "completed"
    },
    "tags": []
   },
   "source": [
    "## <span style=\"color:#7E9FB8;\">Subtype Samples Counts of The Final Cleaned Dataset</span>"
   ]
  },
  {
   "cell_type": "code",
   "execution_count": 46,
   "id": "70f7c75b",
   "metadata": {
    "ExecuteTime": {
     "end_time": "2022-03-30T03:59:16.143089Z",
     "start_time": "2022-03-30T03:59:16.116132Z"
    },
    "execution": {
     "iopub.execute_input": "2022-02-22T02:14:37.340899Z",
     "iopub.status.busy": "2022-02-22T02:14:37.340213Z",
     "iopub.status.idle": "2022-02-22T02:14:37.352016Z",
     "shell.execute_reply": "2022-02-22T02:14:37.351402Z",
     "shell.execute_reply.started": "2022-02-22T02:11:28.910725Z"
    },
    "papermill": {
     "duration": 0.079673,
     "end_time": "2022-02-22T02:14:37.352146",
     "exception": false,
     "start_time": "2022-02-22T02:14:37.272473",
     "status": "completed"
    },
    "tags": []
   },
   "outputs": [
    {
     "data": {
      "text/html": [
       "<div>\n",
       "<style scoped>\n",
       "    .dataframe tbody tr th:only-of-type {\n",
       "        vertical-align: middle;\n",
       "    }\n",
       "\n",
       "    .dataframe tbody tr th {\n",
       "        vertical-align: top;\n",
       "    }\n",
       "\n",
       "    .dataframe thead th {\n",
       "        text-align: right;\n",
       "    }\n",
       "</style>\n",
       "<table border=\"1\" class=\"dataframe\">\n",
       "  <thead>\n",
       "    <tr style=\"text-align: right;\">\n",
       "      <th></th>\n",
       "      <th>Subtype</th>\n",
       "      <th>Count</th>\n",
       "    </tr>\n",
       "  </thead>\n",
       "  <tbody>\n",
       "    <tr>\n",
       "      <th>0</th>\n",
       "      <td>BRCA_Basal</td>\n",
       "      <td>168</td>\n",
       "    </tr>\n",
       "    <tr>\n",
       "      <th>1</th>\n",
       "      <td>BRCA_Her2</td>\n",
       "      <td>77</td>\n",
       "    </tr>\n",
       "    <tr>\n",
       "      <th>2</th>\n",
       "      <td>BRCA_LumA</td>\n",
       "      <td>490</td>\n",
       "    </tr>\n",
       "    <tr>\n",
       "      <th>3</th>\n",
       "      <td>BRCA_LumB</td>\n",
       "      <td>192</td>\n",
       "    </tr>\n",
       "    <tr>\n",
       "      <th>4</th>\n",
       "      <td>BRCA_Normal</td>\n",
       "      <td>35</td>\n",
       "    </tr>\n",
       "  </tbody>\n",
       "</table>\n",
       "</div>"
      ],
      "text/plain": [
       "       Subtype  Count\n",
       "0   BRCA_Basal    168\n",
       "1    BRCA_Her2     77\n",
       "2    BRCA_LumA    490\n",
       "3    BRCA_LumB    192\n",
       "4  BRCA_Normal     35"
      ]
     },
     "execution_count": 46,
     "metadata": {},
     "output_type": "execute_result"
    }
   ],
   "source": [
    "df.groupby(\"Subtype\").size().reset_index().rename(columns={0:\"Count\"})"
   ]
  },
  {
   "cell_type": "code",
   "execution_count": 47,
   "id": "040c0dfa",
   "metadata": {
    "ExecuteTime": {
     "end_time": "2022-03-30T03:59:18.070094Z",
     "start_time": "2022-03-30T03:59:16.936542Z"
    },
    "execution": {
     "iopub.execute_input": "2022-02-22T02:14:37.457823Z",
     "iopub.status.busy": "2022-02-22T02:14:37.457115Z",
     "iopub.status.idle": "2022-02-22T02:14:37.476387Z",
     "shell.execute_reply": "2022-02-22T02:14:37.476876Z",
     "shell.execute_reply.started": "2022-02-22T02:11:32.835589Z"
    },
    "papermill": {
     "duration": 0.082921,
     "end_time": "2022-02-22T02:14:37.477032",
     "exception": false,
     "start_time": "2022-02-22T02:14:37.394111",
     "status": "completed"
    },
    "tags": []
   },
   "outputs": [
    {
     "data": {
      "image/png": "[encoded data removed]",
      "text/plain": [
       "alt.FacetChart(...)"
      ]
     },
     "execution_count": 47,
     "metadata": {},
     "output_type": "execute_result"
    }
   ],
   "source": [
    "to_plot = df[[\"Subtype\", \"ENSG00000242268.2\", \"ENSG00000270112.3\"]]\n",
    "to_plot.columns= ['Subtype', 'gene_one', 'gene_two']\n",
    "\n",
    "alt.Chart(to_plot).mark_circle().encode(\n",
    "    alt.X(\"gene_one\", scale= alt.Scale(zero=False)),\n",
    "    alt.Y(\"gene_two\", scale= alt.Scale(zero=False)), \n",
    "    color= \"Subtype\",\n",
    "    size= \"gene_one\"\n",
    ").facet(\n",
    "    facet=\"Subtype\",\n",
    "    columns=2\n",
    ")"
   ]
  },
  {
   "cell_type": "markdown",
   "id": "24c7d486",
   "metadata": {
    "papermill": {
     "duration": 0.042516,
     "end_time": "2022-02-22T02:14:37.562964",
     "exception": false,
     "start_time": "2022-02-22T02:14:37.520448",
     "status": "completed"
    },
    "tags": []
   },
   "source": [
    "\n",
    "<a id=\"5\"></a>\n",
    "# <span style=\"color:#1F618D;\">*Machine Learning Models*</span>"
   ]
  },
  {
   "cell_type": "code",
   "execution_count": 48,
   "id": "90f1e388",
   "metadata": {
    "ExecuteTime": {
     "end_time": "2022-03-30T03:59:20.542101Z",
     "start_time": "2022-03-30T03:59:20.301181Z"
    },
    "execution": {
     "iopub.execute_input": "2022-02-22T02:14:37.680297Z",
     "iopub.status.busy": "2022-02-22T02:14:37.679362Z",
     "iopub.status.idle": "2022-02-22T02:14:37.757066Z",
     "shell.execute_reply": "2022-02-22T02:14:37.756406Z",
     "shell.execute_reply.started": "2022-02-22T02:11:38.627908Z"
    },
    "papermill": {
     "duration": 0.151093,
     "end_time": "2022-02-22T02:14:37.757197",
     "exception": false,
     "start_time": "2022-02-22T02:14:37.606104",
     "status": "completed"
    },
    "tags": []
   },
   "outputs": [],
   "source": [
    "y = df.Subtype\n",
    "X = df.drop(\"Subtype\", axis=1)"
   ]
  },
  {
   "cell_type": "markdown",
   "id": "1512102a",
   "metadata": {
    "papermill": {
     "duration": 0.043552,
     "end_time": "2022-02-22T02:14:37.845027",
     "exception": false,
     "start_time": "2022-02-22T02:14:37.801475",
     "status": "completed"
    },
    "tags": []
   },
   "source": [
    "## <span style=\"color:#7E9FB8;\">Splitting Data Into Training And Testing Sets</span>"
   ]
  },
  {
   "cell_type": "code",
   "execution_count": 49,
   "id": "759b508a",
   "metadata": {
    "ExecuteTime": {
     "end_time": "2022-03-30T03:59:23.904960Z",
     "start_time": "2022-03-30T03:59:23.503935Z"
    },
    "execution": {
     "iopub.execute_input": "2022-02-22T02:14:37.936525Z",
     "iopub.status.busy": "2022-02-22T02:14:37.934054Z",
     "iopub.status.idle": "2022-02-22T02:14:39.379136Z",
     "shell.execute_reply": "2022-02-22T02:14:39.378501Z",
     "shell.execute_reply.started": "2022-02-22T02:11:40.228062Z"
    },
    "papermill": {
     "duration": 1.490954,
     "end_time": "2022-02-22T02:14:39.379284",
     "exception": false,
     "start_time": "2022-02-22T02:14:37.888330",
     "status": "completed"
    },
    "tags": []
   },
   "outputs": [],
   "source": [
    "from sklearn.model_selection import train_test_split\n",
    "\n",
    "X_train, X_test, y_train, y_test = train_test_split(\n",
    "    X, y, test_size=0.2, random_state=0\n",
    ")"
   ]
  },
  {
   "cell_type": "markdown",
   "id": "80776d94",
   "metadata": {
    "papermill": {
     "duration": 0.043401,
     "end_time": "2022-02-22T02:14:39.466430",
     "exception": false,
     "start_time": "2022-02-22T02:14:39.423029",
     "status": "completed"
    },
    "tags": []
   },
   "source": [
    "<a id=\"6\"></a>\n",
    "# <span style=\"color:#1F618D;\">Random Forest</span>"
   ]
  },
  {
   "cell_type": "markdown",
   "id": "c8a34d10",
   "metadata": {
    "papermill": {
     "duration": 0.043724,
     "end_time": "2022-02-22T02:14:39.554254",
     "exception": false,
     "start_time": "2022-02-22T02:14:39.510530",
     "status": "completed"
    },
    "tags": []
   },
   "source": [
    "## <span style=\"color:#7E9FB8;\">Choosing the optimal muximum tree depth from range 1 to 20</span>"
   ]
  },
  {
   "cell_type": "code",
   "execution_count": 50,
   "id": "20fd850f",
   "metadata": {
    "ExecuteTime": {
     "end_time": "2022-03-30T04:01:15.845798Z",
     "start_time": "2022-03-30T03:59:39.663418Z"
    },
    "execution": {
     "iopub.execute_input": "2022-02-22T02:14:39.643845Z",
     "iopub.status.busy": "2022-02-22T02:14:39.643223Z",
     "iopub.status.idle": "2022-02-22T02:16:18.611838Z",
     "shell.execute_reply": "2022-02-22T02:16:18.612252Z",
     "shell.execute_reply.started": "2022-02-22T02:11:01.052366Z"
    },
    "papermill": {
     "duration": 99.01557,
     "end_time": "2022-02-22T02:16:18.612410",
     "exception": false,
     "start_time": "2022-02-22T02:14:39.596840",
     "status": "completed"
    },
    "tags": []
   },
   "outputs": [
    {
     "data": {
      "text/html": [
       "<div>\n",
       "<style scoped>\n",
       "    .dataframe tbody tr th:only-of-type {\n",
       "        vertical-align: middle;\n",
       "    }\n",
       "\n",
       "    .dataframe tbody tr th {\n",
       "        vertical-align: top;\n",
       "    }\n",
       "\n",
       "    .dataframe thead th {\n",
       "        text-align: right;\n",
       "    }\n",
       "</style>\n",
       "<table border=\"1\" class=\"dataframe\">\n",
       "  <thead>\n",
       "    <tr style=\"text-align: right;\">\n",
       "      <th></th>\n",
       "      <th>max_depth</th>\n",
       "      <th>Accuracy</th>\n",
       "    </tr>\n",
       "  </thead>\n",
       "  <tbody>\n",
       "    <tr>\n",
       "      <th>0</th>\n",
       "      <td>1</td>\n",
       "      <td>0.704663</td>\n",
       "    </tr>\n",
       "    <tr>\n",
       "      <th>1</th>\n",
       "      <td>2</td>\n",
       "      <td>0.740933</td>\n",
       "    </tr>\n",
       "    <tr>\n",
       "      <th>2</th>\n",
       "      <td>3</td>\n",
       "      <td>0.803109</td>\n",
       "    </tr>\n",
       "    <tr>\n",
       "      <th>3</th>\n",
       "      <td>4</td>\n",
       "      <td>0.834197</td>\n",
       "    </tr>\n",
       "    <tr>\n",
       "      <th>4</th>\n",
       "      <td>5</td>\n",
       "      <td>0.839378</td>\n",
       "    </tr>\n",
       "    <tr>\n",
       "      <th>5</th>\n",
       "      <td>6</td>\n",
       "      <td>0.839378</td>\n",
       "    </tr>\n",
       "    <tr>\n",
       "      <th>6</th>\n",
       "      <td>7</td>\n",
       "      <td>0.860104</td>\n",
       "    </tr>\n",
       "    <tr>\n",
       "      <th>7</th>\n",
       "      <td>8</td>\n",
       "      <td>0.865285</td>\n",
       "    </tr>\n",
       "    <tr>\n",
       "      <th>8</th>\n",
       "      <td>9</td>\n",
       "      <td>0.865285</td>\n",
       "    </tr>\n",
       "    <tr>\n",
       "      <th>9</th>\n",
       "      <td>10</td>\n",
       "      <td>0.860104</td>\n",
       "    </tr>\n",
       "    <tr>\n",
       "      <th>10</th>\n",
       "      <td>11</td>\n",
       "      <td>0.854922</td>\n",
       "    </tr>\n",
       "    <tr>\n",
       "      <th>11</th>\n",
       "      <td>12</td>\n",
       "      <td>0.849741</td>\n",
       "    </tr>\n",
       "    <tr>\n",
       "      <th>12</th>\n",
       "      <td>13</td>\n",
       "      <td>0.854922</td>\n",
       "    </tr>\n",
       "    <tr>\n",
       "      <th>13</th>\n",
       "      <td>14</td>\n",
       "      <td>0.849741</td>\n",
       "    </tr>\n",
       "    <tr>\n",
       "      <th>14</th>\n",
       "      <td>15</td>\n",
       "      <td>0.839378</td>\n",
       "    </tr>\n",
       "    <tr>\n",
       "      <th>15</th>\n",
       "      <td>16</td>\n",
       "      <td>0.844560</td>\n",
       "    </tr>\n",
       "    <tr>\n",
       "      <th>16</th>\n",
       "      <td>17</td>\n",
       "      <td>0.854922</td>\n",
       "    </tr>\n",
       "    <tr>\n",
       "      <th>17</th>\n",
       "      <td>18</td>\n",
       "      <td>0.854922</td>\n",
       "    </tr>\n",
       "    <tr>\n",
       "      <th>18</th>\n",
       "      <td>19</td>\n",
       "      <td>0.854922</td>\n",
       "    </tr>\n",
       "  </tbody>\n",
       "</table>\n",
       "</div>"
      ],
      "text/plain": [
       "    max_depth  Accuracy\n",
       "0           1  0.704663\n",
       "1           2  0.740933\n",
       "2           3  0.803109\n",
       "3           4  0.834197\n",
       "4           5  0.839378\n",
       "5           6  0.839378\n",
       "6           7  0.860104\n",
       "7           8  0.865285\n",
       "8           9  0.865285\n",
       "9          10  0.860104\n",
       "10         11  0.854922\n",
       "11         12  0.849741\n",
       "12         13  0.854922\n",
       "13         14  0.849741\n",
       "14         15  0.839378\n",
       "15         16  0.844560\n",
       "16         17  0.854922\n",
       "17         18  0.854922\n",
       "18         19  0.854922"
      ]
     },
     "execution_count": 50,
     "metadata": {},
     "output_type": "execute_result"
    }
   ],
   "source": [
    "from sklearn.ensemble import RandomForestClassifier as rf\n",
    "from sklearn.metrics import accuracy_score\n",
    "\n",
    "max_depth_best = []\n",
    "for i in range(1, 20):\n",
    "    clf = rf(max_depth=i, random_state=0)\n",
    "    clf.fit(X_train, y_train)\n",
    "    y_pred = clf.predict(X_test)\n",
    "    max_depth_best.append([i, accuracy_score(y_test, y_pred)])\n",
    "max_depth = pd.DataFrame(max_depth_best, columns=[\"max_depth\", \"Accuracy\"])\n",
    "max_depth"
   ]
  },
  {
   "cell_type": "code",
   "execution_count": 51,
   "id": "8f9372e3",
   "metadata": {
    "ExecuteTime": {
     "end_time": "2022-03-30T04:01:16.621617Z",
     "start_time": "2022-03-30T04:01:15.847761Z"
    },
    "execution": {
     "iopub.execute_input": "2022-02-22T02:16:18.708700Z",
     "iopub.status.busy": "2022-02-22T02:16:18.707854Z",
     "iopub.status.idle": "2022-02-22T02:16:18.726295Z",
     "shell.execute_reply": "2022-02-22T02:16:18.725606Z",
     "shell.execute_reply.started": "2022-02-22T02:11:01.054390Z"
    },
    "papermill": {
     "duration": 0.070969,
     "end_time": "2022-02-22T02:16:18.726464",
     "exception": false,
     "start_time": "2022-02-22T02:16:18.655495",
     "status": "completed"
    },
    "tags": []
   },
   "outputs": [
    {
     "data": {
      "image/png": "[encoded data removed]",
      "text/plain": [
       "alt.Chart(...)"
      ]
     },
     "execution_count": 51,
     "metadata": {},
     "output_type": "execute_result"
    }
   ],
   "source": [
    "max_depth_chart = alt.Chart(max_depth).mark_line().encode(\n",
    "    alt.X(\"max_depth\", scale=alt.Scale(zero=False)),\n",
    "    alt.Y(\"Accuracy\", scale=alt.Scale(zero=False)),\n",
    "    tooltip=[\"max_depth\", \"Accuracy\"]\n",
    ").properties(\n",
    "    title=\"Random Forest Acuracy vs Max Depth\"\n",
    ")\n",
    "max_depth_chart"
   ]
  },
  {
   "cell_type": "markdown",
   "id": "0e5dee64",
   "metadata": {
    "papermill": {
     "duration": 0.068701,
     "end_time": "2022-02-22T02:16:18.864713",
     "exception": false,
     "start_time": "2022-02-22T02:16:18.796012",
     "status": "completed"
    },
    "tags": []
   },
   "source": [
    "In the output above, we see that in the range the best level of depth of trees that bring the best output is 10, 11 and 12. therefore, we will train our model with the max_depth parameter =  10"
   ]
  },
  {
   "cell_type": "markdown",
   "id": "e2cf8a25",
   "metadata": {
    "papermill": {
     "duration": 0.068984,
     "end_time": "2022-02-22T02:16:19.004092",
     "exception": false,
     "start_time": "2022-02-22T02:16:18.935108",
     "status": "completed"
    },
    "tags": []
   },
   "source": [
    "## <span style=\"color:#7E9FB8;\">Choosing the Optimal n_estimators from range (10,200)</span>"
   ]
  },
  {
   "cell_type": "code",
   "execution_count": 52,
   "id": "def0bcc2",
   "metadata": {
    "ExecuteTime": {
     "end_time": "2022-03-30T04:20:23.549715Z",
     "start_time": "2022-03-30T04:01:16.622617Z"
    },
    "execution": {
     "iopub.execute_input": "2022-02-22T02:16:19.153112Z",
     "iopub.status.busy": "2022-02-22T02:16:19.148618Z",
     "iopub.status.idle": "2022-02-22T02:37:55.221884Z",
     "shell.execute_reply": "2022-02-22T02:37:55.222496Z",
     "shell.execute_reply.started": "2022-02-13T05:51:48.732538Z"
    },
    "papermill": {
     "duration": 1296.149579,
     "end_time": "2022-02-22T02:37:55.222858",
     "exception": false,
     "start_time": "2022-02-22T02:16:19.073279",
     "status": "completed"
    },
    "tags": []
   },
   "outputs": [],
   "source": [
    "# FINDING THE BEST N_ESTIMATOR\n",
    "n_estimators = []\n",
    "for i in range(10, 200):\n",
    "    clf = rf(max_depth=10, n_estimators=i, random_state=0)\n",
    "    clf.fit(X_train, y_train)\n",
    "    y_pred = clf.predict(X_test)\n",
    "    n_estimators.append([i, accuracy_score(y_test, y_pred)])"
   ]
  },
  {
   "cell_type": "code",
   "execution_count": 53,
   "id": "bc558a99",
   "metadata": {
    "ExecuteTime": {
     "end_time": "2022-03-30T04:20:24.571111Z",
     "start_time": "2022-03-30T04:20:23.551698Z"
    },
    "execution": {
     "iopub.execute_input": "2022-02-22T02:37:55.315790Z",
     "iopub.status.busy": "2022-02-22T02:37:55.315142Z",
     "iopub.status.idle": "2022-02-22T02:37:55.347872Z",
     "shell.execute_reply": "2022-02-22T02:37:55.348311Z",
     "shell.execute_reply.started": "2022-02-13T06:49:12.266009Z"
    },
    "papermill": {
     "duration": 0.079448,
     "end_time": "2022-02-22T02:37:55.348481",
     "exception": false,
     "start_time": "2022-02-22T02:37:55.269033",
     "status": "completed"
    },
    "tags": []
   },
   "outputs": [
    {
     "data": {
      "image/png": "[encoded data removed]",
      "text/plain": [
       "alt.HConcatChart(...)"
      ]
     },
     "execution_count": 53,
     "metadata": {},
     "output_type": "execute_result"
    }
   ],
   "source": [
    "n_estimate = pd.DataFrame(n_estimators, columns=[\"n_estimator\", \"Accuracy\"])\n",
    "estimate_chart = alt.Chart(n_estimate).mark_line().encode(\n",
    "    alt.X(\"n_estimator\", scale=alt.Scale(zero=False)),\n",
    "    alt.Y(\"Accuracy\", scale=alt.Scale(zero=False)),\n",
    "    tooltip=['n_estimator', \"Accuracy\"]\n",
    ").properties(\n",
    "    title=\"Random Forest Acuracy vs n_estimator\"\n",
    ")\n",
    "max_depth_chart | estimate_chart"
   ]
  },
  {
   "cell_type": "code",
   "execution_count": 54,
   "id": "8d29c548",
   "metadata": {
    "ExecuteTime": {
     "end_time": "2022-03-30T04:20:24.586045Z",
     "start_time": "2022-03-30T04:20:24.573079Z"
    },
    "execution": {
     "iopub.execute_input": "2022-02-22T02:37:55.439548Z",
     "iopub.status.busy": "2022-02-22T02:37:55.438945Z",
     "iopub.status.idle": "2022-02-22T02:37:55.444769Z",
     "shell.execute_reply": "2022-02-22T02:37:55.445299Z",
     "shell.execute_reply.started": "2022-02-13T06:31:40.3029Z"
    },
    "papermill": {
     "duration": 0.053093,
     "end_time": "2022-02-22T02:37:55.445451",
     "exception": false,
     "start_time": "2022-02-22T02:37:55.392358",
     "status": "completed"
    },
    "tags": []
   },
   "outputs": [
    {
     "data": {
      "text/plain": [
       "n_estimator    76.000000\n",
       "Accuracy        0.875648\n",
       "Name: 66, dtype: float64"
      ]
     },
     "execution_count": 54,
     "metadata": {},
     "output_type": "execute_result"
    }
   ],
   "source": [
    "# The Optimal n_estimator\n",
    "n_estimate.loc[n_estimate[\"Accuracy\"].idxmax()]"
   ]
  },
  {
   "cell_type": "markdown",
   "id": "2ee026d3",
   "metadata": {
    "papermill": {
     "duration": 0.044015,
     "end_time": "2022-02-22T02:37:55.534421",
     "exception": false,
     "start_time": "2022-02-22T02:37:55.490406",
     "status": "completed"
    },
    "tags": []
   },
   "source": [
    "From the series above, we see that 0.865 is the highest score and the best n_estimator is 99. "
   ]
  },
  {
   "cell_type": "markdown",
   "id": "51b3250e",
   "metadata": {
    "papermill": {
     "duration": 0.04372,
     "end_time": "2022-02-22T02:37:55.622603",
     "exception": false,
     "start_time": "2022-02-22T02:37:55.578883",
     "status": "completed"
    },
    "tags": []
   },
   "source": [
    "## <span style=\"color:#7E9FB8;\">Training the random Forest Model With The Hyperparameters Obtained Above</span>"
   ]
  },
  {
   "cell_type": "code",
   "execution_count": 55,
   "id": "cd5593bf",
   "metadata": {
    "ExecuteTime": {
     "end_time": "2022-03-30T04:20:30.704131Z",
     "start_time": "2022-03-30T04:20:24.587040Z"
    },
    "execution": {
     "iopub.execute_input": "2022-02-22T02:37:55.714515Z",
     "iopub.status.busy": "2022-02-22T02:37:55.714017Z",
     "iopub.status.idle": "2022-02-22T02:38:01.591481Z",
     "shell.execute_reply": "2022-02-22T02:38:01.590694Z",
     "shell.execute_reply.started": "2022-02-19T20:46:55.1629Z"
    },
    "papermill": {
     "duration": 5.924579,
     "end_time": "2022-02-22T02:38:01.591667",
     "exception": false,
     "start_time": "2022-02-22T02:37:55.667088",
     "status": "completed"
    },
    "tags": []
   },
   "outputs": [
    {
     "data": {
      "text/plain": [
       "0.8601036269430051"
      ]
     },
     "execution_count": 55,
     "metadata": {},
     "output_type": "execute_result"
    }
   ],
   "source": [
    "rf_model = rf(max_depth=10, n_estimators=99, random_state=0)\n",
    "rf_model.fit(X_train, y_train)\n",
    "\n",
    "# Predicting on Testing Set\n",
    "\n",
    "y_pred = rf_model.predict(X_test)\n",
    "accuracy_score(y_test, y_pred)"
   ]
  },
  {
   "cell_type": "markdown",
   "id": "bfff6b72",
   "metadata": {
    "papermill": {
     "duration": 0.070972,
     "end_time": "2022-02-22T02:38:01.734253",
     "exception": false,
     "start_time": "2022-02-22T02:38:01.663281",
     "status": "completed"
    },
    "tags": []
   },
   "source": [
    "## <span style=\"color:#7E9FB8;\">Random Forest Classifier Confusion Matrix</span>"
   ]
  },
  {
   "cell_type": "code",
   "execution_count": 56,
   "id": "ddd457cd",
   "metadata": {
    "ExecuteTime": {
     "end_time": "2022-03-30T04:20:31.819863Z",
     "start_time": "2022-03-30T04:20:30.705141Z"
    },
    "execution": {
     "iopub.execute_input": "2022-02-22T02:38:01.886713Z",
     "iopub.status.busy": "2022-02-22T02:38:01.885993Z",
     "iopub.status.idle": "2022-02-22T02:38:02.180652Z",
     "shell.execute_reply": "2022-02-22T02:38:02.181187Z",
     "shell.execute_reply.started": "2022-02-19T20:47:03.814786Z"
    },
    "papermill": {
     "duration": 0.376508,
     "end_time": "2022-02-22T02:38:02.181383",
     "exception": false,
     "start_time": "2022-02-22T02:38:01.804875",
     "status": "completed"
    },
    "tags": []
   },
   "outputs": [
    {
     "data": {
      "text/plain": [
       "<sklearn.metrics._plot.confusion_matrix.ConfusionMatrixDisplay at 0x21925af8130>"
      ]
     },
     "execution_count": 56,
     "metadata": {},
     "output_type": "execute_result"
    },
    {
     "data": {
      "image/png": "[encoded data removed]",
      "text/plain": [
       "<Figure size 432x288 with 2 Axes>"
      ]
     },
     "metadata": {
      "needs_background": "light"
     },
     "output_type": "display_data"
    }
   ],
   "source": [
    "from sklearn.metrics import confusion_matrix\n",
    "from sklearn.metrics import ConfusionMatrixDisplay\n",
    "\n",
    "conf_mat = confusion_matrix(y_test, y_pred, labels=rf_model.classes_)\n",
    "ConfusionMatrixDisplay(conf_mat, display_labels=rf_model.classes_).plot()"
   ]
  },
  {
   "cell_type": "markdown",
   "id": "0a2c900d",
   "metadata": {
    "papermill": {
     "duration": 0.071672,
     "end_time": "2022-02-22T02:38:02.325047",
     "exception": false,
     "start_time": "2022-02-22T02:38:02.253375",
     "status": "completed"
    },
    "tags": []
   },
   "source": [
    "## <span style=\"color:#7E9FB8;\">Random Forest Observations</span>\n",
    "- The model is terrible with predicting `BRCA_Normal`. This makes sence given that we have very few samples of this subtype.\n",
    "- The model is having problems with sepparating between `BRCA_LumA` and `BRCA_LumB`"
   ]
  },
  {
   "cell_type": "markdown",
   "id": "a7f45182",
   "metadata": {
    "papermill": {
     "duration": 0.072341,
     "end_time": "2022-02-22T02:38:02.468717",
     "exception": false,
     "start_time": "2022-02-22T02:38:02.396376",
     "status": "completed"
    },
    "tags": []
   },
   "source": [
    "## <span style=\"color:#7E9FB8;\">Feature Importances</span>"
   ]
  },
  {
   "cell_type": "markdown",
   "id": "0c7144ad",
   "metadata": {
    "papermill": {
     "duration": 0.071301,
     "end_time": "2022-02-22T02:38:02.611562",
     "exception": false,
     "start_time": "2022-02-22T02:38:02.540261",
     "status": "completed"
    },
    "tags": []
   },
   "source": [
    "Having built the Random Forest Model, we will now look at the most important genes in the classification of our gene subtypes. Since there are many genes in the model, we will only look at the 10 most important ones. "
   ]
  },
  {
   "cell_type": "code",
   "execution_count": 57,
   "id": "5967781c",
   "metadata": {
    "ExecuteTime": {
     "end_time": "2022-03-30T04:20:32.002277Z",
     "start_time": "2022-03-30T04:20:31.820765Z"
    },
    "execution": {
     "iopub.execute_input": "2022-02-22T02:38:02.760147Z",
     "iopub.status.busy": "2022-02-22T02:38:02.759387Z",
     "iopub.status.idle": "2022-02-22T02:38:02.859415Z",
     "shell.execute_reply": "2022-02-22T02:38:02.859999Z",
     "shell.execute_reply.started": "2022-02-19T20:47:08.407561Z"
    },
    "papermill": {
     "duration": 0.175508,
     "end_time": "2022-02-22T02:38:02.860190",
     "exception": false,
     "start_time": "2022-02-22T02:38:02.684682",
     "status": "completed"
    },
    "tags": []
   },
   "outputs": [
    {
     "data": {
      "text/html": [
       "<div>\n",
       "<style scoped>\n",
       "    .dataframe tbody tr th:only-of-type {\n",
       "        vertical-align: middle;\n",
       "    }\n",
       "\n",
       "    .dataframe tbody tr th {\n",
       "        vertical-align: top;\n",
       "    }\n",
       "\n",
       "    .dataframe thead th {\n",
       "        text-align: right;\n",
       "    }\n",
       "</style>\n",
       "<table border=\"1\" class=\"dataframe\">\n",
       "  <thead>\n",
       "    <tr style=\"text-align: right;\">\n",
       "      <th></th>\n",
       "      <th>Feature</th>\n",
       "      <th>Importance</th>\n",
       "    </tr>\n",
       "  </thead>\n",
       "  <tbody>\n",
       "    <tr>\n",
       "      <th>0</th>\n",
       "      <td>ENSG00000245750.6</td>\n",
       "      <td>0.010655</td>\n",
       "    </tr>\n",
       "    <tr>\n",
       "      <th>1</th>\n",
       "      <td>ENSG00000138180.14</td>\n",
       "      <td>0.007881</td>\n",
       "    </tr>\n",
       "    <tr>\n",
       "      <th>2</th>\n",
       "      <td>ENSG00000118307.17</td>\n",
       "      <td>0.006408</td>\n",
       "    </tr>\n",
       "    <tr>\n",
       "      <th>3</th>\n",
       "      <td>ENSG00000139865.15</td>\n",
       "      <td>0.005974</td>\n",
       "    </tr>\n",
       "    <tr>\n",
       "      <th>4</th>\n",
       "      <td>ENSG00000157456.6</td>\n",
       "      <td>0.005928</td>\n",
       "    </tr>\n",
       "    <tr>\n",
       "      <th>5</th>\n",
       "      <td>ENSG00000164893.7</td>\n",
       "      <td>0.005025</td>\n",
       "    </tr>\n",
       "    <tr>\n",
       "      <th>6</th>\n",
       "      <td>ENSG00000145386.8</td>\n",
       "      <td>0.004781</td>\n",
       "    </tr>\n",
       "    <tr>\n",
       "      <th>7</th>\n",
       "      <td>ENSG00000089685.13</td>\n",
       "      <td>0.004680</td>\n",
       "    </tr>\n",
       "    <tr>\n",
       "      <th>8</th>\n",
       "      <td>ENSG00000105173.12</td>\n",
       "      <td>0.004554</td>\n",
       "    </tr>\n",
       "    <tr>\n",
       "      <th>9</th>\n",
       "      <td>ENSG00000117399.12</td>\n",
       "      <td>0.004467</td>\n",
       "    </tr>\n",
       "  </tbody>\n",
       "</table>\n",
       "</div>"
      ],
      "text/plain": [
       "              Feature  Importance\n",
       "0   ENSG00000245750.6    0.010655\n",
       "1  ENSG00000138180.14    0.007881\n",
       "2  ENSG00000118307.17    0.006408\n",
       "3  ENSG00000139865.15    0.005974\n",
       "4   ENSG00000157456.6    0.005928\n",
       "5   ENSG00000164893.7    0.005025\n",
       "6   ENSG00000145386.8    0.004781\n",
       "7  ENSG00000089685.13    0.004680\n",
       "8  ENSG00000105173.12    0.004554\n",
       "9  ENSG00000117399.12    0.004467"
      ]
     },
     "execution_count": 57,
     "metadata": {},
     "output_type": "execute_result"
    }
   ],
   "source": [
    "sorted_idx = (-rf_model.feature_importances_).argsort()[:10]\n",
    "feature_data = pd.DataFrame({\"Feature\": X.columns[sorted_idx], \"Importance\":  rf_model.feature_importances_[\n",
    "                            sorted_idx]}).sort_values(by=\"Importance\", ascending=False)\n",
    "feature_data"
   ]
  },
  {
   "cell_type": "code",
   "execution_count": 58,
   "id": "d12185db",
   "metadata": {
    "ExecuteTime": {
     "end_time": "2022-03-30T04:20:32.931466Z",
     "start_time": "2022-03-30T04:20:32.003275Z"
    },
    "execution": {
     "iopub.execute_input": "2022-02-22T02:38:03.006610Z",
     "iopub.status.busy": "2022-02-22T02:38:03.005952Z",
     "iopub.status.idle": "2022-02-22T02:38:03.029055Z",
     "shell.execute_reply": "2022-02-22T02:38:03.029680Z",
     "shell.execute_reply.started": "2022-02-19T20:47:11.949884Z"
    },
    "papermill": {
     "duration": 0.098148,
     "end_time": "2022-02-22T02:38:03.029989",
     "exception": false,
     "start_time": "2022-02-22T02:38:02.931841",
     "status": "completed"
    },
    "tags": []
   },
   "outputs": [
    {
     "data": {
      "image/png": "[encoded data removed]",
      "text/plain": [
       "alt.Chart(...)"
      ]
     },
     "execution_count": 58,
     "metadata": {},
     "output_type": "execute_result"
    }
   ],
   "source": [
    "alt.Chart(feature_data).mark_bar().encode(\n",
    "    y=alt.Y(\"Feature\", sort=alt.EncodingSortField(\n",
    "        field=\"Importance\", op=\"count\", order='ascending'), title=\"Gene\"),\n",
    "    x=alt.X('Importance:Q'),\n",
    "    color=alt.Color(\"Feature\", title=\"Gene\"),\n",
    "    tooltip=[\"Feature\", \"Importance\"]\n",
    ")"
   ]
  },
  {
   "cell_type": "markdown",
   "id": "1d9788bc",
   "metadata": {
    "papermill": {
     "duration": 0.063703,
     "end_time": "2022-02-22T02:38:03.166657",
     "exception": false,
     "start_time": "2022-02-22T02:38:03.102954",
     "status": "completed"
    },
    "tags": []
   },
   "source": [
    "<a id=\"7\"></a>\n",
    "# <span style=\"color:#1F618D;\">K Nearest Neighbors Model</span>"
   ]
  },
  {
   "cell_type": "markdown",
   "id": "46c75f13",
   "metadata": {
    "papermill": {
     "duration": 0.04635,
     "end_time": "2022-02-22T02:38:03.259045",
     "exception": false,
     "start_time": "2022-02-22T02:38:03.212695",
     "status": "completed"
    },
    "tags": []
   },
   "source": [
    "## <span style=\"color:#7E9FB8;\">Finding The Optimal Number of Neighbors in The Range (1,20) </span>"
   ]
  },
  {
   "cell_type": "code",
   "execution_count": 59,
   "id": "d1768a38",
   "metadata": {
    "ExecuteTime": {
     "end_time": "2022-03-30T04:20:50.802396Z",
     "start_time": "2022-03-30T04:20:32.934458Z"
    },
    "execution": {
     "iopub.execute_input": "2022-02-22T02:38:03.355923Z",
     "iopub.status.busy": "2022-02-22T02:38:03.355282Z",
     "iopub.status.idle": "2022-02-22T02:42:56.326829Z",
     "shell.execute_reply": "2022-02-22T02:42:56.327286Z",
     "shell.execute_reply.started": "2022-02-22T02:12:59.218044Z"
    },
    "papermill": {
     "duration": 293.021456,
     "end_time": "2022-02-22T02:42:56.327457",
     "exception": false,
     "start_time": "2022-02-22T02:38:03.306001",
     "status": "completed"
    },
    "tags": []
   },
   "outputs": [
    {
     "data": {
      "text/html": [
       "<div>\n",
       "<style scoped>\n",
       "    .dataframe tbody tr th:only-of-type {\n",
       "        vertical-align: middle;\n",
       "    }\n",
       "\n",
       "    .dataframe tbody tr th {\n",
       "        vertical-align: top;\n",
       "    }\n",
       "\n",
       "    .dataframe thead th {\n",
       "        text-align: right;\n",
       "    }\n",
       "</style>\n",
       "<table border=\"1\" class=\"dataframe\">\n",
       "  <thead>\n",
       "    <tr style=\"text-align: right;\">\n",
       "      <th></th>\n",
       "      <th>n_neighbors</th>\n",
       "      <th>Accuracy</th>\n",
       "    </tr>\n",
       "  </thead>\n",
       "  <tbody>\n",
       "    <tr>\n",
       "      <th>0</th>\n",
       "      <td>1</td>\n",
       "      <td>0.829016</td>\n",
       "    </tr>\n",
       "    <tr>\n",
       "      <th>1</th>\n",
       "      <td>2</td>\n",
       "      <td>0.834197</td>\n",
       "    </tr>\n",
       "    <tr>\n",
       "      <th>2</th>\n",
       "      <td>3</td>\n",
       "      <td>0.818653</td>\n",
       "    </tr>\n",
       "    <tr>\n",
       "      <th>3</th>\n",
       "      <td>4</td>\n",
       "      <td>0.803109</td>\n",
       "    </tr>\n",
       "    <tr>\n",
       "      <th>4</th>\n",
       "      <td>5</td>\n",
       "      <td>0.844560</td>\n",
       "    </tr>\n",
       "  </tbody>\n",
       "</table>\n",
       "</div>"
      ],
      "text/plain": [
       "   n_neighbors  Accuracy\n",
       "0            1  0.829016\n",
       "1            2  0.834197\n",
       "2            3  0.818653\n",
       "3            4  0.803109\n",
       "4            5  0.844560"
      ]
     },
     "execution_count": 59,
     "metadata": {},
     "output_type": "execute_result"
    }
   ],
   "source": [
    "from sklearn.neighbors import KNeighborsClassifier as knn\n",
    "\n",
    "neighbors = []\n",
    "\n",
    "for i in range(1, 20):\n",
    "    kclass = knn(n_neighbors=i)\n",
    "    kclass.fit(X_train, y_train)\n",
    "    y_pred = kclass.predict(X_test)\n",
    "    neighbors.append([i, accuracy_score(y_test, y_pred)])\n",
    "neighbors = pd.DataFrame(neighbors, columns=[\"n_neighbors\", \"Accuracy\"])\n",
    "neighbors.head()"
   ]
  },
  {
   "cell_type": "code",
   "execution_count": 60,
   "id": "e2155b25",
   "metadata": {
    "ExecuteTime": {
     "end_time": "2022-03-30T04:20:51.754533Z",
     "start_time": "2022-03-30T04:20:50.803364Z"
    },
    "execution": {
     "iopub.execute_input": "2022-02-22T02:42:56.425960Z",
     "iopub.status.busy": "2022-02-22T02:42:56.425227Z",
     "iopub.status.idle": "2022-02-22T02:42:56.447509Z",
     "shell.execute_reply": "2022-02-22T02:42:56.448098Z",
     "shell.execute_reply.started": "2022-02-22T02:13:22.052379Z"
    },
    "papermill": {
     "duration": 0.072725,
     "end_time": "2022-02-22T02:42:56.448288",
     "exception": false,
     "start_time": "2022-02-22T02:42:56.375563",
     "status": "completed"
    },
    "tags": []
   },
   "outputs": [
    {
     "data": {
      "image/png": "[encoded data removed]",
      "text/plain": [
       "alt.Chart(...)"
      ]
     },
     "execution_count": 60,
     "metadata": {},
     "output_type": "execute_result"
    }
   ],
   "source": [
    "alt.Chart(neighbors).mark_line().encode(\n",
    "    alt.X(\"n_neighbors\", scale=alt.Scale(zero=False)),\n",
    "    alt.Y(\"Accuracy\", scale=alt.Scale(zero=False)),\n",
    "    tooltip=[\"Accuracy\", \"n_neighbors\"]\n",
    ").properties(\n",
    "    title=\"Accuracy vs Number of Neighbors\"\n",
    ")"
   ]
  },
  {
   "cell_type": "markdown",
   "id": "426f74f2",
   "metadata": {
    "papermill": {
     "duration": 0.073102,
     "end_time": "2022-02-22T02:42:56.594782",
     "exception": false,
     "start_time": "2022-02-22T02:42:56.521680",
     "status": "completed"
    },
    "tags": []
   },
   "source": [
    "In the neighbors above, we see that the number of neighbors in the range(1,10) best for our model is 3. Since this model has a way much lower performance than Random Forest, we will not use it. "
   ]
  },
  {
   "cell_type": "markdown",
   "id": "b032b0e9",
   "metadata": {
    "papermill": {
     "duration": 0.054788,
     "end_time": "2022-02-22T02:42:56.723732",
     "exception": false,
     "start_time": "2022-02-22T02:42:56.668944",
     "status": "completed"
    },
    "tags": []
   },
   "source": [
    "<a id=\"8\"></a>\n",
    "# <span style=\"color:#1F618D;\">Support Vector Machines Model</span>"
   ]
  },
  {
   "cell_type": "markdown",
   "id": "890b68cb",
   "metadata": {
    "papermill": {
     "duration": 0.072916,
     "end_time": "2022-02-22T02:42:56.869925",
     "exception": false,
     "start_time": "2022-02-22T02:42:56.797009",
     "status": "completed"
    },
    "tags": []
   },
   "source": [
    "## <span style=\"color:#7E9FB8;\">Finding The Optimal C Parameter </span>"
   ]
  },
  {
   "cell_type": "code",
   "execution_count": 61,
   "id": "66fe14e0",
   "metadata": {
    "ExecuteTime": {
     "end_time": "2022-03-30T04:30:08.890017Z",
     "start_time": "2022-03-30T04:20:51.756536Z"
    },
    "execution": {
     "iopub.execute_input": "2022-02-22T02:42:56.969483Z",
     "iopub.status.busy": "2022-02-22T02:42:56.968924Z",
     "iopub.status.idle": "2022-02-22T02:51:53.747999Z",
     "shell.execute_reply": "2022-02-22T02:51:53.748598Z",
     "shell.execute_reply.started": "2022-02-13T07:03:49.664072Z"
    },
    "papermill": {
     "duration": 536.830821,
     "end_time": "2022-02-22T02:51:53.748798",
     "exception": false,
     "start_time": "2022-02-22T02:42:56.917977",
     "status": "completed"
    },
    "tags": []
   },
   "outputs": [
    {
     "data": {
      "text/html": [
       "<div>\n",
       "<style scoped>\n",
       "    .dataframe tbody tr th:only-of-type {\n",
       "        vertical-align: middle;\n",
       "    }\n",
       "\n",
       "    .dataframe tbody tr th {\n",
       "        vertical-align: top;\n",
       "    }\n",
       "\n",
       "    .dataframe thead th {\n",
       "        text-align: right;\n",
       "    }\n",
       "</style>\n",
       "<table border=\"1\" class=\"dataframe\">\n",
       "  <thead>\n",
       "    <tr style=\"text-align: right;\">\n",
       "      <th></th>\n",
       "      <th>C parameter</th>\n",
       "      <th>Accuracy</th>\n",
       "    </tr>\n",
       "  </thead>\n",
       "  <tbody>\n",
       "    <tr>\n",
       "      <th>0</th>\n",
       "      <td>1</td>\n",
       "      <td>0.756477</td>\n",
       "    </tr>\n",
       "    <tr>\n",
       "      <th>1</th>\n",
       "      <td>2</td>\n",
       "      <td>0.761658</td>\n",
       "    </tr>\n",
       "    <tr>\n",
       "      <th>2</th>\n",
       "      <td>3</td>\n",
       "      <td>0.761658</td>\n",
       "    </tr>\n",
       "    <tr>\n",
       "      <th>3</th>\n",
       "      <td>4</td>\n",
       "      <td>0.766839</td>\n",
       "    </tr>\n",
       "    <tr>\n",
       "      <th>4</th>\n",
       "      <td>5</td>\n",
       "      <td>0.766839</td>\n",
       "    </tr>\n",
       "  </tbody>\n",
       "</table>\n",
       "</div>"
      ],
      "text/plain": [
       "   C parameter  Accuracy\n",
       "0            1  0.756477\n",
       "1            2  0.761658\n",
       "2            3  0.761658\n",
       "3            4  0.766839\n",
       "4            5  0.766839"
      ]
     },
     "execution_count": 61,
     "metadata": {},
     "output_type": "execute_result"
    }
   ],
   "source": [
    "from sklearn.svm import SVC\n",
    "from sklearn.pipeline import make_pipeline\n",
    "from sklearn.preprocessing import StandardScaler\n",
    "\n",
    "svm_class = []\n",
    "for i in range(1, 10):\n",
    "    clf = make_pipeline(StandardScaler(), SVC(C=i))\n",
    "    clf.fit(X_train, y_train)\n",
    "    y_pred = clf.predict(X_test)\n",
    "    svm_class.append([i, accuracy_score(y_test, y_pred)])\n",
    "svm_class = pd.DataFrame(svm_class, columns=[\"C parameter\", \"Accuracy\"])\n",
    "svm_class.head()"
   ]
  },
  {
   "cell_type": "code",
   "execution_count": 62,
   "id": "0a2571ef",
   "metadata": {
    "ExecuteTime": {
     "end_time": "2022-03-30T04:30:09.696420Z",
     "start_time": "2022-03-30T04:30:08.892012Z"
    },
    "execution": {
     "iopub.execute_input": "2022-02-22T02:51:53.913518Z",
     "iopub.status.busy": "2022-02-22T02:51:53.912981Z",
     "iopub.status.idle": "2022-02-22T02:51:53.915128Z",
     "shell.execute_reply": "2022-02-22T02:51:53.915536Z",
     "shell.execute_reply.started": "2022-02-13T07:18:49.734468Z"
    },
    "papermill": {
     "duration": 0.093567,
     "end_time": "2022-02-22T02:51:53.915691",
     "exception": false,
     "start_time": "2022-02-22T02:51:53.822124",
     "status": "completed"
    },
    "tags": []
   },
   "outputs": [
    {
     "data": {
      "image/png": "[encoded data removed]",
      "text/plain": [
       "alt.Chart(...)"
      ]
     },
     "execution_count": 62,
     "metadata": {},
     "output_type": "execute_result"
    }
   ],
   "source": [
    "alt.Chart(svm_class).mark_line().encode(\n",
    "    alt.X(\"C parameter\", scale=alt.Scale(zero=False)),\n",
    "    alt.Y(\"Accuracy\", scale=alt.Scale(zero=False))\n",
    ").properties(\n",
    "    title=\"ACCURACY VS C PARAMETER SVM\"\n",
    ")"
   ]
  },
  {
   "cell_type": "markdown",
   "id": "e2f01733",
   "metadata": {
    "papermill": {
     "duration": 0.047761,
     "end_time": "2022-02-22T02:51:54.011268",
     "exception": false,
     "start_time": "2022-02-22T02:51:53.963507",
     "status": "completed"
    },
    "tags": []
   },
   "source": [
    "Here, we see that the best C is 2"
   ]
  },
  {
   "cell_type": "markdown",
   "id": "cac46621",
   "metadata": {
    "papermill": {
     "duration": 0.047882,
     "end_time": "2022-02-22T02:51:54.108945",
     "exception": false,
     "start_time": "2022-02-22T02:51:54.061063",
     "status": "completed"
    },
    "tags": []
   },
   "source": [
    "## <span style=\"color:#7E9FB8;\">Training SVM and Obtaining Confusion Matrix </span>"
   ]
  },
  {
   "cell_type": "code",
   "execution_count": 63,
   "id": "0fa1ae46",
   "metadata": {
    "ExecuteTime": {
     "end_time": "2022-03-30T04:31:09.854218Z",
     "start_time": "2022-03-30T04:30:09.697417Z"
    },
    "execution": {
     "iopub.execute_input": "2022-02-22T02:51:54.210250Z",
     "iopub.status.busy": "2022-02-22T02:51:54.209561Z",
     "iopub.status.idle": "2022-02-22T02:52:54.600341Z",
     "shell.execute_reply": "2022-02-22T02:52:54.599889Z",
     "shell.execute_reply.started": "2022-02-13T18:32:14.735314Z"
    },
    "papermill": {
     "duration": 60.442811,
     "end_time": "2022-02-22T02:52:54.600472",
     "exception": false,
     "start_time": "2022-02-22T02:51:54.157661",
     "status": "completed"
    },
    "tags": []
   },
   "outputs": [
    {
     "data": {
      "text/plain": [
       "<sklearn.metrics._plot.confusion_matrix.ConfusionMatrixDisplay at 0x219bbd3ee50>"
      ]
     },
     "execution_count": 63,
     "metadata": {},
     "output_type": "execute_result"
    },
    {
     "data": {
      "image/png": "[encoded data removed]",
      "text/plain": [
       "<Figure size 432x288 with 2 Axes>"
      ]
     },
     "metadata": {
      "needs_background": "light"
     },
     "output_type": "display_data"
    }
   ],
   "source": [
    "svm_model = make_pipeline(StandardScaler(), SVC(C=2))\n",
    "\n",
    "# Fitting Model\n",
    "svm_model.fit(X_train, y_train)\n",
    "\n",
    "# Obtaining prediction\n",
    "y_pred_svm = svm_model.predict(X_test)\n",
    "\n",
    "# Getting the Confusion Matrix\n",
    "svm_conf_mat = confusion_matrix(y_test, y_pred_svm, labels=svm_model.classes_)\n",
    "ConfusionMatrixDisplay(svm_conf_mat, display_labels=svm_model.classes_).plot()"
   ]
  },
  {
   "cell_type": "markdown",
   "id": "044b202a",
   "metadata": {
    "papermill": {
     "duration": 0.04962,
     "end_time": "2022-02-22T02:52:54.700762",
     "exception": false,
     "start_time": "2022-02-22T02:52:54.651142",
     "status": "completed"
    },
    "tags": []
   },
   "source": [
    "## <span style=\"color:#7E9FB8;\"> SVM Observations </span>\n",
    "- The matrix shows that this model is just simply worse than the random forest model in any subtype classiffication "
   ]
  },
  {
   "cell_type": "markdown",
   "id": "5c944fa2",
   "metadata": {
    "papermill": {
     "duration": 0.050144,
     "end_time": "2022-02-22T02:52:54.800215",
     "exception": false,
     "start_time": "2022-02-22T02:52:54.750071",
     "status": "completed"
    },
    "tags": []
   },
   "source": [
    "<a id=\"9\"></a>\n",
    "# <span style=\"color:#1F618D;\">Logistic Regression Model</span>"
   ]
  },
  {
   "cell_type": "markdown",
   "id": "c71d2c9e",
   "metadata": {
    "papermill": {
     "duration": 0.049879,
     "end_time": "2022-02-22T02:52:54.900815",
     "exception": false,
     "start_time": "2022-02-22T02:52:54.850936",
     "status": "completed"
    },
    "tags": []
   },
   "source": [
    "## <span style=\"color:#7E9FB8;\"> Training Logistic Regression </span>"
   ]
  },
  {
   "cell_type": "code",
   "execution_count": 64,
   "id": "3d9f6d45",
   "metadata": {
    "ExecuteTime": {
     "end_time": "2022-03-30T04:36:25.684195Z",
     "start_time": "2022-03-30T04:31:09.856184Z"
    },
    "execution": {
     "iopub.execute_input": "2022-02-22T02:52:55.004220Z",
     "iopub.status.busy": "2022-02-22T02:52:55.003528Z",
     "iopub.status.idle": "2022-02-22T02:57:00.742416Z",
     "shell.execute_reply": "2022-02-22T02:57:00.743402Z",
     "shell.execute_reply.started": "2022-02-14T19:26:25.268949Z"
    },
    "papermill": {
     "duration": 245.792814,
     "end_time": "2022-02-22T02:57:00.743631",
     "exception": false,
     "start_time": "2022-02-22T02:52:54.950817",
     "status": "completed"
    },
    "tags": []
   },
   "outputs": [
    {
     "name": "stderr",
     "output_type": "stream",
     "text": [
      "C:\\Users\\blais\\AppData\\Local\\Packages\\PythonSoftwareFoundation.Python.3.9_qbz5n2kfra8p0\\LocalCache\\local-packages\\Python39\\site-packages\\sklearn\\linear_model\\_sag.py:352: ConvergenceWarning: The max_iter was reached which means the coef_ did not converge\n",
      "  warnings.warn(\n"
     ]
    },
    {
     "data": {
      "text/plain": [
       "0.8652849740932642"
      ]
     },
     "execution_count": 64,
     "metadata": {},
     "output_type": "execute_result"
    }
   ],
   "source": [
    "from sklearn.linear_model import LogisticRegression\n",
    "\n",
    "\n",
    "log_class = make_pipeline(StandardScaler(), LogisticRegression(\n",
    "    random_state=0, solver=\"saga\", max_iter=200))\n",
    "log_class.fit(X_train, y_train)\n",
    "log_class.score(X_test, y_test)"
   ]
  },
  {
   "cell_type": "markdown",
   "id": "aaf410a9",
   "metadata": {
    "papermill": {
     "duration": 0.079889,
     "end_time": "2022-02-22T02:57:00.916713",
     "exception": false,
     "start_time": "2022-02-22T02:57:00.836824",
     "status": "completed"
    },
    "tags": []
   },
   "source": [
    "## <span style=\"color:#7E9FB8;\">LogRegression Confusion Matrix<span>"
   ]
  },
  {
   "cell_type": "code",
   "execution_count": 65,
   "id": "f2770e75",
   "metadata": {
    "ExecuteTime": {
     "end_time": "2022-03-30T04:36:26.337960Z",
     "start_time": "2022-03-30T04:36:25.685193Z"
    },
    "execution": {
     "iopub.execute_input": "2022-02-22T02:57:01.077083Z",
     "iopub.status.busy": "2022-02-22T02:57:01.074729Z",
     "iopub.status.idle": "2022-02-22T02:57:01.799700Z",
     "shell.execute_reply": "2022-02-22T02:57:01.799106Z",
     "shell.execute_reply.started": "2022-02-14T19:31:45.428694Z"
    },
    "papermill": {
     "duration": 0.805358,
     "end_time": "2022-02-22T02:57:01.799877",
     "exception": false,
     "start_time": "2022-02-22T02:57:00.994519",
     "status": "completed"
    },
    "tags": []
   },
   "outputs": [
    {
     "data": {
      "text/plain": [
       "<sklearn.metrics._plot.confusion_matrix.ConfusionMatrixDisplay at 0x21922a27310>"
      ]
     },
     "execution_count": 65,
     "metadata": {},
     "output_type": "execute_result"
    },
    {
     "data": {
      "image/png": "[encoded data removed]",
      "text/plain": [
       "<Figure size 432x288 with 2 Axes>"
      ]
     },
     "metadata": {
      "needs_background": "light"
     },
     "output_type": "display_data"
    }
   ],
   "source": [
    "y_pred_log = log_class.predict(X_test)\n",
    "log_conf_mat = confusion_matrix(y_test, y_pred_log, labels=log_class.classes_)\n",
    "ConfusionMatrixDisplay(log_conf_mat, display_labels=log_class.classes_).plot()"
   ]
  },
  {
   "cell_type": "markdown",
   "id": "54e6358b",
   "metadata": {
    "papermill": {
     "duration": 0.052239,
     "end_time": "2022-02-22T02:57:01.903571",
     "exception": false,
     "start_time": "2022-02-22T02:57:01.851332",
     "status": "completed"
    },
    "tags": []
   },
   "source": [
    "## <span style=\"color:#7E9FB8;\">LogRegression Observation<span>\n",
    "- It performs second to Random Forest. \n",
    "- It also have a hard time classifying `BRCA_LumA` and `BRCA_lumB` and `BRCA_Normal`"
   ]
  },
  {
   "cell_type": "markdown",
   "id": "417e62eb",
   "metadata": {
    "papermill": {
     "duration": 0.051131,
     "end_time": "2022-02-22T02:57:02.006496",
     "exception": false,
     "start_time": "2022-02-22T02:57:01.955365",
     "status": "completed"
    },
    "tags": []
   },
   "source": [
    "<a id=\"10\"></a>\n",
    "# <span style=\"color:#1F618D;\">Ensembling The Models</span>"
   ]
  },
  {
   "cell_type": "code",
   "execution_count": 66,
   "id": "33284bec",
   "metadata": {
    "ExecuteTime": {
     "end_time": "2022-03-30T04:36:26.353918Z",
     "start_time": "2022-03-30T04:36:26.338958Z"
    },
    "execution": {
     "iopub.execute_input": "2022-02-22T02:57:02.118355Z",
     "iopub.status.busy": "2022-02-22T02:57:02.117513Z",
     "iopub.status.idle": "2022-02-22T02:57:02.119689Z",
     "shell.execute_reply": "2022-02-22T02:57:02.120070Z",
     "shell.execute_reply.started": "2022-02-13T07:42:30.138768Z"
    },
    "papermill": {
     "duration": 0.061792,
     "end_time": "2022-02-22T02:57:02.120237",
     "exception": false,
     "start_time": "2022-02-22T02:57:02.058445",
     "status": "completed"
    },
    "tags": []
   },
   "outputs": [],
   "source": [
    "from sklearn.ensemble import RandomForestClassifier\n",
    "from sklearn.ensemble import VotingClassifier\n",
    "from sklearn.neighbors import KNeighborsClassifier\n",
    "from sklearn.linear_model import LogisticRegression\n",
    "\n",
    "rf_clf = RandomForestClassifier(max_depth=10, random_state=0)\n",
    "svm_clf = make_pipeline(StandardScaler(), SVC(C=2))\n",
    "log_clf = make_pipeline(StandardScaler(), LogisticRegression(\n",
    "    random_state=0, solver=\"saga\", max_iter=200))\n",
    "\n",
    "ensembl_clf = VotingClassifier(\n",
    "    estimators=[(\"rf\", rf_clf), (\"log\", log_clf)],\n",
    "    voting=\"hard\"\n",
    ")"
   ]
  },
  {
   "cell_type": "code",
   "execution_count": 67,
   "id": "05a7c373",
   "metadata": {
    "ExecuteTime": {
     "end_time": "2022-03-30T04:41:25.416218Z",
     "start_time": "2022-03-30T04:36:26.354915Z"
    },
    "execution": {
     "iopub.execute_input": "2022-02-22T02:57:02.236876Z",
     "iopub.status.busy": "2022-02-22T02:57:02.227495Z",
     "iopub.status.idle": "2022-02-22T03:01:12.526030Z",
     "shell.execute_reply": "2022-02-22T03:01:12.525421Z",
     "shell.execute_reply.started": "2022-02-13T07:42:35.624822Z"
    },
    "papermill": {
     "duration": 250.353674,
     "end_time": "2022-02-22T03:01:12.526175",
     "exception": false,
     "start_time": "2022-02-22T02:57:02.172501",
     "status": "completed"
    },
    "tags": []
   },
   "outputs": [
    {
     "name": "stderr",
     "output_type": "stream",
     "text": [
      "C:\\Users\\blais\\AppData\\Local\\Packages\\PythonSoftwareFoundation.Python.3.9_qbz5n2kfra8p0\\LocalCache\\local-packages\\Python39\\site-packages\\sklearn\\linear_model\\_sag.py:352: ConvergenceWarning: The max_iter was reached which means the coef_ did not converge\n",
      "  warnings.warn(\n"
     ]
    },
    {
     "data": {
      "text/plain": [
       "VotingClassifier(estimators=[('rf',\n",
       "                              RandomForestClassifier(max_depth=10,\n",
       "                                                     random_state=0)),\n",
       "                             ('log',\n",
       "                              Pipeline(steps=[('standardscaler',\n",
       "                                               StandardScaler()),\n",
       "                                              ('logisticregression',\n",
       "                                               LogisticRegression(max_iter=200,\n",
       "                                                                  random_state=0,\n",
       "                                                                  solver='saga'))]))])"
      ]
     },
     "execution_count": 67,
     "metadata": {},
     "output_type": "execute_result"
    }
   ],
   "source": [
    "ensembl_clf.fit(X_train, y_train)"
   ]
  },
  {
   "cell_type": "code",
   "execution_count": 68,
   "id": "c419ad2b",
   "metadata": {
    "ExecuteTime": {
     "end_time": "2022-03-30T04:41:26.125800Z",
     "start_time": "2022-03-30T04:41:25.418212Z"
    },
    "execution": {
     "iopub.execute_input": "2022-02-22T03:01:12.687940Z",
     "iopub.status.busy": "2022-02-22T03:01:12.687252Z",
     "iopub.status.idle": "2022-02-22T03:01:13.501714Z",
     "shell.execute_reply": "2022-02-22T03:01:13.501255Z",
     "shell.execute_reply.started": "2022-02-13T07:48:05.110472Z"
    },
    "papermill": {
     "duration": 0.896471,
     "end_time": "2022-02-22T03:01:13.501841",
     "exception": false,
     "start_time": "2022-02-22T03:01:12.605370",
     "status": "completed"
    },
    "tags": []
   },
   "outputs": [
    {
     "data": {
      "text/plain": [
       "0.8601036269430051"
      ]
     },
     "execution_count": 68,
     "metadata": {},
     "output_type": "execute_result"
    }
   ],
   "source": [
    "ensembl_clf.score(X_test, y_test)"
   ]
  },
  {
   "cell_type": "markdown",
   "id": "eeadb393",
   "metadata": {
    "papermill": {
     "duration": 0.060329,
     "end_time": "2022-02-22T03:01:13.631183",
     "exception": false,
     "start_time": "2022-02-22T03:01:13.570854",
     "status": "completed"
    },
    "tags": []
   },
   "source": [
    "Unfortunately, even though the ensemble has a good accuracy rate, it does not outperform the best model, random forest"
   ]
  },
  {
   "cell_type": "markdown",
   "id": "ac977118",
   "metadata": {
    "papermill": {
     "duration": 0.079072,
     "end_time": "2022-02-22T03:01:13.762105",
     "exception": false,
     "start_time": "2022-02-22T03:01:13.683033",
     "status": "completed"
    },
    "tags": []
   },
   "source": [
    "<a id=\"11\"></a>\n",
    "# <span style=\"color:#1F618D;\">Comparison of the models</span>"
   ]
  },
  {
   "cell_type": "code",
   "execution_count": 69,
   "id": "00830019",
   "metadata": {
    "ExecuteTime": {
     "end_time": "2022-03-30T04:41:40.698914Z",
     "start_time": "2022-03-30T04:41:26.126769Z"
    },
    "execution": {
     "iopub.execute_input": "2022-02-22T03:01:13.934749Z",
     "iopub.status.busy": "2022-02-22T03:01:13.934107Z",
     "iopub.status.idle": "2022-02-22T03:01:24.167218Z",
     "shell.execute_reply": "2022-02-22T03:01:24.166533Z",
     "shell.execute_reply.started": "2022-02-13T08:05:09.553917Z"
    },
    "papermill": {
     "duration": 10.325881,
     "end_time": "2022-02-22T03:01:24.167373",
     "exception": false,
     "start_time": "2022-02-22T03:01:13.841492",
     "status": "completed"
    },
    "tags": []
   },
   "outputs": [
    {
     "data": {
      "text/html": [
       "<div>\n",
       "<style scoped>\n",
       "    .dataframe tbody tr th:only-of-type {\n",
       "        vertical-align: middle;\n",
       "    }\n",
       "\n",
       "    .dataframe tbody tr th {\n",
       "        vertical-align: top;\n",
       "    }\n",
       "\n",
       "    .dataframe thead th {\n",
       "        text-align: right;\n",
       "    }\n",
       "</style>\n",
       "<table border=\"1\" class=\"dataframe\">\n",
       "  <thead>\n",
       "    <tr style=\"text-align: right;\">\n",
       "      <th></th>\n",
       "      <th>Model</th>\n",
       "      <th>Accuracy</th>\n",
       "    </tr>\n",
       "  </thead>\n",
       "  <tbody>\n",
       "    <tr>\n",
       "      <th>0</th>\n",
       "      <td>Random Forest</td>\n",
       "      <td>0.860104</td>\n",
       "    </tr>\n",
       "    <tr>\n",
       "      <th>1</th>\n",
       "      <td>SVM</td>\n",
       "      <td>0.761658</td>\n",
       "    </tr>\n",
       "    <tr>\n",
       "      <th>2</th>\n",
       "      <td>Logistic</td>\n",
       "      <td>0.865285</td>\n",
       "    </tr>\n",
       "    <tr>\n",
       "      <th>3</th>\n",
       "      <td>Ensemble</td>\n",
       "      <td>0.860104</td>\n",
       "    </tr>\n",
       "  </tbody>\n",
       "</table>\n",
       "</div>"
      ],
      "text/plain": [
       "           Model  Accuracy\n",
       "0  Random Forest  0.860104\n",
       "1            SVM  0.761658\n",
       "2       Logistic  0.865285\n",
       "3       Ensemble  0.860104"
      ]
     },
     "execution_count": 69,
     "metadata": {},
     "output_type": "execute_result"
    }
   ],
   "source": [
    "model_scores = [rf_model.score(X_test, y_test),\n",
    "                svm_model.score(X_test, y_test),\n",
    "                log_class.score(X_test, y_test),\n",
    "                ensembl_clf.score(X_test, y_test)]\n",
    "models = pd.DataFrame({\"Model\": [\"Random Forest\", \"SVM\", \"Logistic\", \"Ensemble\"],\n",
    "                       \"Accuracy\": model_scores})\n",
    "models"
   ]
  },
  {
   "cell_type": "code",
   "execution_count": 70,
   "id": "e71cb745",
   "metadata": {
    "ExecuteTime": {
     "end_time": "2022-03-30T04:41:41.526182Z",
     "start_time": "2022-03-30T04:41:40.699880Z"
    },
    "execution": {
     "iopub.execute_input": "2022-02-22T03:01:24.473795Z",
     "iopub.status.busy": "2022-02-22T03:01:24.473015Z",
     "iopub.status.idle": "2022-02-22T03:01:24.500210Z",
     "shell.execute_reply": "2022-02-22T03:01:24.500782Z",
     "shell.execute_reply.started": "2022-02-13T08:05:28.926592Z"
    },
    "papermill": {
     "duration": 0.122302,
     "end_time": "2022-02-22T03:01:24.500965",
     "exception": false,
     "start_time": "2022-02-22T03:01:24.378663",
     "status": "completed"
    },
    "tags": []
   },
   "outputs": [
    {
     "data": {
      "image/png": "[encoded data removed]",
      "text/plain": [
       "alt.Chart(...)"
      ]
     },
     "execution_count": 70,
     "metadata": {},
     "output_type": "execute_result"
    }
   ],
   "source": [
    "alt.Chart(models).mark_bar().encode(\n",
    "    x=\"Model\",\n",
    "    y=\"Accuracy\",\n",
    "    color=\"Model\",\n",
    "    tooltip=[\"Model\", \"Accuracy\"]\n",
    ").properties(\n",
    "    title=\"Model Vs Accuracy\",\n",
    "    width=100,\n",
    "    height=200\n",
    ")"
   ]
  },
  {
   "cell_type": "markdown",
   "id": "665d8dca",
   "metadata": {
    "papermill": {
     "duration": 0.080549,
     "end_time": "2022-02-22T03:01:24.662317",
     "exception": false,
     "start_time": "2022-02-22T03:01:24.581768",
     "status": "completed"
    },
    "tags": []
   },
   "source": [
    "# Logistic Regression Won!!\n",
    "With a whooping 86.5% accuracy"
   ]
  },
  {
   "cell_type": "code",
   "execution_count": null,
   "id": "eb917456",
   "metadata": {},
   "outputs": [],
   "source": []
  }
 ],
 "metadata": {
  "kernelspec": {
   "display_name": "Python 3 (ipykernel)",
   "language": "python",
   "name": "python3"
  },
  "language_info": {
   "codemirror_mode": {
    "name": "ipython",
    "version": 3
   },
   "file_extension": ".py",
   "mimetype": "text/x-python",
   "name": "python",
   "nbconvert_exporter": "python",
   "pygments_lexer": "ipython3",
   "version": "3.9.12"
  },
  "papermill": {
   "default_parameters": {},
   "duration": 2842.953632,
   "end_time": "2022-02-22T03:01:25.565127",
   "environment_variables": {},
   "exception": null,
   "input_path": "__notebook__.ipynb",
   "output_path": "__notebook__.ipynb",
   "parameters": {},
   "start_time": "2022-02-22T02:14:02.611495",
   "version": "2.3.3"
  }
 },
 "nbformat": 4,
 "nbformat_minor": 5
}
