{
 "cells": [
  {
   "cell_type": "markdown",
   "id": "e12f52ea",
   "metadata": {
    "papermill": {
     "duration": 0.059978,
     "end_time": "2022-02-22T02:14:11.460703",
     "exception": false,
     "start_time": "2022-02-22T02:14:11.400725",
     "status": "completed"
    },
    "tags": []
   },
   "source": [
    "# _**<span style=\"color:#1F618D;\"> 🎓Breast Cancer Research🎓</span>**_\n",
    "\n",
    "<span style=\"color:#148F77;\">Author: Blaise Appolinary</span> [@Blaise](https://blaise-appolinary.netlify.app/)  \n",
    "\n",
    "*Last Updated: 30/01/22*\n",
    "******\n",
    "\n",
    "<a id=\"table-of-contents\"></a>\n",
    "# **<span style=\"color:#1F618D;\">📓 Table of Contents 📓</span>** \n",
    "- [1.😼 About author](#1)\n",
    "- [2. Background](#2)\n",
    "- [3. Objective](#3)\n",
    "- [4. Data Cleaning and Preview](#4)\n",
    "- [5. Machine Learning](#5)\n",
    "- [6. Random Forest](#6)\n",
    "- [7. K_Nearest_Neighbors](#7)\n",
    "- [8. Support Vector Machines](#8)\n",
    "- [9. Logistic Regression](#9)\n",
    "- [10.Ensembling](#10)\n",
    "- [11. Model Comparison](#11)\n",
    "\n",
    "\n",
    "******\n",
    "\n",
    "<a id=\"1\"></a>\n",
    "# <span style=\"color:#1F618D;\">😼 About author</span>\n",
    "My name is Blaise Appolinary, a Mathematics and Statistics student at the University of British Columbia. I love playing with datasets to gain insights from them.\n",
    "\n",
    "<a id=\"2\"></a>\n",
    "# <span style=\"color:#1F618D;\">Background</span>\n",
    "Breast cancer is the second leading cause of death from cancer among Canadian women. The probability of a woman getting breast cancer in their lifetime in Canada is ⅛ and the probability that a woman dies from this disease is 1/34 according to the Canadian Cancer Society. This fatal disease occurs when normal breast cells grow and divide uncontrollably. This disease has five main subtypes: Luminar A, Luminar B, Triple-negative, HER2-enriched and Normal-like. \n",
    "\n",
    "\n",
    "<a id=\"3\"></a>\n",
    "# <span style=\"color:#1F618D;\">Objective</span>\n",
    "Our objective is to use machine learning approaches to classify breast cancer subtypes and identify the genes that play significant roles in classification. A predictive model can help speed up the process of identifying the cancer subtypes using gene expression data and improving the treatment options.\n",
    "\n",
    "\n",
    "\n",
    "***If you like this notebook or find this notebook helpful, Please feel free to UPVOTE and/or leave a comment.***\n"
   ]
  },
  {
   "cell_type": "code",
   "execution_count": 1,
   "id": "514c286a",
   "metadata": {
    "execution": {
     "iopub.execute_input": "2022-02-22T02:14:11.543882Z",
     "iopub.status.busy": "2022-02-22T02:14:11.542959Z",
     "iopub.status.idle": "2022-02-22T02:14:11.814922Z",
     "shell.execute_reply": "2022-02-22T02:14:11.815402Z",
     "shell.execute_reply.started": "2022-02-22T02:10:42.647099Z"
    },
    "papermill": {
     "duration": 0.315823,
     "end_time": "2022-02-22T02:14:11.815726",
     "exception": false,
     "start_time": "2022-02-22T02:14:11.499903",
     "status": "completed"
    },
    "tags": []
   },
   "outputs": [],
   "source": [
    "import pandas as pd\n",
    "import altair as alt"
   ]
  },
  {
   "cell_type": "markdown",
   "id": "ce2ecae9",
   "metadata": {
    "papermill": {
     "duration": 0.037872,
     "end_time": "2022-02-22T02:14:11.891751",
     "exception": false,
     "start_time": "2022-02-22T02:14:11.853879",
     "status": "completed"
    },
    "tags": []
   },
   "source": [
    "\n",
    "<a id=\"4\"></a>\n",
    "# <span style=\"color:#1F618D;\">*Data Cleaning and preview*</span>\n"
   ]
  },
  {
   "cell_type": "code",
   "execution_count": 6,
   "id": "b0909973",
   "metadata": {
    "execution": {
     "iopub.execute_input": "2022-02-22T02:14:11.977102Z",
     "iopub.status.busy": "2022-02-22T02:14:11.976100Z",
     "iopub.status.idle": "2022-02-22T02:14:32.708190Z",
     "shell.execute_reply": "2022-02-22T02:14:32.707649Z",
     "shell.execute_reply.started": "2022-02-22T02:11:12.089714Z"
    },
    "papermill": {
     "duration": 20.777101,
     "end_time": "2022-02-22T02:14:32.708343",
     "exception": false,
     "start_time": "2022-02-22T02:14:11.931242",
     "status": "completed"
    },
    "tags": []
   },
   "outputs": [],
   "source": [
    "# READING IN GENETIC DATA\n",
    "data = pd.read_csv(\"data\\TCGA-BRCA.htseq_fpkm.tsv\", sep=\"\\t\")\n",
    "\n",
    "# READING CLINICAL DATA\n",
    "clinical = pd.read_csv(\"data\\clinical.tsv\", sep=\"\\t\")"
   ]
  },
  {
   "cell_type": "markdown",
   "id": "44d6dd74",
   "metadata": {
    "papermill": {
     "duration": 0.037471,
     "end_time": "2022-02-22T02:14:32.784104",
     "exception": false,
     "start_time": "2022-02-22T02:14:32.746633",
     "status": "completed"
    },
    "tags": []
   },
   "source": [
    "## <span style=\"color:#7E9FB8;\">Preview of genetic sequencing data<span>"
   ]
  },
  {
   "cell_type": "code",
   "execution_count": 7,
   "id": "ffea34cf",
   "metadata": {
    "execution": {
     "iopub.execute_input": "2022-02-22T02:14:32.869211Z",
     "iopub.status.busy": "2022-02-22T02:14:32.868409Z",
     "iopub.status.idle": "2022-02-22T02:14:32.895411Z",
     "shell.execute_reply": "2022-02-22T02:14:32.896037Z",
     "shell.execute_reply.started": "2022-02-22T02:11:26.272189Z"
    },
    "papermill": {
     "duration": 0.074213,
     "end_time": "2022-02-22T02:14:32.896233",
     "exception": false,
     "start_time": "2022-02-22T02:14:32.822020",
     "status": "completed"
    },
    "tags": []
   },
   "outputs": [
    {
     "data": {
      "text/html": [
       "<div>\n",
       "<style scoped>\n",
       "    .dataframe tbody tr th:only-of-type {\n",
       "        vertical-align: middle;\n",
       "    }\n",
       "\n",
       "    .dataframe tbody tr th {\n",
       "        vertical-align: top;\n",
       "    }\n",
       "\n",
       "    .dataframe thead th {\n",
       "        text-align: right;\n",
       "    }\n",
       "</style>\n",
       "<table border=\"1\" class=\"dataframe\">\n",
       "  <thead>\n",
       "    <tr style=\"text-align: right;\">\n",
       "      <th></th>\n",
       "      <th>Ensembl_ID</th>\n",
       "      <th>TCGA-E9-A1NI-01A</th>\n",
       "      <th>TCGA-A1-A0SP-01A</th>\n",
       "      <th>TCGA-BH-A1EU-11A</th>\n",
       "      <th>TCGA-A8-A06X-01A</th>\n",
       "      <th>TCGA-E2-A14T-01A</th>\n",
       "      <th>TCGA-AC-A8OS-01A</th>\n",
       "      <th>TCGA-A8-A09K-01A</th>\n",
       "      <th>TCGA-OL-A5RY-01A</th>\n",
       "      <th>TCGA-BH-A0DG-01A</th>\n",
       "      <th>...</th>\n",
       "      <th>TCGA-BH-A0DT-11A</th>\n",
       "      <th>TCGA-E9-A1R0-01A</th>\n",
       "      <th>TCGA-BH-A0B6-01A</th>\n",
       "      <th>TCGA-B6-A0RN-01A</th>\n",
       "      <th>TCGA-A8-A09W-01A</th>\n",
       "      <th>TCGA-EW-A1P3-01A</th>\n",
       "      <th>TCGA-A7-A13F-11A</th>\n",
       "      <th>TCGA-A2-A0T6-01A</th>\n",
       "      <th>TCGA-A7-A5ZW-01A</th>\n",
       "      <th>TCGA-BH-A203-01A</th>\n",
       "    </tr>\n",
       "  </thead>\n",
       "  <tbody>\n",
       "    <tr>\n",
       "      <th>0</th>\n",
       "      <td>ENSG00000242268.2</td>\n",
       "      <td>0.091708</td>\n",
       "      <td>0.000000</td>\n",
       "      <td>0.057899</td>\n",
       "      <td>0.000000</td>\n",
       "      <td>0.000000</td>\n",
       "      <td>0.354334</td>\n",
       "      <td>0.000000</td>\n",
       "      <td>0.000000</td>\n",
       "      <td>0.000000</td>\n",
       "      <td>...</td>\n",
       "      <td>0.234169</td>\n",
       "      <td>0.107850</td>\n",
       "      <td>0.000000</td>\n",
       "      <td>0.000000</td>\n",
       "      <td>0.000000</td>\n",
       "      <td>0.000000</td>\n",
       "      <td>0.471630</td>\n",
       "      <td>0.083825</td>\n",
       "      <td>0.000000</td>\n",
       "      <td>0.061585</td>\n",
       "    </tr>\n",
       "    <tr>\n",
       "      <th>1</th>\n",
       "      <td>ENSG00000270112.3</td>\n",
       "      <td>0.019573</td>\n",
       "      <td>0.004701</td>\n",
       "      <td>0.016302</td>\n",
       "      <td>0.000000</td>\n",
       "      <td>0.000000</td>\n",
       "      <td>0.000000</td>\n",
       "      <td>0.005787</td>\n",
       "      <td>0.000000</td>\n",
       "      <td>0.000000</td>\n",
       "      <td>...</td>\n",
       "      <td>0.000000</td>\n",
       "      <td>0.003879</td>\n",
       "      <td>0.010047</td>\n",
       "      <td>0.000000</td>\n",
       "      <td>0.010919</td>\n",
       "      <td>0.000000</td>\n",
       "      <td>0.000000</td>\n",
       "      <td>0.000000</td>\n",
       "      <td>0.005858</td>\n",
       "      <td>0.008704</td>\n",
       "    </tr>\n",
       "    <tr>\n",
       "      <th>2</th>\n",
       "      <td>ENSG00000167578.15</td>\n",
       "      <td>2.235898</td>\n",
       "      <td>1.863334</td>\n",
       "      <td>1.704753</td>\n",
       "      <td>1.947481</td>\n",
       "      <td>2.734690</td>\n",
       "      <td>2.397119</td>\n",
       "      <td>2.337327</td>\n",
       "      <td>2.256976</td>\n",
       "      <td>1.968791</td>\n",
       "      <td>...</td>\n",
       "      <td>1.928209</td>\n",
       "      <td>2.004722</td>\n",
       "      <td>2.971522</td>\n",
       "      <td>1.841232</td>\n",
       "      <td>1.185122</td>\n",
       "      <td>2.861514</td>\n",
       "      <td>1.626213</td>\n",
       "      <td>1.692995</td>\n",
       "      <td>2.051916</td>\n",
       "      <td>2.197365</td>\n",
       "    </tr>\n",
       "    <tr>\n",
       "      <th>3</th>\n",
       "      <td>ENSG00000273842.1</td>\n",
       "      <td>0.000000</td>\n",
       "      <td>0.000000</td>\n",
       "      <td>0.000000</td>\n",
       "      <td>0.000000</td>\n",
       "      <td>0.000000</td>\n",
       "      <td>0.000000</td>\n",
       "      <td>0.000000</td>\n",
       "      <td>0.000000</td>\n",
       "      <td>0.000000</td>\n",
       "      <td>...</td>\n",
       "      <td>0.000000</td>\n",
       "      <td>0.000000</td>\n",
       "      <td>0.000000</td>\n",
       "      <td>0.000000</td>\n",
       "      <td>0.000000</td>\n",
       "      <td>0.000000</td>\n",
       "      <td>0.000000</td>\n",
       "      <td>0.000000</td>\n",
       "      <td>0.000000</td>\n",
       "      <td>0.000000</td>\n",
       "    </tr>\n",
       "    <tr>\n",
       "      <th>4</th>\n",
       "      <td>ENSG00000078237.5</td>\n",
       "      <td>2.321945</td>\n",
       "      <td>4.226699</td>\n",
       "      <td>1.975755</td>\n",
       "      <td>2.808757</td>\n",
       "      <td>1.964479</td>\n",
       "      <td>1.792870</td>\n",
       "      <td>1.939951</td>\n",
       "      <td>2.681632</td>\n",
       "      <td>2.091932</td>\n",
       "      <td>...</td>\n",
       "      <td>2.024599</td>\n",
       "      <td>2.216023</td>\n",
       "      <td>2.124097</td>\n",
       "      <td>1.665709</td>\n",
       "      <td>2.217943</td>\n",
       "      <td>2.120565</td>\n",
       "      <td>1.605675</td>\n",
       "      <td>2.055448</td>\n",
       "      <td>2.195782</td>\n",
       "      <td>3.291072</td>\n",
       "    </tr>\n",
       "  </tbody>\n",
       "</table>\n",
       "<p>5 rows × 1218 columns</p>\n",
       "</div>"
      ],
      "text/plain": [
       "           Ensembl_ID  TCGA-E9-A1NI-01A  TCGA-A1-A0SP-01A  TCGA-BH-A1EU-11A  \\\n",
       "0   ENSG00000242268.2          0.091708          0.000000          0.057899   \n",
       "1   ENSG00000270112.3          0.019573          0.004701          0.016302   \n",
       "2  ENSG00000167578.15          2.235898          1.863334          1.704753   \n",
       "3   ENSG00000273842.1          0.000000          0.000000          0.000000   \n",
       "4   ENSG00000078237.5          2.321945          4.226699          1.975755   \n",
       "\n",
       "   TCGA-A8-A06X-01A  TCGA-E2-A14T-01A  TCGA-AC-A8OS-01A  TCGA-A8-A09K-01A  \\\n",
       "0          0.000000          0.000000          0.354334          0.000000   \n",
       "1          0.000000          0.000000          0.000000          0.005787   \n",
       "2          1.947481          2.734690          2.397119          2.337327   \n",
       "3          0.000000          0.000000          0.000000          0.000000   \n",
       "4          2.808757          1.964479          1.792870          1.939951   \n",
       "\n",
       "   TCGA-OL-A5RY-01A  TCGA-BH-A0DG-01A  ...  TCGA-BH-A0DT-11A  \\\n",
       "0          0.000000          0.000000  ...          0.234169   \n",
       "1          0.000000          0.000000  ...          0.000000   \n",
       "2          2.256976          1.968791  ...          1.928209   \n",
       "3          0.000000          0.000000  ...          0.000000   \n",
       "4          2.681632          2.091932  ...          2.024599   \n",
       "\n",
       "   TCGA-E9-A1R0-01A  TCGA-BH-A0B6-01A  TCGA-B6-A0RN-01A  TCGA-A8-A09W-01A  \\\n",
       "0          0.107850          0.000000          0.000000          0.000000   \n",
       "1          0.003879          0.010047          0.000000          0.010919   \n",
       "2          2.004722          2.971522          1.841232          1.185122   \n",
       "3          0.000000          0.000000          0.000000          0.000000   \n",
       "4          2.216023          2.124097          1.665709          2.217943   \n",
       "\n",
       "   TCGA-EW-A1P3-01A  TCGA-A7-A13F-11A  TCGA-A2-A0T6-01A  TCGA-A7-A5ZW-01A  \\\n",
       "0          0.000000          0.471630          0.083825          0.000000   \n",
       "1          0.000000          0.000000          0.000000          0.005858   \n",
       "2          2.861514          1.626213          1.692995          2.051916   \n",
       "3          0.000000          0.000000          0.000000          0.000000   \n",
       "4          2.120565          1.605675          2.055448          2.195782   \n",
       "\n",
       "   TCGA-BH-A203-01A  \n",
       "0          0.061585  \n",
       "1          0.008704  \n",
       "2          2.197365  \n",
       "3          0.000000  \n",
       "4          3.291072  \n",
       "\n",
       "[5 rows x 1218 columns]"
      ]
     },
     "execution_count": 7,
     "metadata": {},
     "output_type": "execute_result"
    }
   ],
   "source": [
    "data.head()"
   ]
  },
  {
   "cell_type": "markdown",
   "id": "732a17ee",
   "metadata": {
    "papermill": {
     "duration": 0.03911,
     "end_time": "2022-02-22T02:14:32.982510",
     "exception": false,
     "start_time": "2022-02-22T02:14:32.943400",
     "status": "completed"
    },
    "tags": []
   },
   "source": [
    "## <span style=\"color:#7E9FB8;\">Preview of Clinical Data<span>"
   ]
  },
  {
   "cell_type": "code",
   "execution_count": 8,
   "id": "0b2e2552",
   "metadata": {
    "execution": {
     "iopub.execute_input": "2022-02-22T02:14:33.073108Z",
     "iopub.status.busy": "2022-02-22T02:14:33.072086Z",
     "iopub.status.idle": "2022-02-22T02:14:33.076363Z",
     "shell.execute_reply": "2022-02-22T02:14:33.075702Z",
     "shell.execute_reply.started": "2022-02-22T02:11:26.308883Z"
    },
    "papermill": {
     "duration": 0.054992,
     "end_time": "2022-02-22T02:14:33.076515",
     "exception": false,
     "start_time": "2022-02-22T02:14:33.021523",
     "status": "completed"
    },
    "tags": []
   },
   "outputs": [
    {
     "data": {
      "text/html": [
       "<div>\n",
       "<style scoped>\n",
       "    .dataframe tbody tr th:only-of-type {\n",
       "        vertical-align: middle;\n",
       "    }\n",
       "\n",
       "    .dataframe tbody tr th {\n",
       "        vertical-align: top;\n",
       "    }\n",
       "\n",
       "    .dataframe thead th {\n",
       "        text-align: right;\n",
       "    }\n",
       "</style>\n",
       "<table border=\"1\" class=\"dataframe\">\n",
       "  <thead>\n",
       "    <tr style=\"text-align: right;\">\n",
       "      <th></th>\n",
       "      <th>Patient ID</th>\n",
       "      <th>Sample ID</th>\n",
       "      <th>Diagnosis Age</th>\n",
       "      <th>Cancer Type</th>\n",
       "      <th>Sex</th>\n",
       "      <th>Subtype</th>\n",
       "      <th>Tumor Type</th>\n",
       "    </tr>\n",
       "  </thead>\n",
       "  <tbody>\n",
       "    <tr>\n",
       "      <th>0</th>\n",
       "      <td>TCGA-3C-AAAU</td>\n",
       "      <td>TCGA-3C-AAAU-01</td>\n",
       "      <td>55</td>\n",
       "      <td>Invasive Breast Carcinoma</td>\n",
       "      <td>Female</td>\n",
       "      <td>BRCA_LumA</td>\n",
       "      <td>Infiltrating Lobular Carcinoma</td>\n",
       "    </tr>\n",
       "    <tr>\n",
       "      <th>1</th>\n",
       "      <td>TCGA-3C-AALI</td>\n",
       "      <td>TCGA-3C-AALI-01</td>\n",
       "      <td>50</td>\n",
       "      <td>Invasive Breast Carcinoma</td>\n",
       "      <td>Female</td>\n",
       "      <td>BRCA_Her2</td>\n",
       "      <td>Infiltrating Ductal Carcinoma</td>\n",
       "    </tr>\n",
       "    <tr>\n",
       "      <th>2</th>\n",
       "      <td>TCGA-3C-AALJ</td>\n",
       "      <td>TCGA-3C-AALJ-01</td>\n",
       "      <td>62</td>\n",
       "      <td>Invasive Breast Carcinoma</td>\n",
       "      <td>Female</td>\n",
       "      <td>BRCA_LumB</td>\n",
       "      <td>Infiltrating Ductal Carcinoma</td>\n",
       "    </tr>\n",
       "    <tr>\n",
       "      <th>3</th>\n",
       "      <td>TCGA-3C-AALK</td>\n",
       "      <td>TCGA-3C-AALK-01</td>\n",
       "      <td>52</td>\n",
       "      <td>Invasive Breast Carcinoma</td>\n",
       "      <td>Female</td>\n",
       "      <td>BRCA_LumA</td>\n",
       "      <td>Infiltrating Ductal Carcinoma</td>\n",
       "    </tr>\n",
       "    <tr>\n",
       "      <th>4</th>\n",
       "      <td>TCGA-4H-AAAK</td>\n",
       "      <td>TCGA-4H-AAAK-01</td>\n",
       "      <td>50</td>\n",
       "      <td>Invasive Breast Carcinoma</td>\n",
       "      <td>Female</td>\n",
       "      <td>BRCA_LumA</td>\n",
       "      <td>Infiltrating Lobular Carcinoma</td>\n",
       "    </tr>\n",
       "  </tbody>\n",
       "</table>\n",
       "</div>"
      ],
      "text/plain": [
       "     Patient ID        Sample ID  Diagnosis Age                Cancer Type  \\\n",
       "0  TCGA-3C-AAAU  TCGA-3C-AAAU-01             55  Invasive Breast Carcinoma   \n",
       "1  TCGA-3C-AALI  TCGA-3C-AALI-01             50  Invasive Breast Carcinoma   \n",
       "2  TCGA-3C-AALJ  TCGA-3C-AALJ-01             62  Invasive Breast Carcinoma   \n",
       "3  TCGA-3C-AALK  TCGA-3C-AALK-01             52  Invasive Breast Carcinoma   \n",
       "4  TCGA-4H-AAAK  TCGA-4H-AAAK-01             50  Invasive Breast Carcinoma   \n",
       "\n",
       "      Sex    Subtype                      Tumor Type  \n",
       "0  Female  BRCA_LumA  Infiltrating Lobular Carcinoma  \n",
       "1  Female  BRCA_Her2   Infiltrating Ductal Carcinoma  \n",
       "2  Female  BRCA_LumB   Infiltrating Ductal Carcinoma  \n",
       "3  Female  BRCA_LumA   Infiltrating Ductal Carcinoma  \n",
       "4  Female  BRCA_LumA  Infiltrating Lobular Carcinoma  "
      ]
     },
     "execution_count": 8,
     "metadata": {},
     "output_type": "execute_result"
    }
   ],
   "source": [
    "clinical.head()"
   ]
  },
  {
   "cell_type": "markdown",
   "id": "b614d63b",
   "metadata": {
    "papermill": {
     "duration": 0.06228,
     "end_time": "2022-02-22T02:14:33.200492",
     "exception": false,
     "start_time": "2022-02-22T02:14:33.138212",
     "status": "completed"
    },
    "tags": []
   },
   "source": [
    "## <span style=\"color:#7E9FB8;\">Counts of Samples per Subtype<span>"
   ]
  },
  {
   "cell_type": "code",
   "execution_count": 9,
   "id": "542e8181",
   "metadata": {
    "execution": {
     "iopub.execute_input": "2022-02-22T02:14:33.332394Z",
     "iopub.status.busy": "2022-02-22T02:14:33.331563Z",
     "iopub.status.idle": "2022-02-22T02:14:33.343934Z",
     "shell.execute_reply": "2022-02-22T02:14:33.344483Z",
     "shell.execute_reply.started": "2022-02-22T02:11:26.326228Z"
    },
    "papermill": {
     "duration": 0.082422,
     "end_time": "2022-02-22T02:14:33.344689",
     "exception": false,
     "start_time": "2022-02-22T02:14:33.262267",
     "status": "completed"
    },
    "tags": []
   },
   "outputs": [
    {
     "data": {
      "text/html": [
       "<div>\n",
       "<style scoped>\n",
       "    .dataframe tbody tr th:only-of-type {\n",
       "        vertical-align: middle;\n",
       "    }\n",
       "\n",
       "    .dataframe tbody tr th {\n",
       "        vertical-align: top;\n",
       "    }\n",
       "\n",
       "    .dataframe thead th {\n",
       "        text-align: right;\n",
       "    }\n",
       "</style>\n",
       "<table border=\"1\" class=\"dataframe\">\n",
       "  <thead>\n",
       "    <tr style=\"text-align: right;\">\n",
       "      <th></th>\n",
       "      <th>Subtype</th>\n",
       "      <th>Count</th>\n",
       "    </tr>\n",
       "  </thead>\n",
       "  <tbody>\n",
       "    <tr>\n",
       "      <th>0</th>\n",
       "      <td>BRCA_Basal</td>\n",
       "      <td>171</td>\n",
       "    </tr>\n",
       "    <tr>\n",
       "      <th>1</th>\n",
       "      <td>BRCA_Her2</td>\n",
       "      <td>78</td>\n",
       "    </tr>\n",
       "    <tr>\n",
       "      <th>2</th>\n",
       "      <td>BRCA_LumA</td>\n",
       "      <td>499</td>\n",
       "    </tr>\n",
       "    <tr>\n",
       "      <th>3</th>\n",
       "      <td>BRCA_LumB</td>\n",
       "      <td>197</td>\n",
       "    </tr>\n",
       "    <tr>\n",
       "      <th>4</th>\n",
       "      <td>BRCA_Normal</td>\n",
       "      <td>36</td>\n",
       "    </tr>\n",
       "  </tbody>\n",
       "</table>\n",
       "</div>"
      ],
      "text/plain": [
       "       Subtype  Count\n",
       "0   BRCA_Basal    171\n",
       "1    BRCA_Her2     78\n",
       "2    BRCA_LumA    499\n",
       "3    BRCA_LumB    197\n",
       "4  BRCA_Normal     36"
      ]
     },
     "execution_count": 9,
     "metadata": {},
     "output_type": "execute_result"
    }
   ],
   "source": [
    "clinical_summary= clinical.groupby(\"Subtype\").size().rename(\"Count\").reset_index()\n",
    "clinical_summary"
   ]
  },
  {
   "cell_type": "code",
   "execution_count": 6,
   "id": "37d71b02",
   "metadata": {
    "execution": {
     "iopub.execute_input": "2022-02-22T02:14:33.471424Z",
     "iopub.status.busy": "2022-02-22T02:14:33.470726Z",
     "iopub.status.idle": "2022-02-22T02:14:33.505360Z",
     "shell.execute_reply": "2022-02-22T02:14:33.505999Z",
     "shell.execute_reply.started": "2022-02-22T02:11:26.348411Z"
    },
    "papermill": {
     "duration": 0.100303,
     "end_time": "2022-02-22T02:14:33.506229",
     "exception": false,
     "start_time": "2022-02-22T02:14:33.405926",
     "status": "completed"
    },
    "tags": []
   },
   "outputs": [
    {
     "data": {
      "text/html": [
       "\n",
       "<div id=\"altair-viz-f32e1dec9e9c46b0958a0a0ba2f9ebc6\"></div>\n",
       "<script type=\"text/javascript\">\n",
       "  var VEGA_DEBUG = (typeof VEGA_DEBUG == \"undefined\") ? {} : VEGA_DEBUG;\n",
       "  (function(spec, embedOpt){\n",
       "    let outputDiv = document.currentScript.previousElementSibling;\n",
       "    if (outputDiv.id !== \"altair-viz-f32e1dec9e9c46b0958a0a0ba2f9ebc6\") {\n",
       "      outputDiv = document.getElementById(\"altair-viz-f32e1dec9e9c46b0958a0a0ba2f9ebc6\");\n",
       "    }\n",
       "    const paths = {\n",
       "      \"vega\": \"https://cdn.jsdelivr.net/npm//vega@5?noext\",\n",
       "      \"vega-lib\": \"https://cdn.jsdelivr.net/npm//vega-lib?noext\",\n",
       "      \"vega-lite\": \"https://cdn.jsdelivr.net/npm//vega-lite@4.17.0?noext\",\n",
       "      \"vega-embed\": \"https://cdn.jsdelivr.net/npm//vega-embed@6?noext\",\n",
       "    };\n",
       "\n",
       "    function maybeLoadScript(lib, version) {\n",
       "      var key = `${lib.replace(\"-\", \"\")}_version`;\n",
       "      return (VEGA_DEBUG[key] == version) ?\n",
       "        Promise.resolve(paths[lib]) :\n",
       "        new Promise(function(resolve, reject) {\n",
       "          var s = document.createElement('script');\n",
       "          document.getElementsByTagName(\"head\")[0].appendChild(s);\n",
       "          s.async = true;\n",
       "          s.onload = () => {\n",
       "            VEGA_DEBUG[key] = version;\n",
       "            return resolve(paths[lib]);\n",
       "          };\n",
       "          s.onerror = () => reject(`Error loading script: ${paths[lib]}`);\n",
       "          s.src = paths[lib];\n",
       "        });\n",
       "    }\n",
       "\n",
       "    function showError(err) {\n",
       "      outputDiv.innerHTML = `<div class=\"error\" style=\"color:red;\">${err}</div>`;\n",
       "      throw err;\n",
       "    }\n",
       "\n",
       "    function displayChart(vegaEmbed) {\n",
       "      vegaEmbed(outputDiv, spec, embedOpt)\n",
       "        .catch(err => showError(`Javascript Error: ${err.message}<br>This usually means there's a typo in your chart specification. See the javascript console for the full traceback.`));\n",
       "    }\n",
       "\n",
       "    if(typeof define === \"function\" && define.amd) {\n",
       "      requirejs.config({paths});\n",
       "      require([\"vega-embed\"], displayChart, err => showError(`Error loading script: ${err.message}`));\n",
       "    } else {\n",
       "      maybeLoadScript(\"vega\", \"5\")\n",
       "        .then(() => maybeLoadScript(\"vega-lite\", \"4.17.0\"))\n",
       "        .then(() => maybeLoadScript(\"vega-embed\", \"6\"))\n",
       "        .catch(showError)\n",
       "        .then(() => displayChart(vegaEmbed));\n",
       "    }\n",
       "  })({\"config\": {\"view\": {\"continuousWidth\": 400, \"continuousHeight\": 300}}, \"data\": {\"name\": \"data-c270c49258447c8f5ddab08e033d298b\"}, \"mark\": \"bar\", \"encoding\": {\"color\": {\"field\": \"Subtype\", \"type\": \"nominal\"}, \"tooltip\": [{\"field\": \"Subtype\", \"type\": \"nominal\"}, {\"field\": \"Count\", \"type\": \"quantitative\"}], \"x\": {\"field\": \"Subtype\", \"type\": \"nominal\"}, \"y\": {\"field\": \"Count\", \"type\": \"quantitative\"}}, \"height\": 300, \"title\": \"Number Of Samples per Subtype\", \"width\": 150, \"$schema\": \"https://vega.github.io/schema/vega-lite/v4.17.0.json\", \"datasets\": {\"data-c270c49258447c8f5ddab08e033d298b\": [{\"Subtype\": \"BRCA_Basal\", \"Count\": 171}, {\"Subtype\": \"BRCA_Her2\", \"Count\": 78}, {\"Subtype\": \"BRCA_LumA\", \"Count\": 499}, {\"Subtype\": \"BRCA_LumB\", \"Count\": 197}, {\"Subtype\": \"BRCA_Normal\", \"Count\": 36}]}}, {\"mode\": \"vega-lite\"});\n",
       "</script>"
      ],
      "text/plain": [
       "alt.Chart(...)"
      ]
     },
     "execution_count": 6,
     "metadata": {},
     "output_type": "execute_result"
    }
   ],
   "source": [
    "alt.Chart(clinical_summary).mark_bar().encode(\n",
    "    alt.X(\"Subtype\"),\n",
    "    alt.Y(\"Count\"),\n",
    "    color= \"Subtype\",\n",
    "    tooltip= [\"Subtype\", \"Count\"]\n",
    ").properties(\n",
    "    title=\"Number Of Samples per Subtype\",\n",
    "    width=150,\n",
    "    height=300\n",
    ")"
   ]
  },
  {
   "cell_type": "markdown",
   "id": "3c8c3c5b",
   "metadata": {
    "papermill": {
     "duration": 0.061107,
     "end_time": "2022-02-22T02:14:33.629610",
     "exception": false,
     "start_time": "2022-02-22T02:14:33.568503",
     "status": "completed"
    },
    "tags": []
   },
   "source": [
    "<a id=\"4\"></a>\n",
    "## <span style=\"color:#7E9FB8;\">*Transposing Genetic Sequencing Data*</span>\n",
    "\n",
    "In order to perform some modelling on the data, we need the genes as columns. The cell below transposes the data and previews the head of the dataset.\n",
    " "
   ]
  },
  {
   "cell_type": "code",
   "execution_count": 7,
   "id": "1708448a",
   "metadata": {
    "execution": {
     "iopub.execute_input": "2022-02-22T02:14:33.756597Z",
     "iopub.status.busy": "2022-02-22T02:14:33.755869Z",
     "iopub.status.idle": "2022-02-22T02:14:34.730779Z",
     "shell.execute_reply": "2022-02-22T02:14:34.731400Z",
     "shell.execute_reply.started": "2022-02-22T02:11:26.389791Z"
    },
    "papermill": {
     "duration": 1.040678,
     "end_time": "2022-02-22T02:14:34.731644",
     "exception": false,
     "start_time": "2022-02-22T02:14:33.690966",
     "status": "completed"
    },
    "tags": []
   },
   "outputs": [
    {
     "data": {
      "text/html": [
       "<div>\n",
       "<style scoped>\n",
       "    .dataframe tbody tr th:only-of-type {\n",
       "        vertical-align: middle;\n",
       "    }\n",
       "\n",
       "    .dataframe tbody tr th {\n",
       "        vertical-align: top;\n",
       "    }\n",
       "\n",
       "    .dataframe thead th {\n",
       "        text-align: right;\n",
       "    }\n",
       "</style>\n",
       "<table border=\"1\" class=\"dataframe\">\n",
       "  <thead>\n",
       "    <tr style=\"text-align: right;\">\n",
       "      <th></th>\n",
       "      <th>Ensembl_ID</th>\n",
       "      <th>ENSG00000242268.2</th>\n",
       "      <th>ENSG00000270112.3</th>\n",
       "      <th>ENSG00000167578.15</th>\n",
       "      <th>ENSG00000273842.1</th>\n",
       "      <th>ENSG00000078237.5</th>\n",
       "      <th>ENSG00000146083.10</th>\n",
       "      <th>ENSG00000225275.4</th>\n",
       "      <th>ENSG00000158486.12</th>\n",
       "      <th>ENSG00000198242.12</th>\n",
       "      <th>...</th>\n",
       "      <th>ENSG00000238244.3</th>\n",
       "      <th>ENSG00000186115.11</th>\n",
       "      <th>ENSG00000216352.1</th>\n",
       "      <th>ENSG00000267117.1</th>\n",
       "      <th>ENSG00000273233.1</th>\n",
       "      <th>ENSG00000105063.17</th>\n",
       "      <th>ENSG00000231119.2</th>\n",
       "      <th>ENSG00000280861.1</th>\n",
       "      <th>ENSG00000123685.7</th>\n",
       "      <th>ENSG00000181518.3</th>\n",
       "    </tr>\n",
       "  </thead>\n",
       "  <tbody>\n",
       "    <tr>\n",
       "      <th>0</th>\n",
       "      <td>TCGA-E9-A1NI-01A</td>\n",
       "      <td>2.136175</td>\n",
       "      <td>0.444602</td>\n",
       "      <td>120.772270</td>\n",
       "      <td>0.0</td>\n",
       "      <td>130.195003</td>\n",
       "      <td>367.648485</td>\n",
       "      <td>0.0</td>\n",
       "      <td>8.566831</td>\n",
       "      <td>6761.703735</td>\n",
       "      <td>...</td>\n",
       "      <td>0.0</td>\n",
       "      <td>1.689495</td>\n",
       "      <td>0.0</td>\n",
       "      <td>0.000000</td>\n",
       "      <td>0.00000</td>\n",
       "      <td>384.642854</td>\n",
       "      <td>7.126486</td>\n",
       "      <td>0.0</td>\n",
       "      <td>16.771294</td>\n",
       "      <td>0.0</td>\n",
       "    </tr>\n",
       "    <tr>\n",
       "      <th>1</th>\n",
       "      <td>TCGA-A1-A0SP-01A</td>\n",
       "      <td>0.000000</td>\n",
       "      <td>0.108543</td>\n",
       "      <td>87.749001</td>\n",
       "      <td>0.0</td>\n",
       "      <td>589.404468</td>\n",
       "      <td>355.229767</td>\n",
       "      <td>0.0</td>\n",
       "      <td>0.371266</td>\n",
       "      <td>3764.978655</td>\n",
       "      <td>...</td>\n",
       "      <td>0.0</td>\n",
       "      <td>0.000000</td>\n",
       "      <td>0.0</td>\n",
       "      <td>2.518887</td>\n",
       "      <td>1.30379</td>\n",
       "      <td>487.833301</td>\n",
       "      <td>2.763256</td>\n",
       "      <td>0.0</td>\n",
       "      <td>53.432799</td>\n",
       "      <td>0.0</td>\n",
       "    </tr>\n",
       "    <tr>\n",
       "      <th>2</th>\n",
       "      <td>TCGA-BH-A1EU-11A</td>\n",
       "      <td>1.366653</td>\n",
       "      <td>0.379255</td>\n",
       "      <td>75.417573</td>\n",
       "      <td>0.0</td>\n",
       "      <td>97.898995</td>\n",
       "      <td>318.183814</td>\n",
       "      <td>0.0</td>\n",
       "      <td>0.972918</td>\n",
       "      <td>4626.216499</td>\n",
       "      <td>...</td>\n",
       "      <td>0.0</td>\n",
       "      <td>0.926471</td>\n",
       "      <td>0.0</td>\n",
       "      <td>2.200280</td>\n",
       "      <td>0.00000</td>\n",
       "      <td>235.837396</td>\n",
       "      <td>10.191347</td>\n",
       "      <td>0.0</td>\n",
       "      <td>18.240508</td>\n",
       "      <td>0.0</td>\n",
       "    </tr>\n",
       "    <tr>\n",
       "      <th>3</th>\n",
       "      <td>TCGA-A8-A06X-01A</td>\n",
       "      <td>0.000000</td>\n",
       "      <td>0.000000</td>\n",
       "      <td>93.460292</td>\n",
       "      <td>0.0</td>\n",
       "      <td>196.498809</td>\n",
       "      <td>831.383749</td>\n",
       "      <td>0.0</td>\n",
       "      <td>0.053586</td>\n",
       "      <td>4979.030166</td>\n",
       "      <td>...</td>\n",
       "      <td>0.0</td>\n",
       "      <td>2.806509</td>\n",
       "      <td>0.0</td>\n",
       "      <td>0.000000</td>\n",
       "      <td>0.00000</td>\n",
       "      <td>512.670233</td>\n",
       "      <td>8.862807</td>\n",
       "      <td>0.0</td>\n",
       "      <td>10.341847</td>\n",
       "      <td>0.0</td>\n",
       "    </tr>\n",
       "    <tr>\n",
       "      <th>4</th>\n",
       "      <td>TCGA-E2-A14T-01A</td>\n",
       "      <td>0.000000</td>\n",
       "      <td>0.000000</td>\n",
       "      <td>188.027995</td>\n",
       "      <td>0.0</td>\n",
       "      <td>96.495171</td>\n",
       "      <td>420.292489</td>\n",
       "      <td>0.0</td>\n",
       "      <td>2.674759</td>\n",
       "      <td>6611.584463</td>\n",
       "      <td>...</td>\n",
       "      <td>0.0</td>\n",
       "      <td>0.000000</td>\n",
       "      <td>0.0</td>\n",
       "      <td>2.722067</td>\n",
       "      <td>0.00000</td>\n",
       "      <td>598.908985</td>\n",
       "      <td>1.548373</td>\n",
       "      <td>0.0</td>\n",
       "      <td>3.834774</td>\n",
       "      <td>0.0</td>\n",
       "    </tr>\n",
       "  </tbody>\n",
       "</table>\n",
       "<p>5 rows × 60484 columns</p>\n",
       "</div>"
      ],
      "text/plain": [
       "         Ensembl_ID  ENSG00000242268.2  ENSG00000270112.3  ENSG00000167578.15  \\\n",
       "0  TCGA-E9-A1NI-01A           2.136175           0.444602          120.772270   \n",
       "1  TCGA-A1-A0SP-01A           0.000000           0.108543           87.749001   \n",
       "2  TCGA-BH-A1EU-11A           1.366653           0.379255           75.417573   \n",
       "3  TCGA-A8-A06X-01A           0.000000           0.000000           93.460292   \n",
       "4  TCGA-E2-A14T-01A           0.000000           0.000000          188.027995   \n",
       "\n",
       "   ENSG00000273842.1  ENSG00000078237.5  ENSG00000146083.10  \\\n",
       "0                0.0         130.195003          367.648485   \n",
       "1                0.0         589.404468          355.229767   \n",
       "2                0.0          97.898995          318.183814   \n",
       "3                0.0         196.498809          831.383749   \n",
       "4                0.0          96.495171          420.292489   \n",
       "\n",
       "   ENSG00000225275.4  ENSG00000158486.12  ENSG00000198242.12  ...  \\\n",
       "0                0.0            8.566831         6761.703735  ...   \n",
       "1                0.0            0.371266         3764.978655  ...   \n",
       "2                0.0            0.972918         4626.216499  ...   \n",
       "3                0.0            0.053586         4979.030166  ...   \n",
       "4                0.0            2.674759         6611.584463  ...   \n",
       "\n",
       "   ENSG00000238244.3  ENSG00000186115.11  ENSG00000216352.1  \\\n",
       "0                0.0            1.689495                0.0   \n",
       "1                0.0            0.000000                0.0   \n",
       "2                0.0            0.926471                0.0   \n",
       "3                0.0            2.806509                0.0   \n",
       "4                0.0            0.000000                0.0   \n",
       "\n",
       "   ENSG00000267117.1  ENSG00000273233.1  ENSG00000105063.17  \\\n",
       "0           0.000000            0.00000          384.642854   \n",
       "1           2.518887            1.30379          487.833301   \n",
       "2           2.200280            0.00000          235.837396   \n",
       "3           0.000000            0.00000          512.670233   \n",
       "4           2.722067            0.00000          598.908985   \n",
       "\n",
       "   ENSG00000231119.2  ENSG00000280861.1  ENSG00000123685.7  ENSG00000181518.3  \n",
       "0           7.126486                0.0          16.771294                0.0  \n",
       "1           2.763256                0.0          53.432799                0.0  \n",
       "2          10.191347                0.0          18.240508                0.0  \n",
       "3           8.862807                0.0          10.341847                0.0  \n",
       "4           1.548373                0.0           3.834774                0.0  \n",
       "\n",
       "[5 rows x 60484 columns]"
      ]
     },
     "execution_count": 7,
     "metadata": {},
     "output_type": "execute_result"
    }
   ],
   "source": [
    "transposed = data.set_index(\n",
    "    'Ensembl_ID').T.reset_index().rename_axis(None,axis=1).rename(columns= {\"index\":\"Ensembl_ID\"})\n",
    "transposed.head()\n"
   ]
  },
  {
   "cell_type": "markdown",
   "id": "5cad588d",
   "metadata": {
    "papermill": {
     "duration": 0.062496,
     "end_time": "2022-02-22T02:14:34.857556",
     "exception": false,
     "start_time": "2022-02-22T02:14:34.795060",
     "status": "completed"
    },
    "tags": []
   },
   "source": [
    "## <span style=\"color:#7E9FB8;\">Cleaning Up Clinical Data</span>\n",
    "The following were performed on the clinical data in the following cell to prepare it for Merging with the genetic sequencing data\n",
    "- renamed `Sample ID` to `Ensemble_Id`\n",
    "- Added \"A\" at the end of the string in the `Ensembl_ID` column"
   ]
  },
  {
   "cell_type": "code",
   "execution_count": 8,
   "id": "eeaf3c83",
   "metadata": {
    "execution": {
     "iopub.execute_input": "2022-02-22T02:14:34.987534Z",
     "iopub.status.busy": "2022-02-22T02:14:34.986807Z",
     "iopub.status.idle": "2022-02-22T02:14:34.998434Z",
     "shell.execute_reply": "2022-02-22T02:14:34.999040Z",
     "shell.execute_reply.started": "2022-02-22T02:11:27.511526Z"
    },
    "papermill": {
     "duration": 0.078961,
     "end_time": "2022-02-22T02:14:34.999237",
     "exception": false,
     "start_time": "2022-02-22T02:14:34.920276",
     "status": "completed"
    },
    "tags": []
   },
   "outputs": [
    {
     "data": {
      "text/html": [
       "<div>\n",
       "<style scoped>\n",
       "    .dataframe tbody tr th:only-of-type {\n",
       "        vertical-align: middle;\n",
       "    }\n",
       "\n",
       "    .dataframe tbody tr th {\n",
       "        vertical-align: top;\n",
       "    }\n",
       "\n",
       "    .dataframe thead th {\n",
       "        text-align: right;\n",
       "    }\n",
       "</style>\n",
       "<table border=\"1\" class=\"dataframe\">\n",
       "  <thead>\n",
       "    <tr style=\"text-align: right;\">\n",
       "      <th></th>\n",
       "      <th>Patient ID</th>\n",
       "      <th>Ensembl_ID</th>\n",
       "      <th>Diagnosis Age</th>\n",
       "      <th>Cancer Type</th>\n",
       "      <th>Sex</th>\n",
       "      <th>Subtype</th>\n",
       "      <th>Tumor Type</th>\n",
       "    </tr>\n",
       "  </thead>\n",
       "  <tbody>\n",
       "    <tr>\n",
       "      <th>0</th>\n",
       "      <td>TCGA-3C-AAAU</td>\n",
       "      <td>TCGA-3C-AAAU-01A</td>\n",
       "      <td>55</td>\n",
       "      <td>Invasive Breast Carcinoma</td>\n",
       "      <td>Female</td>\n",
       "      <td>BRCA_LumA</td>\n",
       "      <td>Infiltrating Lobular Carcinoma</td>\n",
       "    </tr>\n",
       "    <tr>\n",
       "      <th>1</th>\n",
       "      <td>TCGA-3C-AALI</td>\n",
       "      <td>TCGA-3C-AALI-01A</td>\n",
       "      <td>50</td>\n",
       "      <td>Invasive Breast Carcinoma</td>\n",
       "      <td>Female</td>\n",
       "      <td>BRCA_Her2</td>\n",
       "      <td>Infiltrating Ductal Carcinoma</td>\n",
       "    </tr>\n",
       "    <tr>\n",
       "      <th>2</th>\n",
       "      <td>TCGA-3C-AALJ</td>\n",
       "      <td>TCGA-3C-AALJ-01A</td>\n",
       "      <td>62</td>\n",
       "      <td>Invasive Breast Carcinoma</td>\n",
       "      <td>Female</td>\n",
       "      <td>BRCA_LumB</td>\n",
       "      <td>Infiltrating Ductal Carcinoma</td>\n",
       "    </tr>\n",
       "    <tr>\n",
       "      <th>3</th>\n",
       "      <td>TCGA-3C-AALK</td>\n",
       "      <td>TCGA-3C-AALK-01A</td>\n",
       "      <td>52</td>\n",
       "      <td>Invasive Breast Carcinoma</td>\n",
       "      <td>Female</td>\n",
       "      <td>BRCA_LumA</td>\n",
       "      <td>Infiltrating Ductal Carcinoma</td>\n",
       "    </tr>\n",
       "    <tr>\n",
       "      <th>4</th>\n",
       "      <td>TCGA-4H-AAAK</td>\n",
       "      <td>TCGA-4H-AAAK-01A</td>\n",
       "      <td>50</td>\n",
       "      <td>Invasive Breast Carcinoma</td>\n",
       "      <td>Female</td>\n",
       "      <td>BRCA_LumA</td>\n",
       "      <td>Infiltrating Lobular Carcinoma</td>\n",
       "    </tr>\n",
       "  </tbody>\n",
       "</table>\n",
       "</div>"
      ],
      "text/plain": [
       "     Patient ID        Ensembl_ID  Diagnosis Age                Cancer Type  \\\n",
       "0  TCGA-3C-AAAU  TCGA-3C-AAAU-01A             55  Invasive Breast Carcinoma   \n",
       "1  TCGA-3C-AALI  TCGA-3C-AALI-01A             50  Invasive Breast Carcinoma   \n",
       "2  TCGA-3C-AALJ  TCGA-3C-AALJ-01A             62  Invasive Breast Carcinoma   \n",
       "3  TCGA-3C-AALK  TCGA-3C-AALK-01A             52  Invasive Breast Carcinoma   \n",
       "4  TCGA-4H-AAAK  TCGA-4H-AAAK-01A             50  Invasive Breast Carcinoma   \n",
       "\n",
       "      Sex    Subtype                      Tumor Type  \n",
       "0  Female  BRCA_LumA  Infiltrating Lobular Carcinoma  \n",
       "1  Female  BRCA_Her2   Infiltrating Ductal Carcinoma  \n",
       "2  Female  BRCA_LumB   Infiltrating Ductal Carcinoma  \n",
       "3  Female  BRCA_LumA   Infiltrating Ductal Carcinoma  \n",
       "4  Female  BRCA_LumA  Infiltrating Lobular Carcinoma  "
      ]
     },
     "execution_count": 8,
     "metadata": {},
     "output_type": "execute_result"
    }
   ],
   "source": [
    "clinical= clinical.rename(columns={\"Sample ID\": \"Ensembl_ID\"})\n",
    "clinical.Ensembl_ID+=\"A\"\n",
    "clinical.head()"
   ]
  },
  {
   "cell_type": "markdown",
   "id": "3d9371c6",
   "metadata": {
    "papermill": {
     "duration": 0.041184,
     "end_time": "2022-02-22T02:14:35.103095",
     "exception": false,
     "start_time": "2022-02-22T02:14:35.061911",
     "status": "completed"
    },
    "tags": []
   },
   "source": [
    "## <span style=\"color:#7E9FB8;\">Merging Clinical Data With Gene Expression Data</span>"
   ]
  },
  {
   "cell_type": "code",
   "execution_count": 9,
   "id": "d5b4b7d9",
   "metadata": {
    "execution": {
     "iopub.execute_input": "2022-02-22T02:14:35.188107Z",
     "iopub.status.busy": "2022-02-22T02:14:35.187448Z",
     "iopub.status.idle": "2022-02-22T02:14:35.481538Z",
     "shell.execute_reply": "2022-02-22T02:14:35.480909Z",
     "shell.execute_reply.started": "2022-02-22T02:11:27.528640Z"
    },
    "papermill": {
     "duration": 0.337626,
     "end_time": "2022-02-22T02:14:35.481720",
     "exception": false,
     "start_time": "2022-02-22T02:14:35.144094",
     "status": "completed"
    },
    "tags": []
   },
   "outputs": [
    {
     "data": {
      "text/html": [
       "<div>\n",
       "<style scoped>\n",
       "    .dataframe tbody tr th:only-of-type {\n",
       "        vertical-align: middle;\n",
       "    }\n",
       "\n",
       "    .dataframe tbody tr th {\n",
       "        vertical-align: top;\n",
       "    }\n",
       "\n",
       "    .dataframe thead th {\n",
       "        text-align: right;\n",
       "    }\n",
       "</style>\n",
       "<table border=\"1\" class=\"dataframe\">\n",
       "  <thead>\n",
       "    <tr style=\"text-align: right;\">\n",
       "      <th></th>\n",
       "      <th>Ensembl_ID</th>\n",
       "      <th>ENSG00000242268.2</th>\n",
       "      <th>ENSG00000270112.3</th>\n",
       "      <th>ENSG00000167578.15</th>\n",
       "      <th>ENSG00000273842.1</th>\n",
       "      <th>ENSG00000078237.5</th>\n",
       "      <th>ENSG00000146083.10</th>\n",
       "      <th>ENSG00000225275.4</th>\n",
       "      <th>ENSG00000158486.12</th>\n",
       "      <th>ENSG00000198242.12</th>\n",
       "      <th>...</th>\n",
       "      <th>ENSG00000231119.2</th>\n",
       "      <th>ENSG00000280861.1</th>\n",
       "      <th>ENSG00000123685.7</th>\n",
       "      <th>ENSG00000181518.3</th>\n",
       "      <th>Patient ID</th>\n",
       "      <th>Diagnosis Age</th>\n",
       "      <th>Cancer Type</th>\n",
       "      <th>Sex</th>\n",
       "      <th>Subtype</th>\n",
       "      <th>Tumor Type</th>\n",
       "    </tr>\n",
       "  </thead>\n",
       "  <tbody>\n",
       "    <tr>\n",
       "      <th>0</th>\n",
       "      <td>TCGA-E9-A1NI-01A</td>\n",
       "      <td>2.136175</td>\n",
       "      <td>0.444602</td>\n",
       "      <td>120.772270</td>\n",
       "      <td>0.0</td>\n",
       "      <td>130.195003</td>\n",
       "      <td>367.648485</td>\n",
       "      <td>0.0</td>\n",
       "      <td>8.566831</td>\n",
       "      <td>6761.703735</td>\n",
       "      <td>...</td>\n",
       "      <td>7.126486</td>\n",
       "      <td>0.0</td>\n",
       "      <td>16.771294</td>\n",
       "      <td>0.0</td>\n",
       "      <td>TCGA-E9-A1NI</td>\n",
       "      <td>51</td>\n",
       "      <td>Invasive Breast Carcinoma</td>\n",
       "      <td>Female</td>\n",
       "      <td>BRCA_LumB</td>\n",
       "      <td>Mixed Histology (NOS)</td>\n",
       "    </tr>\n",
       "    <tr>\n",
       "      <th>1</th>\n",
       "      <td>TCGA-A1-A0SP-01A</td>\n",
       "      <td>0.000000</td>\n",
       "      <td>0.108543</td>\n",
       "      <td>87.749001</td>\n",
       "      <td>0.0</td>\n",
       "      <td>589.404468</td>\n",
       "      <td>355.229767</td>\n",
       "      <td>0.0</td>\n",
       "      <td>0.371266</td>\n",
       "      <td>3764.978655</td>\n",
       "      <td>...</td>\n",
       "      <td>2.763256</td>\n",
       "      <td>0.0</td>\n",
       "      <td>53.432799</td>\n",
       "      <td>0.0</td>\n",
       "      <td>TCGA-A1-A0SP</td>\n",
       "      <td>40</td>\n",
       "      <td>Invasive Breast Carcinoma</td>\n",
       "      <td>Female</td>\n",
       "      <td>BRCA_Basal</td>\n",
       "      <td>Infiltrating Ductal Carcinoma</td>\n",
       "    </tr>\n",
       "    <tr>\n",
       "      <th>2</th>\n",
       "      <td>TCGA-A8-A06X-01A</td>\n",
       "      <td>0.000000</td>\n",
       "      <td>0.000000</td>\n",
       "      <td>93.460292</td>\n",
       "      <td>0.0</td>\n",
       "      <td>196.498809</td>\n",
       "      <td>831.383749</td>\n",
       "      <td>0.0</td>\n",
       "      <td>0.053586</td>\n",
       "      <td>4979.030166</td>\n",
       "      <td>...</td>\n",
       "      <td>8.862807</td>\n",
       "      <td>0.0</td>\n",
       "      <td>10.341847</td>\n",
       "      <td>0.0</td>\n",
       "      <td>TCGA-A8-A06X</td>\n",
       "      <td>77</td>\n",
       "      <td>Invasive Breast Carcinoma</td>\n",
       "      <td>Female</td>\n",
       "      <td>BRCA_LumB</td>\n",
       "      <td>Infiltrating Ductal Carcinoma</td>\n",
       "    </tr>\n",
       "    <tr>\n",
       "      <th>3</th>\n",
       "      <td>TCGA-E2-A14T-01A</td>\n",
       "      <td>0.000000</td>\n",
       "      <td>0.000000</td>\n",
       "      <td>188.027995</td>\n",
       "      <td>0.0</td>\n",
       "      <td>96.495171</td>\n",
       "      <td>420.292489</td>\n",
       "      <td>0.0</td>\n",
       "      <td>2.674759</td>\n",
       "      <td>6611.584463</td>\n",
       "      <td>...</td>\n",
       "      <td>1.548373</td>\n",
       "      <td>0.0</td>\n",
       "      <td>3.834774</td>\n",
       "      <td>0.0</td>\n",
       "      <td>TCGA-E2-A14T</td>\n",
       "      <td>52</td>\n",
       "      <td>Invasive Breast Carcinoma</td>\n",
       "      <td>Female</td>\n",
       "      <td>BRCA_LumA</td>\n",
       "      <td>Infiltrating Ductal Carcinoma</td>\n",
       "    </tr>\n",
       "    <tr>\n",
       "      <th>4</th>\n",
       "      <td>TCGA-AC-A8OS-01A</td>\n",
       "      <td>8.460189</td>\n",
       "      <td>0.000000</td>\n",
       "      <td>129.685657</td>\n",
       "      <td>0.0</td>\n",
       "      <td>74.910318</td>\n",
       "      <td>327.080490</td>\n",
       "      <td>0.0</td>\n",
       "      <td>0.803039</td>\n",
       "      <td>2672.826689</td>\n",
       "      <td>...</td>\n",
       "      <td>23.907401</td>\n",
       "      <td>0.0</td>\n",
       "      <td>17.712450</td>\n",
       "      <td>0.0</td>\n",
       "      <td>TCGA-AC-A8OS</td>\n",
       "      <td>71</td>\n",
       "      <td>Invasive Breast Carcinoma</td>\n",
       "      <td>Female</td>\n",
       "      <td>BRCA_LumA</td>\n",
       "      <td>Infiltrating Lobular Carcinoma</td>\n",
       "    </tr>\n",
       "  </tbody>\n",
       "</table>\n",
       "<p>5 rows × 60490 columns</p>\n",
       "</div>"
      ],
      "text/plain": [
       "         Ensembl_ID  ENSG00000242268.2  ENSG00000270112.3  ENSG00000167578.15  \\\n",
       "0  TCGA-E9-A1NI-01A           2.136175           0.444602          120.772270   \n",
       "1  TCGA-A1-A0SP-01A           0.000000           0.108543           87.749001   \n",
       "2  TCGA-A8-A06X-01A           0.000000           0.000000           93.460292   \n",
       "3  TCGA-E2-A14T-01A           0.000000           0.000000          188.027995   \n",
       "4  TCGA-AC-A8OS-01A           8.460189           0.000000          129.685657   \n",
       "\n",
       "   ENSG00000273842.1  ENSG00000078237.5  ENSG00000146083.10  \\\n",
       "0                0.0         130.195003          367.648485   \n",
       "1                0.0         589.404468          355.229767   \n",
       "2                0.0         196.498809          831.383749   \n",
       "3                0.0          96.495171          420.292489   \n",
       "4                0.0          74.910318          327.080490   \n",
       "\n",
       "   ENSG00000225275.4  ENSG00000158486.12  ENSG00000198242.12  ...  \\\n",
       "0                0.0            8.566831         6761.703735  ...   \n",
       "1                0.0            0.371266         3764.978655  ...   \n",
       "2                0.0            0.053586         4979.030166  ...   \n",
       "3                0.0            2.674759         6611.584463  ...   \n",
       "4                0.0            0.803039         2672.826689  ...   \n",
       "\n",
       "   ENSG00000231119.2  ENSG00000280861.1  ENSG00000123685.7  ENSG00000181518.3  \\\n",
       "0           7.126486                0.0          16.771294                0.0   \n",
       "1           2.763256                0.0          53.432799                0.0   \n",
       "2           8.862807                0.0          10.341847                0.0   \n",
       "3           1.548373                0.0           3.834774                0.0   \n",
       "4          23.907401                0.0          17.712450                0.0   \n",
       "\n",
       "     Patient ID  Diagnosis Age                Cancer Type     Sex     Subtype  \\\n",
       "0  TCGA-E9-A1NI             51  Invasive Breast Carcinoma  Female   BRCA_LumB   \n",
       "1  TCGA-A1-A0SP             40  Invasive Breast Carcinoma  Female  BRCA_Basal   \n",
       "2  TCGA-A8-A06X             77  Invasive Breast Carcinoma  Female   BRCA_LumB   \n",
       "3  TCGA-E2-A14T             52  Invasive Breast Carcinoma  Female   BRCA_LumA   \n",
       "4  TCGA-AC-A8OS             71  Invasive Breast Carcinoma  Female   BRCA_LumA   \n",
       "\n",
       "                       Tumor Type  \n",
       "0           Mixed Histology (NOS)  \n",
       "1   Infiltrating Ductal Carcinoma  \n",
       "2   Infiltrating Ductal Carcinoma  \n",
       "3   Infiltrating Ductal Carcinoma  \n",
       "4  Infiltrating Lobular Carcinoma  \n",
       "\n",
       "[5 rows x 60490 columns]"
      ]
     },
     "execution_count": 9,
     "metadata": {},
     "output_type": "execute_result"
    }
   ],
   "source": [
    "# MERGING CLINICAL DATA AND GENE EXPRESSION DATA\n",
    "final_data = pd.merge(transposed,\n",
    "    clinical,\n",
    "    how=\"inner\",\n",
    "    on=\"Ensembl_ID\")\n",
    "final_data.head()"
   ]
  },
  {
   "cell_type": "markdown",
   "id": "ebfd8c87",
   "metadata": {
    "papermill": {
     "duration": 0.065072,
     "end_time": "2022-02-22T02:14:35.612370",
     "exception": false,
     "start_time": "2022-02-22T02:14:35.547298",
     "status": "completed"
    },
    "tags": []
   },
   "source": [
    "## <span style=\"color:#7E9FB8;\">Keeping Only The Subtype And The Gene Expression Data</span>"
   ]
  },
  {
   "cell_type": "code",
   "execution_count": 10,
   "id": "9b779375",
   "metadata": {
    "execution": {
     "iopub.execute_input": "2022-02-22T02:14:35.746184Z",
     "iopub.status.busy": "2022-02-22T02:14:35.745373Z",
     "iopub.status.idle": "2022-02-22T02:14:37.075647Z",
     "shell.execute_reply": "2022-02-22T02:14:37.076259Z",
     "shell.execute_reply.started": "2022-02-22T02:11:27.765727Z"
    },
    "papermill": {
     "duration": 1.399233,
     "end_time": "2022-02-22T02:14:37.076447",
     "exception": false,
     "start_time": "2022-02-22T02:14:35.677214",
     "status": "completed"
    },
    "scrolled": true,
    "tags": []
   },
   "outputs": [
    {
     "data": {
      "text/html": [
       "<div>\n",
       "<style scoped>\n",
       "    .dataframe tbody tr th:only-of-type {\n",
       "        vertical-align: middle;\n",
       "    }\n",
       "\n",
       "    .dataframe tbody tr th {\n",
       "        vertical-align: top;\n",
       "    }\n",
       "\n",
       "    .dataframe thead th {\n",
       "        text-align: right;\n",
       "    }\n",
       "</style>\n",
       "<table border=\"1\" class=\"dataframe\">\n",
       "  <thead>\n",
       "    <tr style=\"text-align: right;\">\n",
       "      <th></th>\n",
       "      <th>Subtype</th>\n",
       "      <th>ENSG00000242268.2</th>\n",
       "      <th>ENSG00000270112.3</th>\n",
       "      <th>ENSG00000167578.15</th>\n",
       "      <th>ENSG00000273842.1</th>\n",
       "      <th>ENSG00000078237.5</th>\n",
       "      <th>ENSG00000146083.10</th>\n",
       "      <th>ENSG00000225275.4</th>\n",
       "      <th>ENSG00000158486.12</th>\n",
       "      <th>ENSG00000198242.12</th>\n",
       "      <th>...</th>\n",
       "      <th>ENSG00000238244.3</th>\n",
       "      <th>ENSG00000186115.11</th>\n",
       "      <th>ENSG00000216352.1</th>\n",
       "      <th>ENSG00000267117.1</th>\n",
       "      <th>ENSG00000273233.1</th>\n",
       "      <th>ENSG00000105063.17</th>\n",
       "      <th>ENSG00000231119.2</th>\n",
       "      <th>ENSG00000280861.1</th>\n",
       "      <th>ENSG00000123685.7</th>\n",
       "      <th>ENSG00000181518.3</th>\n",
       "    </tr>\n",
       "  </thead>\n",
       "  <tbody>\n",
       "    <tr>\n",
       "      <th>0</th>\n",
       "      <td>BRCA_LumB</td>\n",
       "      <td>2.136175</td>\n",
       "      <td>0.444602</td>\n",
       "      <td>120.772270</td>\n",
       "      <td>0.0</td>\n",
       "      <td>130.195003</td>\n",
       "      <td>367.648485</td>\n",
       "      <td>0.0</td>\n",
       "      <td>8.566831</td>\n",
       "      <td>6761.703735</td>\n",
       "      <td>...</td>\n",
       "      <td>0.0</td>\n",
       "      <td>1.689495</td>\n",
       "      <td>0.0</td>\n",
       "      <td>0.000000</td>\n",
       "      <td>0.000000</td>\n",
       "      <td>384.642854</td>\n",
       "      <td>7.126486</td>\n",
       "      <td>0.0</td>\n",
       "      <td>16.771294</td>\n",
       "      <td>0.0</td>\n",
       "    </tr>\n",
       "    <tr>\n",
       "      <th>1</th>\n",
       "      <td>BRCA_Basal</td>\n",
       "      <td>0.000000</td>\n",
       "      <td>0.108543</td>\n",
       "      <td>87.749001</td>\n",
       "      <td>0.0</td>\n",
       "      <td>589.404468</td>\n",
       "      <td>355.229767</td>\n",
       "      <td>0.0</td>\n",
       "      <td>0.371266</td>\n",
       "      <td>3764.978655</td>\n",
       "      <td>...</td>\n",
       "      <td>0.0</td>\n",
       "      <td>0.000000</td>\n",
       "      <td>0.0</td>\n",
       "      <td>2.518887</td>\n",
       "      <td>1.303790</td>\n",
       "      <td>487.833301</td>\n",
       "      <td>2.763256</td>\n",
       "      <td>0.0</td>\n",
       "      <td>53.432799</td>\n",
       "      <td>0.0</td>\n",
       "    </tr>\n",
       "    <tr>\n",
       "      <th>2</th>\n",
       "      <td>BRCA_LumB</td>\n",
       "      <td>0.000000</td>\n",
       "      <td>0.000000</td>\n",
       "      <td>93.460292</td>\n",
       "      <td>0.0</td>\n",
       "      <td>196.498809</td>\n",
       "      <td>831.383749</td>\n",
       "      <td>0.0</td>\n",
       "      <td>0.053586</td>\n",
       "      <td>4979.030166</td>\n",
       "      <td>...</td>\n",
       "      <td>0.0</td>\n",
       "      <td>2.806509</td>\n",
       "      <td>0.0</td>\n",
       "      <td>0.000000</td>\n",
       "      <td>0.000000</td>\n",
       "      <td>512.670233</td>\n",
       "      <td>8.862807</td>\n",
       "      <td>0.0</td>\n",
       "      <td>10.341847</td>\n",
       "      <td>0.0</td>\n",
       "    </tr>\n",
       "    <tr>\n",
       "      <th>3</th>\n",
       "      <td>BRCA_LumA</td>\n",
       "      <td>0.000000</td>\n",
       "      <td>0.000000</td>\n",
       "      <td>188.027995</td>\n",
       "      <td>0.0</td>\n",
       "      <td>96.495171</td>\n",
       "      <td>420.292489</td>\n",
       "      <td>0.0</td>\n",
       "      <td>2.674759</td>\n",
       "      <td>6611.584463</td>\n",
       "      <td>...</td>\n",
       "      <td>0.0</td>\n",
       "      <td>0.000000</td>\n",
       "      <td>0.0</td>\n",
       "      <td>2.722067</td>\n",
       "      <td>0.000000</td>\n",
       "      <td>598.908985</td>\n",
       "      <td>1.548373</td>\n",
       "      <td>0.0</td>\n",
       "      <td>3.834774</td>\n",
       "      <td>0.0</td>\n",
       "    </tr>\n",
       "    <tr>\n",
       "      <th>4</th>\n",
       "      <td>BRCA_LumA</td>\n",
       "      <td>8.460189</td>\n",
       "      <td>0.000000</td>\n",
       "      <td>129.685657</td>\n",
       "      <td>0.0</td>\n",
       "      <td>74.910318</td>\n",
       "      <td>327.080490</td>\n",
       "      <td>0.0</td>\n",
       "      <td>0.803039</td>\n",
       "      <td>2672.826689</td>\n",
       "      <td>...</td>\n",
       "      <td>0.0</td>\n",
       "      <td>1.338229</td>\n",
       "      <td>0.0</td>\n",
       "      <td>14.982784</td>\n",
       "      <td>1.410032</td>\n",
       "      <td>434.696691</td>\n",
       "      <td>23.907401</td>\n",
       "      <td>0.0</td>\n",
       "      <td>17.712450</td>\n",
       "      <td>0.0</td>\n",
       "    </tr>\n",
       "  </tbody>\n",
       "</table>\n",
       "<p>5 rows × 60484 columns</p>\n",
       "</div>"
      ],
      "text/plain": [
       "      Subtype  ENSG00000242268.2  ENSG00000270112.3  ENSG00000167578.15  \\\n",
       "0   BRCA_LumB           2.136175           0.444602          120.772270   \n",
       "1  BRCA_Basal           0.000000           0.108543           87.749001   \n",
       "2   BRCA_LumB           0.000000           0.000000           93.460292   \n",
       "3   BRCA_LumA           0.000000           0.000000          188.027995   \n",
       "4   BRCA_LumA           8.460189           0.000000          129.685657   \n",
       "\n",
       "   ENSG00000273842.1  ENSG00000078237.5  ENSG00000146083.10  \\\n",
       "0                0.0         130.195003          367.648485   \n",
       "1                0.0         589.404468          355.229767   \n",
       "2                0.0         196.498809          831.383749   \n",
       "3                0.0          96.495171          420.292489   \n",
       "4                0.0          74.910318          327.080490   \n",
       "\n",
       "   ENSG00000225275.4  ENSG00000158486.12  ENSG00000198242.12  ...  \\\n",
       "0                0.0            8.566831         6761.703735  ...   \n",
       "1                0.0            0.371266         3764.978655  ...   \n",
       "2                0.0            0.053586         4979.030166  ...   \n",
       "3                0.0            2.674759         6611.584463  ...   \n",
       "4                0.0            0.803039         2672.826689  ...   \n",
       "\n",
       "   ENSG00000238244.3  ENSG00000186115.11  ENSG00000216352.1  \\\n",
       "0                0.0            1.689495                0.0   \n",
       "1                0.0            0.000000                0.0   \n",
       "2                0.0            2.806509                0.0   \n",
       "3                0.0            0.000000                0.0   \n",
       "4                0.0            1.338229                0.0   \n",
       "\n",
       "   ENSG00000267117.1  ENSG00000273233.1  ENSG00000105063.17  \\\n",
       "0           0.000000           0.000000          384.642854   \n",
       "1           2.518887           1.303790          487.833301   \n",
       "2           0.000000           0.000000          512.670233   \n",
       "3           2.722067           0.000000          598.908985   \n",
       "4          14.982784           1.410032          434.696691   \n",
       "\n",
       "   ENSG00000231119.2  ENSG00000280861.1  ENSG00000123685.7  ENSG00000181518.3  \n",
       "0           7.126486                0.0          16.771294                0.0  \n",
       "1           2.763256                0.0          53.432799                0.0  \n",
       "2           8.862807                0.0          10.341847                0.0  \n",
       "3           1.548373                0.0           3.834774                0.0  \n",
       "4          23.907401                0.0          17.712450                0.0  \n",
       "\n",
       "[5 rows x 60484 columns]"
      ]
     },
     "execution_count": 10,
     "metadata": {},
     "output_type": "execute_result"
    }
   ],
   "source": [
    "df = final_data.drop(columns=[\"Ensembl_ID\", \"Patient ID\", \n",
    "                              \"Diagnosis Age\",\"Cancer Type\",\n",
    "                              \"Sex\", \"Tumor Type\"]).set_index(\"Subtype\").reset_index().dropna()\n",
    "df.head()"
   ]
  },
  {
   "cell_type": "markdown",
   "id": "40703aaf",
   "metadata": {
    "papermill": {
     "duration": 0.065336,
     "end_time": "2022-02-22T02:14:37.207512",
     "exception": false,
     "start_time": "2022-02-22T02:14:37.142176",
     "status": "completed"
    },
    "tags": []
   },
   "source": [
    "## <span style=\"color:#7E9FB8;\">Subtype Samples Counts of The Final Cleaned Dataset</span>"
   ]
  },
  {
   "cell_type": "code",
   "execution_count": 11,
   "id": "70f7c75b",
   "metadata": {
    "execution": {
     "iopub.execute_input": "2022-02-22T02:14:37.340899Z",
     "iopub.status.busy": "2022-02-22T02:14:37.340213Z",
     "iopub.status.idle": "2022-02-22T02:14:37.352016Z",
     "shell.execute_reply": "2022-02-22T02:14:37.351402Z",
     "shell.execute_reply.started": "2022-02-22T02:11:28.910725Z"
    },
    "papermill": {
     "duration": 0.079673,
     "end_time": "2022-02-22T02:14:37.352146",
     "exception": false,
     "start_time": "2022-02-22T02:14:37.272473",
     "status": "completed"
    },
    "tags": []
   },
   "outputs": [
    {
     "data": {
      "text/html": [
       "<div>\n",
       "<style scoped>\n",
       "    .dataframe tbody tr th:only-of-type {\n",
       "        vertical-align: middle;\n",
       "    }\n",
       "\n",
       "    .dataframe tbody tr th {\n",
       "        vertical-align: top;\n",
       "    }\n",
       "\n",
       "    .dataframe thead th {\n",
       "        text-align: right;\n",
       "    }\n",
       "</style>\n",
       "<table border=\"1\" class=\"dataframe\">\n",
       "  <thead>\n",
       "    <tr style=\"text-align: right;\">\n",
       "      <th></th>\n",
       "      <th>Subtype</th>\n",
       "      <th>Count</th>\n",
       "    </tr>\n",
       "  </thead>\n",
       "  <tbody>\n",
       "    <tr>\n",
       "      <th>0</th>\n",
       "      <td>BRCA_Basal</td>\n",
       "      <td>168</td>\n",
       "    </tr>\n",
       "    <tr>\n",
       "      <th>1</th>\n",
       "      <td>BRCA_Her2</td>\n",
       "      <td>77</td>\n",
       "    </tr>\n",
       "    <tr>\n",
       "      <th>2</th>\n",
       "      <td>BRCA_LumA</td>\n",
       "      <td>490</td>\n",
       "    </tr>\n",
       "    <tr>\n",
       "      <th>3</th>\n",
       "      <td>BRCA_LumB</td>\n",
       "      <td>192</td>\n",
       "    </tr>\n",
       "    <tr>\n",
       "      <th>4</th>\n",
       "      <td>BRCA_Normal</td>\n",
       "      <td>35</td>\n",
       "    </tr>\n",
       "  </tbody>\n",
       "</table>\n",
       "</div>"
      ],
      "text/plain": [
       "       Subtype  Count\n",
       "0   BRCA_Basal    168\n",
       "1    BRCA_Her2     77\n",
       "2    BRCA_LumA    490\n",
       "3    BRCA_LumB    192\n",
       "4  BRCA_Normal     35"
      ]
     },
     "execution_count": 11,
     "metadata": {},
     "output_type": "execute_result"
    }
   ],
   "source": [
    "df.groupby(\"Subtype\").size().reset_index().rename(columns={0:\"Count\"})"
   ]
  },
  {
   "cell_type": "code",
   "execution_count": 12,
   "id": "040c0dfa",
   "metadata": {
    "execution": {
     "iopub.execute_input": "2022-02-22T02:14:37.457823Z",
     "iopub.status.busy": "2022-02-22T02:14:37.457115Z",
     "iopub.status.idle": "2022-02-22T02:14:37.476387Z",
     "shell.execute_reply": "2022-02-22T02:14:37.476876Z",
     "shell.execute_reply.started": "2022-02-22T02:11:32.835589Z"
    },
    "papermill": {
     "duration": 0.082921,
     "end_time": "2022-02-22T02:14:37.477032",
     "exception": false,
     "start_time": "2022-02-22T02:14:37.394111",
     "status": "completed"
    },
    "tags": []
   },
   "outputs": [
    {
     "data": {
      "text/html": [
       "\n",
       "<div id=\"altair-viz-b7ed8a0ab44e4401ba10d55fb74ca021\"></div>\n",
       "<script type=\"text/javascript\">\n",
       "  var VEGA_DEBUG = (typeof VEGA_DEBUG == \"undefined\") ? {} : VEGA_DEBUG;\n",
       "  (function(spec, embedOpt){\n",
       "    let outputDiv = document.currentScript.previousElementSibling;\n",
       "    if (outputDiv.id !== \"altair-viz-b7ed8a0ab44e4401ba10d55fb74ca021\") {\n",
       "      outputDiv = document.getElementById(\"altair-viz-b7ed8a0ab44e4401ba10d55fb74ca021\");\n",
       "    }\n",
       "    const paths = {\n",
       "      \"vega\": \"https://cdn.jsdelivr.net/npm//vega@5?noext\",\n",
       "      \"vega-lib\": \"https://cdn.jsdelivr.net/npm//vega-lib?noext\",\n",
       "      \"vega-lite\": \"https://cdn.jsdelivr.net/npm//vega-lite@4.17.0?noext\",\n",
       "      \"vega-embed\": \"https://cdn.jsdelivr.net/npm//vega-embed@6?noext\",\n",
       "    };\n",
       "\n",
       "    function maybeLoadScript(lib, version) {\n",
       "      var key = `${lib.replace(\"-\", \"\")}_version`;\n",
       "      return (VEGA_DEBUG[key] == version) ?\n",
       "        Promise.resolve(paths[lib]) :\n",
       "        new Promise(function(resolve, reject) {\n",
       "          var s = document.createElement('script');\n",
       "          document.getElementsByTagName(\"head\")[0].appendChild(s);\n",
       "          s.async = true;\n",
       "          s.onload = () => {\n",
       "            VEGA_DEBUG[key] = version;\n",
       "            return resolve(paths[lib]);\n",
       "          };\n",
       "          s.onerror = () => reject(`Error loading script: ${paths[lib]}`);\n",
       "          s.src = paths[lib];\n",
       "        });\n",
       "    }\n",
       "\n",
       "    function showError(err) {\n",
       "      outputDiv.innerHTML = `<div class=\"error\" style=\"color:red;\">${err}</div>`;\n",
       "      throw err;\n",
       "    }\n",
       "\n",
       "    function displayChart(vegaEmbed) {\n",
       "      vegaEmbed(outputDiv, spec, embedOpt)\n",
       "        .catch(err => showError(`Javascript Error: ${err.message}<br>This usually means there's a typo in your chart specification. See the javascript console for the full traceback.`));\n",
       "    }\n",
       "\n",
       "    if(typeof define === \"function\" && define.amd) {\n",
       "      requirejs.config({paths});\n",
       "      require([\"vega-embed\"], displayChart, err => showError(`Error loading script: ${err.message}`));\n",
       "    } else {\n",
       "      maybeLoadScript(\"vega\", \"5\")\n",
       "        .then(() => maybeLoadScript(\"vega-lite\", \"4.17.0\"))\n",
       "        .then(() => maybeLoadScript(\"vega-embed\", \"6\"))\n",
       "        .catch(showError)\n",
       "        .then(() => displayChart(vegaEmbed));\n",
       "    }\n",
       "  })({\"config\": {\"view\": {\"continuousWidth\": 400, \"continuousHeight\": 300}}, \"data\": {\"name\": \"data-e79911a36f7acaea95cb80bcad47b677\"}, \"facet\": {\"field\": \"Subtype\", \"type\": \"nominal\"}, \"spec\": {\"mark\": \"circle\", \"encoding\": {\"color\": {\"field\": \"Subtype\", \"type\": \"nominal\"}, \"size\": {\"field\": \"gene_one\", \"type\": \"quantitative\"}, \"x\": {\"field\": \"gene_one\", \"scale\": {\"zero\": false}, \"type\": \"quantitative\"}, \"y\": {\"field\": \"gene_two\", \"scale\": {\"zero\": false}, \"type\": \"quantitative\"}}}, \"columns\": 2, \"$schema\": \"https://vega.github.io/schema/vega-lite/v4.17.0.json\", \"datasets\": {\"data-e79911a36f7acaea95cb80bcad47b677\": [{\"Subtype\": \"BRCA_LumB\", \"gene_one\": 2.13617462420351, \"gene_two\": 0.444601519402384}, {\"Subtype\": \"BRCA_Basal\", \"gene_one\": 0.0, \"gene_two\": 0.108542993399039}, {\"Subtype\": \"BRCA_LumB\", \"gene_one\": 0.0, \"gene_two\": 0.0}, {\"Subtype\": \"BRCA_LumA\", \"gene_one\": 0.0, \"gene_two\": 0.0}, {\"Subtype\": \"BRCA_LumA\", \"gene_one\": 8.46018943421628, \"gene_two\": 0.0}, {\"Subtype\": \"BRCA_Normal\", \"gene_one\": 0.0, \"gene_two\": 0.0}, {\"Subtype\": \"BRCA_LumA\", \"gene_one\": 0.0, \"gene_two\": 0.0}, {\"Subtype\": \"BRCA_Her2\", \"gene_one\": 0.712196488687683, \"gene_two\": 0.691736671637986}, {\"Subtype\": \"BRCA_LumA\", \"gene_one\": 2.29601088463049, \"gene_two\": 0.159289400829331}, {\"Subtype\": \"BRCA_LumA\", \"gene_one\": 0.0, \"gene_two\": 0.0895303529400215}, {\"Subtype\": \"BRCA_LumA\", \"gene_one\": 0.8712257197596, \"gene_two\": 0.0}, {\"Subtype\": \"BRCA_LumA\", \"gene_one\": 0.0, \"gene_two\": 0.0858320142381189}, {\"Subtype\": \"BRCA_LumA\", \"gene_one\": 0.0, \"gene_two\": 0.135483356692997}, {\"Subtype\": \"BRCA_LumA\", \"gene_one\": 5.5852372494491, \"gene_two\": 0.309987762135512}, {\"Subtype\": \"BRCA_Basal\", \"gene_one\": 0.0, \"gene_two\": 0.199829570185679}, {\"Subtype\": \"BRCA_Basal\", \"gene_one\": 0.0, \"gene_two\": 0.103231152019513}, {\"Subtype\": \"BRCA_LumB\", \"gene_one\": 0.0, \"gene_two\": 0.187302310294547}, {\"Subtype\": \"BRCA_LumA\", \"gene_one\": 0.722673268319463, \"gene_two\": 0.0}, {\"Subtype\": \"BRCA_Basal\", \"gene_one\": 0.0, \"gene_two\": 0.0}, {\"Subtype\": \"BRCA_LumA\", \"gene_one\": 0.0, \"gene_two\": 0.0}, {\"Subtype\": \"BRCA_LumA\", \"gene_one\": 4.15914910120976, \"gene_two\": 0.115419029191639}, {\"Subtype\": \"BRCA_LumA\", \"gene_one\": 3.85842721521044, \"gene_two\": 0.267684514637391}, {\"Subtype\": \"BRCA_Basal\", \"gene_one\": 0.0, \"gene_two\": 0.0}, {\"Subtype\": \"BRCA_LumA\", \"gene_one\": 0.0, \"gene_two\": 0.265455744366007}, {\"Subtype\": \"BRCA_LumB\", \"gene_one\": 0.0, \"gene_two\": 0.0}, {\"Subtype\": \"BRCA_LumA\", \"gene_one\": 0.985307701697971, \"gene_two\": 0.273429145282423}, {\"Subtype\": \"BRCA_LumA\", \"gene_one\": 0.0, \"gene_two\": 0.0}, {\"Subtype\": \"BRCA_Basal\", \"gene_one\": 0.0, \"gene_two\": 0.236386430846007}, {\"Subtype\": \"BRCA_LumA\", \"gene_one\": 3.27858156253683, \"gene_two\": 0.303275735704898}, {\"Subtype\": \"BRCA_Basal\", \"gene_one\": 3.92418122211858, \"gene_two\": 0.108898521309848}, {\"Subtype\": \"BRCA_LumA\", \"gene_one\": 0.747099173687231, \"gene_two\": 0.310987148710613}, {\"Subtype\": \"BRCA_LumB\", \"gene_one\": 0.0, \"gene_two\": 0.274865713891529}, {\"Subtype\": \"BRCA_Basal\", \"gene_one\": 0.0, \"gene_two\": 0.174481992803951}, {\"Subtype\": \"BRCA_LumA\", \"gene_one\": 0.0, \"gene_two\": 0.116245014137037}, {\"Subtype\": \"BRCA_Basal\", \"gene_one\": 0.0, \"gene_two\": 0.118997120580739}, {\"Subtype\": \"BRCA_LumA\", \"gene_one\": 0.0, \"gene_two\": 0.0}, {\"Subtype\": \"BRCA_Basal\", \"gene_one\": 0.289089876441024, \"gene_two\": 0.763003049596553}, {\"Subtype\": \"BRCA_LumA\", \"gene_one\": 0.0, \"gene_two\": 0.0}, {\"Subtype\": \"BRCA_Basal\", \"gene_one\": 0.0, \"gene_two\": 0.0}, {\"Subtype\": \"BRCA_Basal\", \"gene_one\": 0.0, \"gene_two\": 0.0}, {\"Subtype\": \"BRCA_LumA\", \"gene_one\": 0.930842662287697, \"gene_two\": 0.0}, {\"Subtype\": \"BRCA_Basal\", \"gene_one\": 0.72856166379922, \"gene_two\": 0.101090244537278}, {\"Subtype\": \"BRCA_LumB\", \"gene_one\": 0.0, \"gene_two\": 0.0}, {\"Subtype\": \"BRCA_Basal\", \"gene_one\": 0.0, \"gene_two\": 0.0}, {\"Subtype\": \"BRCA_Basal\", \"gene_one\": 0.0, \"gene_two\": 0.0}, {\"Subtype\": \"BRCA_LumB\", \"gene_one\": 0.0, \"gene_two\": 0.399878410427898}, {\"Subtype\": \"BRCA_LumB\", \"gene_one\": 0.0, \"gene_two\": 0.365264246552157}, {\"Subtype\": \"BRCA_LumA\", \"gene_one\": 0.575318234201545, \"gene_two\": 0.159654464053996}, {\"Subtype\": \"BRCA_LumA\", \"gene_one\": 0.0, \"gene_two\": 0.186396208517688}, {\"Subtype\": \"BRCA_LumA\", \"gene_one\": 0.0, \"gene_two\": 0.159428579656998}, {\"Subtype\": \"BRCA_LumB\", \"gene_one\": 0.0, \"gene_two\": 0.341303234762459}, {\"Subtype\": \"BRCA_LumA\", \"gene_one\": 1.021399605341, \"gene_two\": 0.0}, {\"Subtype\": \"BRCA_LumB\", \"gene_one\": 0.0, \"gene_two\": 0.103479365907631}, {\"Subtype\": \"BRCA_LumA\", \"gene_one\": 1.66634060908988, \"gene_two\": 0.0}, {\"Subtype\": \"BRCA_Her2\", \"gene_one\": 0.0, \"gene_two\": 0.147512057225106}, {\"Subtype\": \"BRCA_LumA\", \"gene_one\": 0.0, \"gene_two\": 0.150720607867141}, {\"Subtype\": \"BRCA_LumB\", \"gene_one\": 0.0, \"gene_two\": 0.0911140085336685}, {\"Subtype\": \"BRCA_LumA\", \"gene_one\": 0.0, \"gene_two\": 0.0}, {\"Subtype\": \"BRCA_Basal\", \"gene_one\": 0.0, \"gene_two\": 0.170449216346242}, {\"Subtype\": \"BRCA_Normal\", \"gene_one\": 0.0, \"gene_two\": 0.0915827252494314}, {\"Subtype\": \"BRCA_Her2\", \"gene_one\": 0.0, \"gene_two\": 0.110723993358984}, {\"Subtype\": \"BRCA_LumB\", \"gene_one\": 1.49959297435508, \"gene_two\": 0.0}, {\"Subtype\": \"BRCA_LumA\", \"gene_one\": 0.0, \"gene_two\": 0.0}, {\"Subtype\": \"BRCA_LumA\", \"gene_one\": 1.61493936867805, \"gene_two\": 0.0}, {\"Subtype\": \"BRCA_LumA\", \"gene_one\": 0.90174143546572, \"gene_two\": 0.375358463462984}, {\"Subtype\": \"BRCA_LumA\", \"gene_one\": 1.95718784978638, \"gene_two\": 0.0}, {\"Subtype\": \"BRCA_Basal\", \"gene_one\": 0.0, \"gene_two\": 0.125590672950173}, {\"Subtype\": \"BRCA_LumA\", \"gene_one\": 1.35653762397427, \"gene_two\": 0.0}, {\"Subtype\": \"BRCA_Her2\", \"gene_one\": 0.0, \"gene_two\": 0.0}, {\"Subtype\": \"BRCA_Basal\", \"gene_one\": 0.669872800072402, \"gene_two\": 0.0}, {\"Subtype\": \"BRCA_LumA\", \"gene_one\": 0.0, \"gene_two\": 0.0}, {\"Subtype\": \"BRCA_LumA\", \"gene_one\": 1.78006127650762, \"gene_two\": 0.123494577518187}, {\"Subtype\": \"BRCA_Her2\", \"gene_one\": 0.0, \"gene_two\": 0.0}, {\"Subtype\": \"BRCA_LumB\", \"gene_one\": 0.0, \"gene_two\": 0.0974545224892834}, {\"Subtype\": \"BRCA_Basal\", \"gene_one\": 0.856862075443088, \"gene_two\": 0.237784668189878}, {\"Subtype\": \"BRCA_LumB\", \"gene_one\": 0.0, \"gene_two\": 0.0990621138799662}, {\"Subtype\": \"BRCA_LumA\", \"gene_one\": 0.0, \"gene_two\": 0.0}, {\"Subtype\": \"BRCA_Basal\", \"gene_one\": 0.0, \"gene_two\": 0.384559945801767}, {\"Subtype\": \"BRCA_Basal\", \"gene_one\": 0.624615290413686, \"gene_two\": 0.606671485902419}, {\"Subtype\": \"BRCA_LumA\", \"gene_one\": 0.0, \"gene_two\": 0.139407614691529}, {\"Subtype\": \"BRCA_Her2\", \"gene_one\": 0.0, \"gene_two\": 0.123461135327318}, {\"Subtype\": \"BRCA_LumA\", \"gene_one\": 0.0, \"gene_two\": 0.173142751255731}, {\"Subtype\": \"BRCA_LumA\", \"gene_one\": 0.0, \"gene_two\": 0.366871173657283}, {\"Subtype\": \"BRCA_Basal\", \"gene_one\": 0.561919875492856, \"gene_two\": 0.0}, {\"Subtype\": \"BRCA_LumA\", \"gene_one\": 2.21284851884568, \"gene_two\": 0.102346586436247}, {\"Subtype\": \"BRCA_LumA\", \"gene_one\": 0.0, \"gene_two\": 0.0}, {\"Subtype\": \"BRCA_LumA\", \"gene_one\": 0.968369834820023, \"gene_two\": 0.0}, {\"Subtype\": \"BRCA_LumB\", \"gene_one\": 0.448874754462841, \"gene_two\": 0.124565595336533}, {\"Subtype\": \"BRCA_LumA\", \"gene_one\": 0.616025217452786, \"gene_two\": 0.0}, {\"Subtype\": \"BRCA_LumA\", \"gene_one\": 0.707876198058858, \"gene_two\": 0.0982200704750216}, {\"Subtype\": \"BRCA_LumA\", \"gene_one\": 0.0, \"gene_two\": 0.18605126465021}, {\"Subtype\": \"BRCA_LumA\", \"gene_one\": 0.0, \"gene_two\": 0.0}, {\"Subtype\": \"BRCA_LumA\", \"gene_one\": 3.32940891682951, \"gene_two\": 0.0923932120754374}, {\"Subtype\": \"BRCA_LumA\", \"gene_one\": 3.80559014141178, \"gene_two\": 0.176012572497193}, {\"Subtype\": \"BRCA_LumA\", \"gene_one\": 0.0, \"gene_two\": 0.117985967942503}, {\"Subtype\": \"BRCA_LumA\", \"gene_one\": 3.90938095489283, \"gene_two\": 0.542439022470238}, {\"Subtype\": \"BRCA_LumB\", \"gene_one\": 0.0, \"gene_two\": 0.169880077839255}, {\"Subtype\": \"BRCA_Basal\", \"gene_one\": 0.0, \"gene_two\": 0.0}, {\"Subtype\": \"BRCA_LumB\", \"gene_one\": 0.0, \"gene_two\": 0.0}, {\"Subtype\": \"BRCA_LumA\", \"gene_one\": 0.657881002882073, \"gene_two\": 1.46052925400126}, {\"Subtype\": \"BRCA_LumA\", \"gene_one\": 0.763206569026642, \"gene_two\": 0.31769200547708}, {\"Subtype\": \"BRCA_LumA\", \"gene_one\": 0.0, \"gene_two\": 0.178555164781803}, {\"Subtype\": \"BRCA_LumA\", \"gene_one\": 0.0, \"gene_two\": 0.123963910586303}, {\"Subtype\": \"BRCA_LumA\", \"gene_one\": 0.0, \"gene_two\": 0.0}, {\"Subtype\": \"BRCA_LumA\", \"gene_one\": 0.0, \"gene_two\": 0.313850722502456}, {\"Subtype\": \"BRCA_Basal\", \"gene_one\": 1.42256035265919, \"gene_two\": 0.0}, {\"Subtype\": \"BRCA_LumB\", \"gene_one\": 0.0, \"gene_two\": 0.450494702283347}, {\"Subtype\": \"BRCA_LumA\", \"gene_one\": 3.19833843033152, \"gene_two\": 0.110944903534212}, {\"Subtype\": \"BRCA_LumB\", \"gene_one\": 0.0, \"gene_two\": 0.379310671210365}, {\"Subtype\": \"BRCA_LumA\", \"gene_one\": 2.55181517467084, \"gene_two\": 0.118024153085479}, {\"Subtype\": \"BRCA_LumA\", \"gene_one\": 0.0, \"gene_two\": 0.0}, {\"Subtype\": \"BRCA_LumA\", \"gene_one\": 1.01094894604177, \"gene_two\": 0.0}, {\"Subtype\": \"BRCA_LumA\", \"gene_one\": 0.638135835313054, \"gene_two\": 0.177086747341416}, {\"Subtype\": \"BRCA_Her2\", \"gene_one\": 0.0, \"gene_two\": 0.109601655531515}, {\"Subtype\": \"BRCA_LumB\", \"gene_one\": 0.0, \"gene_two\": 0.655361960597914}, {\"Subtype\": \"BRCA_Basal\", \"gene_one\": 0.0, \"gene_two\": 0.0}, {\"Subtype\": \"BRCA_LumB\", \"gene_one\": 0.0, \"gene_two\": 0.217986913902347}, {\"Subtype\": \"BRCA_Basal\", \"gene_one\": 0.0, \"gene_two\": 0.0}, {\"Subtype\": \"BRCA_Normal\", \"gene_one\": 1.7911995514587, \"gene_two\": 0.0}, {\"Subtype\": \"BRCA_LumA\", \"gene_one\": 0.0, \"gene_two\": 0.0}, {\"Subtype\": \"BRCA_LumA\", \"gene_one\": 0.0, \"gene_two\": 1.23918167456239}, {\"Subtype\": \"BRCA_LumA\", \"gene_one\": 0.0, \"gene_two\": 0.0}, {\"Subtype\": \"BRCA_LumA\", \"gene_one\": 0.798064346555199, \"gene_two\": 0.0276834906220967}, {\"Subtype\": \"BRCA_LumA\", \"gene_one\": 0.0, \"gene_two\": 0.0964549549482049}, {\"Subtype\": \"BRCA_LumA\", \"gene_one\": 0.0, \"gene_two\": 0.0}, {\"Subtype\": \"BRCA_LumB\", \"gene_one\": 0.0, \"gene_two\": 0.0885608337850439}, {\"Subtype\": \"BRCA_Her2\", \"gene_one\": 1.45704515071087, \"gene_two\": 1.01084820891788}, {\"Subtype\": \"BRCA_LumA\", \"gene_one\": 0.0, \"gene_two\": 0.111803125896063}, {\"Subtype\": \"BRCA_LumA\", \"gene_one\": 0.0, \"gene_two\": 0.0}, {\"Subtype\": \"BRCA_LumB\", \"gene_one\": 0.0, \"gene_two\": 0.0}, {\"Subtype\": \"BRCA_Basal\", \"gene_one\": 0.0, \"gene_two\": 0.0791933995528003}, {\"Subtype\": \"BRCA_Basal\", \"gene_one\": 0.0, \"gene_two\": 0.228734711777054}, {\"Subtype\": \"BRCA_LumB\", \"gene_one\": 0.0, \"gene_two\": 0.0}, {\"Subtype\": \"BRCA_LumA\", \"gene_one\": 0.0, \"gene_two\": 0.157036429670343}, {\"Subtype\": \"BRCA_LumA\", \"gene_one\": 0.0, \"gene_two\": 0.123821343069608}, {\"Subtype\": \"BRCA_Basal\", \"gene_one\": 0.0, \"gene_two\": 0.117045794680836}, {\"Subtype\": \"BRCA_LumA\", \"gene_one\": 0.0, \"gene_two\": 0.1197036184648}, {\"Subtype\": \"BRCA_LumA\", \"gene_one\": 0.0, \"gene_two\": 0.133528516497464}, {\"Subtype\": \"BRCA_LumA\", \"gene_one\": 0.644676391273669, \"gene_two\": 0.0}, {\"Subtype\": \"BRCA_LumA\", \"gene_one\": 1.02168167372656, \"gene_two\": 0.0}, {\"Subtype\": \"BRCA_Her2\", \"gene_one\": 0.0, \"gene_two\": 0.0942031593229997}, {\"Subtype\": \"BRCA_LumA\", \"gene_one\": 0.607284988954075, \"gene_two\": 0.252788162297036}, {\"Subtype\": \"BRCA_LumB\", \"gene_one\": 0.914764894268167, \"gene_two\": 1.52311840905951}, {\"Subtype\": \"BRCA_Normal\", \"gene_one\": 0.0, \"gene_two\": 0.0}, {\"Subtype\": \"BRCA_LumA\", \"gene_one\": 10.1345095411557, \"gene_two\": 0.108168875606616}, {\"Subtype\": \"BRCA_LumB\", \"gene_one\": 0.685753200717786, \"gene_two\": 0.0}, {\"Subtype\": \"BRCA_LumA\", \"gene_one\": 0.0, \"gene_two\": 0.136294178544845}, {\"Subtype\": \"BRCA_Normal\", \"gene_one\": 0.0, \"gene_two\": 0.0}, {\"Subtype\": \"BRCA_LumA\", \"gene_one\": 0.0, \"gene_two\": 0.0}, {\"Subtype\": \"BRCA_LumA\", \"gene_one\": 0.0, \"gene_two\": 0.0}, {\"Subtype\": \"BRCA_LumA\", \"gene_one\": 0.0, \"gene_two\": 0.140222867924283}, {\"Subtype\": \"BRCA_LumB\", \"gene_one\": 0.0, \"gene_two\": 0.13897978652765}, {\"Subtype\": \"BRCA_LumA\", \"gene_one\": 1.61838976687218, \"gene_two\": 0.0}, {\"Subtype\": \"BRCA_Normal\", \"gene_one\": 0.0, \"gene_two\": 0.0}, {\"Subtype\": \"BRCA_Normal\", \"gene_one\": 0.0, \"gene_two\": 0.0}, {\"Subtype\": \"BRCA_Basal\", \"gene_one\": 0.846195452929538, \"gene_two\": 0.0}, {\"Subtype\": \"BRCA_Basal\", \"gene_one\": 0.0, \"gene_two\": 0.218942346767654}, {\"Subtype\": \"BRCA_LumA\", \"gene_one\": 0.0, \"gene_two\": 0.0}, {\"Subtype\": \"BRCA_Normal\", \"gene_one\": 2.44866561361981, \"gene_two\": 0.113253376696639}, {\"Subtype\": \"BRCA_LumB\", \"gene_one\": 0.0, \"gene_two\": 0.0}, {\"Subtype\": \"BRCA_Basal\", \"gene_one\": 0.0, \"gene_two\": 0.0}, {\"Subtype\": \"BRCA_LumA\", \"gene_one\": 1.40845486688028, \"gene_two\": 0.195427585594181}, {\"Subtype\": \"BRCA_Basal\", \"gene_one\": 0.0, \"gene_two\": 0.0}, {\"Subtype\": \"BRCA_LumB\", \"gene_one\": 0.0, \"gene_two\": 0.0}, {\"Subtype\": \"BRCA_LumA\", \"gene_one\": 0.0, \"gene_two\": 1.0018350622552}, {\"Subtype\": \"BRCA_LumA\", \"gene_one\": 0.0, \"gene_two\": 0.0}, {\"Subtype\": \"BRCA_LumA\", \"gene_one\": 1.5354516839792, \"gene_two\": 0.0}, {\"Subtype\": \"BRCA_LumB\", \"gene_one\": 0.0, \"gene_two\": 0.0963956319233797}, {\"Subtype\": \"BRCA_Basal\", \"gene_one\": 0.0, \"gene_two\": 0.0}, {\"Subtype\": \"BRCA_LumA\", \"gene_one\": 0.0, \"gene_two\": 0.221683114518299}, {\"Subtype\": \"BRCA_Basal\", \"gene_one\": 0.0, \"gene_two\": 0.468033150784636}, {\"Subtype\": \"BRCA_LumA\", \"gene_one\": 0.0, \"gene_two\": 0.226751187059195}, {\"Subtype\": \"BRCA_Basal\", \"gene_one\": 0.0, \"gene_two\": 0.0}, {\"Subtype\": \"BRCA_LumA\", \"gene_one\": 0.0, \"gene_two\": 0.102172333510934}, {\"Subtype\": \"BRCA_Basal\", \"gene_one\": 0.0, \"gene_two\": 0.0}, {\"Subtype\": \"BRCA_LumA\", \"gene_one\": 0.862252440813303, \"gene_two\": 0.119640264408411}, {\"Subtype\": \"BRCA_Her2\", \"gene_one\": 0.0, \"gene_two\": 0.160578030976742}, {\"Subtype\": \"BRCA_LumB\", \"gene_one\": 0.0, \"gene_two\": 0.940221893496305}, {\"Subtype\": \"BRCA_Basal\", \"gene_one\": 0.0, \"gene_two\": 0.0943207976856332}, {\"Subtype\": \"BRCA_LumA\", \"gene_one\": 2.03180324781324, \"gene_two\": 0.0}, {\"Subtype\": \"BRCA_LumA\", \"gene_one\": 1.06855635778641, \"gene_two\": 0.0}, {\"Subtype\": \"BRCA_LumA\", \"gene_one\": 0.654888777522067, \"gene_two\": 0.0}, {\"Subtype\": \"BRCA_LumB\", \"gene_one\": 0.0, \"gene_two\": 0.0}, {\"Subtype\": \"BRCA_Basal\", \"gene_one\": 0.0, \"gene_two\": 1.64331842943862}, {\"Subtype\": \"BRCA_LumB\", \"gene_one\": 0.0, \"gene_two\": 0.0987677297545114}, {\"Subtype\": \"BRCA_Basal\", \"gene_one\": 3.89269432807665, \"gene_two\": 0.0}, {\"Subtype\": \"BRCA_LumA\", \"gene_one\": 0.66135017336171, \"gene_two\": 0.275293310389088}, {\"Subtype\": \"BRCA_Basal\", \"gene_one\": 0.0, \"gene_two\": 0.0}, {\"Subtype\": \"BRCA_LumA\", \"gene_one\": 0.0, \"gene_two\": 0.596875963200148}, {\"Subtype\": \"BRCA_LumA\", \"gene_one\": 0.0, \"gene_two\": 0.0}, {\"Subtype\": \"BRCA_LumA\", \"gene_one\": 0.0, \"gene_two\": 0.191096977456958}, {\"Subtype\": \"BRCA_LumA\", \"gene_one\": 0.0, \"gene_two\": 0.12724100157964}, {\"Subtype\": \"BRCA_LumA\", \"gene_one\": 0.0, \"gene_two\": 0.544285618557829}, {\"Subtype\": \"BRCA_LumA\", \"gene_one\": 0.0, \"gene_two\": 0.308950495742575}, {\"Subtype\": \"BRCA_Basal\", \"gene_one\": 0.0, \"gene_two\": 0.0}, {\"Subtype\": \"BRCA_Her2\", \"gene_one\": 0.787293367940389, \"gene_two\": 0.109239455000576}, {\"Subtype\": \"BRCA_LumA\", \"gene_one\": 0.0, \"gene_two\": 0.141915462195088}, {\"Subtype\": \"BRCA_LumA\", \"gene_one\": 0.0, \"gene_two\": 0.53515008212862}, {\"Subtype\": \"BRCA_Her2\", \"gene_one\": 0.0, \"gene_two\": 0.610436811862768}, {\"Subtype\": \"BRCA_LumA\", \"gene_one\": 1.10959011088841, \"gene_two\": 0.153959151598889}, {\"Subtype\": \"BRCA_Her2\", \"gene_one\": 0.0, \"gene_two\": 0.0820029202377544}, {\"Subtype\": \"BRCA_Basal\", \"gene_one\": 0.0, \"gene_two\": 0.0}, {\"Subtype\": \"BRCA_Basal\", \"gene_one\": 0.0, \"gene_two\": 0.341975267581726}, {\"Subtype\": \"BRCA_LumA\", \"gene_one\": 4.60942391041599, \"gene_two\": 0.0}, {\"Subtype\": \"BRCA_LumA\", \"gene_one\": 0.68351614436231, \"gene_two\": 0.284520106994477}, {\"Subtype\": \"BRCA_Basal\", \"gene_one\": 0.0, \"gene_two\": 0.0864781516287168}, {\"Subtype\": \"BRCA_LumA\", \"gene_one\": 2.02613020541304, \"gene_two\": 0.0}, {\"Subtype\": \"BRCA_LumA\", \"gene_one\": 0.0, \"gene_two\": 0.200869972241527}, {\"Subtype\": \"BRCA_LumA\", \"gene_one\": 1.17313895325493, \"gene_two\": 0.0813883776440492}, {\"Subtype\": \"BRCA_LumA\", \"gene_one\": 1.87226071521062, \"gene_two\": 0.0}, {\"Subtype\": \"BRCA_LumA\", \"gene_one\": 0.0, \"gene_two\": 0.0}, {\"Subtype\": \"BRCA_LumB\", \"gene_one\": 0.0, \"gene_two\": 0.311533608910439}, {\"Subtype\": \"BRCA_Basal\", \"gene_one\": 0.0, \"gene_two\": 0.0}, {\"Subtype\": \"BRCA_LumA\", \"gene_one\": 3.15994445313921, \"gene_two\": 0.146150775957924}, {\"Subtype\": \"BRCA_Basal\", \"gene_one\": 0.0, \"gene_two\": 0.0}, {\"Subtype\": \"BRCA_LumA\", \"gene_one\": 0.754525557398638, \"gene_two\": 0.0}, {\"Subtype\": \"BRCA_LumB\", \"gene_one\": 0.0, \"gene_two\": 0.0}, {\"Subtype\": \"BRCA_Normal\", \"gene_one\": 5.60446714992711, \"gene_two\": 0.0864041794553679}, {\"Subtype\": \"BRCA_Normal\", \"gene_one\": 0.668462161990309, \"gene_two\": 0.0}, {\"Subtype\": \"BRCA_LumA\", \"gene_one\": 1.04857795620723, \"gene_two\": 0.145493521381228}, {\"Subtype\": \"BRCA_Basal\", \"gene_one\": 0.0, \"gene_two\": 0.165194473241503}, {\"Subtype\": \"BRCA_LumA\", \"gene_one\": 0.0, \"gene_two\": 0.269253971570031}, {\"Subtype\": \"BRCA_LumA\", \"gene_one\": 0.869612581771107, \"gene_two\": 0.361984522019749}, {\"Subtype\": \"BRCA_Her2\", \"gene_one\": 0.0, \"gene_two\": 0.0}, {\"Subtype\": \"BRCA_LumA\", \"gene_one\": 0.582584906588783, \"gene_two\": 0.0}, {\"Subtype\": \"BRCA_Her2\", \"gene_one\": 0.435908209114508, \"gene_two\": 0.302418241617209}, {\"Subtype\": \"BRCA_LumA\", \"gene_one\": 3.78497559693228, \"gene_two\": 0.225076021705546}, {\"Subtype\": \"BRCA_Her2\", \"gene_one\": 0.0, \"gene_two\": 0.101088915701494}, {\"Subtype\": \"BRCA_Basal\", \"gene_one\": 0.0, \"gene_two\": 1.60447423340343}, {\"Subtype\": \"BRCA_LumB\", \"gene_one\": 0.0, \"gene_two\": 0.0}, {\"Subtype\": \"BRCA_LumA\", \"gene_one\": 0.0, \"gene_two\": 0.250385148870616}, {\"Subtype\": \"BRCA_LumB\", \"gene_one\": 0.0, \"gene_two\": 0.0}, {\"Subtype\": \"BRCA_Basal\", \"gene_one\": 0.0, \"gene_two\": 0.0}, {\"Subtype\": \"BRCA_LumA\", \"gene_one\": 1.99118461041115, \"gene_two\": 0.0}, {\"Subtype\": \"BRCA_LumA\", \"gene_one\": 0.0, \"gene_two\": 0.0}, {\"Subtype\": \"BRCA_LumB\", \"gene_one\": 0.669412430239779, \"gene_two\": 0.0}, {\"Subtype\": \"BRCA_Basal\", \"gene_one\": 0.622892491608969, \"gene_two\": 0.0864283113236018}, {\"Subtype\": \"BRCA_LumB\", \"gene_one\": 0.0, \"gene_two\": 0.0}, {\"Subtype\": \"BRCA_LumA\", \"gene_one\": 0.0, \"gene_two\": 0.0}, {\"Subtype\": \"BRCA_LumA\", \"gene_one\": 0.0, \"gene_two\": 0.10746547164697}, {\"Subtype\": \"BRCA_LumA\", \"gene_one\": 1.21030666798279, \"gene_two\": 0.167933893739648}, {\"Subtype\": \"BRCA_Basal\", \"gene_one\": 0.0, \"gene_two\": 0.0}, {\"Subtype\": \"BRCA_Basal\", \"gene_one\": 0.0, \"gene_two\": 0.0}, {\"Subtype\": \"BRCA_LumB\", \"gene_one\": 0.713316426669669, \"gene_two\": 0.0}, {\"Subtype\": \"BRCA_LumA\", \"gene_one\": 0.0, \"gene_two\": 0.0}, {\"Subtype\": \"BRCA_LumB\", \"gene_one\": 0.0, \"gene_two\": 0.107131431349612}, {\"Subtype\": \"BRCA_Basal\", \"gene_one\": 0.0, \"gene_two\": 0.0}, {\"Subtype\": \"BRCA_LumB\", \"gene_one\": 0.0, \"gene_two\": 0.168854361512461}, {\"Subtype\": \"BRCA_LumA\", \"gene_one\": 2.03854180562178, \"gene_two\": 0.0}, {\"Subtype\": \"BRCA_Normal\", \"gene_one\": 3.21652264988639, \"gene_two\": 0.148767577448915}, {\"Subtype\": \"BRCA_LumB\", \"gene_one\": 1.15089425326075, \"gene_two\": 0.0}, {\"Subtype\": \"BRCA_LumB\", \"gene_one\": 0.0, \"gene_two\": 0.0}, {\"Subtype\": \"BRCA_LumA\", \"gene_one\": 0.0, \"gene_two\": 0.096203956256195}, {\"Subtype\": \"BRCA_LumB\", \"gene_one\": 0.665823780860391, \"gene_two\": 0.092385164043364}, {\"Subtype\": \"BRCA_LumA\", \"gene_one\": 0.807556147775377, \"gene_two\": 0.0}, {\"Subtype\": \"BRCA_LumA\", \"gene_one\": 0.0, \"gene_two\": 0.0}, {\"Subtype\": \"BRCA_LumA\", \"gene_one\": 0.0, \"gene_two\": 0.0}, {\"Subtype\": \"BRCA_LumA\", \"gene_one\": 1.19134378294765, \"gene_two\": 0.0}, {\"Subtype\": \"BRCA_Basal\", \"gene_one\": 0.0, \"gene_two\": 0.255718060014587}, {\"Subtype\": \"BRCA_Normal\", \"gene_one\": 0.0, \"gene_two\": 0.223449392981536}, {\"Subtype\": \"BRCA_Basal\", \"gene_one\": 0.0, \"gene_two\": 0.0}, {\"Subtype\": \"BRCA_LumA\", \"gene_one\": 1.0495534720152, \"gene_two\": 0.0}, {\"Subtype\": \"BRCA_LumA\", \"gene_one\": 0.0, \"gene_two\": 0.281355413024896}, {\"Subtype\": \"BRCA_LumA\", \"gene_one\": 0.0, \"gene_two\": 0.103344102706421}, {\"Subtype\": \"BRCA_Basal\", \"gene_one\": 0.0, \"gene_two\": 0.0}, {\"Subtype\": \"BRCA_Normal\", \"gene_one\": 1.10389074099147, \"gene_two\": 0.0}, {\"Subtype\": \"BRCA_Normal\", \"gene_one\": 1.03530932197991, \"gene_two\": 0.143652456245246}, {\"Subtype\": \"BRCA_LumA\", \"gene_one\": 1.61523419625451, \"gene_two\": 0.112059437105637}, {\"Subtype\": \"BRCA_Basal\", \"gene_one\": 0.0, \"gene_two\": 0.1761298373701}, {\"Subtype\": \"BRCA_LumA\", \"gene_one\": 0.0, \"gene_two\": 0.0}, {\"Subtype\": \"BRCA_Basal\", \"gene_one\": 0.0, \"gene_two\": 0.302282832744936}, {\"Subtype\": \"BRCA_LumA\", \"gene_one\": 0.0, \"gene_two\": 0.228589596581864}, {\"Subtype\": \"BRCA_LumA\", \"gene_one\": 0.932590111041954, \"gene_two\": 0.0}, {\"Subtype\": \"BRCA_LumA\", \"gene_one\": 0.0, \"gene_two\": 0.0}, {\"Subtype\": \"BRCA_LumA\", \"gene_one\": 3.1719252564342, \"gene_two\": 0.146704900792574}, {\"Subtype\": \"BRCA_Basal\", \"gene_one\": 0.0, \"gene_two\": 0.0}, {\"Subtype\": \"BRCA_LumA\", \"gene_one\": 0.0, \"gene_two\": 0.574596936257476}, {\"Subtype\": \"BRCA_LumA\", \"gene_one\": 0.0, \"gene_two\": 0.180173829245304}, {\"Subtype\": \"BRCA_LumA\", \"gene_one\": 0.0, \"gene_two\": 0.214417451096092}, {\"Subtype\": \"BRCA_Basal\", \"gene_one\": 0.0, \"gene_two\": 0.0}, {\"Subtype\": \"BRCA_Normal\", \"gene_one\": 0.888137576737823, \"gene_two\": 0.0}, {\"Subtype\": \"BRCA_Her2\", \"gene_one\": 0.906614428081104, \"gene_two\": 0.0}, {\"Subtype\": \"BRCA_LumA\", \"gene_one\": 0.0, \"gene_two\": 0.126460781395028}, {\"Subtype\": \"BRCA_LumB\", \"gene_one\": 0.0, \"gene_two\": 0.0}, {\"Subtype\": \"BRCA_LumA\", \"gene_one\": 0.0, \"gene_two\": 0.114526986660078}, {\"Subtype\": \"BRCA_LumA\", \"gene_one\": 0.525425612706968, \"gene_two\": 0.364522361757122}, {\"Subtype\": \"BRCA_Her2\", \"gene_one\": 0.0, \"gene_two\": 0.123666755102336}, {\"Subtype\": \"BRCA_Normal\", \"gene_one\": 2.27594669087469, \"gene_two\": 0.315794831057364}, {\"Subtype\": \"BRCA_LumB\", \"gene_one\": 0.679436326947496, \"gene_two\": 0.0942739480421317}, {\"Subtype\": \"BRCA_LumA\", \"gene_one\": 0.0, \"gene_two\": 0.128914948969053}, {\"Subtype\": \"BRCA_LumA\", \"gene_one\": 0.0, \"gene_two\": 0.102944008002962}, {\"Subtype\": \"BRCA_Her2\", \"gene_one\": 0.0, \"gene_two\": 0.075475255335499}, {\"Subtype\": \"BRCA_Basal\", \"gene_one\": 0.0, \"gene_two\": 0.0}, {\"Subtype\": \"BRCA_LumB\", \"gene_one\": 0.0, \"gene_two\": 0.0}, {\"Subtype\": \"BRCA_LumB\", \"gene_one\": 1.63541733113833, \"gene_two\": 0.113459674136099}, {\"Subtype\": \"BRCA_Basal\", \"gene_one\": 0.0, \"gene_two\": 0.0}, {\"Subtype\": \"BRCA_Her2\", \"gene_one\": 0.0, \"gene_two\": 0.0}, {\"Subtype\": \"BRCA_LumA\", \"gene_one\": 0.950608092774971, \"gene_two\": 0.791399350248431}, {\"Subtype\": \"BRCA_LumB\", \"gene_one\": 0.819237469139323, \"gene_two\": 0.113671800486319}, {\"Subtype\": \"BRCA_LumB\", \"gene_one\": 0.62670555345898, \"gene_two\": 0.0}, {\"Subtype\": \"BRCA_LumA\", \"gene_one\": 1.14924516958287, \"gene_two\": 0.0}, {\"Subtype\": \"BRCA_Her2\", \"gene_one\": 0.0, \"gene_two\": 0.218744988745571}, {\"Subtype\": \"BRCA_LumA\", \"gene_one\": 3.18156096260677, \"gene_two\": 0.0}, {\"Subtype\": \"BRCA_LumA\", \"gene_one\": 0.0, \"gene_two\": 0.124361806521922}, {\"Subtype\": \"BRCA_LumB\", \"gene_one\": 0.0, \"gene_two\": 0.0}, {\"Subtype\": \"BRCA_LumB\", \"gene_one\": 0.0, \"gene_two\": 0.0972517530675487}, {\"Subtype\": \"BRCA_LumA\", \"gene_one\": 0.0, \"gene_two\": 0.101533637912043}, {\"Subtype\": \"BRCA_LumB\", \"gene_one\": 0.0, \"gene_two\": 0.130822328697884}, {\"Subtype\": \"BRCA_LumA\", \"gene_one\": 0.0, \"gene_two\": 0.120368718852652}, {\"Subtype\": \"BRCA_LumB\", \"gene_one\": 6.10101442887192, \"gene_two\": 0.0}, {\"Subtype\": \"BRCA_LumB\", \"gene_one\": 1.73143143387029, \"gene_two\": 1.20120804968402}, {\"Subtype\": \"BRCA_LumA\", \"gene_one\": 2.29120580759682, \"gene_two\": 0.158956040980481}, {\"Subtype\": \"BRCA_Basal\", \"gene_one\": 0.0, \"gene_two\": 0.0}, {\"Subtype\": \"BRCA_LumA\", \"gene_one\": 0.0, \"gene_two\": 0.196157495109788}, {\"Subtype\": \"BRCA_LumA\", \"gene_one\": 0.0, \"gene_two\": 0.0}, {\"Subtype\": \"BRCA_LumA\", \"gene_one\": 1.45048310862001, \"gene_two\": 0.301888706406249}, {\"Subtype\": \"BRCA_LumA\", \"gene_one\": 0.0, \"gene_two\": 0.167067748700724}, {\"Subtype\": \"BRCA_LumA\", \"gene_one\": 0.0, \"gene_two\": 0.0}, {\"Subtype\": \"BRCA_Basal\", \"gene_one\": 0.0, \"gene_two\": 0.0}, {\"Subtype\": \"BRCA_LumA\", \"gene_one\": 0.0, \"gene_two\": 0.0}, {\"Subtype\": \"BRCA_LumA\", \"gene_one\": 0.0, \"gene_two\": 0.0}, {\"Subtype\": \"BRCA_LumA\", \"gene_one\": 0.0, \"gene_two\": 0.0}, {\"Subtype\": \"BRCA_LumA\", \"gene_one\": 1.71493228460607, \"gene_two\": 0.356928450869291}, {\"Subtype\": \"BRCA_Basal\", \"gene_one\": 2.87605804240919, \"gene_two\": 0.0}, {\"Subtype\": \"BRCA_Basal\", \"gene_one\": 0.0, \"gene_two\": 0.335274248306805}, {\"Subtype\": \"BRCA_LumA\", \"gene_one\": 1.58376783520701, \"gene_two\": 0.0}, {\"Subtype\": \"BRCA_Her2\", \"gene_one\": 0.613672697122545, \"gene_two\": 0.0}, {\"Subtype\": \"BRCA_Basal\", \"gene_one\": 0.615307913501546, \"gene_two\": 0.0}, {\"Subtype\": \"BRCA_LumB\", \"gene_one\": 0.0, \"gene_two\": 0.0}, {\"Subtype\": \"BRCA_LumB\", \"gene_one\": 0.0, \"gene_two\": 0.584220800394092}, {\"Subtype\": \"BRCA_LumA\", \"gene_one\": 0.0, \"gene_two\": 0.615677879669663}, {\"Subtype\": \"BRCA_LumA\", \"gene_one\": 0.0, \"gene_two\": 0.138010351691589}, {\"Subtype\": \"BRCA_LumA\", \"gene_one\": 1.29146865692669, \"gene_two\": 0.0}, {\"Subtype\": \"BRCA_Basal\", \"gene_one\": 0.0, \"gene_two\": 0.0}, {\"Subtype\": \"BRCA_LumA\", \"gene_one\": 1.72627338346029, \"gene_two\": 0.0798419713539467}, {\"Subtype\": \"BRCA_LumB\", \"gene_one\": 0.0, \"gene_two\": 0.0832814123737022}, {\"Subtype\": \"BRCA_LumB\", \"gene_one\": 0.626218364226449, \"gene_two\": 0.347559146845523}, {\"Subtype\": \"BRCA_LumA\", \"gene_one\": 0.0, \"gene_two\": 0.0}, {\"Subtype\": \"BRCA_LumA\", \"gene_one\": 0.0, \"gene_two\": 0.158008417974369}, {\"Subtype\": \"BRCA_LumB\", \"gene_one\": 0.0, \"gene_two\": 0.0}, {\"Subtype\": \"BRCA_LumB\", \"gene_one\": 0.0, \"gene_two\": 0.0781313539830941}, {\"Subtype\": \"BRCA_LumB\", \"gene_one\": 0.776705338923981, \"gene_two\": 0.0}, {\"Subtype\": \"BRCA_LumA\", \"gene_one\": 0.0, \"gene_two\": 0.324377324763198}, {\"Subtype\": \"BRCA_LumB\", \"gene_one\": 3.71507797679452, \"gene_two\": 0.0}, {\"Subtype\": \"BRCA_LumB\", \"gene_one\": 0.0, \"gene_two\": 0.0}, {\"Subtype\": \"BRCA_LumA\", \"gene_one\": 0.0, \"gene_two\": 0.197575567933129}, {\"Subtype\": \"BRCA_Basal\", \"gene_one\": 0.0, \"gene_two\": 0.437792617580571}, {\"Subtype\": \"BRCA_LumA\", \"gene_one\": 0.0, \"gene_two\": 0.0}, {\"Subtype\": \"BRCA_Basal\", \"gene_one\": 0.0, \"gene_two\": 0.0}, {\"Subtype\": \"BRCA_LumB\", \"gene_one\": 0.538376427084926, \"gene_two\": 0.149402877947885}, {\"Subtype\": \"BRCA_LumB\", \"gene_one\": 0.0, \"gene_two\": 0.0}, {\"Subtype\": \"BRCA_LumA\", \"gene_one\": 0.0, \"gene_two\": 0.0}, {\"Subtype\": \"BRCA_LumB\", \"gene_one\": 1.4898778092374, \"gene_two\": 0.0}, {\"Subtype\": \"BRCA_LumA\", \"gene_one\": 0.0, \"gene_two\": 0.0}, {\"Subtype\": \"BRCA_LumA\", \"gene_one\": 0.0, \"gene_two\": 0.0}, {\"Subtype\": \"BRCA_Basal\", \"gene_one\": 0.0, \"gene_two\": 0.0}, {\"Subtype\": \"BRCA_LumA\", \"gene_one\": 1.81117134375577, \"gene_two\": 0.628264439156397}, {\"Subtype\": \"BRCA_LumA\", \"gene_one\": 1.10188164642262, \"gene_two\": 0.15288957767475}, {\"Subtype\": \"BRCA_Basal\", \"gene_one\": 0.783057970965274, \"gene_two\": 0.0}, {\"Subtype\": \"BRCA_Her2\", \"gene_one\": 0.649095540731186, \"gene_two\": 0.0900640676018862}, {\"Subtype\": \"BRCA_LumA\", \"gene_one\": 0.0, \"gene_two\": 0.0854607209761609}, {\"Subtype\": \"BRCA_Her2\", \"gene_one\": 0.0, \"gene_two\": 0.0}, {\"Subtype\": \"BRCA_LumA\", \"gene_one\": 0.0, \"gene_two\": 0.218619170177633}, {\"Subtype\": \"BRCA_LumA\", \"gene_one\": 0.767511397110839, \"gene_two\": 0.106494643726554}, {\"Subtype\": \"BRCA_LumA\", \"gene_one\": 0.730831507568613, \"gene_two\": 0.0}, {\"Subtype\": \"BRCA_Basal\", \"gene_one\": 0.0, \"gene_two\": 0.0}, {\"Subtype\": \"BRCA_LumA\", \"gene_one\": 1.78723196299435, \"gene_two\": 0.0}, {\"Subtype\": \"BRCA_LumA\", \"gene_one\": 0.0, \"gene_two\": 0.99101646180468}, {\"Subtype\": \"BRCA_LumB\", \"gene_one\": 0.542817003046977, \"gene_two\": 0.0}, {\"Subtype\": \"BRCA_LumA\", \"gene_one\": 0.0, \"gene_two\": 0.609405884426721}, {\"Subtype\": \"BRCA_Basal\", \"gene_one\": 0.0, \"gene_two\": 0.255542080070396}, {\"Subtype\": \"BRCA_LumA\", \"gene_one\": 0.0, \"gene_two\": 0.263576712087429}, {\"Subtype\": \"BRCA_Basal\", \"gene_one\": 0.0, \"gene_two\": 0.0}, {\"Subtype\": \"BRCA_LumA\", \"gene_one\": 0.0, \"gene_two\": 0.0}, {\"Subtype\": \"BRCA_LumB\", \"gene_one\": 0.0, \"gene_two\": 0.0}, {\"Subtype\": \"BRCA_LumB\", \"gene_one\": 0.0, \"gene_two\": 0.0}, {\"Subtype\": \"BRCA_LumB\", \"gene_one\": 0.0, \"gene_two\": 0.279978900243857}, {\"Subtype\": \"BRCA_LumB\", \"gene_one\": 0.0, \"gene_two\": 0.18106367572106}, {\"Subtype\": \"BRCA_LumA\", \"gene_one\": 0.0, \"gene_two\": 0.200973606056222}, {\"Subtype\": \"BRCA_LumB\", \"gene_one\": 0.0, \"gene_two\": 0.0}, {\"Subtype\": \"BRCA_LumA\", \"gene_one\": 2.94826722877081, \"gene_two\": 0.490897728924271}, {\"Subtype\": \"BRCA_LumA\", \"gene_one\": 0.766580206080077, \"gene_two\": 0.212730876027978}, {\"Subtype\": \"BRCA_LumA\", \"gene_one\": 0.0, \"gene_two\": 0.357793828604409}, {\"Subtype\": \"BRCA_LumA\", \"gene_one\": 0.0, \"gene_two\": 0.228790660950215}, {\"Subtype\": \"BRCA_Basal\", \"gene_one\": 0.0, \"gene_two\": 0.124699693939263}, {\"Subtype\": \"BRCA_LumA\", \"gene_one\": 0.0, \"gene_two\": 0.0}, {\"Subtype\": \"BRCA_LumB\", \"gene_one\": 0.0, \"gene_two\": 0.0}, {\"Subtype\": \"BRCA_Basal\", \"gene_one\": 0.648695357127891, \"gene_two\": 0.0}, {\"Subtype\": \"BRCA_Her2\", \"gene_one\": 0.0, \"gene_two\": 0.0}, {\"Subtype\": \"BRCA_LumB\", \"gene_one\": 0.703684773773596, \"gene_two\": 0.0976384970448864}, {\"Subtype\": \"BRCA_LumA\", \"gene_one\": 0.952909188322447, \"gene_two\": 0.0}, {\"Subtype\": \"BRCA_Her2\", \"gene_one\": 0.0, \"gene_two\": 0.0}, {\"Subtype\": \"BRCA_LumA\", \"gene_one\": 0.0, \"gene_two\": 0.477555906989139}, {\"Subtype\": \"BRCA_LumB\", \"gene_one\": 0.0, \"gene_two\": 0.0}, {\"Subtype\": \"BRCA_LumB\", \"gene_one\": 0.0, \"gene_two\": 0.0}, {\"Subtype\": \"BRCA_Her2\", \"gene_one\": 0.0, \"gene_two\": 0.0}, {\"Subtype\": \"BRCA_LumA\", \"gene_one\": 0.0, \"gene_two\": 0.0}, {\"Subtype\": \"BRCA_LumA\", \"gene_one\": 1.07117712093163, \"gene_two\": 0.0}, {\"Subtype\": \"BRCA_LumA\", \"gene_one\": 0.973327932661414, \"gene_two\": 0.540209366574516}, {\"Subtype\": \"BRCA_LumA\", \"gene_one\": 0.0, \"gene_two\": 0.0}, {\"Subtype\": \"BRCA_Her2\", \"gene_one\": 0.0, \"gene_two\": 0.0}, {\"Subtype\": \"BRCA_LumA\", \"gene_one\": 0.0, \"gene_two\": 3.54142069653936}, {\"Subtype\": \"BRCA_LumA\", \"gene_one\": 1.36629507183541, \"gene_two\": 0.0947888900725956}, {\"Subtype\": \"BRCA_LumA\", \"gene_one\": 0.0, \"gene_two\": 0.144546301811929}, {\"Subtype\": \"BRCA_LumA\", \"gene_one\": 1.8356683386823, \"gene_two\": 0.636762028759986}, {\"Subtype\": \"BRCA_Basal\", \"gene_one\": 0.491736535228187, \"gene_two\": 0.136460011730334}, {\"Subtype\": \"BRCA_LumA\", \"gene_one\": 0.0, \"gene_two\": 0.0845441962603318}, {\"Subtype\": \"BRCA_LumA\", \"gene_one\": 0.0, \"gene_two\": 0.117157166083696}, {\"Subtype\": \"BRCA_LumA\", \"gene_one\": 1.2614695509023, \"gene_two\": 0.175032906222619}, {\"Subtype\": \"BRCA_LumB\", \"gene_one\": 0.0, \"gene_two\": 0.106481659464467}, {\"Subtype\": \"BRCA_LumA\", \"gene_one\": 0.0, \"gene_two\": 0.0737431462213524}, {\"Subtype\": \"BRCA_Her2\", \"gene_one\": 0.673297512976745, \"gene_two\": 0.186844336218101}, {\"Subtype\": \"BRCA_LumA\", \"gene_one\": 0.0, \"gene_two\": 0.298707487109972}, {\"Subtype\": \"BRCA_LumA\", \"gene_one\": 2.62153581888318, \"gene_two\": 0.0}, {\"Subtype\": \"BRCA_LumA\", \"gene_one\": 0.729832981796949, \"gene_two\": 0.202533287893795}, {\"Subtype\": \"BRCA_LumA\", \"gene_one\": 0.774103764396053, \"gene_two\": 0.0}, {\"Subtype\": \"BRCA_Basal\", \"gene_one\": 0.651940401589418, \"gene_two\": 0.0}, {\"Subtype\": \"BRCA_LumA\", \"gene_one\": 0.0, \"gene_two\": 0.0864052578056916}, {\"Subtype\": \"BRCA_LumA\", \"gene_one\": 0.537177862002428, \"gene_two\": 0.0745351342624288}, {\"Subtype\": \"BRCA_Normal\", \"gene_one\": 1.04677383307225, \"gene_two\": 0.0}, {\"Subtype\": \"BRCA_LumB\", \"gene_one\": 0.755510894734394, \"gene_two\": 0.0524147679559415}, {\"Subtype\": \"BRCA_LumA\", \"gene_one\": 0.0, \"gene_two\": 0.0}, {\"Subtype\": \"BRCA_LumA\", \"gene_one\": 2.50202820692356, \"gene_two\": 0.0867910898432975}, {\"Subtype\": \"BRCA_LumB\", \"gene_one\": 0.0, \"gene_two\": 0.0}, {\"Subtype\": \"BRCA_Normal\", \"gene_one\": 2.23607322834676, \"gene_two\": 0.0}, {\"Subtype\": \"BRCA_LumA\", \"gene_one\": 0.0, \"gene_two\": 0.494819224914572}, {\"Subtype\": \"BRCA_LumA\", \"gene_one\": 0.969739023894133, \"gene_two\": 0.0}, {\"Subtype\": \"BRCA_Basal\", \"gene_one\": 0.0, \"gene_two\": 0.0}, {\"Subtype\": \"BRCA_Basal\", \"gene_one\": 0.0, \"gene_two\": 0.0}, {\"Subtype\": \"BRCA_LumA\", \"gene_one\": 0.0, \"gene_two\": 0.0}, {\"Subtype\": \"BRCA_Her2\", \"gene_one\": 0.0, \"gene_two\": 0.0}, {\"Subtype\": \"BRCA_Her2\", \"gene_one\": 0.0, \"gene_two\": 0.321990321315251}, {\"Subtype\": \"BRCA_Her2\", \"gene_one\": 0.0, \"gene_two\": 0.0}, {\"Subtype\": \"BRCA_LumA\", \"gene_one\": 0.0, \"gene_two\": 0.0}, {\"Subtype\": \"BRCA_Basal\", \"gene_one\": 0.0, \"gene_two\": 0.0}, {\"Subtype\": \"BRCA_Her2\", \"gene_one\": 0.681068461169728, \"gene_two\": 0.0945004118485239}, {\"Subtype\": \"BRCA_LumA\", \"gene_one\": 0.0, \"gene_two\": 0.0}, {\"Subtype\": \"BRCA_LumA\", \"gene_one\": 1.28375836707581, \"gene_two\": 0.0}, {\"Subtype\": \"BRCA_LumA\", \"gene_one\": 0.0, \"gene_two\": 0.0}, {\"Subtype\": \"BRCA_Basal\", \"gene_one\": 0.940185385839715, \"gene_two\": 0.0}, {\"Subtype\": \"BRCA_LumA\", \"gene_one\": 0.507490446959468, \"gene_two\": 0.0}, {\"Subtype\": \"BRCA_LumB\", \"gene_one\": 0.0, \"gene_two\": 0.0}, {\"Subtype\": \"BRCA_Basal\", \"gene_one\": 0.0, \"gene_two\": 0.155459447078884}, {\"Subtype\": \"BRCA_LumB\", \"gene_one\": 1.55543936361275, \"gene_two\": 0.107911075646332}, {\"Subtype\": \"BRCA_LumA\", \"gene_one\": 0.0, \"gene_two\": 0.0836756901825019}, {\"Subtype\": \"BRCA_LumA\", \"gene_one\": 0.0, \"gene_two\": 0.0}, {\"Subtype\": \"BRCA_LumA\", \"gene_one\": 0.792217434736695, \"gene_two\": 0.219845369811824}, {\"Subtype\": \"BRCA_LumA\", \"gene_one\": 2.18491561326858, \"gene_two\": 0.202109319968841}, {\"Subtype\": \"BRCA_LumA\", \"gene_one\": 0.0, \"gene_two\": 0.0}, {\"Subtype\": \"BRCA_LumB\", \"gene_one\": 0.0, \"gene_two\": 0.111587801197887}, {\"Subtype\": \"BRCA_LumA\", \"gene_one\": 3.23646251371829, \"gene_two\": 0.112267362944253}, {\"Subtype\": \"BRCA_LumA\", \"gene_one\": 0.0, \"gene_two\": 0.0}, {\"Subtype\": \"BRCA_LumA\", \"gene_one\": 0.0, \"gene_two\": 0.0}, {\"Subtype\": \"BRCA_LumA\", \"gene_one\": 0.0, \"gene_two\": 0.113379885567404}, {\"Subtype\": \"BRCA_Basal\", \"gene_one\": 0.0, \"gene_two\": 0.0}, {\"Subtype\": \"BRCA_LumA\", \"gene_one\": 0.811326352828165, \"gene_two\": 0.0}, {\"Subtype\": \"BRCA_Basal\", \"gene_one\": 0.0, \"gene_two\": 0.0}, {\"Subtype\": \"BRCA_Her2\", \"gene_one\": 0.0, \"gene_two\": 0.559292504114683}, {\"Subtype\": \"BRCA_Normal\", \"gene_one\": 0.88428268116614, \"gene_two\": 0.490788120875428}, {\"Subtype\": \"BRCA_LumA\", \"gene_one\": 0.0, \"gene_two\": 0.0}, {\"Subtype\": \"BRCA_Basal\", \"gene_one\": 0.0, \"gene_two\": 0.0}, {\"Subtype\": \"BRCA_LumB\", \"gene_one\": 0.0, \"gene_two\": 0.0}, {\"Subtype\": \"BRCA_Her2\", \"gene_one\": 0.0, \"gene_two\": 0.0}, {\"Subtype\": \"BRCA_LumA\", \"gene_one\": 4.87057644633181, \"gene_two\": 0.270323179745691}, {\"Subtype\": \"BRCA_LumA\", \"gene_one\": 0.0, \"gene_two\": 0.106636100616725}, {\"Subtype\": \"BRCA_LumA\", \"gene_one\": 0.0, \"gene_two\": 0.0}, {\"Subtype\": \"BRCA_Basal\", \"gene_one\": 0.0, \"gene_two\": 0.0}, {\"Subtype\": \"BRCA_LumB\", \"gene_one\": 0.637612699829794, \"gene_two\": 0.176941573921569}, {\"Subtype\": \"BRCA_LumA\", \"gene_one\": 0.0, \"gene_two\": 0.0}, {\"Subtype\": \"BRCA_Normal\", \"gene_one\": 0.955660992836414, \"gene_two\": 0.0}, {\"Subtype\": \"BRCA_Basal\", \"gene_one\": 0.0, \"gene_two\": 0.0}, {\"Subtype\": \"BRCA_LumA\", \"gene_one\": 0.0, \"gene_two\": 0.134719210264935}, {\"Subtype\": \"BRCA_LumA\", \"gene_one\": 0.0, \"gene_two\": 0.411508315029261}, {\"Subtype\": \"BRCA_Basal\", \"gene_one\": 0.0, \"gene_two\": 0.0}, {\"Subtype\": \"BRCA_Her2\", \"gene_one\": 0.0, \"gene_two\": 0.0}, {\"Subtype\": \"BRCA_LumA\", \"gene_one\": 0.0, \"gene_two\": 0.265715963475816}, {\"Subtype\": \"BRCA_Basal\", \"gene_one\": 0.0, \"gene_two\": 0.101642115210009}, {\"Subtype\": \"BRCA_Basal\", \"gene_one\": 0.0, \"gene_two\": 0.0}, {\"Subtype\": \"BRCA_LumA\", \"gene_one\": 0.0, \"gene_two\": 0.0928435326314384}, {\"Subtype\": \"BRCA_LumA\", \"gene_one\": 0.0, \"gene_two\": 0.149552118217755}, {\"Subtype\": \"BRCA_LumB\", \"gene_one\": 1.04595795770479, \"gene_two\": 0.0}, {\"Subtype\": \"BRCA_LumA\", \"gene_one\": 2.46007435001361, \"gene_two\": 0.0}, {\"Subtype\": \"BRCA_LumA\", \"gene_one\": 0.0, \"gene_two\": 0.0}, {\"Subtype\": \"BRCA_Her2\", \"gene_one\": 0.0, \"gene_two\": 0.0}, {\"Subtype\": \"BRCA_Normal\", \"gene_one\": 2.88600114673826, \"gene_two\": 0.266961216101146}, {\"Subtype\": \"BRCA_LumA\", \"gene_one\": 0.0, \"gene_two\": 0.0}, {\"Subtype\": \"BRCA_LumA\", \"gene_one\": 0.0, \"gene_two\": 0.222341164608299}, {\"Subtype\": \"BRCA_LumB\", \"gene_one\": 1.39746951753585, \"gene_two\": 0.484758333715015}, {\"Subtype\": \"BRCA_Her2\", \"gene_one\": 0.0, \"gene_two\": 0.0}, {\"Subtype\": \"BRCA_LumB\", \"gene_one\": 0.0, \"gene_two\": 0.0}, {\"Subtype\": \"BRCA_Normal\", \"gene_one\": 0.0, \"gene_two\": 0.0738984552763233}, {\"Subtype\": \"BRCA_LumB\", \"gene_one\": 0.0, \"gene_two\": 0.193495729321275}, {\"Subtype\": \"BRCA_LumA\", \"gene_one\": 0.946938165566751, \"gene_two\": 0.0}, {\"Subtype\": \"BRCA_Basal\", \"gene_one\": 0.0, \"gene_two\": 0.0937406196397202}, {\"Subtype\": \"BRCA_Her2\", \"gene_one\": 0.545760083955509, \"gene_two\": 0.0}, {\"Subtype\": \"BRCA_Basal\", \"gene_one\": 0.0, \"gene_two\": 0.0}, {\"Subtype\": \"BRCA_LumA\", \"gene_one\": 0.0, \"gene_two\": 0.210741038488858}, {\"Subtype\": \"BRCA_LumA\", \"gene_one\": 0.713198446521736, \"gene_two\": 0.0}, {\"Subtype\": \"BRCA_Her2\", \"gene_one\": 0.0, \"gene_two\": 0.0}, {\"Subtype\": \"BRCA_LumA\", \"gene_one\": 8.97509819136516, \"gene_two\": 0.0}, {\"Subtype\": \"BRCA_LumA\", \"gene_one\": 0.0, \"gene_two\": 0.0810103118658268}, {\"Subtype\": \"BRCA_LumA\", \"gene_one\": 0.0, \"gene_two\": 0.758693255809782}, {\"Subtype\": \"BRCA_LumA\", \"gene_one\": 0.0, \"gene_two\": 0.560366901941426}, {\"Subtype\": \"BRCA_Basal\", \"gene_one\": 0.0, \"gene_two\": 0.0}, {\"Subtype\": \"BRCA_LumA\", \"gene_one\": 0.0, \"gene_two\": 0.0}, {\"Subtype\": \"BRCA_LumA\", \"gene_one\": 1.15425662564906, \"gene_two\": 0.320313544737218}, {\"Subtype\": \"BRCA_LumA\", \"gene_one\": 0.624717004439935, \"gene_two\": 0.0866814682725317}, {\"Subtype\": \"BRCA_LumA\", \"gene_one\": 0.0, \"gene_two\": 0.181014307704185}, {\"Subtype\": \"BRCA_LumB\", \"gene_one\": 0.557806000032229, \"gene_two\": 0.0}, {\"Subtype\": \"BRCA_LumA\", \"gene_one\": 0.0, \"gene_two\": 0.0}, {\"Subtype\": \"BRCA_LumA\", \"gene_one\": 1.60371220585186, \"gene_two\": 0.222520161453182}, {\"Subtype\": \"BRCA_LumA\", \"gene_one\": 0.699116518131771, \"gene_two\": 0.194009274134915}, {\"Subtype\": \"BRCA_LumA\", \"gene_one\": 1.00974953548673, \"gene_two\": 0.0}, {\"Subtype\": \"BRCA_LumA\", \"gene_one\": 0.0, \"gene_two\": 0.0}, {\"Subtype\": \"BRCA_Basal\", \"gene_one\": 2.11081875776141, \"gene_two\": 0.146441402971628}, {\"Subtype\": \"BRCA_LumA\", \"gene_one\": 0.0, \"gene_two\": 0.0}, {\"Subtype\": \"BRCA_LumA\", \"gene_one\": 0.757531030117063, \"gene_two\": 0.0}, {\"Subtype\": \"BRCA_LumB\", \"gene_one\": 0.0, \"gene_two\": 0.0}, {\"Subtype\": \"BRCA_LumA\", \"gene_one\": 1.53930341691816, \"gene_two\": 0.0}, {\"Subtype\": \"BRCA_LumA\", \"gene_one\": 0.0, \"gene_two\": 0.304362529608146}, {\"Subtype\": \"BRCA_LumB\", \"gene_one\": 0.0, \"gene_two\": 0.0}, {\"Subtype\": \"BRCA_LumB\", \"gene_one\": 2.87347398290525, \"gene_two\": 0.265802426925027}, {\"Subtype\": \"BRCA_LumA\", \"gene_one\": 1.1276591148337, \"gene_two\": 1.46612291565867}, {\"Subtype\": \"BRCA_LumA\", \"gene_one\": 0.0, \"gene_two\": 0.0}, {\"Subtype\": \"BRCA_Basal\", \"gene_one\": 0.0, \"gene_two\": 0.789170806427384}, {\"Subtype\": \"BRCA_LumA\", \"gene_one\": 0.0, \"gene_two\": 0.0}, {\"Subtype\": \"BRCA_Normal\", \"gene_one\": 2.0395224877474, \"gene_two\": 0.0}, {\"Subtype\": \"BRCA_LumA\", \"gene_one\": 0.0, \"gene_two\": 0.312658707513825}, {\"Subtype\": \"BRCA_LumA\", \"gene_one\": 3.83474977427305, \"gene_two\": 0.177361236384234}, {\"Subtype\": \"BRCA_Her2\", \"gene_one\": 0.69193060588829, \"gene_two\": 0.0}, {\"Subtype\": \"BRCA_LumA\", \"gene_one\": 0.0, \"gene_two\": 0.0}, {\"Subtype\": \"BRCA_LumA\", \"gene_one\": 2.62476729491344, \"gene_two\": 0.0}, {\"Subtype\": \"BRCA_Her2\", \"gene_one\": 1.04699382304106, \"gene_two\": 0.581094871492766}, {\"Subtype\": \"BRCA_LumB\", \"gene_one\": 0.0, \"gene_two\": 0.155785844304636}, {\"Subtype\": \"BRCA_LumB\", \"gene_one\": 0.68535319936542, \"gene_two\": 0.19018986576139}, {\"Subtype\": \"BRCA_LumB\", \"gene_one\": 0.0, \"gene_two\": 0.0}, {\"Subtype\": \"BRCA_LumA\", \"gene_one\": 0.0, \"gene_two\": 0.394867141546268}, {\"Subtype\": \"BRCA_LumA\", \"gene_one\": 0.903078220235785, \"gene_two\": 0.125304970953041}, {\"Subtype\": \"BRCA_LumA\", \"gene_one\": 0.0, \"gene_two\": 0.27145504317675}, {\"Subtype\": \"BRCA_LumA\", \"gene_one\": 4.09285951537647, \"gene_two\": 0.0}, {\"Subtype\": \"BRCA_LumB\", \"gene_one\": 1.25804789417404, \"gene_two\": 0.0581860468283491}, {\"Subtype\": \"BRCA_LumA\", \"gene_one\": 0.813740208596326, \"gene_two\": 0.112909038128666}, {\"Subtype\": \"BRCA_LumA\", \"gene_one\": 0.0, \"gene_two\": 0.139151072550244}, {\"Subtype\": \"BRCA_LumA\", \"gene_one\": 1.20862269836362, \"gene_two\": 0.383215881040959}, {\"Subtype\": \"BRCA_Basal\", \"gene_one\": 0.0, \"gene_two\": 0.0915683114757555}, {\"Subtype\": \"BRCA_LumA\", \"gene_one\": 3.92471608263694, \"gene_two\": 0.0}, {\"Subtype\": \"BRCA_LumA\", \"gene_one\": 2.10104441294383, \"gene_two\": 0.291526584559535}, {\"Subtype\": \"BRCA_LumB\", \"gene_one\": 0.0, \"gene_two\": 0.341081241897726}, {\"Subtype\": \"BRCA_LumA\", \"gene_one\": 0.0, \"gene_two\": 0.0}, {\"Subtype\": \"BRCA_Basal\", \"gene_one\": 0.0, \"gene_two\": 0.0}, {\"Subtype\": \"BRCA_LumA\", \"gene_one\": 0.0, \"gene_two\": 0.111332419098991}, {\"Subtype\": \"BRCA_Basal\", \"gene_one\": 0.0, \"gene_two\": 0.10031855164612}, {\"Subtype\": \"BRCA_LumA\", \"gene_one\": 0.0, \"gene_two\": 0.0908448026104003}, {\"Subtype\": \"BRCA_LumA\", \"gene_one\": 0.833671892224649, \"gene_two\": 0.0}, {\"Subtype\": \"BRCA_LumA\", \"gene_one\": 8.20410713983911, \"gene_two\": 3.4150377580289}, {\"Subtype\": \"BRCA_LumA\", \"gene_one\": 0.0, \"gene_two\": 0.217350936379142}, {\"Subtype\": \"BRCA_Normal\", \"gene_one\": 2.2063066872746, \"gene_two\": 0.0}, {\"Subtype\": \"BRCA_LumA\", \"gene_one\": 0.797255373534132, \"gene_two\": 0.0}, {\"Subtype\": \"BRCA_LumA\", \"gene_one\": 0.0, \"gene_two\": 0.0}, {\"Subtype\": \"BRCA_LumB\", \"gene_one\": 0.0, \"gene_two\": 0.994495874753559}, {\"Subtype\": \"BRCA_Basal\", \"gene_one\": 0.0, \"gene_two\": 0.992271036664509}, {\"Subtype\": \"BRCA_Her2\", \"gene_one\": 0.0, \"gene_two\": 0.0}, {\"Subtype\": \"BRCA_LumA\", \"gene_one\": 0.0, \"gene_two\": 0.213699523769238}, {\"Subtype\": \"BRCA_LumB\", \"gene_one\": 0.0, \"gene_two\": 0.0}, {\"Subtype\": \"BRCA_Her2\", \"gene_one\": 0.0, \"gene_two\": 0.0}, {\"Subtype\": \"BRCA_LumA\", \"gene_one\": 0.0, \"gene_two\": 0.0}, {\"Subtype\": \"BRCA_LumB\", \"gene_one\": 0.0, \"gene_two\": 0.232658144360037}, {\"Subtype\": \"BRCA_LumA\", \"gene_one\": 0.0, \"gene_two\": 0.0}, {\"Subtype\": \"BRCA_Basal\", \"gene_one\": 0.0, \"gene_two\": 0.273878521445286}, {\"Subtype\": \"BRCA_Her2\", \"gene_one\": 0.0, \"gene_two\": 0.077045486182081}, {\"Subtype\": \"BRCA_LumA\", \"gene_one\": 0.80878682395085, \"gene_two\": 0.0}, {\"Subtype\": \"BRCA_LumA\", \"gene_one\": 1.41888450534954, \"gene_two\": 0.0984373655265185}, {\"Subtype\": \"BRCA_Basal\", \"gene_one\": 0.0, \"gene_two\": 0.0778741567615638}, {\"Subtype\": \"BRCA_Basal\", \"gene_one\": 0.0, \"gene_two\": 0.0}, {\"Subtype\": \"BRCA_Basal\", \"gene_one\": 0.534148013356508, \"gene_two\": 0.0}, {\"Subtype\": \"BRCA_LumB\", \"gene_one\": 0.0, \"gene_two\": 0.0}, {\"Subtype\": \"BRCA_LumA\", \"gene_one\": 1.77767437396315, \"gene_two\": 0.12332898236397}, {\"Subtype\": \"BRCA_Normal\", \"gene_one\": 0.957754124232368, \"gene_two\": 0.0}, {\"Subtype\": \"BRCA_LumA\", \"gene_one\": 0.0, \"gene_two\": 0.127483627288079}, {\"Subtype\": \"BRCA_LumA\", \"gene_one\": 0.0, \"gene_two\": 0.498110361182405}, {\"Subtype\": \"BRCA_LumA\", \"gene_one\": 0.0, \"gene_two\": 0.317860798072358}, {\"Subtype\": \"BRCA_LumA\", \"gene_one\": 0.597464616254825, \"gene_two\": 0.248700338600802}, {\"Subtype\": \"BRCA_Basal\", \"gene_one\": 0.0, \"gene_two\": 0.185414277527766}, {\"Subtype\": \"BRCA_LumA\", \"gene_one\": 1.27706296623774, \"gene_two\": 0.0}, {\"Subtype\": \"BRCA_LumB\", \"gene_one\": 2.15066916292836, \"gene_two\": 0.223809132159436}, {\"Subtype\": \"BRCA_Her2\", \"gene_one\": 0.0, \"gene_two\": 0.0}, {\"Subtype\": \"BRCA_LumA\", \"gene_one\": 1.69167408948891, \"gene_two\": 0.0}, {\"Subtype\": \"BRCA_LumA\", \"gene_one\": 3.17572513732918, \"gene_two\": 0.0}, {\"Subtype\": \"BRCA_Basal\", \"gene_one\": 0.0, \"gene_two\": 0.0}, {\"Subtype\": \"BRCA_Her2\", \"gene_one\": 2.37239093923372, \"gene_two\": 0.219451184529259}, {\"Subtype\": \"BRCA_LumA\", \"gene_one\": 2.74026030142372, \"gene_two\": 0.0}, {\"Subtype\": \"BRCA_LumA\", \"gene_one\": 0.715495966623931, \"gene_two\": 0.297832012684171}, {\"Subtype\": \"BRCA_LumA\", \"gene_one\": 1.40296009483546, \"gene_two\": 0.0973325842618405}, {\"Subtype\": \"BRCA_LumA\", \"gene_one\": 0.0, \"gene_two\": 0.0}, {\"Subtype\": \"BRCA_LumA\", \"gene_one\": 0.0, \"gene_two\": 0.0}, {\"Subtype\": \"BRCA_LumA\", \"gene_one\": 0.0, \"gene_two\": 0.0}, {\"Subtype\": \"BRCA_LumA\", \"gene_one\": 0.0, \"gene_two\": 0.108386139591346}, {\"Subtype\": \"BRCA_Basal\", \"gene_one\": 0.0, \"gene_two\": 0.0}, {\"Subtype\": \"BRCA_LumA\", \"gene_one\": 4.8709654078846, \"gene_two\": 0.405517151408552}, {\"Subtype\": \"BRCA_Her2\", \"gene_one\": 0.0, \"gene_two\": 0.361920318086706}, {\"Subtype\": \"BRCA_LumB\", \"gene_one\": 0.0, \"gene_two\": 0.0}, {\"Subtype\": \"BRCA_LumA\", \"gene_one\": 0.0, \"gene_two\": 0.11424076330007}, {\"Subtype\": \"BRCA_LumB\", \"gene_one\": 0.0, \"gene_two\": 0.0}, {\"Subtype\": \"BRCA_LumA\", \"gene_one\": 0.717348790857937, \"gene_two\": 0.0}, {\"Subtype\": \"BRCA_LumB\", \"gene_one\": 0.643382189237201, \"gene_two\": 0.0}, {\"Subtype\": \"BRCA_Her2\", \"gene_one\": 0.0, \"gene_two\": 0.0808361131784143}, {\"Subtype\": \"BRCA_LumA\", \"gene_one\": 0.819674981561441, \"gene_two\": 0.0}, {\"Subtype\": \"BRCA_LumA\", \"gene_one\": 0.0, \"gene_two\": 0.0}, {\"Subtype\": \"BRCA_LumB\", \"gene_one\": 0.0, \"gene_two\": 0.0869881067882296}, {\"Subtype\": \"BRCA_LumB\", \"gene_one\": 0.0, \"gene_two\": 0.0}, {\"Subtype\": \"BRCA_LumA\", \"gene_one\": 0.0, \"gene_two\": 0.0}, {\"Subtype\": \"BRCA_LumB\", \"gene_one\": 0.0, \"gene_two\": 0.0}, {\"Subtype\": \"BRCA_Basal\", \"gene_one\": 0.0, \"gene_two\": 0.0}, {\"Subtype\": \"BRCA_Basal\", \"gene_one\": 0.0, \"gene_two\": 0.0729094298679211}, {\"Subtype\": \"BRCA_LumB\", \"gene_one\": 0.0, \"gene_two\": 0.0}, {\"Subtype\": \"BRCA_LumA\", \"gene_one\": 0.924640357452584, \"gene_two\": 0.0}, {\"Subtype\": \"BRCA_Basal\", \"gene_one\": 0.0, \"gene_two\": 0.247075098935146}, {\"Subtype\": \"BRCA_LumA\", \"gene_one\": 5.13630887245818, \"gene_two\": 3.32583611440253}, {\"Subtype\": \"BRCA_Basal\", \"gene_one\": 0.0, \"gene_two\": 0.235717317893201}, {\"Subtype\": \"BRCA_LumA\", \"gene_one\": 0.0, \"gene_two\": 0.0}, {\"Subtype\": \"BRCA_LumA\", \"gene_one\": 5.28296624456888, \"gene_two\": 0.122171390581568}, {\"Subtype\": \"BRCA_Her2\", \"gene_one\": 0.0, \"gene_two\": 0.0839037553320039}, {\"Subtype\": \"BRCA_LumA\", \"gene_one\": 0.0, \"gene_two\": 0.0}, {\"Subtype\": \"BRCA_LumA\", \"gene_one\": 1.07859728350753, \"gene_two\": 0.0}, {\"Subtype\": \"BRCA_Basal\", \"gene_one\": 1.46598706124951, \"gene_two\": 0.0}, {\"Subtype\": \"BRCA_LumA\", \"gene_one\": 0.655241528611866, \"gene_two\": 0.181833685876899}, {\"Subtype\": \"BRCA_LumA\", \"gene_one\": 0.0, \"gene_two\": 0.137236730949367}, {\"Subtype\": \"BRCA_LumA\", \"gene_one\": 0.604086355488953, \"gene_two\": 0.0838189002142265}, {\"Subtype\": \"BRCA_Basal\", \"gene_one\": 0.0, \"gene_two\": 0.0}, {\"Subtype\": \"BRCA_LumA\", \"gene_one\": 0.710513235012569, \"gene_two\": 0.492929838636277}, {\"Subtype\": \"BRCA_LumB\", \"gene_one\": 0.0, \"gene_two\": 0.0}, {\"Subtype\": \"BRCA_Her2\", \"gene_one\": 0.636412093326295, \"gene_two\": 0.176608397991419}, {\"Subtype\": \"BRCA_LumB\", \"gene_one\": 0.0, \"gene_two\": 0.0}, {\"Subtype\": \"BRCA_Basal\", \"gene_one\": 0.0, \"gene_two\": 0.0}, {\"Subtype\": \"BRCA_Basal\", \"gene_one\": 0.766361977877137, \"gene_two\": 0.531675790790845}, {\"Subtype\": \"BRCA_LumB\", \"gene_one\": 0.0, \"gene_two\": 0.0}, {\"Subtype\": \"BRCA_Basal\", \"gene_one\": 0.0, \"gene_two\": 0.0}, {\"Subtype\": \"BRCA_LumA\", \"gene_one\": 0.732434957597428, \"gene_two\": 0.0}, {\"Subtype\": \"BRCA_LumA\", \"gene_one\": 0.0, \"gene_two\": 0.0}, {\"Subtype\": \"BRCA_LumA\", \"gene_one\": 2.10091179794607, \"gene_two\": 0.145754091903552}, {\"Subtype\": \"BRCA_LumA\", \"gene_one\": 0.0, \"gene_two\": 0.114572906713089}, {\"Subtype\": \"BRCA_Basal\", \"gene_one\": 0.0, \"gene_two\": 0.0}, {\"Subtype\": \"BRCA_LumA\", \"gene_one\": 5.63463889591033, \"gene_two\": 0.0}, {\"Subtype\": \"BRCA_Her2\", \"gene_one\": 0.0, \"gene_two\": 0.167674436267084}, {\"Subtype\": \"BRCA_Basal\", \"gene_one\": 0.0, \"gene_two\": 0.0}, {\"Subtype\": \"BRCA_LumB\", \"gene_one\": 0.0, \"gene_two\": 0.0}, {\"Subtype\": \"BRCA_LumB\", \"gene_one\": 0.0, \"gene_two\": 0.262055381922597}, {\"Subtype\": \"BRCA_Basal\", \"gene_one\": 0.75426294198436, \"gene_two\": 0.0}, {\"Subtype\": \"BRCA_LumA\", \"gene_one\": 0.823234325806843, \"gene_two\": 0.0}, {\"Subtype\": \"BRCA_LumB\", \"gene_one\": 0.0, \"gene_two\": 0.071267882694924}, {\"Subtype\": \"BRCA_LumB\", \"gene_one\": 0.0, \"gene_two\": 0.10804467797082}, {\"Subtype\": \"BRCA_Basal\", \"gene_one\": 0.0, \"gene_two\": 0.068608223886361}, {\"Subtype\": \"BRCA_LumB\", \"gene_one\": 0.0, \"gene_two\": 0.0}, {\"Subtype\": \"BRCA_Normal\", \"gene_one\": 1.66771100492268, \"gene_two\": 0.578500495161233}, {\"Subtype\": \"BRCA_LumB\", \"gene_one\": 0.0, \"gene_two\": 0.180270432960538}, {\"Subtype\": \"BRCA_LumA\", \"gene_one\": 1.8145219689875, \"gene_two\": 1.25885342777141}, {\"Subtype\": \"BRCA_Basal\", \"gene_one\": 0.0, \"gene_two\": 0.396162613864261}, {\"Subtype\": \"BRCA_LumA\", \"gene_one\": 0.660923244532589, \"gene_two\": 0.275115597196586}, {\"Subtype\": \"BRCA_LumB\", \"gene_one\": 0.0, \"gene_two\": 0.437336229545822}, {\"Subtype\": \"BRCA_LumA\", \"gene_one\": 4.93174667932382, \"gene_two\": 0.0}, {\"Subtype\": \"BRCA_LumB\", \"gene_one\": 0.814287591069144, \"gene_two\": 0.0}, {\"Subtype\": \"BRCA_LumA\", \"gene_one\": 0.0, \"gene_two\": 0.2945644267879}, {\"Subtype\": \"BRCA_LumA\", \"gene_one\": 0.0, \"gene_two\": 0.0}, {\"Subtype\": \"BRCA_LumA\", \"gene_one\": 0.964491332596, \"gene_two\": 0.2676524706442}, {\"Subtype\": \"BRCA_Basal\", \"gene_one\": 0.0, \"gene_two\": 0.0}, {\"Subtype\": \"BRCA_LumA\", \"gene_one\": 0.0, \"gene_two\": 0.406863800972274}, {\"Subtype\": \"BRCA_Basal\", \"gene_one\": 0.899996287034172, \"gene_two\": 0.249754685868141}, {\"Subtype\": \"BRCA_LumA\", \"gene_one\": 0.0, \"gene_two\": 0.0}, {\"Subtype\": \"BRCA_LumA\", \"gene_one\": 0.0, \"gene_two\": 0.0}, {\"Subtype\": \"BRCA_LumA\", \"gene_one\": 0.0, \"gene_two\": 0.0}, {\"Subtype\": \"BRCA_Basal\", \"gene_one\": 0.0, \"gene_two\": 0.227381979779787}, {\"Subtype\": \"BRCA_Basal\", \"gene_one\": 1.47227907791333, \"gene_two\": 0.0}, {\"Subtype\": \"BRCA_LumA\", \"gene_one\": 0.981802722741722, \"gene_two\": 0.136228245680582}, {\"Subtype\": \"BRCA_LumA\", \"gene_one\": 0.0, \"gene_two\": 0.409864213386156}, {\"Subtype\": \"BRCA_LumB\", \"gene_one\": 0.0, \"gene_two\": 0.0}, {\"Subtype\": \"BRCA_LumA\", \"gene_one\": 1.19862970571554, \"gene_two\": 0.0}, {\"Subtype\": \"BRCA_LumA\", \"gene_one\": 0.0, \"gene_two\": 0.192973351836069}, {\"Subtype\": \"BRCA_LumA\", \"gene_one\": 0.0, \"gene_two\": 0.421018382867045}, {\"Subtype\": \"BRCA_Basal\", \"gene_one\": 0.0, \"gene_two\": 0.0}, {\"Subtype\": \"BRCA_LumA\", \"gene_one\": 5.33177346545075, \"gene_two\": 0.0}, {\"Subtype\": \"BRCA_Normal\", \"gene_one\": 0.866130057524604, \"gene_two\": 0.0}, {\"Subtype\": \"BRCA_Normal\", \"gene_one\": 0.0, \"gene_two\": 0.0}, {\"Subtype\": \"BRCA_LumB\", \"gene_one\": 0.0, \"gene_two\": 0.090221268069945}, {\"Subtype\": \"BRCA_Basal\", \"gene_one\": 0.0, \"gene_two\": 0.198385690233792}, {\"Subtype\": \"BRCA_LumA\", \"gene_one\": 0.0, \"gene_two\": 0.0}, {\"Subtype\": \"BRCA_LumA\", \"gene_one\": 0.871108430017267, \"gene_two\": 0.0}, {\"Subtype\": \"BRCA_LumA\", \"gene_one\": 0.0, \"gene_two\": 0.0}, {\"Subtype\": \"BRCA_LumA\", \"gene_one\": 0.0, \"gene_two\": 0.0}, {\"Subtype\": \"BRCA_Normal\", \"gene_one\": 0.0, \"gene_two\": 0.357900129450083}, {\"Subtype\": \"BRCA_LumB\", \"gene_one\": 0.0, \"gene_two\": 0.236374545433023}, {\"Subtype\": \"BRCA_Basal\", \"gene_one\": 1.3223322837016, \"gene_two\": 0.0}, {\"Subtype\": \"BRCA_LumB\", \"gene_one\": 0.0, \"gene_two\": 0.0}, {\"Subtype\": \"BRCA_LumA\", \"gene_one\": 0.0, \"gene_two\": 0.0}, {\"Subtype\": \"BRCA_LumA\", \"gene_one\": 0.0, \"gene_two\": 0.212003606768301}, {\"Subtype\": \"BRCA_LumA\", \"gene_one\": 2.69967084605419, \"gene_two\": 0.0}, {\"Subtype\": \"BRCA_LumB\", \"gene_one\": 0.0, \"gene_two\": 0.0}, {\"Subtype\": \"BRCA_Her2\", \"gene_one\": 0.932955197432554, \"gene_two\": 0.0}, {\"Subtype\": \"BRCA_LumA\", \"gene_one\": 2.95871590557548, \"gene_two\": 0.410531227859796}, {\"Subtype\": \"BRCA_LumA\", \"gene_one\": 0.0, \"gene_two\": 0.0}, {\"Subtype\": \"BRCA_LumB\", \"gene_one\": 2.42158193515442, \"gene_two\": 0.0}, {\"Subtype\": \"BRCA_LumB\", \"gene_one\": 0.0, \"gene_two\": 0.097759597050054}, {\"Subtype\": \"BRCA_LumA\", \"gene_one\": 0.952767915269037, \"gene_two\": 0.0}, {\"Subtype\": \"BRCA_LumA\", \"gene_one\": 1.77420237839126, \"gene_two\": 0.123088107158112}, {\"Subtype\": \"BRCA_LumB\", \"gene_one\": 0.0, \"gene_two\": 0.0}, {\"Subtype\": \"BRCA_Basal\", \"gene_one\": 0.0, \"gene_two\": 1.90226754304447}, {\"Subtype\": \"BRCA_LumA\", \"gene_one\": 0.0, \"gene_two\": 0.0}, {\"Subtype\": \"BRCA_Basal\", \"gene_one\": 0.610204634343351, \"gene_two\": 0.0}, {\"Subtype\": \"BRCA_LumA\", \"gene_one\": 0.0, \"gene_two\": 0.0}, {\"Subtype\": \"BRCA_Basal\", \"gene_one\": 6.45730081210447, \"gene_two\": 0.497761663365818}, {\"Subtype\": \"BRCA_LumA\", \"gene_one\": 0.0, \"gene_two\": 0.515898432066143}, {\"Subtype\": \"BRCA_LumA\", \"gene_one\": 0.0, \"gene_two\": 0.0}, {\"Subtype\": \"BRCA_LumB\", \"gene_one\": 0.0, \"gene_two\": 0.0889425608170844}, {\"Subtype\": \"BRCA_LumA\", \"gene_one\": 1.12438390705928, \"gene_two\": 0.0}, {\"Subtype\": \"BRCA_LumA\", \"gene_one\": 2.92081737880886, \"gene_two\": 1.21581806075233}, {\"Subtype\": \"BRCA_Her2\", \"gene_one\": 0.0, \"gene_two\": 0.0}, {\"Subtype\": \"BRCA_LumA\", \"gene_one\": 0.0, \"gene_two\": 0.0}, {\"Subtype\": \"BRCA_LumA\", \"gene_one\": 0.0, \"gene_two\": 0.0961163653875901}, {\"Subtype\": \"BRCA_LumA\", \"gene_one\": 3.02835605018823, \"gene_two\": 0.672310430528283}, {\"Subtype\": \"BRCA_LumA\", \"gene_one\": 1.24969130549515, \"gene_two\": 0.346797274535997}, {\"Subtype\": \"BRCA_Basal\", \"gene_one\": 0.0, \"gene_two\": 0.0}, {\"Subtype\": \"BRCA_Her2\", \"gene_one\": 0.0, \"gene_two\": 0.180528415779678}, {\"Subtype\": \"BRCA_Her2\", \"gene_one\": 0.70290607080139, \"gene_two\": 0.195060899068896}, {\"Subtype\": \"BRCA_LumA\", \"gene_one\": 0.973594232436878, \"gene_two\": 0.27017858316621}, {\"Subtype\": \"BRCA_LumB\", \"gene_one\": 0.0, \"gene_two\": 0.0946462887770166}, {\"Subtype\": \"BRCA_LumA\", \"gene_one\": 0.0, \"gene_two\": 0.201986191319262}, {\"Subtype\": \"BRCA_LumB\", \"gene_one\": 0.0, \"gene_two\": 0.0}, {\"Subtype\": \"BRCA_LumA\", \"gene_one\": 0.0, \"gene_two\": 0.0}, {\"Subtype\": \"BRCA_LumA\", \"gene_one\": 1.84153596641563, \"gene_two\": 0.0}, {\"Subtype\": \"BRCA_LumB\", \"gene_one\": 1.58980667903994, \"gene_two\": 0.551476813621766}, {\"Subtype\": \"BRCA_LumA\", \"gene_one\": 0.0, \"gene_two\": 0.0}, {\"Subtype\": \"BRCA_LumB\", \"gene_one\": 0.0, \"gene_two\": 0.0}, {\"Subtype\": \"BRCA_LumA\", \"gene_one\": 0.644467163874626, \"gene_two\": 0.178843731229649}, {\"Subtype\": \"BRCA_Basal\", \"gene_one\": 0.0, \"gene_two\": 0.0}, {\"Subtype\": \"BRCA_LumB\", \"gene_one\": 0.0, \"gene_two\": 0.105583319448664}, {\"Subtype\": \"BRCA_Her2\", \"gene_one\": 0.0, \"gene_two\": 0.0}, {\"Subtype\": \"BRCA_Her2\", \"gene_one\": 0.0, \"gene_two\": 0.0}, {\"Subtype\": \"BRCA_LumA\", \"gene_one\": 0.866718191829804, \"gene_two\": 0.120259901543402}, {\"Subtype\": \"BRCA_LumA\", \"gene_one\": 0.0, \"gene_two\": 0.0}, {\"Subtype\": \"BRCA_Basal\", \"gene_one\": 1.19017555843905, \"gene_two\": 0.0825703191803681}, {\"Subtype\": \"BRCA_LumA\", \"gene_one\": 2.71159181541161, \"gene_two\": 0.125413991853532}, {\"Subtype\": \"BRCA_LumB\", \"gene_one\": 0.0, \"gene_two\": 0.0}, {\"Subtype\": \"BRCA_LumB\", \"gene_one\": 0.0, \"gene_two\": 0.0}, {\"Subtype\": \"BRCA_Her2\", \"gene_one\": 0.663562503901609, \"gene_two\": 0.0}, {\"Subtype\": \"BRCA_LumA\", \"gene_one\": 0.0, \"gene_two\": 0.0}, {\"Subtype\": \"BRCA_LumA\", \"gene_one\": 0.0, \"gene_two\": 0.0}, {\"Subtype\": \"BRCA_LumA\", \"gene_one\": 2.16691224108587, \"gene_two\": 0.0}, {\"Subtype\": \"BRCA_LumA\", \"gene_one\": 0.0, \"gene_two\": 0.0}, {\"Subtype\": \"BRCA_LumB\", \"gene_one\": 0.0, \"gene_two\": 0.0}, {\"Subtype\": \"BRCA_LumA\", \"gene_one\": 0.0, \"gene_two\": 0.0}, {\"Subtype\": \"BRCA_Basal\", \"gene_one\": 0.886438132375512, \"gene_two\": 0.0}, {\"Subtype\": \"BRCA_LumB\", \"gene_one\": 0.0, \"gene_two\": 0.262871015489169}, {\"Subtype\": \"BRCA_LumB\", \"gene_one\": 0.0, \"gene_two\": 0.261253675027181}, {\"Subtype\": \"BRCA_Basal\", \"gene_one\": 0.0, \"gene_two\": 0.0}, {\"Subtype\": \"BRCA_Basal\", \"gene_one\": 22.0749305415239, \"gene_two\": 0.30629667157488}, {\"Subtype\": \"BRCA_LumA\", \"gene_one\": 1.66122869532842, \"gene_two\": 0.0}, {\"Subtype\": \"BRCA_LumA\", \"gene_one\": 3.07861176810674, \"gene_two\": 0.0854334319075651}, {\"Subtype\": \"BRCA_LumA\", \"gene_one\": 0.0, \"gene_two\": 0.0}, {\"Subtype\": \"BRCA_LumA\", \"gene_one\": 0.0, \"gene_two\": 0.0}, {\"Subtype\": \"BRCA_Basal\", \"gene_one\": 0.0, \"gene_two\": 0.0}, {\"Subtype\": \"BRCA_LumB\", \"gene_one\": 0.0, \"gene_two\": 0.0}, {\"Subtype\": \"BRCA_LumA\", \"gene_one\": 0.0, \"gene_two\": 0.0}, {\"Subtype\": \"BRCA_LumA\", \"gene_one\": 0.0, \"gene_two\": 0.0}, {\"Subtype\": \"BRCA_LumB\", \"gene_one\": 0.0, \"gene_two\": 0.0}, {\"Subtype\": \"BRCA_LumA\", \"gene_one\": 0.0, \"gene_two\": 0.0}, {\"Subtype\": \"BRCA_LumA\", \"gene_one\": 0.753391536586698, \"gene_two\": 0.313606404715272}, {\"Subtype\": \"BRCA_LumA\", \"gene_one\": 0.0, \"gene_two\": 0.0}, {\"Subtype\": \"BRCA_LumA\", \"gene_one\": 1.94387329691437, \"gene_two\": 0.0899061976947681}, {\"Subtype\": \"BRCA_LumB\", \"gene_one\": 0.0, \"gene_two\": 0.0}, {\"Subtype\": \"BRCA_LumA\", \"gene_one\": 0.0, \"gene_two\": 0.0}, {\"Subtype\": \"BRCA_LumA\", \"gene_one\": 0.757603986283762, \"gene_two\": 0.0}, {\"Subtype\": \"BRCA_Basal\", \"gene_one\": 0.0, \"gene_two\": 0.127594102937797}, {\"Subtype\": \"BRCA_LumB\", \"gene_one\": 0.57014959589469, \"gene_two\": 0.0791100670478024}, {\"Subtype\": \"BRCA_Her2\", \"gene_one\": 0.0, \"gene_two\": 0.0}, {\"Subtype\": \"BRCA_LumA\", \"gene_one\": 0.0, \"gene_two\": 0.0}, {\"Subtype\": \"BRCA_LumA\", \"gene_one\": 1.02835754839947, \"gene_two\": 0.142687875584034}, {\"Subtype\": \"BRCA_LumA\", \"gene_one\": 0.884734963795, \"gene_two\": 0.122759785869561}, {\"Subtype\": \"BRCA_LumB\", \"gene_one\": 0.0, \"gene_two\": 0.102266804082677}, {\"Subtype\": \"BRCA_LumA\", \"gene_one\": 1.89417097036445, \"gene_two\": 0.525644474871167}, {\"Subtype\": \"BRCA_Basal\", \"gene_one\": 0.0, \"gene_two\": 0.206604466016211}, {\"Subtype\": \"BRCA_LumB\", \"gene_one\": 0.0, \"gene_two\": 0.163619086852599}, {\"Subtype\": \"BRCA_LumA\", \"gene_one\": 4.4541848055478, \"gene_two\": 0.0}, {\"Subtype\": \"BRCA_LumA\", \"gene_one\": 1.36257852113942, \"gene_two\": 0.0}, {\"Subtype\": \"BRCA_LumB\", \"gene_one\": 0.0, \"gene_two\": 0.11042613950923}, {\"Subtype\": \"BRCA_LumA\", \"gene_one\": 0.0, \"gene_two\": 0.0}, {\"Subtype\": \"BRCA_LumA\", \"gene_one\": 0.0, \"gene_two\": 0.466186544370412}, {\"Subtype\": \"BRCA_LumB\", \"gene_one\": 1.95245326304371, \"gene_two\": 0.0}, {\"Subtype\": \"BRCA_LumA\", \"gene_one\": 0.958246235880602, \"gene_two\": 0.13295970831995}, {\"Subtype\": \"BRCA_Her2\", \"gene_one\": 0.0, \"gene_two\": 0.728334278333255}, {\"Subtype\": \"BRCA_LumB\", \"gene_one\": 0.758242439868329, \"gene_two\": 0.0}, {\"Subtype\": \"BRCA_LumA\", \"gene_one\": 3.09517108685994, \"gene_two\": 0.107366204400676}, {\"Subtype\": \"BRCA_LumA\", \"gene_one\": 0.0, \"gene_two\": 0.101820294930973}, {\"Subtype\": \"BRCA_LumA\", \"gene_one\": 8.05909915667343, \"gene_two\": 0.0}, {\"Subtype\": \"BRCA_LumA\", \"gene_one\": 0.660827342796859, \"gene_two\": 0.0}, {\"Subtype\": \"BRCA_LumA\", \"gene_one\": 2.02291716431054, \"gene_two\": 0.0935620602344502}, {\"Subtype\": \"BRCA_LumB\", \"gene_one\": 0.0, \"gene_two\": 0.0}, {\"Subtype\": \"BRCA_Basal\", \"gene_one\": 0.0, \"gene_two\": 0.226928747944055}, {\"Subtype\": \"BRCA_LumA\", \"gene_one\": 0.0, \"gene_two\": 0.0}, {\"Subtype\": \"BRCA_LumA\", \"gene_one\": 0.0, \"gene_two\": 0.164325395975763}, {\"Subtype\": \"BRCA_LumB\", \"gene_one\": 0.0, \"gene_two\": 0.314429355540227}, {\"Subtype\": \"BRCA_LumA\", \"gene_one\": 0.0, \"gene_two\": 0.0}, {\"Subtype\": \"BRCA_LumA\", \"gene_one\": 0.0, \"gene_two\": 0.148983152464107}, {\"Subtype\": \"BRCA_LumA\", \"gene_one\": 1.75460398114366, \"gene_two\": 0.486913748921035}, {\"Subtype\": \"BRCA_LumA\", \"gene_one\": 0.0, \"gene_two\": 0.100904219090227}, {\"Subtype\": \"BRCA_LumA\", \"gene_one\": 0.0, \"gene_two\": 0.103168713422547}, {\"Subtype\": \"BRCA_LumA\", \"gene_one\": 0.0, \"gene_two\": 0.0986374754678914}, {\"Subtype\": \"BRCA_LumA\", \"gene_one\": 0.0, \"gene_two\": 0.212188101349071}, {\"Subtype\": \"BRCA_LumB\", \"gene_one\": 0.0, \"gene_two\": 0.0}, {\"Subtype\": \"BRCA_Basal\", \"gene_one\": 0.520439337637476, \"gene_two\": 0.0}, {\"Subtype\": \"BRCA_Basal\", \"gene_one\": 1.04978991467437, \"gene_two\": 0.0}, {\"Subtype\": \"BRCA_LumA\", \"gene_one\": 3.67495843733569, \"gene_two\": 0.127478038426308}, {\"Subtype\": \"BRCA_LumB\", \"gene_one\": 0.0, \"gene_two\": 0.0}, {\"Subtype\": \"BRCA_Her2\", \"gene_one\": 0.0, \"gene_two\": 0.0}, {\"Subtype\": \"BRCA_Basal\", \"gene_one\": 0.0, \"gene_two\": 0.0}, {\"Subtype\": \"BRCA_LumB\", \"gene_one\": 0.0, \"gene_two\": 0.0803850633014365}, {\"Subtype\": \"BRCA_LumA\", \"gene_one\": 2.12801013443949, \"gene_two\": 0.147634082025658}, {\"Subtype\": \"BRCA_LumA\", \"gene_one\": 0.879743226648667, \"gene_two\": 0.0}, {\"Subtype\": \"BRCA_Basal\", \"gene_one\": 0.0, \"gene_two\": 0.665725923181918}, {\"Subtype\": \"BRCA_Basal\", \"gene_one\": 0.0, \"gene_two\": 0.0}, {\"Subtype\": \"BRCA_LumA\", \"gene_one\": 0.824686599553145, \"gene_two\": 0.114427884636234}, {\"Subtype\": \"BRCA_LumA\", \"gene_one\": 0.0, \"gene_two\": 0.138590856172439}, {\"Subtype\": \"BRCA_LumB\", \"gene_one\": 0.806058053933308, \"gene_two\": 0.0}, {\"Subtype\": \"BRCA_LumA\", \"gene_one\": 0.740761792219827, \"gene_two\": 0.20556610219876}, {\"Subtype\": \"BRCA_LumA\", \"gene_one\": 1.89202396278854, \"gene_two\": 0.0}, {\"Subtype\": \"BRCA_LumA\", \"gene_one\": 0.0, \"gene_two\": 0.0}, {\"Subtype\": \"BRCA_LumA\", \"gene_one\": 0.653463800161345, \"gene_two\": 0.0}, {\"Subtype\": \"BRCA_Basal\", \"gene_one\": 0.0, \"gene_two\": 0.0}, {\"Subtype\": \"BRCA_LumB\", \"gene_one\": 0.0, \"gene_two\": 0.0}, {\"Subtype\": \"BRCA_LumB\", \"gene_one\": 1.8074461123424, \"gene_two\": 0.0}, {\"Subtype\": \"BRCA_LumA\", \"gene_one\": 0.0, \"gene_two\": 0.144723335789102}, {\"Subtype\": \"BRCA_LumA\", \"gene_one\": 0.836445639275449, \"gene_two\": 0.348178466222157}, {\"Subtype\": \"BRCA_Normal\", \"gene_one\": 0.0, \"gene_two\": 0.140638603268944}, {\"Subtype\": \"BRCA_LumB\", \"gene_one\": 0.0, \"gene_two\": 0.0}, {\"Subtype\": \"BRCA_LumB\", \"gene_one\": 0.0, \"gene_two\": 0.0}, {\"Subtype\": \"BRCA_LumA\", \"gene_one\": 0.0, \"gene_two\": 0.0}, {\"Subtype\": \"BRCA_LumB\", \"gene_one\": 0.513228596350764, \"gene_two\": 0.640908878381843}, {\"Subtype\": \"BRCA_LumA\", \"gene_one\": 0.0, \"gene_two\": 0.531666722376823}, {\"Subtype\": \"BRCA_LumB\", \"gene_one\": 0.0, \"gene_two\": 0.0}, {\"Subtype\": \"BRCA_LumB\", \"gene_one\": 0.0, \"gene_two\": 0.0}, {\"Subtype\": \"BRCA_LumA\", \"gene_one\": 0.0, \"gene_two\": 0.110934702598764}, {\"Subtype\": \"BRCA_LumA\", \"gene_one\": 1.08976015951669, \"gene_two\": 0.0}, {\"Subtype\": \"BRCA_LumA\", \"gene_one\": 0.0, \"gene_two\": 0.0}, {\"Subtype\": \"BRCA_Her2\", \"gene_one\": 0.738338887645767, \"gene_two\": 0.0}, {\"Subtype\": \"BRCA_LumA\", \"gene_one\": 3.24940734868819, \"gene_two\": 0.0}, {\"Subtype\": \"BRCA_LumB\", \"gene_one\": 0.0, \"gene_two\": 0.309361668321815}, {\"Subtype\": \"BRCA_LumA\", \"gene_one\": 1.10729700837485, \"gene_two\": 0.153640976342493}, {\"Subtype\": \"BRCA_LumB\", \"gene_one\": 0.0, \"gene_two\": 0.211388016040412}, {\"Subtype\": \"BRCA_LumA\", \"gene_one\": 3.2141570129544, \"gene_two\": 0.0}, {\"Subtype\": \"BRCA_LumA\", \"gene_one\": 1.14615540126751, \"gene_two\": 0.0795163508791938}, {\"Subtype\": \"BRCA_LumB\", \"gene_one\": 0.0, \"gene_two\": 0.0}, {\"Subtype\": \"BRCA_LumA\", \"gene_one\": 2.25908508229344, \"gene_two\": 0.0}, {\"Subtype\": \"BRCA_LumA\", \"gene_one\": 0.0, \"gene_two\": 0.0966391830672786}, {\"Subtype\": \"BRCA_LumB\", \"gene_one\": 0.0, \"gene_two\": 0.0}, {\"Subtype\": \"BRCA_LumA\", \"gene_one\": 0.0, \"gene_two\": 0.0913321466481685}, {\"Subtype\": \"BRCA_LumB\", \"gene_one\": 0.0, \"gene_two\": 0.0}, {\"Subtype\": \"BRCA_LumA\", \"gene_one\": 0.0, \"gene_two\": 0.0}, {\"Subtype\": \"BRCA_LumB\", \"gene_one\": 0.657341050350242, \"gene_two\": 0.0}, {\"Subtype\": \"BRCA_Normal\", \"gene_one\": 0.0, \"gene_two\": 0.0}, {\"Subtype\": \"BRCA_Basal\", \"gene_one\": 0.0, \"gene_two\": 0.0}, {\"Subtype\": \"BRCA_Normal\", \"gene_one\": 0.0, \"gene_two\": 0.0}, {\"Subtype\": \"BRCA_LumA\", \"gene_one\": 0.569160116836924, \"gene_two\": 0.394863868434729}, {\"Subtype\": \"BRCA_Basal\", \"gene_one\": 1.52046416845479, \"gene_two\": 0.421938463789223}, {\"Subtype\": \"BRCA_LumA\", \"gene_one\": 0.0, \"gene_two\": 0.0987421493971655}, {\"Subtype\": \"BRCA_LumA\", \"gene_one\": 0.0, \"gene_two\": 0.0806755168437768}, {\"Subtype\": \"BRCA_LumB\", \"gene_one\": 0.0, \"gene_two\": 0.124275399154435}, {\"Subtype\": \"BRCA_LumA\", \"gene_one\": 0.0, \"gene_two\": 0.0}, {\"Subtype\": \"BRCA_LumA\", \"gene_one\": 0.0, \"gene_two\": 0.352110874985714}, {\"Subtype\": \"BRCA_Her2\", \"gene_one\": 0.0, \"gene_two\": 0.178394138481337}, {\"Subtype\": \"BRCA_LumA\", \"gene_one\": 0.921907369282473, \"gene_two\": 0.255835150358236}, {\"Subtype\": \"BRCA_LumA\", \"gene_one\": 1.22349335593377, \"gene_two\": 0.0}, {\"Subtype\": \"BRCA_LumB\", \"gene_one\": 0.63285987692074, \"gene_two\": 0.087811317688756}, {\"Subtype\": \"BRCA_LumA\", \"gene_one\": 2.41585929491753, \"gene_two\": 0.0}, {\"Subtype\": \"BRCA_LumA\", \"gene_one\": 0.0, \"gene_two\": 0.115163783369519}, {\"Subtype\": \"BRCA_Basal\", \"gene_one\": 0.0, \"gene_two\": 0.0}, {\"Subtype\": \"BRCA_Basal\", \"gene_one\": 0.911277597113931, \"gene_two\": 0.126442660533821}, {\"Subtype\": \"BRCA_LumA\", \"gene_one\": 4.86735011965461, \"gene_two\": 0.0}, {\"Subtype\": \"BRCA_Her2\", \"gene_one\": 0.0, \"gene_two\": 0.119253448350397}, {\"Subtype\": \"BRCA_Normal\", \"gene_one\": 1.64672032422429, \"gene_two\": 0.0}, {\"Subtype\": \"BRCA_LumB\", \"gene_one\": 23.4602722050031, \"gene_two\": 0.0}, {\"Subtype\": \"BRCA_LumA\", \"gene_one\": 0.0, \"gene_two\": 0.0}, {\"Subtype\": \"BRCA_LumA\", \"gene_one\": 0.0, \"gene_two\": 0.0}, {\"Subtype\": \"BRCA_LumA\", \"gene_one\": 0.0, \"gene_two\": 0.112946176037336}, {\"Subtype\": \"BRCA_LumA\", \"gene_one\": 0.824374590050022, \"gene_two\": 0.457538369304038}, {\"Subtype\": \"BRCA_Basal\", \"gene_one\": 0.0, \"gene_two\": 0.0}, {\"Subtype\": \"BRCA_LumA\", \"gene_one\": 0.743320054528835, \"gene_two\": 0.0}, {\"Subtype\": \"BRCA_LumA\", \"gene_one\": 0.0, \"gene_two\": 0.0}, {\"Subtype\": \"BRCA_LumA\", \"gene_one\": 0.953506979128254, \"gene_two\": 0.529208485581097}, {\"Subtype\": \"BRCA_Basal\", \"gene_one\": 1.31523384832059, \"gene_two\": 0.273739309841596}, {\"Subtype\": \"BRCA_Basal\", \"gene_one\": 0.0, \"gene_two\": 0.0}, {\"Subtype\": \"BRCA_LumB\", \"gene_one\": 0.0, \"gene_two\": 0.122492139276217}, {\"Subtype\": \"BRCA_Her2\", \"gene_one\": 2.99608446131109, \"gene_two\": 0.138572077880374}, {\"Subtype\": \"BRCA_Her2\", \"gene_one\": 0.0, \"gene_two\": 0.0}, {\"Subtype\": \"BRCA_Her2\", \"gene_one\": 0.0, \"gene_two\": 0.0}, {\"Subtype\": \"BRCA_LumB\", \"gene_one\": 0.0, \"gene_two\": 0.0}, {\"Subtype\": \"BRCA_LumA\", \"gene_one\": 0.0, \"gene_two\": 0.0}, {\"Subtype\": \"BRCA_LumA\", \"gene_one\": 0.591469117875438, \"gene_two\": 0.0}, {\"Subtype\": \"BRCA_LumB\", \"gene_one\": 0.0, \"gene_two\": 0.283987015068144}, {\"Subtype\": \"BRCA_LumB\", \"gene_one\": 0.0, \"gene_two\": 0.250087267849907}, {\"Subtype\": \"BRCA_LumA\", \"gene_one\": 0.0, \"gene_two\": 0.119147588894806}, {\"Subtype\": \"BRCA_LumA\", \"gene_one\": 0.0, \"gene_two\": 0.119916402810544}, {\"Subtype\": \"BRCA_LumA\", \"gene_one\": 0.0, \"gene_two\": 0.252089606723244}, {\"Subtype\": \"BRCA_LumA\", \"gene_one\": 0.0, \"gene_two\": 0.515214500424117}, {\"Subtype\": \"BRCA_LumA\", \"gene_one\": 0.0, \"gene_two\": 0.0}, {\"Subtype\": \"BRCA_LumB\", \"gene_one\": 0.0, \"gene_two\": 0.295985975514872}, {\"Subtype\": \"BRCA_Basal\", \"gene_one\": 0.0, \"gene_two\": 0.0}, {\"Subtype\": \"BRCA_LumB\", \"gene_one\": 5.64336337989425, \"gene_two\": 0.261011530175316}, {\"Subtype\": \"BRCA_LumA\", \"gene_one\": 0.62922911817433, \"gene_two\": 0.17461507676523}, {\"Subtype\": \"BRCA_Her2\", \"gene_one\": 0.0, \"gene_two\": 0.357632749120918}, {\"Subtype\": \"BRCA_Basal\", \"gene_one\": 0.700381948882939, \"gene_two\": 0.0971802196025188}, {\"Subtype\": \"BRCA_LumB\", \"gene_one\": 0.0, \"gene_two\": 0.0}, {\"Subtype\": \"BRCA_LumB\", \"gene_one\": 0.0, \"gene_two\": 0.0}, {\"Subtype\": \"BRCA_LumB\", \"gene_one\": 2.12689963966798, \"gene_two\": 0.295114079375398}, {\"Subtype\": \"BRCA_LumA\", \"gene_one\": 0.0, \"gene_two\": 0.115798289833474}, {\"Subtype\": \"BRCA_LumA\", \"gene_one\": 0.0, \"gene_two\": 0.0}, {\"Subtype\": \"BRCA_Her2\", \"gene_one\": 0.0, \"gene_two\": 0.0}, {\"Subtype\": \"BRCA_Basal\", \"gene_one\": 0.0, \"gene_two\": 0.0}, {\"Subtype\": \"BRCA_LumA\", \"gene_one\": 0.961256928993526, \"gene_two\": 0.266754903101164}, {\"Subtype\": \"BRCA_LumA\", \"gene_one\": 0.0, \"gene_two\": 0.0}, {\"Subtype\": \"BRCA_Basal\", \"gene_one\": 0.0, \"gene_two\": 0.521909118859926}, {\"Subtype\": \"BRCA_LumB\", \"gene_one\": 0.749547784712765, \"gene_two\": 0.0}, {\"Subtype\": \"BRCA_Her2\", \"gene_one\": 1.36222038488122, \"gene_two\": 0.0}, {\"Subtype\": \"BRCA_LumA\", \"gene_one\": 1.16613045014181, \"gene_two\": 0.0}, {\"Subtype\": \"BRCA_Normal\", \"gene_one\": 0.0, \"gene_two\": 0.0}, {\"Subtype\": \"BRCA_Normal\", \"gene_one\": 3.12208137094207, \"gene_two\": 0.57759827330116}, {\"Subtype\": \"BRCA_LumB\", \"gene_one\": 0.0, \"gene_two\": 0.0}, {\"Subtype\": \"BRCA_LumA\", \"gene_one\": 0.0, \"gene_two\": 0.0}, {\"Subtype\": \"BRCA_Basal\", \"gene_one\": 0.926736500450239, \"gene_two\": 0.0}, {\"Subtype\": \"BRCA_LumA\", \"gene_one\": 0.893790457205134, \"gene_two\": 0.0}, {\"Subtype\": \"BRCA_Her2\", \"gene_one\": 0.0, \"gene_two\": 0.0}, {\"Subtype\": \"BRCA_Her2\", \"gene_one\": 0.0, \"gene_two\": 0.228461235107348}, {\"Subtype\": \"BRCA_LumB\", \"gene_one\": 0.0, \"gene_two\": 0.341937816279428}, {\"Subtype\": \"BRCA_LumA\", \"gene_one\": 0.0, \"gene_two\": 0.140796977622033}, {\"Subtype\": \"BRCA_Her2\", \"gene_one\": 0.0, \"gene_two\": 0.0}, {\"Subtype\": \"BRCA_Her2\", \"gene_one\": 0.0, \"gene_two\": 0.0971264751099198}, {\"Subtype\": \"BRCA_LumB\", \"gene_one\": 0.0, \"gene_two\": 0.0953407951673993}, {\"Subtype\": \"BRCA_LumA\", \"gene_one\": 1.84685894180306, \"gene_two\": 0.0}, {\"Subtype\": \"BRCA_LumA\", \"gene_one\": 0.0, \"gene_two\": 0.0}, {\"Subtype\": \"BRCA_LumA\", \"gene_one\": 0.0, \"gene_two\": 0.28203423123661}, {\"Subtype\": \"BRCA_Basal\", \"gene_one\": 0.0, \"gene_two\": 0.343254237724634}, {\"Subtype\": \"BRCA_Her2\", \"gene_one\": 0.0, \"gene_two\": 0.076712675593265}, {\"Subtype\": \"BRCA_Basal\", \"gene_one\": 0.686747069373019, \"gene_two\": 0.190576673541159}, {\"Subtype\": \"BRCA_LumB\", \"gene_one\": 0.0, \"gene_two\": 0.0}, {\"Subtype\": \"BRCA_LumB\", \"gene_one\": 0.0, \"gene_two\": 0.0}, {\"Subtype\": \"BRCA_Basal\", \"gene_one\": 0.0, \"gene_two\": 0.077397944164516}, {\"Subtype\": \"BRCA_Basal\", \"gene_one\": 0.611640895206132, \"gene_two\": 0.0}, {\"Subtype\": \"BRCA_LumA\", \"gene_one\": 0.0, \"gene_two\": 0.110687261841183}, {\"Subtype\": \"BRCA_LumB\", \"gene_one\": 0.0, \"gene_two\": 0.0}, {\"Subtype\": \"BRCA_LumB\", \"gene_one\": 0.0, \"gene_two\": 0.303566884502356}, {\"Subtype\": \"BRCA_LumB\", \"gene_one\": 0.0, \"gene_two\": 0.0}, {\"Subtype\": \"BRCA_LumB\", \"gene_one\": 0.0, \"gene_two\": 0.0}, {\"Subtype\": \"BRCA_LumA\", \"gene_one\": 1.07190053576994, \"gene_two\": 0.0}, {\"Subtype\": \"BRCA_LumA\", \"gene_one\": 0.0, \"gene_two\": 0.0}, {\"Subtype\": \"BRCA_Basal\", \"gene_one\": 1.07547183933033, \"gene_two\": 0.29845026614249}, {\"Subtype\": \"BRCA_Basal\", \"gene_one\": 0.0, \"gene_two\": 0.0}, {\"Subtype\": \"BRCA_Basal\", \"gene_one\": 3.45657794165636, \"gene_two\": 0.119902791605441}, {\"Subtype\": \"BRCA_LumA\", \"gene_one\": 0.800841562708842, \"gene_two\": 0.222238620098564}, {\"Subtype\": \"BRCA_LumA\", \"gene_one\": 2.65536932684257, \"gene_two\": 0.0921102316815563}, {\"Subtype\": \"BRCA_LumA\", \"gene_one\": 0.0, \"gene_two\": 0.0}, {\"Subtype\": \"BRCA_LumB\", \"gene_one\": 0.0, \"gene_two\": 0.24837628701052}, {\"Subtype\": \"BRCA_LumA\", \"gene_one\": 0.0, \"gene_two\": 0.0}, {\"Subtype\": \"BRCA_LumA\", \"gene_one\": 2.4007488129017, \"gene_two\": 0.0}, {\"Subtype\": \"BRCA_LumA\", \"gene_one\": 0.0, \"gene_two\": 0.151088646152489}, {\"Subtype\": \"BRCA_Her2\", \"gene_one\": 1.45545665856296, \"gene_two\": 0.201949233453223}]}}, {\"mode\": \"vega-lite\"});\n",
       "</script>"
      ],
      "text/plain": [
       "alt.FacetChart(...)"
      ]
     },
     "execution_count": 12,
     "metadata": {},
     "output_type": "execute_result"
    }
   ],
   "source": [
    "to_plot = df[[\"Subtype\", \"ENSG00000242268.2\", \"ENSG00000270112.3\"]]\n",
    "to_plot.columns= ['Subtype', 'gene_one', 'gene_two']\n",
    "\n",
    "alt.Chart(to_plot).mark_circle().encode(\n",
    "    alt.X(\"gene_one\", scale= alt.Scale(zero=False)),\n",
    "    alt.Y(\"gene_two\", scale= alt.Scale(zero=False)), \n",
    "    color= \"Subtype\",\n",
    "    size= \"gene_one\"\n",
    ").facet(\n",
    "    facet=\"Subtype\",\n",
    "    columns=2\n",
    ")"
   ]
  },
  {
   "cell_type": "markdown",
   "id": "24c7d486",
   "metadata": {
    "papermill": {
     "duration": 0.042516,
     "end_time": "2022-02-22T02:14:37.562964",
     "exception": false,
     "start_time": "2022-02-22T02:14:37.520448",
     "status": "completed"
    },
    "tags": []
   },
   "source": [
    "\n",
    "<a id=\"5\"></a>\n",
    "# <span style=\"color:#1F618D;\">*Machine Learning Models*</span>"
   ]
  },
  {
   "cell_type": "code",
   "execution_count": 13,
   "id": "90f1e388",
   "metadata": {
    "execution": {
     "iopub.execute_input": "2022-02-22T02:14:37.680297Z",
     "iopub.status.busy": "2022-02-22T02:14:37.679362Z",
     "iopub.status.idle": "2022-02-22T02:14:37.757066Z",
     "shell.execute_reply": "2022-02-22T02:14:37.756406Z",
     "shell.execute_reply.started": "2022-02-22T02:11:38.627908Z"
    },
    "papermill": {
     "duration": 0.151093,
     "end_time": "2022-02-22T02:14:37.757197",
     "exception": false,
     "start_time": "2022-02-22T02:14:37.606104",
     "status": "completed"
    },
    "tags": []
   },
   "outputs": [],
   "source": [
    "y = df.Subtype\n",
    "X = df.drop(\"Subtype\", axis=1)"
   ]
  },
  {
   "cell_type": "markdown",
   "id": "1512102a",
   "metadata": {
    "papermill": {
     "duration": 0.043552,
     "end_time": "2022-02-22T02:14:37.845027",
     "exception": false,
     "start_time": "2022-02-22T02:14:37.801475",
     "status": "completed"
    },
    "tags": []
   },
   "source": [
    "## <span style=\"color:#7E9FB8;\">Splitting Data Into Training And Testing Sets</span>"
   ]
  },
  {
   "cell_type": "code",
   "execution_count": 14,
   "id": "759b508a",
   "metadata": {
    "execution": {
     "iopub.execute_input": "2022-02-22T02:14:37.936525Z",
     "iopub.status.busy": "2022-02-22T02:14:37.934054Z",
     "iopub.status.idle": "2022-02-22T02:14:39.379136Z",
     "shell.execute_reply": "2022-02-22T02:14:39.378501Z",
     "shell.execute_reply.started": "2022-02-22T02:11:40.228062Z"
    },
    "papermill": {
     "duration": 1.490954,
     "end_time": "2022-02-22T02:14:39.379284",
     "exception": false,
     "start_time": "2022-02-22T02:14:37.888330",
     "status": "completed"
    },
    "tags": []
   },
   "outputs": [],
   "source": [
    "from sklearn.model_selection import train_test_split\n",
    "\n",
    "X_train, X_test, y_train, y_test = train_test_split(\n",
    "    X, y, test_size=0.2, random_state=0\n",
    ")"
   ]
  },
  {
   "cell_type": "markdown",
   "id": "80776d94",
   "metadata": {
    "papermill": {
     "duration": 0.043401,
     "end_time": "2022-02-22T02:14:39.466430",
     "exception": false,
     "start_time": "2022-02-22T02:14:39.423029",
     "status": "completed"
    },
    "tags": []
   },
   "source": [
    "<a id=\"6\"></a>\n",
    "# <span style=\"color:#1F618D;\">Random Forest</span>"
   ]
  },
  {
   "cell_type": "markdown",
   "id": "c8a34d10",
   "metadata": {
    "papermill": {
     "duration": 0.043724,
     "end_time": "2022-02-22T02:14:39.554254",
     "exception": false,
     "start_time": "2022-02-22T02:14:39.510530",
     "status": "completed"
    },
    "tags": []
   },
   "source": [
    "## <span style=\"color:#7E9FB8;\">Choosing the optimal muximum tree depth from range 1 to 20</span>"
   ]
  },
  {
   "cell_type": "code",
   "execution_count": 15,
   "id": "20fd850f",
   "metadata": {
    "execution": {
     "iopub.execute_input": "2022-02-22T02:14:39.643845Z",
     "iopub.status.busy": "2022-02-22T02:14:39.643223Z",
     "iopub.status.idle": "2022-02-22T02:16:18.611838Z",
     "shell.execute_reply": "2022-02-22T02:16:18.612252Z",
     "shell.execute_reply.started": "2022-02-22T02:11:01.052366Z"
    },
    "papermill": {
     "duration": 99.01557,
     "end_time": "2022-02-22T02:16:18.612410",
     "exception": false,
     "start_time": "2022-02-22T02:14:39.596840",
     "status": "completed"
    },
    "tags": []
   },
   "outputs": [
    {
     "data": {
      "text/html": [
       "<div>\n",
       "<style scoped>\n",
       "    .dataframe tbody tr th:only-of-type {\n",
       "        vertical-align: middle;\n",
       "    }\n",
       "\n",
       "    .dataframe tbody tr th {\n",
       "        vertical-align: top;\n",
       "    }\n",
       "\n",
       "    .dataframe thead th {\n",
       "        text-align: right;\n",
       "    }\n",
       "</style>\n",
       "<table border=\"1\" class=\"dataframe\">\n",
       "  <thead>\n",
       "    <tr style=\"text-align: right;\">\n",
       "      <th></th>\n",
       "      <th>max_depth</th>\n",
       "      <th>Accuracy</th>\n",
       "    </tr>\n",
       "  </thead>\n",
       "  <tbody>\n",
       "    <tr>\n",
       "      <th>0</th>\n",
       "      <td>1</td>\n",
       "      <td>0.704663</td>\n",
       "    </tr>\n",
       "    <tr>\n",
       "      <th>1</th>\n",
       "      <td>2</td>\n",
       "      <td>0.740933</td>\n",
       "    </tr>\n",
       "    <tr>\n",
       "      <th>2</th>\n",
       "      <td>3</td>\n",
       "      <td>0.787565</td>\n",
       "    </tr>\n",
       "    <tr>\n",
       "      <th>3</th>\n",
       "      <td>4</td>\n",
       "      <td>0.839378</td>\n",
       "    </tr>\n",
       "    <tr>\n",
       "      <th>4</th>\n",
       "      <td>5</td>\n",
       "      <td>0.839378</td>\n",
       "    </tr>\n",
       "    <tr>\n",
       "      <th>5</th>\n",
       "      <td>6</td>\n",
       "      <td>0.829016</td>\n",
       "    </tr>\n",
       "    <tr>\n",
       "      <th>6</th>\n",
       "      <td>7</td>\n",
       "      <td>0.854922</td>\n",
       "    </tr>\n",
       "    <tr>\n",
       "      <th>7</th>\n",
       "      <td>8</td>\n",
       "      <td>0.844560</td>\n",
       "    </tr>\n",
       "    <tr>\n",
       "      <th>8</th>\n",
       "      <td>9</td>\n",
       "      <td>0.844560</td>\n",
       "    </tr>\n",
       "    <tr>\n",
       "      <th>9</th>\n",
       "      <td>10</td>\n",
       "      <td>0.860104</td>\n",
       "    </tr>\n",
       "    <tr>\n",
       "      <th>10</th>\n",
       "      <td>11</td>\n",
       "      <td>0.860104</td>\n",
       "    </tr>\n",
       "    <tr>\n",
       "      <th>11</th>\n",
       "      <td>12</td>\n",
       "      <td>0.860104</td>\n",
       "    </tr>\n",
       "    <tr>\n",
       "      <th>12</th>\n",
       "      <td>13</td>\n",
       "      <td>0.839378</td>\n",
       "    </tr>\n",
       "    <tr>\n",
       "      <th>13</th>\n",
       "      <td>14</td>\n",
       "      <td>0.860104</td>\n",
       "    </tr>\n",
       "    <tr>\n",
       "      <th>14</th>\n",
       "      <td>15</td>\n",
       "      <td>0.849741</td>\n",
       "    </tr>\n",
       "    <tr>\n",
       "      <th>15</th>\n",
       "      <td>16</td>\n",
       "      <td>0.849741</td>\n",
       "    </tr>\n",
       "    <tr>\n",
       "      <th>16</th>\n",
       "      <td>17</td>\n",
       "      <td>0.854922</td>\n",
       "    </tr>\n",
       "    <tr>\n",
       "      <th>17</th>\n",
       "      <td>18</td>\n",
       "      <td>0.849741</td>\n",
       "    </tr>\n",
       "    <tr>\n",
       "      <th>18</th>\n",
       "      <td>19</td>\n",
       "      <td>0.854922</td>\n",
       "    </tr>\n",
       "  </tbody>\n",
       "</table>\n",
       "</div>"
      ],
      "text/plain": [
       "    max_depth  Accuracy\n",
       "0           1  0.704663\n",
       "1           2  0.740933\n",
       "2           3  0.787565\n",
       "3           4  0.839378\n",
       "4           5  0.839378\n",
       "5           6  0.829016\n",
       "6           7  0.854922\n",
       "7           8  0.844560\n",
       "8           9  0.844560\n",
       "9          10  0.860104\n",
       "10         11  0.860104\n",
       "11         12  0.860104\n",
       "12         13  0.839378\n",
       "13         14  0.860104\n",
       "14         15  0.849741\n",
       "15         16  0.849741\n",
       "16         17  0.854922\n",
       "17         18  0.849741\n",
       "18         19  0.854922"
      ]
     },
     "execution_count": 15,
     "metadata": {},
     "output_type": "execute_result"
    }
   ],
   "source": [
    "from sklearn.ensemble import RandomForestClassifier as rf\n",
    "from sklearn.metrics import accuracy_score\n",
    "\n",
    "max_depth_best = []\n",
    "for i in range(1,20):\n",
    "    clf = rf(max_depth=i, random_state=0)\n",
    "    clf.fit(X_train,y_train)\n",
    "    y_pred = clf.predict(X_test)\n",
    "    max_depth_best.append([i, accuracy_score(y_test, y_pred)])\n",
    "max_depth = pd.DataFrame(max_depth_best, columns= [\"max_depth\", \"Accuracy\"])\n",
    "max_depth"
   ]
  },
  {
   "cell_type": "code",
   "execution_count": 16,
   "id": "8f9372e3",
   "metadata": {
    "execution": {
     "iopub.execute_input": "2022-02-22T02:16:18.708700Z",
     "iopub.status.busy": "2022-02-22T02:16:18.707854Z",
     "iopub.status.idle": "2022-02-22T02:16:18.726295Z",
     "shell.execute_reply": "2022-02-22T02:16:18.725606Z",
     "shell.execute_reply.started": "2022-02-22T02:11:01.054390Z"
    },
    "papermill": {
     "duration": 0.070969,
     "end_time": "2022-02-22T02:16:18.726464",
     "exception": false,
     "start_time": "2022-02-22T02:16:18.655495",
     "status": "completed"
    },
    "tags": []
   },
   "outputs": [
    {
     "data": {
      "text/html": [
       "\n",
       "<div id=\"altair-viz-fd773fc95691419489e51b1f55e7d143\"></div>\n",
       "<script type=\"text/javascript\">\n",
       "  var VEGA_DEBUG = (typeof VEGA_DEBUG == \"undefined\") ? {} : VEGA_DEBUG;\n",
       "  (function(spec, embedOpt){\n",
       "    let outputDiv = document.currentScript.previousElementSibling;\n",
       "    if (outputDiv.id !== \"altair-viz-fd773fc95691419489e51b1f55e7d143\") {\n",
       "      outputDiv = document.getElementById(\"altair-viz-fd773fc95691419489e51b1f55e7d143\");\n",
       "    }\n",
       "    const paths = {\n",
       "      \"vega\": \"https://cdn.jsdelivr.net/npm//vega@5?noext\",\n",
       "      \"vega-lib\": \"https://cdn.jsdelivr.net/npm//vega-lib?noext\",\n",
       "      \"vega-lite\": \"https://cdn.jsdelivr.net/npm//vega-lite@4.17.0?noext\",\n",
       "      \"vega-embed\": \"https://cdn.jsdelivr.net/npm//vega-embed@6?noext\",\n",
       "    };\n",
       "\n",
       "    function maybeLoadScript(lib, version) {\n",
       "      var key = `${lib.replace(\"-\", \"\")}_version`;\n",
       "      return (VEGA_DEBUG[key] == version) ?\n",
       "        Promise.resolve(paths[lib]) :\n",
       "        new Promise(function(resolve, reject) {\n",
       "          var s = document.createElement('script');\n",
       "          document.getElementsByTagName(\"head\")[0].appendChild(s);\n",
       "          s.async = true;\n",
       "          s.onload = () => {\n",
       "            VEGA_DEBUG[key] = version;\n",
       "            return resolve(paths[lib]);\n",
       "          };\n",
       "          s.onerror = () => reject(`Error loading script: ${paths[lib]}`);\n",
       "          s.src = paths[lib];\n",
       "        });\n",
       "    }\n",
       "\n",
       "    function showError(err) {\n",
       "      outputDiv.innerHTML = `<div class=\"error\" style=\"color:red;\">${err}</div>`;\n",
       "      throw err;\n",
       "    }\n",
       "\n",
       "    function displayChart(vegaEmbed) {\n",
       "      vegaEmbed(outputDiv, spec, embedOpt)\n",
       "        .catch(err => showError(`Javascript Error: ${err.message}<br>This usually means there's a typo in your chart specification. See the javascript console for the full traceback.`));\n",
       "    }\n",
       "\n",
       "    if(typeof define === \"function\" && define.amd) {\n",
       "      requirejs.config({paths});\n",
       "      require([\"vega-embed\"], displayChart, err => showError(`Error loading script: ${err.message}`));\n",
       "    } else {\n",
       "      maybeLoadScript(\"vega\", \"5\")\n",
       "        .then(() => maybeLoadScript(\"vega-lite\", \"4.17.0\"))\n",
       "        .then(() => maybeLoadScript(\"vega-embed\", \"6\"))\n",
       "        .catch(showError)\n",
       "        .then(() => displayChart(vegaEmbed));\n",
       "    }\n",
       "  })({\"config\": {\"view\": {\"continuousWidth\": 400, \"continuousHeight\": 300}}, \"data\": {\"name\": \"data-a141651e381aac3ffbfe4bb7b5fda1f8\"}, \"mark\": \"line\", \"encoding\": {\"tooltip\": [{\"field\": \"max_depth\", \"type\": \"quantitative\"}, {\"field\": \"Accuracy\", \"type\": \"quantitative\"}], \"x\": {\"field\": \"max_depth\", \"scale\": {\"zero\": false}, \"type\": \"quantitative\"}, \"y\": {\"field\": \"Accuracy\", \"scale\": {\"zero\": false}, \"type\": \"quantitative\"}}, \"title\": \"Random Forest Acuracy vs Max Depth\", \"$schema\": \"https://vega.github.io/schema/vega-lite/v4.17.0.json\", \"datasets\": {\"data-a141651e381aac3ffbfe4bb7b5fda1f8\": [{\"max_depth\": 1, \"Accuracy\": 0.7046632124352331}, {\"max_depth\": 2, \"Accuracy\": 0.7409326424870466}, {\"max_depth\": 3, \"Accuracy\": 0.7875647668393783}, {\"max_depth\": 4, \"Accuracy\": 0.8393782383419689}, {\"max_depth\": 5, \"Accuracy\": 0.8393782383419689}, {\"max_depth\": 6, \"Accuracy\": 0.8290155440414507}, {\"max_depth\": 7, \"Accuracy\": 0.8549222797927462}, {\"max_depth\": 8, \"Accuracy\": 0.844559585492228}, {\"max_depth\": 9, \"Accuracy\": 0.844559585492228}, {\"max_depth\": 10, \"Accuracy\": 0.8601036269430051}, {\"max_depth\": 11, \"Accuracy\": 0.8601036269430051}, {\"max_depth\": 12, \"Accuracy\": 0.8601036269430051}, {\"max_depth\": 13, \"Accuracy\": 0.8393782383419689}, {\"max_depth\": 14, \"Accuracy\": 0.8601036269430051}, {\"max_depth\": 15, \"Accuracy\": 0.8497409326424871}, {\"max_depth\": 16, \"Accuracy\": 0.8497409326424871}, {\"max_depth\": 17, \"Accuracy\": 0.8549222797927462}, {\"max_depth\": 18, \"Accuracy\": 0.8497409326424871}, {\"max_depth\": 19, \"Accuracy\": 0.8549222797927462}]}}, {\"mode\": \"vega-lite\"});\n",
       "</script>"
      ],
      "text/plain": [
       "alt.Chart(...)"
      ]
     },
     "execution_count": 16,
     "metadata": {},
     "output_type": "execute_result"
    }
   ],
   "source": [
    "max_depth_chart= alt.Chart(max_depth).mark_line().encode(\n",
    "    alt.X(\"max_depth\", scale= alt.Scale(zero=False)),\n",
    "    alt.Y(\"Accuracy\", scale= alt.Scale(zero=False)), \n",
    "    tooltip= [\"max_depth\", \"Accuracy\"]\n",
    ").properties(\n",
    "    title=\"Random Forest Acuracy vs Max Depth\"\n",
    ")\n",
    "max_depth_chart"
   ]
  },
  {
   "cell_type": "markdown",
   "id": "0e5dee64",
   "metadata": {
    "papermill": {
     "duration": 0.068701,
     "end_time": "2022-02-22T02:16:18.864713",
     "exception": false,
     "start_time": "2022-02-22T02:16:18.796012",
     "status": "completed"
    },
    "tags": []
   },
   "source": [
    "In the output above, we see that in the range the best level of depth of trees that bring the best output is 10, 11 and 12. therefore, we will train our model with the max_depth parameter =  10"
   ]
  },
  {
   "cell_type": "markdown",
   "id": "e2cf8a25",
   "metadata": {
    "papermill": {
     "duration": 0.068984,
     "end_time": "2022-02-22T02:16:19.004092",
     "exception": false,
     "start_time": "2022-02-22T02:16:18.935108",
     "status": "completed"
    },
    "tags": []
   },
   "source": [
    "## <span style=\"color:#7E9FB8;\">Choosing the Optimal n_estimators from range (10,200)</span>"
   ]
  },
  {
   "cell_type": "code",
   "execution_count": 17,
   "id": "def0bcc2",
   "metadata": {
    "execution": {
     "iopub.execute_input": "2022-02-22T02:16:19.153112Z",
     "iopub.status.busy": "2022-02-22T02:16:19.148618Z",
     "iopub.status.idle": "2022-02-22T02:37:55.221884Z",
     "shell.execute_reply": "2022-02-22T02:37:55.222496Z",
     "shell.execute_reply.started": "2022-02-13T05:51:48.732538Z"
    },
    "papermill": {
     "duration": 1296.149579,
     "end_time": "2022-02-22T02:37:55.222858",
     "exception": false,
     "start_time": "2022-02-22T02:16:19.073279",
     "status": "completed"
    },
    "tags": []
   },
   "outputs": [],
   "source": [
    "## FINDING THE BEST N_ESTIMATOR\n",
    "n_estimators=[]\n",
    "for i in range(10,200):\n",
    "    clf= rf(max_depth= 10, n_estimators=i, random_state=0)\n",
    "    clf.fit(X_train, y_train)\n",
    "    y_pred= clf.predict(X_test)\n",
    "    n_estimators.append([i, accuracy_score(y_test, y_pred)])"
   ]
  },
  {
   "cell_type": "code",
   "execution_count": 18,
   "id": "bc558a99",
   "metadata": {
    "execution": {
     "iopub.execute_input": "2022-02-22T02:37:55.315790Z",
     "iopub.status.busy": "2022-02-22T02:37:55.315142Z",
     "iopub.status.idle": "2022-02-22T02:37:55.347872Z",
     "shell.execute_reply": "2022-02-22T02:37:55.348311Z",
     "shell.execute_reply.started": "2022-02-13T06:49:12.266009Z"
    },
    "papermill": {
     "duration": 0.079448,
     "end_time": "2022-02-22T02:37:55.348481",
     "exception": false,
     "start_time": "2022-02-22T02:37:55.269033",
     "status": "completed"
    },
    "tags": []
   },
   "outputs": [
    {
     "data": {
      "text/html": [
       "\n",
       "<div id=\"altair-viz-fdd2ba15cb024bea846b4c246fa832c3\"></div>\n",
       "<script type=\"text/javascript\">\n",
       "  var VEGA_DEBUG = (typeof VEGA_DEBUG == \"undefined\") ? {} : VEGA_DEBUG;\n",
       "  (function(spec, embedOpt){\n",
       "    let outputDiv = document.currentScript.previousElementSibling;\n",
       "    if (outputDiv.id !== \"altair-viz-fdd2ba15cb024bea846b4c246fa832c3\") {\n",
       "      outputDiv = document.getElementById(\"altair-viz-fdd2ba15cb024bea846b4c246fa832c3\");\n",
       "    }\n",
       "    const paths = {\n",
       "      \"vega\": \"https://cdn.jsdelivr.net/npm//vega@5?noext\",\n",
       "      \"vega-lib\": \"https://cdn.jsdelivr.net/npm//vega-lib?noext\",\n",
       "      \"vega-lite\": \"https://cdn.jsdelivr.net/npm//vega-lite@4.17.0?noext\",\n",
       "      \"vega-embed\": \"https://cdn.jsdelivr.net/npm//vega-embed@6?noext\",\n",
       "    };\n",
       "\n",
       "    function maybeLoadScript(lib, version) {\n",
       "      var key = `${lib.replace(\"-\", \"\")}_version`;\n",
       "      return (VEGA_DEBUG[key] == version) ?\n",
       "        Promise.resolve(paths[lib]) :\n",
       "        new Promise(function(resolve, reject) {\n",
       "          var s = document.createElement('script');\n",
       "          document.getElementsByTagName(\"head\")[0].appendChild(s);\n",
       "          s.async = true;\n",
       "          s.onload = () => {\n",
       "            VEGA_DEBUG[key] = version;\n",
       "            return resolve(paths[lib]);\n",
       "          };\n",
       "          s.onerror = () => reject(`Error loading script: ${paths[lib]}`);\n",
       "          s.src = paths[lib];\n",
       "        });\n",
       "    }\n",
       "\n",
       "    function showError(err) {\n",
       "      outputDiv.innerHTML = `<div class=\"error\" style=\"color:red;\">${err}</div>`;\n",
       "      throw err;\n",
       "    }\n",
       "\n",
       "    function displayChart(vegaEmbed) {\n",
       "      vegaEmbed(outputDiv, spec, embedOpt)\n",
       "        .catch(err => showError(`Javascript Error: ${err.message}<br>This usually means there's a typo in your chart specification. See the javascript console for the full traceback.`));\n",
       "    }\n",
       "\n",
       "    if(typeof define === \"function\" && define.amd) {\n",
       "      requirejs.config({paths});\n",
       "      require([\"vega-embed\"], displayChart, err => showError(`Error loading script: ${err.message}`));\n",
       "    } else {\n",
       "      maybeLoadScript(\"vega\", \"5\")\n",
       "        .then(() => maybeLoadScript(\"vega-lite\", \"4.17.0\"))\n",
       "        .then(() => maybeLoadScript(\"vega-embed\", \"6\"))\n",
       "        .catch(showError)\n",
       "        .then(() => displayChart(vegaEmbed));\n",
       "    }\n",
       "  })({\"config\": {\"view\": {\"continuousWidth\": 400, \"continuousHeight\": 300}}, \"hconcat\": [{\"data\": {\"name\": \"data-a141651e381aac3ffbfe4bb7b5fda1f8\"}, \"mark\": \"line\", \"encoding\": {\"tooltip\": [{\"field\": \"max_depth\", \"type\": \"quantitative\"}, {\"field\": \"Accuracy\", \"type\": \"quantitative\"}], \"x\": {\"field\": \"max_depth\", \"scale\": {\"zero\": false}, \"type\": \"quantitative\"}, \"y\": {\"field\": \"Accuracy\", \"scale\": {\"zero\": false}, \"type\": \"quantitative\"}}, \"title\": \"Random Forest Acuracy vs Max Depth\"}, {\"data\": {\"name\": \"data-c7e2b2f1e8dc25a6f431ee7f762eeb2c\"}, \"mark\": \"line\", \"encoding\": {\"tooltip\": [{\"field\": \"n_estimator\", \"type\": \"quantitative\"}, {\"field\": \"Accuracy\", \"type\": \"quantitative\"}], \"x\": {\"field\": \"n_estimator\", \"scale\": {\"zero\": false}, \"type\": \"quantitative\"}, \"y\": {\"field\": \"Accuracy\", \"scale\": {\"zero\": false}, \"type\": \"quantitative\"}}, \"title\": \"Random Forest Acuracy vs n_estimator\"}], \"$schema\": \"https://vega.github.io/schema/vega-lite/v4.17.0.json\", \"datasets\": {\"data-a141651e381aac3ffbfe4bb7b5fda1f8\": [{\"max_depth\": 1, \"Accuracy\": 0.7046632124352331}, {\"max_depth\": 2, \"Accuracy\": 0.7409326424870466}, {\"max_depth\": 3, \"Accuracy\": 0.7875647668393783}, {\"max_depth\": 4, \"Accuracy\": 0.8393782383419689}, {\"max_depth\": 5, \"Accuracy\": 0.8393782383419689}, {\"max_depth\": 6, \"Accuracy\": 0.8290155440414507}, {\"max_depth\": 7, \"Accuracy\": 0.8549222797927462}, {\"max_depth\": 8, \"Accuracy\": 0.844559585492228}, {\"max_depth\": 9, \"Accuracy\": 0.844559585492228}, {\"max_depth\": 10, \"Accuracy\": 0.8601036269430051}, {\"max_depth\": 11, \"Accuracy\": 0.8601036269430051}, {\"max_depth\": 12, \"Accuracy\": 0.8601036269430051}, {\"max_depth\": 13, \"Accuracy\": 0.8393782383419689}, {\"max_depth\": 14, \"Accuracy\": 0.8601036269430051}, {\"max_depth\": 15, \"Accuracy\": 0.8497409326424871}, {\"max_depth\": 16, \"Accuracy\": 0.8497409326424871}, {\"max_depth\": 17, \"Accuracy\": 0.8549222797927462}, {\"max_depth\": 18, \"Accuracy\": 0.8497409326424871}, {\"max_depth\": 19, \"Accuracy\": 0.8549222797927462}], \"data-c7e2b2f1e8dc25a6f431ee7f762eeb2c\": [{\"n_estimator\": 10, \"Accuracy\": 0.7979274611398963}, {\"n_estimator\": 11, \"Accuracy\": 0.7979274611398963}, {\"n_estimator\": 12, \"Accuracy\": 0.7979274611398963}, {\"n_estimator\": 13, \"Accuracy\": 0.8134715025906736}, {\"n_estimator\": 14, \"Accuracy\": 0.8082901554404145}, {\"n_estimator\": 15, \"Accuracy\": 0.7979274611398963}, {\"n_estimator\": 16, \"Accuracy\": 0.8290155440414507}, {\"n_estimator\": 17, \"Accuracy\": 0.8186528497409327}, {\"n_estimator\": 18, \"Accuracy\": 0.8238341968911918}, {\"n_estimator\": 19, \"Accuracy\": 0.8186528497409327}, {\"n_estimator\": 20, \"Accuracy\": 0.8290155440414507}, {\"n_estimator\": 21, \"Accuracy\": 0.8238341968911918}, {\"n_estimator\": 22, \"Accuracy\": 0.8393782383419689}, {\"n_estimator\": 23, \"Accuracy\": 0.8341968911917098}, {\"n_estimator\": 24, \"Accuracy\": 0.8186528497409327}, {\"n_estimator\": 25, \"Accuracy\": 0.8134715025906736}, {\"n_estimator\": 26, \"Accuracy\": 0.8238341968911918}, {\"n_estimator\": 27, \"Accuracy\": 0.8238341968911918}, {\"n_estimator\": 28, \"Accuracy\": 0.8393782383419689}, {\"n_estimator\": 29, \"Accuracy\": 0.8393782383419689}, {\"n_estimator\": 30, \"Accuracy\": 0.844559585492228}, {\"n_estimator\": 31, \"Accuracy\": 0.844559585492228}, {\"n_estimator\": 32, \"Accuracy\": 0.8497409326424871}, {\"n_estimator\": 33, \"Accuracy\": 0.8341968911917098}, {\"n_estimator\": 34, \"Accuracy\": 0.8393782383419689}, {\"n_estimator\": 35, \"Accuracy\": 0.844559585492228}, {\"n_estimator\": 36, \"Accuracy\": 0.8393782383419689}, {\"n_estimator\": 37, \"Accuracy\": 0.844559585492228}, {\"n_estimator\": 38, \"Accuracy\": 0.844559585492228}, {\"n_estimator\": 39, \"Accuracy\": 0.8393782383419689}, {\"n_estimator\": 40, \"Accuracy\": 0.8497409326424871}, {\"n_estimator\": 41, \"Accuracy\": 0.8497409326424871}, {\"n_estimator\": 42, \"Accuracy\": 0.8393782383419689}, {\"n_estimator\": 43, \"Accuracy\": 0.8497409326424871}, {\"n_estimator\": 44, \"Accuracy\": 0.8549222797927462}, {\"n_estimator\": 45, \"Accuracy\": 0.8549222797927462}, {\"n_estimator\": 46, \"Accuracy\": 0.8497409326424871}, {\"n_estimator\": 47, \"Accuracy\": 0.8497409326424871}, {\"n_estimator\": 48, \"Accuracy\": 0.844559585492228}, {\"n_estimator\": 49, \"Accuracy\": 0.844559585492228}, {\"n_estimator\": 50, \"Accuracy\": 0.844559585492228}, {\"n_estimator\": 51, \"Accuracy\": 0.844559585492228}, {\"n_estimator\": 52, \"Accuracy\": 0.844559585492228}, {\"n_estimator\": 53, \"Accuracy\": 0.844559585492228}, {\"n_estimator\": 54, \"Accuracy\": 0.8341968911917098}, {\"n_estimator\": 55, \"Accuracy\": 0.8393782383419689}, {\"n_estimator\": 56, \"Accuracy\": 0.844559585492228}, {\"n_estimator\": 57, \"Accuracy\": 0.844559585492228}, {\"n_estimator\": 58, \"Accuracy\": 0.8393782383419689}, {\"n_estimator\": 59, \"Accuracy\": 0.844559585492228}, {\"n_estimator\": 60, \"Accuracy\": 0.8497409326424871}, {\"n_estimator\": 61, \"Accuracy\": 0.8549222797927462}, {\"n_estimator\": 62, \"Accuracy\": 0.8497409326424871}, {\"n_estimator\": 63, \"Accuracy\": 0.8549222797927462}, {\"n_estimator\": 64, \"Accuracy\": 0.8497409326424871}, {\"n_estimator\": 65, \"Accuracy\": 0.8497409326424871}, {\"n_estimator\": 66, \"Accuracy\": 0.8497409326424871}, {\"n_estimator\": 67, \"Accuracy\": 0.844559585492228}, {\"n_estimator\": 68, \"Accuracy\": 0.844559585492228}, {\"n_estimator\": 69, \"Accuracy\": 0.8497409326424871}, {\"n_estimator\": 70, \"Accuracy\": 0.8393782383419689}, {\"n_estimator\": 71, \"Accuracy\": 0.844559585492228}, {\"n_estimator\": 72, \"Accuracy\": 0.844559585492228}, {\"n_estimator\": 73, \"Accuracy\": 0.8497409326424871}, {\"n_estimator\": 74, \"Accuracy\": 0.8549222797927462}, {\"n_estimator\": 75, \"Accuracy\": 0.8497409326424871}, {\"n_estimator\": 76, \"Accuracy\": 0.8497409326424871}, {\"n_estimator\": 77, \"Accuracy\": 0.844559585492228}, {\"n_estimator\": 78, \"Accuracy\": 0.8549222797927462}, {\"n_estimator\": 79, \"Accuracy\": 0.8549222797927462}, {\"n_estimator\": 80, \"Accuracy\": 0.8497409326424871}, {\"n_estimator\": 81, \"Accuracy\": 0.8549222797927462}, {\"n_estimator\": 82, \"Accuracy\": 0.8549222797927462}, {\"n_estimator\": 83, \"Accuracy\": 0.8549222797927462}, {\"n_estimator\": 84, \"Accuracy\": 0.8549222797927462}, {\"n_estimator\": 85, \"Accuracy\": 0.8549222797927462}, {\"n_estimator\": 86, \"Accuracy\": 0.8549222797927462}, {\"n_estimator\": 87, \"Accuracy\": 0.8549222797927462}, {\"n_estimator\": 88, \"Accuracy\": 0.8549222797927462}, {\"n_estimator\": 89, \"Accuracy\": 0.8549222797927462}, {\"n_estimator\": 90, \"Accuracy\": 0.8549222797927462}, {\"n_estimator\": 91, \"Accuracy\": 0.8601036269430051}, {\"n_estimator\": 92, \"Accuracy\": 0.8601036269430051}, {\"n_estimator\": 93, \"Accuracy\": 0.8601036269430051}, {\"n_estimator\": 94, \"Accuracy\": 0.8601036269430051}, {\"n_estimator\": 95, \"Accuracy\": 0.8601036269430051}, {\"n_estimator\": 96, \"Accuracy\": 0.8601036269430051}, {\"n_estimator\": 97, \"Accuracy\": 0.8601036269430051}, {\"n_estimator\": 98, \"Accuracy\": 0.8601036269430051}, {\"n_estimator\": 99, \"Accuracy\": 0.8652849740932642}, {\"n_estimator\": 100, \"Accuracy\": 0.8601036269430051}, {\"n_estimator\": 101, \"Accuracy\": 0.8601036269430051}, {\"n_estimator\": 102, \"Accuracy\": 0.8601036269430051}, {\"n_estimator\": 103, \"Accuracy\": 0.8549222797927462}, {\"n_estimator\": 104, \"Accuracy\": 0.8549222797927462}, {\"n_estimator\": 105, \"Accuracy\": 0.8549222797927462}, {\"n_estimator\": 106, \"Accuracy\": 0.8549222797927462}, {\"n_estimator\": 107, \"Accuracy\": 0.8601036269430051}, {\"n_estimator\": 108, \"Accuracy\": 0.8652849740932642}, {\"n_estimator\": 109, \"Accuracy\": 0.8549222797927462}, {\"n_estimator\": 110, \"Accuracy\": 0.8497409326424871}, {\"n_estimator\": 111, \"Accuracy\": 0.8497409326424871}, {\"n_estimator\": 112, \"Accuracy\": 0.8549222797927462}, {\"n_estimator\": 113, \"Accuracy\": 0.8497409326424871}, {\"n_estimator\": 114, \"Accuracy\": 0.8549222797927462}, {\"n_estimator\": 115, \"Accuracy\": 0.8549222797927462}, {\"n_estimator\": 116, \"Accuracy\": 0.8549222797927462}, {\"n_estimator\": 117, \"Accuracy\": 0.8549222797927462}, {\"n_estimator\": 118, \"Accuracy\": 0.8549222797927462}, {\"n_estimator\": 119, \"Accuracy\": 0.8497409326424871}, {\"n_estimator\": 120, \"Accuracy\": 0.8497409326424871}, {\"n_estimator\": 121, \"Accuracy\": 0.8549222797927462}, {\"n_estimator\": 122, \"Accuracy\": 0.8497409326424871}, {\"n_estimator\": 123, \"Accuracy\": 0.8497409326424871}, {\"n_estimator\": 124, \"Accuracy\": 0.8549222797927462}, {\"n_estimator\": 125, \"Accuracy\": 0.8549222797927462}, {\"n_estimator\": 126, \"Accuracy\": 0.8497409326424871}, {\"n_estimator\": 127, \"Accuracy\": 0.8497409326424871}, {\"n_estimator\": 128, \"Accuracy\": 0.8497409326424871}, {\"n_estimator\": 129, \"Accuracy\": 0.8497409326424871}, {\"n_estimator\": 130, \"Accuracy\": 0.844559585492228}, {\"n_estimator\": 131, \"Accuracy\": 0.844559585492228}, {\"n_estimator\": 132, \"Accuracy\": 0.844559585492228}, {\"n_estimator\": 133, \"Accuracy\": 0.844559585492228}, {\"n_estimator\": 134, \"Accuracy\": 0.844559585492228}, {\"n_estimator\": 135, \"Accuracy\": 0.844559585492228}, {\"n_estimator\": 136, \"Accuracy\": 0.844559585492228}, {\"n_estimator\": 137, \"Accuracy\": 0.8497409326424871}, {\"n_estimator\": 138, \"Accuracy\": 0.844559585492228}, {\"n_estimator\": 139, \"Accuracy\": 0.844559585492228}, {\"n_estimator\": 140, \"Accuracy\": 0.844559585492228}, {\"n_estimator\": 141, \"Accuracy\": 0.8497409326424871}, {\"n_estimator\": 142, \"Accuracy\": 0.8497409326424871}, {\"n_estimator\": 143, \"Accuracy\": 0.8549222797927462}, {\"n_estimator\": 144, \"Accuracy\": 0.8549222797927462}, {\"n_estimator\": 145, \"Accuracy\": 0.8601036269430051}, {\"n_estimator\": 146, \"Accuracy\": 0.8652849740932642}, {\"n_estimator\": 147, \"Accuracy\": 0.8652849740932642}, {\"n_estimator\": 148, \"Accuracy\": 0.8601036269430051}, {\"n_estimator\": 149, \"Accuracy\": 0.8601036269430051}, {\"n_estimator\": 150, \"Accuracy\": 0.8601036269430051}, {\"n_estimator\": 151, \"Accuracy\": 0.8601036269430051}, {\"n_estimator\": 152, \"Accuracy\": 0.8601036269430051}, {\"n_estimator\": 153, \"Accuracy\": 0.8549222797927462}, {\"n_estimator\": 154, \"Accuracy\": 0.8549222797927462}, {\"n_estimator\": 155, \"Accuracy\": 0.8549222797927462}, {\"n_estimator\": 156, \"Accuracy\": 0.8549222797927462}, {\"n_estimator\": 157, \"Accuracy\": 0.8549222797927462}, {\"n_estimator\": 158, \"Accuracy\": 0.8601036269430051}, {\"n_estimator\": 159, \"Accuracy\": 0.8497409326424871}, {\"n_estimator\": 160, \"Accuracy\": 0.8601036269430051}, {\"n_estimator\": 161, \"Accuracy\": 0.8601036269430051}, {\"n_estimator\": 162, \"Accuracy\": 0.8601036269430051}, {\"n_estimator\": 163, \"Accuracy\": 0.8549222797927462}, {\"n_estimator\": 164, \"Accuracy\": 0.8601036269430051}, {\"n_estimator\": 165, \"Accuracy\": 0.8601036269430051}, {\"n_estimator\": 166, \"Accuracy\": 0.8601036269430051}, {\"n_estimator\": 167, \"Accuracy\": 0.8601036269430051}, {\"n_estimator\": 168, \"Accuracy\": 0.8601036269430051}, {\"n_estimator\": 169, \"Accuracy\": 0.8652849740932642}, {\"n_estimator\": 170, \"Accuracy\": 0.8601036269430051}, {\"n_estimator\": 171, \"Accuracy\": 0.8601036269430051}, {\"n_estimator\": 172, \"Accuracy\": 0.8601036269430051}, {\"n_estimator\": 173, \"Accuracy\": 0.8601036269430051}, {\"n_estimator\": 174, \"Accuracy\": 0.8601036269430051}, {\"n_estimator\": 175, \"Accuracy\": 0.8601036269430051}, {\"n_estimator\": 176, \"Accuracy\": 0.8601036269430051}, {\"n_estimator\": 177, \"Accuracy\": 0.8549222797927462}, {\"n_estimator\": 178, \"Accuracy\": 0.8549222797927462}, {\"n_estimator\": 179, \"Accuracy\": 0.8549222797927462}, {\"n_estimator\": 180, \"Accuracy\": 0.8497409326424871}, {\"n_estimator\": 181, \"Accuracy\": 0.8497409326424871}, {\"n_estimator\": 182, \"Accuracy\": 0.8497409326424871}, {\"n_estimator\": 183, \"Accuracy\": 0.8549222797927462}, {\"n_estimator\": 184, \"Accuracy\": 0.8497409326424871}, {\"n_estimator\": 185, \"Accuracy\": 0.8549222797927462}, {\"n_estimator\": 186, \"Accuracy\": 0.8497409326424871}, {\"n_estimator\": 187, \"Accuracy\": 0.8497409326424871}, {\"n_estimator\": 188, \"Accuracy\": 0.8497409326424871}, {\"n_estimator\": 189, \"Accuracy\": 0.8497409326424871}, {\"n_estimator\": 190, \"Accuracy\": 0.8497409326424871}, {\"n_estimator\": 191, \"Accuracy\": 0.8497409326424871}, {\"n_estimator\": 192, \"Accuracy\": 0.8549222797927462}, {\"n_estimator\": 193, \"Accuracy\": 0.8601036269430051}, {\"n_estimator\": 194, \"Accuracy\": 0.8549222797927462}, {\"n_estimator\": 195, \"Accuracy\": 0.8549222797927462}, {\"n_estimator\": 196, \"Accuracy\": 0.8549222797927462}, {\"n_estimator\": 197, \"Accuracy\": 0.8549222797927462}, {\"n_estimator\": 198, \"Accuracy\": 0.8601036269430051}, {\"n_estimator\": 199, \"Accuracy\": 0.8549222797927462}]}}, {\"mode\": \"vega-lite\"});\n",
       "</script>"
      ],
      "text/plain": [
       "alt.HConcatChart(...)"
      ]
     },
     "execution_count": 18,
     "metadata": {},
     "output_type": "execute_result"
    }
   ],
   "source": [
    "\n",
    "n_estimate = pd.DataFrame(n_estimators, columns= [\"n_estimator\", \"Accuracy\"])\n",
    "estimate_chart = alt.Chart(n_estimate).mark_line().encode(\n",
    "    alt.X(\"n_estimator\", scale= alt.Scale(zero=False)),\n",
    "    alt.Y(\"Accuracy\", scale= alt.Scale(zero=False)),\n",
    "    tooltip=['n_estimator', \"Accuracy\"]\n",
    ").properties(\n",
    "    title=\"Random Forest Acuracy vs n_estimator\"\n",
    ")\n",
    "max_depth_chart|estimate_chart"
   ]
  },
  {
   "cell_type": "code",
   "execution_count": 19,
   "id": "8d29c548",
   "metadata": {
    "execution": {
     "iopub.execute_input": "2022-02-22T02:37:55.439548Z",
     "iopub.status.busy": "2022-02-22T02:37:55.438945Z",
     "iopub.status.idle": "2022-02-22T02:37:55.444769Z",
     "shell.execute_reply": "2022-02-22T02:37:55.445299Z",
     "shell.execute_reply.started": "2022-02-13T06:31:40.3029Z"
    },
    "papermill": {
     "duration": 0.053093,
     "end_time": "2022-02-22T02:37:55.445451",
     "exception": false,
     "start_time": "2022-02-22T02:37:55.392358",
     "status": "completed"
    },
    "tags": []
   },
   "outputs": [
    {
     "data": {
      "text/plain": [
       "n_estimator    99.000000\n",
       "Accuracy        0.865285\n",
       "Name: 89, dtype: float64"
      ]
     },
     "execution_count": 19,
     "metadata": {},
     "output_type": "execute_result"
    }
   ],
   "source": [
    "#The Optimal n_estimator\n",
    "n_estimate.loc[n_estimate[\"Accuracy\"].idxmax()]"
   ]
  },
  {
   "cell_type": "markdown",
   "id": "2ee026d3",
   "metadata": {
    "papermill": {
     "duration": 0.044015,
     "end_time": "2022-02-22T02:37:55.534421",
     "exception": false,
     "start_time": "2022-02-22T02:37:55.490406",
     "status": "completed"
    },
    "tags": []
   },
   "source": [
    "From the series above, we see that 0.865 is the highest score and the best n_estimator is 99. "
   ]
  },
  {
   "cell_type": "markdown",
   "id": "51b3250e",
   "metadata": {
    "papermill": {
     "duration": 0.04372,
     "end_time": "2022-02-22T02:37:55.622603",
     "exception": false,
     "start_time": "2022-02-22T02:37:55.578883",
     "status": "completed"
    },
    "tags": []
   },
   "source": [
    "## <span style=\"color:#7E9FB8;\">Training the random Forest Model With The Hyperparameters Obtained Above</span>"
   ]
  },
  {
   "cell_type": "code",
   "execution_count": 20,
   "id": "cd5593bf",
   "metadata": {
    "execution": {
     "iopub.execute_input": "2022-02-22T02:37:55.714515Z",
     "iopub.status.busy": "2022-02-22T02:37:55.714017Z",
     "iopub.status.idle": "2022-02-22T02:38:01.591481Z",
     "shell.execute_reply": "2022-02-22T02:38:01.590694Z",
     "shell.execute_reply.started": "2022-02-19T20:46:55.1629Z"
    },
    "papermill": {
     "duration": 5.924579,
     "end_time": "2022-02-22T02:38:01.591667",
     "exception": false,
     "start_time": "2022-02-22T02:37:55.667088",
     "status": "completed"
    },
    "tags": []
   },
   "outputs": [
    {
     "data": {
      "text/plain": [
       "0.8652849740932642"
      ]
     },
     "execution_count": 20,
     "metadata": {},
     "output_type": "execute_result"
    }
   ],
   "source": [
    "\n",
    "rf_model = rf(max_depth=10, n_estimators= 99, random_state=0)\n",
    "rf_model.fit(X_train, y_train)\n",
    "\n",
    "#Predicting on Testing Set\n",
    "\n",
    "y_pred= rf_model.predict(X_test)\n",
    "accuracy_score(y_test, y_pred)"
   ]
  },
  {
   "cell_type": "markdown",
   "id": "bfff6b72",
   "metadata": {
    "papermill": {
     "duration": 0.070972,
     "end_time": "2022-02-22T02:38:01.734253",
     "exception": false,
     "start_time": "2022-02-22T02:38:01.663281",
     "status": "completed"
    },
    "tags": []
   },
   "source": [
    "## <span style=\"color:#7E9FB8;\">Random Forest Classifier Confusion Matrix</span>"
   ]
  },
  {
   "cell_type": "code",
   "execution_count": 21,
   "id": "ddd457cd",
   "metadata": {
    "execution": {
     "iopub.execute_input": "2022-02-22T02:38:01.886713Z",
     "iopub.status.busy": "2022-02-22T02:38:01.885993Z",
     "iopub.status.idle": "2022-02-22T02:38:02.180652Z",
     "shell.execute_reply": "2022-02-22T02:38:02.181187Z",
     "shell.execute_reply.started": "2022-02-19T20:47:03.814786Z"
    },
    "papermill": {
     "duration": 0.376508,
     "end_time": "2022-02-22T02:38:02.181383",
     "exception": false,
     "start_time": "2022-02-22T02:38:01.804875",
     "status": "completed"
    },
    "tags": []
   },
   "outputs": [
    {
     "data": {
      "text/plain": [
       "<sklearn.metrics._plot.confusion_matrix.ConfusionMatrixDisplay at 0x7fdced2b2c50>"
      ]
     },
     "execution_count": 21,
     "metadata": {},
     "output_type": "execute_result"
    },
    {
     "data": {
      "image/png": "[encoded data removed]",
      "text/plain": [
       "<Figure size 432x288 with 2 Axes>"
      ]
     },
     "metadata": {
      "needs_background": "light"
     },
     "output_type": "display_data"
    }
   ],
   "source": [
    "from sklearn.metrics import confusion_matrix\n",
    "from sklearn.metrics import ConfusionMatrixDisplay\n",
    "\n",
    "conf_mat = confusion_matrix(y_test, y_pred, labels= rf_model.classes_)\n",
    "ConfusionMatrixDisplay(conf_mat, display_labels=rf_model.classes_).plot()"
   ]
  },
  {
   "cell_type": "markdown",
   "id": "0a2c900d",
   "metadata": {
    "papermill": {
     "duration": 0.071672,
     "end_time": "2022-02-22T02:38:02.325047",
     "exception": false,
     "start_time": "2022-02-22T02:38:02.253375",
     "status": "completed"
    },
    "tags": []
   },
   "source": [
    "## <span style=\"color:#7E9FB8;\">Random Forest Observations</span>\n",
    "- The model is terrible with predicting `BRCA_Normal`. This makes sence given that we have very few samples of this subtype.\n",
    "- The model is having problems with sepparating between `BRCA_LumA` and `BRCA_LumB`"
   ]
  },
  {
   "cell_type": "markdown",
   "id": "a7f45182",
   "metadata": {
    "papermill": {
     "duration": 0.072341,
     "end_time": "2022-02-22T02:38:02.468717",
     "exception": false,
     "start_time": "2022-02-22T02:38:02.396376",
     "status": "completed"
    },
    "tags": []
   },
   "source": [
    "## <span style=\"color:#7E9FB8;\">Feature Importances</span>"
   ]
  },
  {
   "cell_type": "markdown",
   "id": "0c7144ad",
   "metadata": {
    "papermill": {
     "duration": 0.071301,
     "end_time": "2022-02-22T02:38:02.611562",
     "exception": false,
     "start_time": "2022-02-22T02:38:02.540261",
     "status": "completed"
    },
    "tags": []
   },
   "source": [
    "Having built the Random Forest Model, we will now look at the most important genes in the classification of our gene subtypes. Since there are many genes in the model, we will only look at the 10 most important ones. "
   ]
  },
  {
   "cell_type": "code",
   "execution_count": 22,
   "id": "5967781c",
   "metadata": {
    "execution": {
     "iopub.execute_input": "2022-02-22T02:38:02.760147Z",
     "iopub.status.busy": "2022-02-22T02:38:02.759387Z",
     "iopub.status.idle": "2022-02-22T02:38:02.859415Z",
     "shell.execute_reply": "2022-02-22T02:38:02.859999Z",
     "shell.execute_reply.started": "2022-02-19T20:47:08.407561Z"
    },
    "papermill": {
     "duration": 0.175508,
     "end_time": "2022-02-22T02:38:02.860190",
     "exception": false,
     "start_time": "2022-02-22T02:38:02.684682",
     "status": "completed"
    },
    "tags": []
   },
   "outputs": [
    {
     "data": {
      "text/html": [
       "<div>\n",
       "<style scoped>\n",
       "    .dataframe tbody tr th:only-of-type {\n",
       "        vertical-align: middle;\n",
       "    }\n",
       "\n",
       "    .dataframe tbody tr th {\n",
       "        vertical-align: top;\n",
       "    }\n",
       "\n",
       "    .dataframe thead th {\n",
       "        text-align: right;\n",
       "    }\n",
       "</style>\n",
       "<table border=\"1\" class=\"dataframe\">\n",
       "  <thead>\n",
       "    <tr style=\"text-align: right;\">\n",
       "      <th></th>\n",
       "      <th>Feature</th>\n",
       "      <th>Importance</th>\n",
       "    </tr>\n",
       "  </thead>\n",
       "  <tbody>\n",
       "    <tr>\n",
       "      <th>0</th>\n",
       "      <td>ENSG00000245750.6</td>\n",
       "      <td>0.009603</td>\n",
       "    </tr>\n",
       "    <tr>\n",
       "      <th>1</th>\n",
       "      <td>ENSG00000139865.15</td>\n",
       "      <td>0.006070</td>\n",
       "    </tr>\n",
       "    <tr>\n",
       "      <th>2</th>\n",
       "      <td>ENSG00000164893.7</td>\n",
       "      <td>0.005241</td>\n",
       "    </tr>\n",
       "    <tr>\n",
       "      <th>3</th>\n",
       "      <td>ENSG00000118307.17</td>\n",
       "      <td>0.005187</td>\n",
       "    </tr>\n",
       "    <tr>\n",
       "      <th>4</th>\n",
       "      <td>ENSG00000157456.6</td>\n",
       "      <td>0.005174</td>\n",
       "    </tr>\n",
       "    <tr>\n",
       "      <th>5</th>\n",
       "      <td>ENSG00000115163.13</td>\n",
       "      <td>0.005155</td>\n",
       "    </tr>\n",
       "    <tr>\n",
       "      <th>6</th>\n",
       "      <td>ENSG00000091831.20</td>\n",
       "      <td>0.005129</td>\n",
       "    </tr>\n",
       "    <tr>\n",
       "      <th>7</th>\n",
       "      <td>ENSG00000222014.5</td>\n",
       "      <td>0.004514</td>\n",
       "    </tr>\n",
       "    <tr>\n",
       "      <th>8</th>\n",
       "      <td>ENSG00000117399.12</td>\n",
       "      <td>0.004496</td>\n",
       "    </tr>\n",
       "    <tr>\n",
       "      <th>9</th>\n",
       "      <td>ENSG00000105173.12</td>\n",
       "      <td>0.004393</td>\n",
       "    </tr>\n",
       "  </tbody>\n",
       "</table>\n",
       "</div>"
      ],
      "text/plain": [
       "              Feature  Importance\n",
       "0   ENSG00000245750.6    0.009603\n",
       "1  ENSG00000139865.15    0.006070\n",
       "2   ENSG00000164893.7    0.005241\n",
       "3  ENSG00000118307.17    0.005187\n",
       "4   ENSG00000157456.6    0.005174\n",
       "5  ENSG00000115163.13    0.005155\n",
       "6  ENSG00000091831.20    0.005129\n",
       "7   ENSG00000222014.5    0.004514\n",
       "8  ENSG00000117399.12    0.004496\n",
       "9  ENSG00000105173.12    0.004393"
      ]
     },
     "execution_count": 22,
     "metadata": {},
     "output_type": "execute_result"
    }
   ],
   "source": [
    "sorted_idx = (-rf_model.feature_importances_).argsort()[:10]\n",
    "feature_data = pd.DataFrame({\"Feature\" : X.columns[sorted_idx], \"Importance\":  rf_model.feature_importances_[sorted_idx] }).sort_values(by=\"Importance\", ascending= False)\n",
    "feature_data"
   ]
  },
  {
   "cell_type": "code",
   "execution_count": 23,
   "id": "d12185db",
   "metadata": {
    "execution": {
     "iopub.execute_input": "2022-02-22T02:38:03.006610Z",
     "iopub.status.busy": "2022-02-22T02:38:03.005952Z",
     "iopub.status.idle": "2022-02-22T02:38:03.029055Z",
     "shell.execute_reply": "2022-02-22T02:38:03.029680Z",
     "shell.execute_reply.started": "2022-02-19T20:47:11.949884Z"
    },
    "papermill": {
     "duration": 0.098148,
     "end_time": "2022-02-22T02:38:03.029989",
     "exception": false,
     "start_time": "2022-02-22T02:38:02.931841",
     "status": "completed"
    },
    "tags": []
   },
   "outputs": [
    {
     "data": {
      "text/html": [
       "\n",
       "<div id=\"altair-viz-89168137842d459ab893efef46799b3e\"></div>\n",
       "<script type=\"text/javascript\">\n",
       "  var VEGA_DEBUG = (typeof VEGA_DEBUG == \"undefined\") ? {} : VEGA_DEBUG;\n",
       "  (function(spec, embedOpt){\n",
       "    let outputDiv = document.currentScript.previousElementSibling;\n",
       "    if (outputDiv.id !== \"altair-viz-89168137842d459ab893efef46799b3e\") {\n",
       "      outputDiv = document.getElementById(\"altair-viz-89168137842d459ab893efef46799b3e\");\n",
       "    }\n",
       "    const paths = {\n",
       "      \"vega\": \"https://cdn.jsdelivr.net/npm//vega@5?noext\",\n",
       "      \"vega-lib\": \"https://cdn.jsdelivr.net/npm//vega-lib?noext\",\n",
       "      \"vega-lite\": \"https://cdn.jsdelivr.net/npm//vega-lite@4.17.0?noext\",\n",
       "      \"vega-embed\": \"https://cdn.jsdelivr.net/npm//vega-embed@6?noext\",\n",
       "    };\n",
       "\n",
       "    function maybeLoadScript(lib, version) {\n",
       "      var key = `${lib.replace(\"-\", \"\")}_version`;\n",
       "      return (VEGA_DEBUG[key] == version) ?\n",
       "        Promise.resolve(paths[lib]) :\n",
       "        new Promise(function(resolve, reject) {\n",
       "          var s = document.createElement('script');\n",
       "          document.getElementsByTagName(\"head\")[0].appendChild(s);\n",
       "          s.async = true;\n",
       "          s.onload = () => {\n",
       "            VEGA_DEBUG[key] = version;\n",
       "            return resolve(paths[lib]);\n",
       "          };\n",
       "          s.onerror = () => reject(`Error loading script: ${paths[lib]}`);\n",
       "          s.src = paths[lib];\n",
       "        });\n",
       "    }\n",
       "\n",
       "    function showError(err) {\n",
       "      outputDiv.innerHTML = `<div class=\"error\" style=\"color:red;\">${err}</div>`;\n",
       "      throw err;\n",
       "    }\n",
       "\n",
       "    function displayChart(vegaEmbed) {\n",
       "      vegaEmbed(outputDiv, spec, embedOpt)\n",
       "        .catch(err => showError(`Javascript Error: ${err.message}<br>This usually means there's a typo in your chart specification. See the javascript console for the full traceback.`));\n",
       "    }\n",
       "\n",
       "    if(typeof define === \"function\" && define.amd) {\n",
       "      requirejs.config({paths});\n",
       "      require([\"vega-embed\"], displayChart, err => showError(`Error loading script: ${err.message}`));\n",
       "    } else {\n",
       "      maybeLoadScript(\"vega\", \"5\")\n",
       "        .then(() => maybeLoadScript(\"vega-lite\", \"4.17.0\"))\n",
       "        .then(() => maybeLoadScript(\"vega-embed\", \"6\"))\n",
       "        .catch(showError)\n",
       "        .then(() => displayChart(vegaEmbed));\n",
       "    }\n",
       "  })({\"config\": {\"view\": {\"continuousWidth\": 400, \"continuousHeight\": 300}}, \"data\": {\"name\": \"data-072111a660cb81d6216dc99829edb86c\"}, \"mark\": \"bar\", \"encoding\": {\"color\": {\"field\": \"Feature\", \"title\": \"Gene\", \"type\": \"nominal\"}, \"tooltip\": [{\"field\": \"Feature\", \"type\": \"nominal\"}, {\"field\": \"Importance\", \"type\": \"quantitative\"}], \"x\": {\"field\": \"Importance\", \"type\": \"quantitative\"}, \"y\": {\"field\": \"Feature\", \"sort\": {\"field\": \"Importance\", \"op\": \"count\", \"order\": \"ascending\"}, \"title\": \"Gene\", \"type\": \"nominal\"}}, \"$schema\": \"https://vega.github.io/schema/vega-lite/v4.17.0.json\", \"datasets\": {\"data-072111a660cb81d6216dc99829edb86c\": [{\"Feature\": \"ENSG00000245750.6\", \"Importance\": 0.009603227609781929}, {\"Feature\": \"ENSG00000139865.15\", \"Importance\": 0.006069622114965441}, {\"Feature\": \"ENSG00000164893.7\", \"Importance\": 0.005241313492076135}, {\"Feature\": \"ENSG00000118307.17\", \"Importance\": 0.005187499834815896}, {\"Feature\": \"ENSG00000157456.6\", \"Importance\": 0.005174457154955283}, {\"Feature\": \"ENSG00000115163.13\", \"Importance\": 0.005155389053200597}, {\"Feature\": \"ENSG00000091831.20\", \"Importance\": 0.0051286197779496535}, {\"Feature\": \"ENSG00000222014.5\", \"Importance\": 0.00451355437187598}, {\"Feature\": \"ENSG00000117399.12\", \"Importance\": 0.004496444654516231}, {\"Feature\": \"ENSG00000105173.12\", \"Importance\": 0.004392890362729488}]}}, {\"mode\": \"vega-lite\"});\n",
       "</script>"
      ],
      "text/plain": [
       "alt.Chart(...)"
      ]
     },
     "execution_count": 23,
     "metadata": {},
     "output_type": "execute_result"
    }
   ],
   "source": [
    "alt.Chart(feature_data).mark_bar().encode(\n",
    "    y= alt.Y(\"Feature\", sort=alt.EncodingSortField(field=\"Importance\", op=\"count\", order='ascending'), title=\"Gene\"),\n",
    "    x=alt.X('Importance:Q'),\n",
    "    color= alt.Color(\"Feature\", title= \"Gene\"),\n",
    "    tooltip = [\"Feature\", \"Importance\"]\n",
    ")"
   ]
  },
  {
   "cell_type": "markdown",
   "id": "1d9788bc",
   "metadata": {
    "papermill": {
     "duration": 0.063703,
     "end_time": "2022-02-22T02:38:03.166657",
     "exception": false,
     "start_time": "2022-02-22T02:38:03.102954",
     "status": "completed"
    },
    "tags": []
   },
   "source": [
    "<a id=\"7\"></a>\n",
    "# <span style=\"color:#1F618D;\">K Nearest Neighbors Model</span>"
   ]
  },
  {
   "cell_type": "markdown",
   "id": "46c75f13",
   "metadata": {
    "papermill": {
     "duration": 0.04635,
     "end_time": "2022-02-22T02:38:03.259045",
     "exception": false,
     "start_time": "2022-02-22T02:38:03.212695",
     "status": "completed"
    },
    "tags": []
   },
   "source": [
    "## <span style=\"color:#7E9FB8;\">Finding The Optimal Number of Neighbors in The Range (1,20) </span>"
   ]
  },
  {
   "cell_type": "code",
   "execution_count": 24,
   "id": "d1768a38",
   "metadata": {
    "execution": {
     "iopub.execute_input": "2022-02-22T02:38:03.355923Z",
     "iopub.status.busy": "2022-02-22T02:38:03.355282Z",
     "iopub.status.idle": "2022-02-22T02:42:56.326829Z",
     "shell.execute_reply": "2022-02-22T02:42:56.327286Z",
     "shell.execute_reply.started": "2022-02-22T02:12:59.218044Z"
    },
    "papermill": {
     "duration": 293.021456,
     "end_time": "2022-02-22T02:42:56.327457",
     "exception": false,
     "start_time": "2022-02-22T02:38:03.306001",
     "status": "completed"
    },
    "tags": []
   },
   "outputs": [
    {
     "data": {
      "text/html": [
       "<div>\n",
       "<style scoped>\n",
       "    .dataframe tbody tr th:only-of-type {\n",
       "        vertical-align: middle;\n",
       "    }\n",
       "\n",
       "    .dataframe tbody tr th {\n",
       "        vertical-align: top;\n",
       "    }\n",
       "\n",
       "    .dataframe thead th {\n",
       "        text-align: right;\n",
       "    }\n",
       "</style>\n",
       "<table border=\"1\" class=\"dataframe\">\n",
       "  <thead>\n",
       "    <tr style=\"text-align: right;\">\n",
       "      <th></th>\n",
       "      <th>n_neighbors</th>\n",
       "      <th>Accuracy</th>\n",
       "    </tr>\n",
       "  </thead>\n",
       "  <tbody>\n",
       "    <tr>\n",
       "      <th>0</th>\n",
       "      <td>1</td>\n",
       "      <td>0.590674</td>\n",
       "    </tr>\n",
       "    <tr>\n",
       "      <th>1</th>\n",
       "      <td>2</td>\n",
       "      <td>0.637306</td>\n",
       "    </tr>\n",
       "    <tr>\n",
       "      <th>2</th>\n",
       "      <td>3</td>\n",
       "      <td>0.663212</td>\n",
       "    </tr>\n",
       "    <tr>\n",
       "      <th>3</th>\n",
       "      <td>4</td>\n",
       "      <td>0.647668</td>\n",
       "    </tr>\n",
       "    <tr>\n",
       "      <th>4</th>\n",
       "      <td>5</td>\n",
       "      <td>0.632124</td>\n",
       "    </tr>\n",
       "  </tbody>\n",
       "</table>\n",
       "</div>"
      ],
      "text/plain": [
       "   n_neighbors  Accuracy\n",
       "0            1  0.590674\n",
       "1            2  0.637306\n",
       "2            3  0.663212\n",
       "3            4  0.647668\n",
       "4            5  0.632124"
      ]
     },
     "execution_count": 24,
     "metadata": {},
     "output_type": "execute_result"
    }
   ],
   "source": [
    "from sklearn.neighbors import KNeighborsClassifier as knn\n",
    "\n",
    "neighbors = []\n",
    "\n",
    "for i in range(1,20):\n",
    "    kclass= knn(n_neighbors=i)\n",
    "    kclass.fit(X_train, y_train)\n",
    "    y_pred= kclass.predict(X_test)\n",
    "    neighbors.append([i, accuracy_score(y_test, y_pred)])\n",
    "neighbors = pd.DataFrame(neighbors, columns= [\"n_neighbors\", \"Accuracy\"])\n",
    "neighbors.head()"
   ]
  },
  {
   "cell_type": "code",
   "execution_count": 25,
   "id": "e2155b25",
   "metadata": {
    "execution": {
     "iopub.execute_input": "2022-02-22T02:42:56.425960Z",
     "iopub.status.busy": "2022-02-22T02:42:56.425227Z",
     "iopub.status.idle": "2022-02-22T02:42:56.447509Z",
     "shell.execute_reply": "2022-02-22T02:42:56.448098Z",
     "shell.execute_reply.started": "2022-02-22T02:13:22.052379Z"
    },
    "papermill": {
     "duration": 0.072725,
     "end_time": "2022-02-22T02:42:56.448288",
     "exception": false,
     "start_time": "2022-02-22T02:42:56.375563",
     "status": "completed"
    },
    "tags": []
   },
   "outputs": [
    {
     "data": {
      "text/html": [
       "\n",
       "<div id=\"altair-viz-99637d968d6347e4b434219c60fe5692\"></div>\n",
       "<script type=\"text/javascript\">\n",
       "  var VEGA_DEBUG = (typeof VEGA_DEBUG == \"undefined\") ? {} : VEGA_DEBUG;\n",
       "  (function(spec, embedOpt){\n",
       "    let outputDiv = document.currentScript.previousElementSibling;\n",
       "    if (outputDiv.id !== \"altair-viz-99637d968d6347e4b434219c60fe5692\") {\n",
       "      outputDiv = document.getElementById(\"altair-viz-99637d968d6347e4b434219c60fe5692\");\n",
       "    }\n",
       "    const paths = {\n",
       "      \"vega\": \"https://cdn.jsdelivr.net/npm//vega@5?noext\",\n",
       "      \"vega-lib\": \"https://cdn.jsdelivr.net/npm//vega-lib?noext\",\n",
       "      \"vega-lite\": \"https://cdn.jsdelivr.net/npm//vega-lite@4.17.0?noext\",\n",
       "      \"vega-embed\": \"https://cdn.jsdelivr.net/npm//vega-embed@6?noext\",\n",
       "    };\n",
       "\n",
       "    function maybeLoadScript(lib, version) {\n",
       "      var key = `${lib.replace(\"-\", \"\")}_version`;\n",
       "      return (VEGA_DEBUG[key] == version) ?\n",
       "        Promise.resolve(paths[lib]) :\n",
       "        new Promise(function(resolve, reject) {\n",
       "          var s = document.createElement('script');\n",
       "          document.getElementsByTagName(\"head\")[0].appendChild(s);\n",
       "          s.async = true;\n",
       "          s.onload = () => {\n",
       "            VEGA_DEBUG[key] = version;\n",
       "            return resolve(paths[lib]);\n",
       "          };\n",
       "          s.onerror = () => reject(`Error loading script: ${paths[lib]}`);\n",
       "          s.src = paths[lib];\n",
       "        });\n",
       "    }\n",
       "\n",
       "    function showError(err) {\n",
       "      outputDiv.innerHTML = `<div class=\"error\" style=\"color:red;\">${err}</div>`;\n",
       "      throw err;\n",
       "    }\n",
       "\n",
       "    function displayChart(vegaEmbed) {\n",
       "      vegaEmbed(outputDiv, spec, embedOpt)\n",
       "        .catch(err => showError(`Javascript Error: ${err.message}<br>This usually means there's a typo in your chart specification. See the javascript console for the full traceback.`));\n",
       "    }\n",
       "\n",
       "    if(typeof define === \"function\" && define.amd) {\n",
       "      requirejs.config({paths});\n",
       "      require([\"vega-embed\"], displayChart, err => showError(`Error loading script: ${err.message}`));\n",
       "    } else {\n",
       "      maybeLoadScript(\"vega\", \"5\")\n",
       "        .then(() => maybeLoadScript(\"vega-lite\", \"4.17.0\"))\n",
       "        .then(() => maybeLoadScript(\"vega-embed\", \"6\"))\n",
       "        .catch(showError)\n",
       "        .then(() => displayChart(vegaEmbed));\n",
       "    }\n",
       "  })({\"config\": {\"view\": {\"continuousWidth\": 400, \"continuousHeight\": 300}}, \"data\": {\"name\": \"data-067c8342d43155cd0aa8ef07c291efaf\"}, \"mark\": \"line\", \"encoding\": {\"tooltip\": [{\"field\": \"Accuracy\", \"type\": \"quantitative\"}, {\"field\": \"n_neighbors\", \"type\": \"quantitative\"}], \"x\": {\"field\": \"n_neighbors\", \"scale\": {\"zero\": false}, \"type\": \"quantitative\"}, \"y\": {\"field\": \"Accuracy\", \"scale\": {\"zero\": false}, \"type\": \"quantitative\"}}, \"title\": \"Accuracy vs Number of Neighbors\", \"$schema\": \"https://vega.github.io/schema/vega-lite/v4.17.0.json\", \"datasets\": {\"data-067c8342d43155cd0aa8ef07c291efaf\": [{\"n_neighbors\": 1, \"Accuracy\": 0.5906735751295337}, {\"n_neighbors\": 2, \"Accuracy\": 0.6373056994818653}, {\"n_neighbors\": 3, \"Accuracy\": 0.6632124352331606}, {\"n_neighbors\": 4, \"Accuracy\": 0.6476683937823834}, {\"n_neighbors\": 5, \"Accuracy\": 0.6321243523316062}, {\"n_neighbors\": 6, \"Accuracy\": 0.6321243523316062}, {\"n_neighbors\": 7, \"Accuracy\": 0.6269430051813472}, {\"n_neighbors\": 8, \"Accuracy\": 0.6113989637305699}, {\"n_neighbors\": 9, \"Accuracy\": 0.6217616580310881}, {\"n_neighbors\": 10, \"Accuracy\": 0.616580310880829}, {\"n_neighbors\": 11, \"Accuracy\": 0.6373056994818653}, {\"n_neighbors\": 12, \"Accuracy\": 0.6062176165803109}, {\"n_neighbors\": 13, \"Accuracy\": 0.6269430051813472}, {\"n_neighbors\": 14, \"Accuracy\": 0.6321243523316062}, {\"n_neighbors\": 15, \"Accuracy\": 0.6424870466321243}, {\"n_neighbors\": 16, \"Accuracy\": 0.6269430051813472}, {\"n_neighbors\": 17, \"Accuracy\": 0.6217616580310881}, {\"n_neighbors\": 18, \"Accuracy\": 0.6113989637305699}, {\"n_neighbors\": 19, \"Accuracy\": 0.6217616580310881}]}}, {\"mode\": \"vega-lite\"});\n",
       "</script>"
      ],
      "text/plain": [
       "alt.Chart(...)"
      ]
     },
     "execution_count": 25,
     "metadata": {},
     "output_type": "execute_result"
    }
   ],
   "source": [
    "alt.Chart(neighbors).mark_line().encode(\n",
    "    alt.X(\"n_neighbors\", scale= alt.Scale(zero=False)),\n",
    "    alt.Y(\"Accuracy\", scale= alt.Scale(zero=False)),\n",
    "    tooltip=[\"Accuracy\", \"n_neighbors\"]\n",
    ").properties(\n",
    "    title=\"Accuracy vs Number of Neighbors\"\n",
    ")"
   ]
  },
  {
   "cell_type": "markdown",
   "id": "426f74f2",
   "metadata": {
    "papermill": {
     "duration": 0.073102,
     "end_time": "2022-02-22T02:42:56.594782",
     "exception": false,
     "start_time": "2022-02-22T02:42:56.521680",
     "status": "completed"
    },
    "tags": []
   },
   "source": [
    "In the neighbors above, we see that the number of neighbors in the range(1,10) best for our model is 3. Since this model has a way much lower performance than Random Forest, we will not use it. "
   ]
  },
  {
   "cell_type": "markdown",
   "id": "b032b0e9",
   "metadata": {
    "papermill": {
     "duration": 0.054788,
     "end_time": "2022-02-22T02:42:56.723732",
     "exception": false,
     "start_time": "2022-02-22T02:42:56.668944",
     "status": "completed"
    },
    "tags": []
   },
   "source": [
    "<a id=\"8\"></a>\n",
    "# <span style=\"color:#1F618D;\">Support Vector Machines Model</span>"
   ]
  },
  {
   "cell_type": "markdown",
   "id": "890b68cb",
   "metadata": {
    "papermill": {
     "duration": 0.072916,
     "end_time": "2022-02-22T02:42:56.869925",
     "exception": false,
     "start_time": "2022-02-22T02:42:56.797009",
     "status": "completed"
    },
    "tags": []
   },
   "source": [
    "## <span style=\"color:#7E9FB8;\">Finding The Optimal C Parameter </span>"
   ]
  },
  {
   "cell_type": "code",
   "execution_count": 26,
   "id": "66fe14e0",
   "metadata": {
    "execution": {
     "iopub.execute_input": "2022-02-22T02:42:56.969483Z",
     "iopub.status.busy": "2022-02-22T02:42:56.968924Z",
     "iopub.status.idle": "2022-02-22T02:51:53.747999Z",
     "shell.execute_reply": "2022-02-22T02:51:53.748598Z",
     "shell.execute_reply.started": "2022-02-13T07:03:49.664072Z"
    },
    "papermill": {
     "duration": 536.830821,
     "end_time": "2022-02-22T02:51:53.748798",
     "exception": false,
     "start_time": "2022-02-22T02:42:56.917977",
     "status": "completed"
    },
    "tags": []
   },
   "outputs": [
    {
     "data": {
      "text/html": [
       "<div>\n",
       "<style scoped>\n",
       "    .dataframe tbody tr th:only-of-type {\n",
       "        vertical-align: middle;\n",
       "    }\n",
       "\n",
       "    .dataframe tbody tr th {\n",
       "        vertical-align: top;\n",
       "    }\n",
       "\n",
       "    .dataframe thead th {\n",
       "        text-align: right;\n",
       "    }\n",
       "</style>\n",
       "<table border=\"1\" class=\"dataframe\">\n",
       "  <thead>\n",
       "    <tr style=\"text-align: right;\">\n",
       "      <th></th>\n",
       "      <th>C parameter</th>\n",
       "      <th>Accuracy</th>\n",
       "    </tr>\n",
       "  </thead>\n",
       "  <tbody>\n",
       "    <tr>\n",
       "      <th>0</th>\n",
       "      <td>1</td>\n",
       "      <td>0.626943</td>\n",
       "    </tr>\n",
       "    <tr>\n",
       "      <th>1</th>\n",
       "      <td>2</td>\n",
       "      <td>0.637306</td>\n",
       "    </tr>\n",
       "    <tr>\n",
       "      <th>2</th>\n",
       "      <td>3</td>\n",
       "      <td>0.637306</td>\n",
       "    </tr>\n",
       "    <tr>\n",
       "      <th>3</th>\n",
       "      <td>4</td>\n",
       "      <td>0.637306</td>\n",
       "    </tr>\n",
       "    <tr>\n",
       "      <th>4</th>\n",
       "      <td>5</td>\n",
       "      <td>0.637306</td>\n",
       "    </tr>\n",
       "  </tbody>\n",
       "</table>\n",
       "</div>"
      ],
      "text/plain": [
       "   C parameter  Accuracy\n",
       "0            1  0.626943\n",
       "1            2  0.637306\n",
       "2            3  0.637306\n",
       "3            4  0.637306\n",
       "4            5  0.637306"
      ]
     },
     "execution_count": 26,
     "metadata": {},
     "output_type": "execute_result"
    }
   ],
   "source": [
    "from sklearn.svm import SVC\n",
    "from sklearn.pipeline import make_pipeline\n",
    "from sklearn.preprocessing import StandardScaler\n",
    "\n",
    "svm_class = []\n",
    "for i in range(1,10):\n",
    "    clf = make_pipeline(StandardScaler(), SVC(C=i))\n",
    "    clf.fit(X_train, y_train)\n",
    "    y_pred = clf.predict(X_test)\n",
    "    svm_class.append([i, accuracy_score(y_test, y_pred)])\n",
    "svm_class = pd.DataFrame(svm_class, columns= [\"C parameter\", \"Accuracy\"])\n",
    "svm_class.head()"
   ]
  },
  {
   "cell_type": "code",
   "execution_count": 27,
   "id": "0a2571ef",
   "metadata": {
    "execution": {
     "iopub.execute_input": "2022-02-22T02:51:53.913518Z",
     "iopub.status.busy": "2022-02-22T02:51:53.912981Z",
     "iopub.status.idle": "2022-02-22T02:51:53.915128Z",
     "shell.execute_reply": "2022-02-22T02:51:53.915536Z",
     "shell.execute_reply.started": "2022-02-13T07:18:49.734468Z"
    },
    "papermill": {
     "duration": 0.093567,
     "end_time": "2022-02-22T02:51:53.915691",
     "exception": false,
     "start_time": "2022-02-22T02:51:53.822124",
     "status": "completed"
    },
    "tags": []
   },
   "outputs": [
    {
     "data": {
      "text/html": [
       "\n",
       "<div id=\"altair-viz-e37a230e7d504bffa8940ec1785324fb\"></div>\n",
       "<script type=\"text/javascript\">\n",
       "  var VEGA_DEBUG = (typeof VEGA_DEBUG == \"undefined\") ? {} : VEGA_DEBUG;\n",
       "  (function(spec, embedOpt){\n",
       "    let outputDiv = document.currentScript.previousElementSibling;\n",
       "    if (outputDiv.id !== \"altair-viz-e37a230e7d504bffa8940ec1785324fb\") {\n",
       "      outputDiv = document.getElementById(\"altair-viz-e37a230e7d504bffa8940ec1785324fb\");\n",
       "    }\n",
       "    const paths = {\n",
       "      \"vega\": \"https://cdn.jsdelivr.net/npm//vega@5?noext\",\n",
       "      \"vega-lib\": \"https://cdn.jsdelivr.net/npm//vega-lib?noext\",\n",
       "      \"vega-lite\": \"https://cdn.jsdelivr.net/npm//vega-lite@4.17.0?noext\",\n",
       "      \"vega-embed\": \"https://cdn.jsdelivr.net/npm//vega-embed@6?noext\",\n",
       "    };\n",
       "\n",
       "    function maybeLoadScript(lib, version) {\n",
       "      var key = `${lib.replace(\"-\", \"\")}_version`;\n",
       "      return (VEGA_DEBUG[key] == version) ?\n",
       "        Promise.resolve(paths[lib]) :\n",
       "        new Promise(function(resolve, reject) {\n",
       "          var s = document.createElement('script');\n",
       "          document.getElementsByTagName(\"head\")[0].appendChild(s);\n",
       "          s.async = true;\n",
       "          s.onload = () => {\n",
       "            VEGA_DEBUG[key] = version;\n",
       "            return resolve(paths[lib]);\n",
       "          };\n",
       "          s.onerror = () => reject(`Error loading script: ${paths[lib]}`);\n",
       "          s.src = paths[lib];\n",
       "        });\n",
       "    }\n",
       "\n",
       "    function showError(err) {\n",
       "      outputDiv.innerHTML = `<div class=\"error\" style=\"color:red;\">${err}</div>`;\n",
       "      throw err;\n",
       "    }\n",
       "\n",
       "    function displayChart(vegaEmbed) {\n",
       "      vegaEmbed(outputDiv, spec, embedOpt)\n",
       "        .catch(err => showError(`Javascript Error: ${err.message}<br>This usually means there's a typo in your chart specification. See the javascript console for the full traceback.`));\n",
       "    }\n",
       "\n",
       "    if(typeof define === \"function\" && define.amd) {\n",
       "      requirejs.config({paths});\n",
       "      require([\"vega-embed\"], displayChart, err => showError(`Error loading script: ${err.message}`));\n",
       "    } else {\n",
       "      maybeLoadScript(\"vega\", \"5\")\n",
       "        .then(() => maybeLoadScript(\"vega-lite\", \"4.17.0\"))\n",
       "        .then(() => maybeLoadScript(\"vega-embed\", \"6\"))\n",
       "        .catch(showError)\n",
       "        .then(() => displayChart(vegaEmbed));\n",
       "    }\n",
       "  })({\"config\": {\"view\": {\"continuousWidth\": 400, \"continuousHeight\": 300}}, \"data\": {\"name\": \"data-e21b65a8067b6a037d78221da10e9a15\"}, \"mark\": \"line\", \"encoding\": {\"x\": {\"field\": \"C parameter\", \"scale\": {\"zero\": false}, \"type\": \"quantitative\"}, \"y\": {\"field\": \"Accuracy\", \"scale\": {\"zero\": false}, \"type\": \"quantitative\"}}, \"title\": \"ACCURACY VS C PARAMETER SVM\", \"$schema\": \"https://vega.github.io/schema/vega-lite/v4.17.0.json\", \"datasets\": {\"data-e21b65a8067b6a037d78221da10e9a15\": [{\"C parameter\": 1, \"Accuracy\": 0.6269430051813472}, {\"C parameter\": 2, \"Accuracy\": 0.6373056994818653}, {\"C parameter\": 3, \"Accuracy\": 0.6373056994818653}, {\"C parameter\": 4, \"Accuracy\": 0.6373056994818653}, {\"C parameter\": 5, \"Accuracy\": 0.6373056994818653}, {\"C parameter\": 6, \"Accuracy\": 0.6373056994818653}, {\"C parameter\": 7, \"Accuracy\": 0.6373056994818653}, {\"C parameter\": 8, \"Accuracy\": 0.6373056994818653}, {\"C parameter\": 9, \"Accuracy\": 0.6373056994818653}]}}, {\"mode\": \"vega-lite\"});\n",
       "</script>"
      ],
      "text/plain": [
       "alt.Chart(...)"
      ]
     },
     "execution_count": 27,
     "metadata": {},
     "output_type": "execute_result"
    }
   ],
   "source": [
    "alt.Chart(svm_class).mark_line().encode(\n",
    "    alt.X(\"C parameter\", scale= alt.Scale(zero=False)),\n",
    "    alt.Y(\"Accuracy\", scale= alt.Scale(zero=False))\n",
    ").properties(\n",
    "    title=\"ACCURACY VS C PARAMETER SVM\"\n",
    ")"
   ]
  },
  {
   "cell_type": "markdown",
   "id": "e2f01733",
   "metadata": {
    "papermill": {
     "duration": 0.047761,
     "end_time": "2022-02-22T02:51:54.011268",
     "exception": false,
     "start_time": "2022-02-22T02:51:53.963507",
     "status": "completed"
    },
    "tags": []
   },
   "source": [
    "Here, we see that the best C is 2"
   ]
  },
  {
   "cell_type": "markdown",
   "id": "cac46621",
   "metadata": {
    "papermill": {
     "duration": 0.047882,
     "end_time": "2022-02-22T02:51:54.108945",
     "exception": false,
     "start_time": "2022-02-22T02:51:54.061063",
     "status": "completed"
    },
    "tags": []
   },
   "source": [
    "## <span style=\"color:#7E9FB8;\">Training SVM and Obtaining Confusion Matrix </span>"
   ]
  },
  {
   "cell_type": "code",
   "execution_count": 28,
   "id": "0fa1ae46",
   "metadata": {
    "execution": {
     "iopub.execute_input": "2022-02-22T02:51:54.210250Z",
     "iopub.status.busy": "2022-02-22T02:51:54.209561Z",
     "iopub.status.idle": "2022-02-22T02:52:54.600341Z",
     "shell.execute_reply": "2022-02-22T02:52:54.599889Z",
     "shell.execute_reply.started": "2022-02-13T18:32:14.735314Z"
    },
    "papermill": {
     "duration": 60.442811,
     "end_time": "2022-02-22T02:52:54.600472",
     "exception": false,
     "start_time": "2022-02-22T02:51:54.157661",
     "status": "completed"
    },
    "tags": []
   },
   "outputs": [
    {
     "data": {
      "text/plain": [
       "<sklearn.metrics._plot.confusion_matrix.ConfusionMatrixDisplay at 0x7fdced363350>"
      ]
     },
     "execution_count": 28,
     "metadata": {},
     "output_type": "execute_result"
    },
    {
     "data": {
      "image/png": "[encoded data removed]",
      "text/plain": [
       "<Figure size 432x288 with 2 Axes>"
      ]
     },
     "metadata": {
      "needs_background": "light"
     },
     "output_type": "display_data"
    }
   ],
   "source": [
    "svm_model = make_pipeline(StandardScaler(), SVC(C=2))\n",
    "\n",
    "# Fitting Model\n",
    "svm_model.fit(X_train, y_train)\n",
    "\n",
    "# Obtaining prediction\n",
    "y_pred_svm = svm_model.predict(X_test)\n",
    "\n",
    "# Getting the Confusion Matrix\n",
    "svm_conf_mat = confusion_matrix(y_test, y_pred_svm, labels= svm_model.classes_)\n",
    "ConfusionMatrixDisplay(svm_conf_mat, display_labels=svm_model.classes_).plot()"
   ]
  },
  {
   "cell_type": "markdown",
   "id": "044b202a",
   "metadata": {
    "papermill": {
     "duration": 0.04962,
     "end_time": "2022-02-22T02:52:54.700762",
     "exception": false,
     "start_time": "2022-02-22T02:52:54.651142",
     "status": "completed"
    },
    "tags": []
   },
   "source": [
    "## <span style=\"color:#7E9FB8;\"> SVM Observations </span>\n",
    "- The matrix shows that this model is just simply worse than the random forest model in any subtype classiffication "
   ]
  },
  {
   "cell_type": "markdown",
   "id": "5c944fa2",
   "metadata": {
    "papermill": {
     "duration": 0.050144,
     "end_time": "2022-02-22T02:52:54.800215",
     "exception": false,
     "start_time": "2022-02-22T02:52:54.750071",
     "status": "completed"
    },
    "tags": []
   },
   "source": [
    "<a id=\"9\"></a>\n",
    "# <span style=\"color:#1F618D;\">Logistic Regression Model</span>"
   ]
  },
  {
   "cell_type": "markdown",
   "id": "c71d2c9e",
   "metadata": {
    "papermill": {
     "duration": 0.049879,
     "end_time": "2022-02-22T02:52:54.900815",
     "exception": false,
     "start_time": "2022-02-22T02:52:54.850936",
     "status": "completed"
    },
    "tags": []
   },
   "source": [
    "## <span style=\"color:#7E9FB8;\"> Training Logistic Regression </span>"
   ]
  },
  {
   "cell_type": "code",
   "execution_count": 29,
   "id": "3d9f6d45",
   "metadata": {
    "execution": {
     "iopub.execute_input": "2022-02-22T02:52:55.004220Z",
     "iopub.status.busy": "2022-02-22T02:52:55.003528Z",
     "iopub.status.idle": "2022-02-22T02:57:00.742416Z",
     "shell.execute_reply": "2022-02-22T02:57:00.743402Z",
     "shell.execute_reply.started": "2022-02-14T19:26:25.268949Z"
    },
    "papermill": {
     "duration": 245.792814,
     "end_time": "2022-02-22T02:57:00.743631",
     "exception": false,
     "start_time": "2022-02-22T02:52:54.950817",
     "status": "completed"
    },
    "tags": []
   },
   "outputs": [
    {
     "name": "stderr",
     "output_type": "stream",
     "text": [
      "/opt/conda/lib/python3.7/site-packages/sklearn/linear_model/_sag.py:330: ConvergenceWarning: The max_iter was reached which means the coef_ did not converge\n",
      "  \"the coef_ did not converge\", ConvergenceWarning)\n"
     ]
    },
    {
     "data": {
      "text/plain": [
       "0.844559585492228"
      ]
     },
     "execution_count": 29,
     "metadata": {},
     "output_type": "execute_result"
    }
   ],
   "source": [
    "from sklearn.linear_model import LogisticRegression\n",
    "\n",
    "\n",
    "log_class = make_pipeline(StandardScaler(), LogisticRegression(random_state=0, solver=\"saga\",max_iter=200))\n",
    "log_class.fit(X_train, y_train)\n",
    "log_class.score(X_test, y_test)"
   ]
  },
  {
   "cell_type": "markdown",
   "id": "aaf410a9",
   "metadata": {
    "papermill": {
     "duration": 0.079889,
     "end_time": "2022-02-22T02:57:00.916713",
     "exception": false,
     "start_time": "2022-02-22T02:57:00.836824",
     "status": "completed"
    },
    "tags": []
   },
   "source": [
    "## <span style=\"color:#7E9FB8;\">LogRegression Confusion Matrix<span>"
   ]
  },
  {
   "cell_type": "code",
   "execution_count": 30,
   "id": "f2770e75",
   "metadata": {
    "execution": {
     "iopub.execute_input": "2022-02-22T02:57:01.077083Z",
     "iopub.status.busy": "2022-02-22T02:57:01.074729Z",
     "iopub.status.idle": "2022-02-22T02:57:01.799700Z",
     "shell.execute_reply": "2022-02-22T02:57:01.799106Z",
     "shell.execute_reply.started": "2022-02-14T19:31:45.428694Z"
    },
    "papermill": {
     "duration": 0.805358,
     "end_time": "2022-02-22T02:57:01.799877",
     "exception": false,
     "start_time": "2022-02-22T02:57:00.994519",
     "status": "completed"
    },
    "tags": []
   },
   "outputs": [
    {
     "data": {
      "text/plain": [
       "<sklearn.metrics._plot.confusion_matrix.ConfusionMatrixDisplay at 0x7fdcece70050>"
      ]
     },
     "execution_count": 30,
     "metadata": {},
     "output_type": "execute_result"
    },
    {
     "data": {
      "image/png": "[encoded data removed]",
      "text/plain": [
       "<Figure size 432x288 with 2 Axes>"
      ]
     },
     "metadata": {
      "needs_background": "light"
     },
     "output_type": "display_data"
    }
   ],
   "source": [
    "y_pred_log = log_class.predict(X_test)\n",
    "log_conf_mat = confusion_matrix(y_test, y_pred_log, labels= log_class.classes_)\n",
    "ConfusionMatrixDisplay(log_conf_mat, display_labels=log_class.classes_).plot()"
   ]
  },
  {
   "cell_type": "markdown",
   "id": "54e6358b",
   "metadata": {
    "papermill": {
     "duration": 0.052239,
     "end_time": "2022-02-22T02:57:01.903571",
     "exception": false,
     "start_time": "2022-02-22T02:57:01.851332",
     "status": "completed"
    },
    "tags": []
   },
   "source": [
    "## <span style=\"color:#7E9FB8;\">LogRegression Observation<span>\n",
    "- It performs second to Random Forest. \n",
    "- It also have a hard time classifying `BRCA_LumA` and `BRCA_lumB` and `BRCA_Normal`"
   ]
  },
  {
   "cell_type": "markdown",
   "id": "417e62eb",
   "metadata": {
    "papermill": {
     "duration": 0.051131,
     "end_time": "2022-02-22T02:57:02.006496",
     "exception": false,
     "start_time": "2022-02-22T02:57:01.955365",
     "status": "completed"
    },
    "tags": []
   },
   "source": [
    "<a id=\"10\"></a>\n",
    "# <span style=\"color:#1F618D;\">Ensembling The Models</span>"
   ]
  },
  {
   "cell_type": "code",
   "execution_count": 31,
   "id": "33284bec",
   "metadata": {
    "execution": {
     "iopub.execute_input": "2022-02-22T02:57:02.118355Z",
     "iopub.status.busy": "2022-02-22T02:57:02.117513Z",
     "iopub.status.idle": "2022-02-22T02:57:02.119689Z",
     "shell.execute_reply": "2022-02-22T02:57:02.120070Z",
     "shell.execute_reply.started": "2022-02-13T07:42:30.138768Z"
    },
    "papermill": {
     "duration": 0.061792,
     "end_time": "2022-02-22T02:57:02.120237",
     "exception": false,
     "start_time": "2022-02-22T02:57:02.058445",
     "status": "completed"
    },
    "tags": []
   },
   "outputs": [],
   "source": [
    "from sklearn.ensemble import RandomForestClassifier\n",
    "from sklearn.ensemble import VotingClassifier\n",
    "from sklearn.neighbors import KNeighborsClassifier\n",
    "from sklearn.linear_model import LogisticRegression\n",
    "\n",
    "rf_clf = RandomForestClassifier(max_depth=10, random_state=0)\n",
    "svm_clf = make_pipeline(StandardScaler(), SVC(C=2))\n",
    "log_clf = make_pipeline(StandardScaler(), LogisticRegression(random_state=0, solver=\"saga\",max_iter=200))\n",
    "\n",
    "ensembl_clf= VotingClassifier(\n",
    "    estimators = [(\"rf\", rf_clf), (\"log\", log_clf)],\n",
    "    voting=\"hard\"\n",
    ")\n"
   ]
  },
  {
   "cell_type": "code",
   "execution_count": 32,
   "id": "05a7c373",
   "metadata": {
    "execution": {
     "iopub.execute_input": "2022-02-22T02:57:02.236876Z",
     "iopub.status.busy": "2022-02-22T02:57:02.227495Z",
     "iopub.status.idle": "2022-02-22T03:01:12.526030Z",
     "shell.execute_reply": "2022-02-22T03:01:12.525421Z",
     "shell.execute_reply.started": "2022-02-13T07:42:35.624822Z"
    },
    "papermill": {
     "duration": 250.353674,
     "end_time": "2022-02-22T03:01:12.526175",
     "exception": false,
     "start_time": "2022-02-22T02:57:02.172501",
     "status": "completed"
    },
    "tags": []
   },
   "outputs": [
    {
     "name": "stderr",
     "output_type": "stream",
     "text": [
      "/opt/conda/lib/python3.7/site-packages/sklearn/linear_model/_sag.py:330: ConvergenceWarning: The max_iter was reached which means the coef_ did not converge\n",
      "  \"the coef_ did not converge\", ConvergenceWarning)\n"
     ]
    },
    {
     "data": {
      "text/plain": [
       "VotingClassifier(estimators=[('rf',\n",
       "                              RandomForestClassifier(max_depth=10,\n",
       "                                                     random_state=0)),\n",
       "                             ('log',\n",
       "                              Pipeline(steps=[('standardscaler',\n",
       "                                               StandardScaler()),\n",
       "                                              ('logisticregression',\n",
       "                                               LogisticRegression(max_iter=200,\n",
       "                                                                  random_state=0,\n",
       "                                                                  solver='saga'))]))])"
      ]
     },
     "execution_count": 32,
     "metadata": {},
     "output_type": "execute_result"
    }
   ],
   "source": [
    "ensembl_clf.fit(X_train, y_train)"
   ]
  },
  {
   "cell_type": "code",
   "execution_count": 33,
   "id": "c419ad2b",
   "metadata": {
    "execution": {
     "iopub.execute_input": "2022-02-22T03:01:12.687940Z",
     "iopub.status.busy": "2022-02-22T03:01:12.687252Z",
     "iopub.status.idle": "2022-02-22T03:01:13.501714Z",
     "shell.execute_reply": "2022-02-22T03:01:13.501255Z",
     "shell.execute_reply.started": "2022-02-13T07:48:05.110472Z"
    },
    "papermill": {
     "duration": 0.896471,
     "end_time": "2022-02-22T03:01:13.501841",
     "exception": false,
     "start_time": "2022-02-22T03:01:12.605370",
     "status": "completed"
    },
    "tags": []
   },
   "outputs": [
    {
     "data": {
      "text/plain": [
       "0.844559585492228"
      ]
     },
     "execution_count": 33,
     "metadata": {},
     "output_type": "execute_result"
    }
   ],
   "source": [
    "ensembl_clf.score(X_test, y_test)"
   ]
  },
  {
   "cell_type": "markdown",
   "id": "eeadb393",
   "metadata": {
    "papermill": {
     "duration": 0.060329,
     "end_time": "2022-02-22T03:01:13.631183",
     "exception": false,
     "start_time": "2022-02-22T03:01:13.570854",
     "status": "completed"
    },
    "tags": []
   },
   "source": [
    "Unfortunately, even though the ensemble has a good accuracy rate, it does not outperform the best model, random forest"
   ]
  },
  {
   "cell_type": "markdown",
   "id": "ac977118",
   "metadata": {
    "papermill": {
     "duration": 0.079072,
     "end_time": "2022-02-22T03:01:13.762105",
     "exception": false,
     "start_time": "2022-02-22T03:01:13.683033",
     "status": "completed"
    },
    "tags": []
   },
   "source": [
    "<a id=\"11\"></a>\n",
    "# <span style=\"color:#1F618D;\">Comparison of the models</span>"
   ]
  },
  {
   "cell_type": "code",
   "execution_count": 34,
   "id": "00830019",
   "metadata": {
    "execution": {
     "iopub.execute_input": "2022-02-22T03:01:13.934749Z",
     "iopub.status.busy": "2022-02-22T03:01:13.934107Z",
     "iopub.status.idle": "2022-02-22T03:01:24.167218Z",
     "shell.execute_reply": "2022-02-22T03:01:24.166533Z",
     "shell.execute_reply.started": "2022-02-13T08:05:09.553917Z"
    },
    "papermill": {
     "duration": 10.325881,
     "end_time": "2022-02-22T03:01:24.167373",
     "exception": false,
     "start_time": "2022-02-22T03:01:13.841492",
     "status": "completed"
    },
    "tags": []
   },
   "outputs": [
    {
     "data": {
      "text/html": [
       "<div>\n",
       "<style scoped>\n",
       "    .dataframe tbody tr th:only-of-type {\n",
       "        vertical-align: middle;\n",
       "    }\n",
       "\n",
       "    .dataframe tbody tr th {\n",
       "        vertical-align: top;\n",
       "    }\n",
       "\n",
       "    .dataframe thead th {\n",
       "        text-align: right;\n",
       "    }\n",
       "</style>\n",
       "<table border=\"1\" class=\"dataframe\">\n",
       "  <thead>\n",
       "    <tr style=\"text-align: right;\">\n",
       "      <th></th>\n",
       "      <th>Model</th>\n",
       "      <th>Accuracy</th>\n",
       "    </tr>\n",
       "  </thead>\n",
       "  <tbody>\n",
       "    <tr>\n",
       "      <th>0</th>\n",
       "      <td>Random Forest</td>\n",
       "      <td>0.865285</td>\n",
       "    </tr>\n",
       "    <tr>\n",
       "      <th>1</th>\n",
       "      <td>SVM</td>\n",
       "      <td>0.637306</td>\n",
       "    </tr>\n",
       "    <tr>\n",
       "      <th>2</th>\n",
       "      <td>Logistic</td>\n",
       "      <td>0.844560</td>\n",
       "    </tr>\n",
       "    <tr>\n",
       "      <th>3</th>\n",
       "      <td>Ensemble</td>\n",
       "      <td>0.844560</td>\n",
       "    </tr>\n",
       "  </tbody>\n",
       "</table>\n",
       "</div>"
      ],
      "text/plain": [
       "           Model  Accuracy\n",
       "0  Random Forest  0.865285\n",
       "1            SVM  0.637306\n",
       "2       Logistic  0.844560\n",
       "3       Ensemble  0.844560"
      ]
     },
     "execution_count": 34,
     "metadata": {},
     "output_type": "execute_result"
    }
   ],
   "source": [
    "model_scores = [rf_model.score(X_test, y_test), \n",
    "                svm_model.score(X_test, y_test),\n",
    "                log_class.score(X_test, y_test), \n",
    "               ensembl_clf.score(X_test, y_test)]\n",
    "models = pd.DataFrame({\"Model\": [\"Random Forest\", \"SVM\", \"Logistic\", \"Ensemble\"],\n",
    "              \"Accuracy\": model_scores})\n",
    "models"
   ]
  },
  {
   "cell_type": "code",
   "execution_count": 35,
   "id": "e71cb745",
   "metadata": {
    "execution": {
     "iopub.execute_input": "2022-02-22T03:01:24.473795Z",
     "iopub.status.busy": "2022-02-22T03:01:24.473015Z",
     "iopub.status.idle": "2022-02-22T03:01:24.500210Z",
     "shell.execute_reply": "2022-02-22T03:01:24.500782Z",
     "shell.execute_reply.started": "2022-02-13T08:05:28.926592Z"
    },
    "papermill": {
     "duration": 0.122302,
     "end_time": "2022-02-22T03:01:24.500965",
     "exception": false,
     "start_time": "2022-02-22T03:01:24.378663",
     "status": "completed"
    },
    "tags": []
   },
   "outputs": [
    {
     "data": {
      "text/html": [
       "\n",
       "<div id=\"altair-viz-8aa2917e432741199d433fe0a54be447\"></div>\n",
       "<script type=\"text/javascript\">\n",
       "  var VEGA_DEBUG = (typeof VEGA_DEBUG == \"undefined\") ? {} : VEGA_DEBUG;\n",
       "  (function(spec, embedOpt){\n",
       "    let outputDiv = document.currentScript.previousElementSibling;\n",
       "    if (outputDiv.id !== \"altair-viz-8aa2917e432741199d433fe0a54be447\") {\n",
       "      outputDiv = document.getElementById(\"altair-viz-8aa2917e432741199d433fe0a54be447\");\n",
       "    }\n",
       "    const paths = {\n",
       "      \"vega\": \"https://cdn.jsdelivr.net/npm//vega@5?noext\",\n",
       "      \"vega-lib\": \"https://cdn.jsdelivr.net/npm//vega-lib?noext\",\n",
       "      \"vega-lite\": \"https://cdn.jsdelivr.net/npm//vega-lite@4.17.0?noext\",\n",
       "      \"vega-embed\": \"https://cdn.jsdelivr.net/npm//vega-embed@6?noext\",\n",
       "    };\n",
       "\n",
       "    function maybeLoadScript(lib, version) {\n",
       "      var key = `${lib.replace(\"-\", \"\")}_version`;\n",
       "      return (VEGA_DEBUG[key] == version) ?\n",
       "        Promise.resolve(paths[lib]) :\n",
       "        new Promise(function(resolve, reject) {\n",
       "          var s = document.createElement('script');\n",
       "          document.getElementsByTagName(\"head\")[0].appendChild(s);\n",
       "          s.async = true;\n",
       "          s.onload = () => {\n",
       "            VEGA_DEBUG[key] = version;\n",
       "            return resolve(paths[lib]);\n",
       "          };\n",
       "          s.onerror = () => reject(`Error loading script: ${paths[lib]}`);\n",
       "          s.src = paths[lib];\n",
       "        });\n",
       "    }\n",
       "\n",
       "    function showError(err) {\n",
       "      outputDiv.innerHTML = `<div class=\"error\" style=\"color:red;\">${err}</div>`;\n",
       "      throw err;\n",
       "    }\n",
       "\n",
       "    function displayChart(vegaEmbed) {\n",
       "      vegaEmbed(outputDiv, spec, embedOpt)\n",
       "        .catch(err => showError(`Javascript Error: ${err.message}<br>This usually means there's a typo in your chart specification. See the javascript console for the full traceback.`));\n",
       "    }\n",
       "\n",
       "    if(typeof define === \"function\" && define.amd) {\n",
       "      requirejs.config({paths});\n",
       "      require([\"vega-embed\"], displayChart, err => showError(`Error loading script: ${err.message}`));\n",
       "    } else {\n",
       "      maybeLoadScript(\"vega\", \"5\")\n",
       "        .then(() => maybeLoadScript(\"vega-lite\", \"4.17.0\"))\n",
       "        .then(() => maybeLoadScript(\"vega-embed\", \"6\"))\n",
       "        .catch(showError)\n",
       "        .then(() => displayChart(vegaEmbed));\n",
       "    }\n",
       "  })({\"config\": {\"view\": {\"continuousWidth\": 400, \"continuousHeight\": 300}}, \"data\": {\"name\": \"data-bda1b596385ac2c01000278d201af591\"}, \"mark\": \"bar\", \"encoding\": {\"color\": {\"field\": \"Model\", \"type\": \"nominal\"}, \"tooltip\": [{\"field\": \"Model\", \"type\": \"nominal\"}, {\"field\": \"Accuracy\", \"type\": \"quantitative\"}], \"x\": {\"field\": \"Model\", \"type\": \"nominal\"}, \"y\": {\"field\": \"Accuracy\", \"type\": \"quantitative\"}}, \"height\": 200, \"title\": \"Model Vs Accuracy\", \"width\": 100, \"$schema\": \"https://vega.github.io/schema/vega-lite/v4.17.0.json\", \"datasets\": {\"data-bda1b596385ac2c01000278d201af591\": [{\"Model\": \"Random Forest\", \"Accuracy\": 0.8652849740932642}, {\"Model\": \"SVM\", \"Accuracy\": 0.6373056994818653}, {\"Model\": \"Logistic\", \"Accuracy\": 0.844559585492228}, {\"Model\": \"Ensemble\", \"Accuracy\": 0.844559585492228}]}}, {\"mode\": \"vega-lite\"});\n",
       "</script>"
      ],
      "text/plain": [
       "alt.Chart(...)"
      ]
     },
     "execution_count": 35,
     "metadata": {},
     "output_type": "execute_result"
    }
   ],
   "source": [
    "alt.Chart(models).mark_bar().encode(\n",
    "    x=\"Model\",\n",
    "    y=\"Accuracy\",\n",
    "    color= \"Model\",\n",
    "    tooltip = [\"Model\",\"Accuracy\"]\n",
    ").properties(\n",
    "    title=\"Model Vs Accuracy\", \n",
    "    width= 100,\n",
    "    height= 200\n",
    ")"
   ]
  },
  {
   "cell_type": "markdown",
   "id": "665d8dca",
   "metadata": {
    "papermill": {
     "duration": 0.080549,
     "end_time": "2022-02-22T03:01:24.662317",
     "exception": false,
     "start_time": "2022-02-22T03:01:24.581768",
     "status": "completed"
    },
    "tags": []
   },
   "source": [
    "# Random Forest Won!!\n",
    "With a whooping 86% accuracy"
   ]
  }
 ],
 "metadata": {
  "kernelspec": {
   "display_name": "Python 3",
   "language": "python",
   "name": "python3"
  },
  "language_info": {
   "codemirror_mode": {
    "name": "ipython",
    "version": 3
   },
   "file_extension": ".py",
   "mimetype": "text/x-python",
   "name": "python",
   "nbconvert_exporter": "python",
   "pygments_lexer": "ipython3",
   "version": "3.10.1"
  },
  "papermill": {
   "default_parameters": {},
   "duration": 2842.953632,
   "end_time": "2022-02-22T03:01:25.565127",
   "environment_variables": {},
   "exception": null,
   "input_path": "__notebook__.ipynb",
   "output_path": "__notebook__.ipynb",
   "parameters": {},
   "start_time": "2022-02-22T02:14:02.611495",
   "version": "2.3.3"
  }
 },
 "nbformat": 4,
 "nbformat_minor": 5
}
